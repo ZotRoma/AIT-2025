{
  "cells": [
    {
      "cell_type": "markdown",
      "metadata": {},
      "source": [
        "Зотов Роман Алексеевич 6132\n",
        "<br>Тема лабораторной работы: визуализация данных"
      ]
    },
    {
      "cell_type": "code",
      "execution_count": 5,
      "metadata": {},
      "outputs": [],
      "source": [
        "import pandas as pd\n",
        "import numpy as np\n",
        "import matplotlib\n",
        "matplotlib.use('TkAgg')\n",
        "import matplotlib.pyplot as plt\n",
        "from matplotlib.widgets import Slider"
      ]
    },
    {
      "cell_type": "markdown",
      "metadata": {},
      "source": [
        "# Задание 1"
      ]
    },
    {
      "cell_type": "markdown",
      "metadata": {},
      "source": [
        "Считать в pandas.DataFrame любой источник данных: CSV, JSON, Excel-файл, HTML-таблицу и т.п. Также можно сконвертировать в DataFrame любой из встроенных датасетов sklearn"
      ]
    },
    {
      "cell_type": "code",
      "execution_count": 8,
      "metadata": {
        "colab": {
          "base_uri": "https://localhost:8080/",
          "height": 774
        },
        "id": "AVHyk017AJPk",
        "outputId": "77e2f03e-b955-4cca-f9d7-d6539b108176"
      },
      "outputs": [
        {
          "name": "stderr",
          "output_type": "stream",
          "text": [
            "C:\\Users\\Roma\\AppData\\Local\\Temp\\ipykernel_15540\\2438505430.py:1: DtypeWarning: Columns (148) have mixed types. Specify dtype option on import or set low_memory=False.\n",
            "  df = pd.concat(pd.read_csv(f'./20250{i}/players.csv') for i in range(1,5))\n",
            "C:\\Users\\Roma\\AppData\\Local\\Temp\\ipykernel_15540\\2438505430.py:1: DtypeWarning: Columns (51,52,128,150) have mixed types. Specify dtype option on import or set low_memory=False.\n",
            "  df = pd.concat(pd.read_csv(f'./20250{i}/players.csv') for i in range(1,5))\n"
          ]
        },
        {
          "data": {
            "text/html": [
              "<div>\n",
              "<style scoped>\n",
              "    .dataframe tbody tr th:only-of-type {\n",
              "        vertical-align: middle;\n",
              "    }\n",
              "\n",
              "    .dataframe tbody tr th {\n",
              "        vertical-align: top;\n",
              "    }\n",
              "\n",
              "    .dataframe thead th {\n",
              "        text-align: right;\n",
              "    }\n",
              "</style>\n",
              "<table border=\"1\" class=\"dataframe\">\n",
              "  <thead>\n",
              "    <tr style=\"text-align: right;\">\n",
              "      <th></th>\n",
              "      <th>player_slot</th>\n",
              "      <th>obs_placed</th>\n",
              "      <th>sen_placed</th>\n",
              "      <th>creeps_stacked</th>\n",
              "      <th>camps_stacked</th>\n",
              "      <th>rune_pickups</th>\n",
              "      <th>firstblood_claimed</th>\n",
              "      <th>teamfight_participation</th>\n",
              "      <th>towers_killed</th>\n",
              "      <th>roshans_killed</th>\n",
              "      <th>...</th>\n",
              "      <th>purchase_rapier</th>\n",
              "      <th>match_id</th>\n",
              "      <th>leagueid</th>\n",
              "      <th>performance_others</th>\n",
              "      <th>additional_units</th>\n",
              "      <th>repicked</th>\n",
              "      <th>hero_variant</th>\n",
              "      <th>neutral_tokens_log</th>\n",
              "      <th>neutral_item_history</th>\n",
              "      <th>item_neutral2</th>\n",
              "    </tr>\n",
              "  </thead>\n",
              "  <tbody>\n",
              "    <tr>\n",
              "      <th>0</th>\n",
              "      <td>0</td>\n",
              "      <td>0.0</td>\n",
              "      <td>0.0</td>\n",
              "      <td>4.0</td>\n",
              "      <td>2.0</td>\n",
              "      <td>1.0</td>\n",
              "      <td>0.0</td>\n",
              "      <td>0.863636</td>\n",
              "      <td>0.0</td>\n",
              "      <td>0.0</td>\n",
              "      <td>...</td>\n",
              "      <td>NaN</td>\n",
              "      <td>8107483721</td>\n",
              "      <td>17163</td>\n",
              "      <td>NaN</td>\n",
              "      <td>NaN</td>\n",
              "      <td>NaN</td>\n",
              "      <td>1.0</td>\n",
              "      <td>[{'time': 433, 'key': 'Tier1Token'}, {'time': ...</td>\n",
              "      <td>NaN</td>\n",
              "      <td>NaN</td>\n",
              "    </tr>\n",
              "    <tr>\n",
              "      <th>1</th>\n",
              "      <td>1</td>\n",
              "      <td>2.0</td>\n",
              "      <td>0.0</td>\n",
              "      <td>3.0</td>\n",
              "      <td>1.0</td>\n",
              "      <td>5.0</td>\n",
              "      <td>0.0</td>\n",
              "      <td>0.636364</td>\n",
              "      <td>3.0</td>\n",
              "      <td>0.0</td>\n",
              "      <td>...</td>\n",
              "      <td>NaN</td>\n",
              "      <td>8107483721</td>\n",
              "      <td>17163</td>\n",
              "      <td>NaN</td>\n",
              "      <td>NaN</td>\n",
              "      <td>NaN</td>\n",
              "      <td>1.0</td>\n",
              "      <td>[{'time': 1918, 'key': 'Tier3Token'}]</td>\n",
              "      <td>NaN</td>\n",
              "      <td>NaN</td>\n",
              "    </tr>\n",
              "    <tr>\n",
              "      <th>2</th>\n",
              "      <td>2</td>\n",
              "      <td>0.0</td>\n",
              "      <td>0.0</td>\n",
              "      <td>6.0</td>\n",
              "      <td>2.0</td>\n",
              "      <td>7.0</td>\n",
              "      <td>0.0</td>\n",
              "      <td>0.227273</td>\n",
              "      <td>2.0</td>\n",
              "      <td>1.0</td>\n",
              "      <td>...</td>\n",
              "      <td>NaN</td>\n",
              "      <td>8107483721</td>\n",
              "      <td>17163</td>\n",
              "      <td>NaN</td>\n",
              "      <td>NaN</td>\n",
              "      <td>NaN</td>\n",
              "      <td>1.0</td>\n",
              "      <td>[{'time': 473, 'key': 'Tier1Token'}, {'time': ...</td>\n",
              "      <td>NaN</td>\n",
              "      <td>NaN</td>\n",
              "    </tr>\n",
              "    <tr>\n",
              "      <th>3</th>\n",
              "      <td>3</td>\n",
              "      <td>9.0</td>\n",
              "      <td>12.0</td>\n",
              "      <td>66.0</td>\n",
              "      <td>12.0</td>\n",
              "      <td>1.0</td>\n",
              "      <td>0.0</td>\n",
              "      <td>0.227273</td>\n",
              "      <td>0.0</td>\n",
              "      <td>0.0</td>\n",
              "      <td>...</td>\n",
              "      <td>NaN</td>\n",
              "      <td>8107483721</td>\n",
              "      <td>17163</td>\n",
              "      <td>NaN</td>\n",
              "      <td>NaN</td>\n",
              "      <td>NaN</td>\n",
              "      <td>1.0</td>\n",
              "      <td>[]</td>\n",
              "      <td>NaN</td>\n",
              "      <td>NaN</td>\n",
              "    </tr>\n",
              "    <tr>\n",
              "      <th>4</th>\n",
              "      <td>4</td>\n",
              "      <td>4.0</td>\n",
              "      <td>5.0</td>\n",
              "      <td>43.0</td>\n",
              "      <td>7.0</td>\n",
              "      <td>3.0</td>\n",
              "      <td>0.0</td>\n",
              "      <td>0.818182</td>\n",
              "      <td>1.0</td>\n",
              "      <td>0.0</td>\n",
              "      <td>...</td>\n",
              "      <td>NaN</td>\n",
              "      <td>8107483721</td>\n",
              "      <td>17163</td>\n",
              "      <td>NaN</td>\n",
              "      <td>NaN</td>\n",
              "      <td>NaN</td>\n",
              "      <td>1.0</td>\n",
              "      <td>[]</td>\n",
              "      <td>NaN</td>\n",
              "      <td>NaN</td>\n",
              "    </tr>\n",
              "    <tr>\n",
              "      <th>...</th>\n",
              "      <td>...</td>\n",
              "      <td>...</td>\n",
              "      <td>...</td>\n",
              "      <td>...</td>\n",
              "      <td>...</td>\n",
              "      <td>...</td>\n",
              "      <td>...</td>\n",
              "      <td>...</td>\n",
              "      <td>...</td>\n",
              "      <td>...</td>\n",
              "      <td>...</td>\n",
              "      <td>...</td>\n",
              "      <td>...</td>\n",
              "      <td>...</td>\n",
              "      <td>...</td>\n",
              "      <td>...</td>\n",
              "      <td>...</td>\n",
              "      <td>...</td>\n",
              "      <td>...</td>\n",
              "      <td>...</td>\n",
              "      <td>...</td>\n",
              "    </tr>\n",
              "    <tr>\n",
              "      <th>6415</th>\n",
              "      <td>128</td>\n",
              "      <td>3.0</td>\n",
              "      <td>2.0</td>\n",
              "      <td>8.0</td>\n",
              "      <td>3.0</td>\n",
              "      <td>0.0</td>\n",
              "      <td>0.0</td>\n",
              "      <td>0.400000</td>\n",
              "      <td>0.0</td>\n",
              "      <td>0.0</td>\n",
              "      <td>...</td>\n",
              "      <td>NaN</td>\n",
              "      <td>8245079060</td>\n",
              "      <td>17211</td>\n",
              "      <td>NaN</td>\n",
              "      <td>NaN</td>\n",
              "      <td>NaN</td>\n",
              "      <td>3.0</td>\n",
              "      <td>[]</td>\n",
              "      <td>[{'time': 488, 'item_neutral': 'mana_draught',...</td>\n",
              "      <td>1586.0</td>\n",
              "    </tr>\n",
              "    <tr>\n",
              "      <th>6416</th>\n",
              "      <td>129</td>\n",
              "      <td>0.0</td>\n",
              "      <td>0.0</td>\n",
              "      <td>0.0</td>\n",
              "      <td>0.0</td>\n",
              "      <td>3.0</td>\n",
              "      <td>0.0</td>\n",
              "      <td>0.266667</td>\n",
              "      <td>0.0</td>\n",
              "      <td>0.0</td>\n",
              "      <td>...</td>\n",
              "      <td>NaN</td>\n",
              "      <td>8245079060</td>\n",
              "      <td>17211</td>\n",
              "      <td>NaN</td>\n",
              "      <td>NaN</td>\n",
              "      <td>NaN</td>\n",
              "      <td>1.0</td>\n",
              "      <td>[]</td>\n",
              "      <td>[{'time': 450, 'item_neutral': 'polliwog_charm...</td>\n",
              "      <td>1577.0</td>\n",
              "    </tr>\n",
              "    <tr>\n",
              "      <th>6417</th>\n",
              "      <td>130</td>\n",
              "      <td>1.0</td>\n",
              "      <td>1.0</td>\n",
              "      <td>3.0</td>\n",
              "      <td>1.0</td>\n",
              "      <td>2.0</td>\n",
              "      <td>0.0</td>\n",
              "      <td>0.333333</td>\n",
              "      <td>1.0</td>\n",
              "      <td>0.0</td>\n",
              "      <td>...</td>\n",
              "      <td>NaN</td>\n",
              "      <td>8245079060</td>\n",
              "      <td>17211</td>\n",
              "      <td>NaN</td>\n",
              "      <td>NaN</td>\n",
              "      <td>NaN</td>\n",
              "      <td>2.0</td>\n",
              "      <td>[]</td>\n",
              "      <td>[{'time': 458, 'item_neutral': 'spark_of_coura...</td>\n",
              "      <td>1594.0</td>\n",
              "    </tr>\n",
              "    <tr>\n",
              "      <th>6418</th>\n",
              "      <td>131</td>\n",
              "      <td>2.0</td>\n",
              "      <td>0.0</td>\n",
              "      <td>0.0</td>\n",
              "      <td>0.0</td>\n",
              "      <td>11.0</td>\n",
              "      <td>0.0</td>\n",
              "      <td>0.866667</td>\n",
              "      <td>2.0</td>\n",
              "      <td>0.0</td>\n",
              "      <td>...</td>\n",
              "      <td>NaN</td>\n",
              "      <td>8245079060</td>\n",
              "      <td>17211</td>\n",
              "      <td>NaN</td>\n",
              "      <td>NaN</td>\n",
              "      <td>NaN</td>\n",
              "      <td>1.0</td>\n",
              "      <td>[]</td>\n",
              "      <td>[{'time': 461, 'item_neutral': 'trusty_shovel'...</td>\n",
              "      <td>1583.0</td>\n",
              "    </tr>\n",
              "    <tr>\n",
              "      <th>6419</th>\n",
              "      <td>132</td>\n",
              "      <td>6.0</td>\n",
              "      <td>11.0</td>\n",
              "      <td>2.0</td>\n",
              "      <td>1.0</td>\n",
              "      <td>7.0</td>\n",
              "      <td>0.0</td>\n",
              "      <td>0.666667</td>\n",
              "      <td>0.0</td>\n",
              "      <td>0.0</td>\n",
              "      <td>...</td>\n",
              "      <td>NaN</td>\n",
              "      <td>8245079060</td>\n",
              "      <td>17211</td>\n",
              "      <td>NaN</td>\n",
              "      <td>NaN</td>\n",
              "      <td>NaN</td>\n",
              "      <td>1.0</td>\n",
              "      <td>[]</td>\n",
              "      <td>[{'time': 482, 'item_neutral': 'trusty_shovel'...</td>\n",
              "      <td>1583.0</td>\n",
              "    </tr>\n",
              "  </tbody>\n",
              "</table>\n",
              "<p>83460 rows × 151 columns</p>\n",
              "</div>"
            ],
            "text/plain": [
              "      player_slot  obs_placed  sen_placed  creeps_stacked  camps_stacked  \\\n",
              "0               0         0.0         0.0             4.0            2.0   \n",
              "1               1         2.0         0.0             3.0            1.0   \n",
              "2               2         0.0         0.0             6.0            2.0   \n",
              "3               3         9.0        12.0            66.0           12.0   \n",
              "4               4         4.0         5.0            43.0            7.0   \n",
              "...           ...         ...         ...             ...            ...   \n",
              "6415          128         3.0         2.0             8.0            3.0   \n",
              "6416          129         0.0         0.0             0.0            0.0   \n",
              "6417          130         1.0         1.0             3.0            1.0   \n",
              "6418          131         2.0         0.0             0.0            0.0   \n",
              "6419          132         6.0        11.0             2.0            1.0   \n",
              "\n",
              "      rune_pickups  firstblood_claimed  teamfight_participation  \\\n",
              "0              1.0                 0.0                 0.863636   \n",
              "1              5.0                 0.0                 0.636364   \n",
              "2              7.0                 0.0                 0.227273   \n",
              "3              1.0                 0.0                 0.227273   \n",
              "4              3.0                 0.0                 0.818182   \n",
              "...            ...                 ...                      ...   \n",
              "6415           0.0                 0.0                 0.400000   \n",
              "6416           3.0                 0.0                 0.266667   \n",
              "6417           2.0                 0.0                 0.333333   \n",
              "6418          11.0                 0.0                 0.866667   \n",
              "6419           7.0                 0.0                 0.666667   \n",
              "\n",
              "      towers_killed  roshans_killed  ...  purchase_rapier    match_id  \\\n",
              "0               0.0             0.0  ...              NaN  8107483721   \n",
              "1               3.0             0.0  ...              NaN  8107483721   \n",
              "2               2.0             1.0  ...              NaN  8107483721   \n",
              "3               0.0             0.0  ...              NaN  8107483721   \n",
              "4               1.0             0.0  ...              NaN  8107483721   \n",
              "...             ...             ...  ...              ...         ...   \n",
              "6415            0.0             0.0  ...              NaN  8245079060   \n",
              "6416            0.0             0.0  ...              NaN  8245079060   \n",
              "6417            1.0             0.0  ...              NaN  8245079060   \n",
              "6418            2.0             0.0  ...              NaN  8245079060   \n",
              "6419            0.0             0.0  ...              NaN  8245079060   \n",
              "\n",
              "     leagueid performance_others additional_units repicked hero_variant  \\\n",
              "0       17163                NaN              NaN      NaN          1.0   \n",
              "1       17163                NaN              NaN      NaN          1.0   \n",
              "2       17163                NaN              NaN      NaN          1.0   \n",
              "3       17163                NaN              NaN      NaN          1.0   \n",
              "4       17163                NaN              NaN      NaN          1.0   \n",
              "...       ...                ...              ...      ...          ...   \n",
              "6415    17211                NaN              NaN      NaN          3.0   \n",
              "6416    17211                NaN              NaN      NaN          1.0   \n",
              "6417    17211                NaN              NaN      NaN          2.0   \n",
              "6418    17211                NaN              NaN      NaN          1.0   \n",
              "6419    17211                NaN              NaN      NaN          1.0   \n",
              "\n",
              "                                     neutral_tokens_log  \\\n",
              "0     [{'time': 433, 'key': 'Tier1Token'}, {'time': ...   \n",
              "1                 [{'time': 1918, 'key': 'Tier3Token'}]   \n",
              "2     [{'time': 473, 'key': 'Tier1Token'}, {'time': ...   \n",
              "3                                                    []   \n",
              "4                                                    []   \n",
              "...                                                 ...   \n",
              "6415                                                 []   \n",
              "6416                                                 []   \n",
              "6417                                                 []   \n",
              "6418                                                 []   \n",
              "6419                                                 []   \n",
              "\n",
              "                                   neutral_item_history item_neutral2  \n",
              "0                                                   NaN           NaN  \n",
              "1                                                   NaN           NaN  \n",
              "2                                                   NaN           NaN  \n",
              "3                                                   NaN           NaN  \n",
              "4                                                   NaN           NaN  \n",
              "...                                                 ...           ...  \n",
              "6415  [{'time': 488, 'item_neutral': 'mana_draught',...        1586.0  \n",
              "6416  [{'time': 450, 'item_neutral': 'polliwog_charm...        1577.0  \n",
              "6417  [{'time': 458, 'item_neutral': 'spark_of_coura...        1594.0  \n",
              "6418  [{'time': 461, 'item_neutral': 'trusty_shovel'...        1583.0  \n",
              "6419  [{'time': 482, 'item_neutral': 'trusty_shovel'...        1583.0  \n",
              "\n",
              "[83460 rows x 151 columns]"
            ]
          },
          "execution_count": 8,
          "metadata": {},
          "output_type": "execute_result"
        }
      ],
      "source": [
        "df = pd.concat(pd.read_csv(f'./20250{i}/players.csv') for i in range(1,5))\n",
        "df"
      ]
    },
    {
      "cell_type": "code",
      "execution_count": 9,
      "metadata": {
        "id": "USnvGktMQmjB"
      },
      "outputs": [],
      "source": [
        "df = df[df.match_id.groupby(df.match_id).transform('count').eq(10)]"
      ]
    },
    {
      "cell_type": "markdown",
      "metadata": {},
      "source": [
        "# Задание 2\n",
        "\n",
        "Описание датасета приведено в README.md, так же там отображены графики с разных заданий"
      ]
    },
    {
      "cell_type": "markdown",
      "metadata": {
        "id": "kupXAvDOesYd"
      },
      "source": [
        "# Задание 3"
      ]
    },
    {
      "cell_type": "markdown",
      "metadata": {},
      "source": [
        "matplotlib:\n",
        "\n",
        "Построить несколько графиков разного вида с использованием matplotlib.\n",
        "<br>Построить несколько суб-графиков на одном графике используя .subplot.\n",
        "<br>Построить интерактивный график со слайдером.\n",
        "<br>  Графики должны быть разных видов.\n",
        "<br>  Хотя бы в одном графике необходимо подписать оси.\n",
        "<br>  Во всех графиках необходимо указать название.\n",
        "<br>  Необязательно строить сложный и перегруженный информацией интерактивный график, достаточно одного-двух числовых признаков в разрезе другого признака, как минимум добавить слайдер (ползунок). Наличие других графических элементов управления (кнопки и т.п.) - опционально."
      ]
    },
    {
      "cell_type": "code",
      "execution_count": 10,
      "metadata": {
        "colab": {
          "base_uri": "https://localhost:8080/",
          "height": 564
        },
        "id": "bt5WjVJmexTT",
        "outputId": "395d78e7-0cf7-4ace-b4ed-fa973bb6ea57"
      },
      "outputs": [],
      "source": [
        "#частота убийств\n",
        "plt.figure(figsize=(10, 6))\n",
        "plt.hist(df['kills'], bins=20, color='skyblue', edgecolor='black')\n",
        "plt.title('Распределение убийств')\n",
        "plt.xlabel('Убийства')\n",
        "plt.ylabel('Частота')\n",
        "plt.savefig('matplotlib_kills.png')\n",
        "plt.show()"
      ]
    },
    {
      "cell_type": "code",
      "execution_count": 11,
      "metadata": {
        "colab": {
          "base_uri": "https://localhost:8080/",
          "height": 545
        },
        "id": "lQBdZu83e0rH",
        "outputId": "894e9dc1-1b01-4b4b-a3cb-f05043904300"
      },
      "outputs": [],
      "source": [
        "plt.figure(figsize=(10, 6))\n",
        "plt.scatter(df['kills'], df['deaths'], alpha=0.5, color='purple')\n",
        "plt.title('Связь между убийствами и смертями')\n",
        "plt.savefig('matplotlib_kills_death.png')\n",
        "plt.show()"
      ]
    },
    {
      "cell_type": "code",
      "execution_count": 12,
      "metadata": {
        "colab": {
          "base_uri": "https://localhost:8080/",
          "height": 510
        },
        "id": "62hOwEdKe_Fr",
        "outputId": "c73712dd-86ec-4145-da83-96827c3b1a7a"
      },
      "outputs": [],
      "source": [
        "#суб-графики для kills, deaths и assists\n",
        "fig, axs = plt.subplots(1, 3, figsize=(18, 6))  # 1 строка, 3 столбца\n",
        "\n",
        "# Гистограмма для kills\n",
        "axs[0].hist(df['kills'], bins=20, color='skyblue', edgecolor='black')\n",
        "\n",
        "axs[0].set_title('Убийства')\n",
        "\n",
        "# Гистограмма для deaths\n",
        "axs[1].hist(df['deaths'], bins=20, color='salmon', edgecolor='black')\n",
        "axs[1].set_title('Смерти')\n",
        "\n",
        "# Гистограмма для assists\n",
        "axs[2].hist(df['assists'], bins=20, color='lightgreen', edgecolor='black')\n",
        "axs[2].set_title('Помощь')\n",
        "\n",
        "plt.tight_layout()  # Автоматическая корректировка расстояния между графиками\n",
        "plt.savefig('matplotlib_kills_death_help.png')\n",
        "plt.show()"
      ]
    },
    {
      "cell_type": "code",
      "execution_count": 13,
      "metadata": {
        "colab": {
          "base_uri": "https://localhost:8080/",
          "height": 527
        },
        "id": "YmqKjSyoTaXh",
        "outputId": "83fe6937-35e3-482c-8b77-1a455805f34d"
      },
      "outputs": [],
      "source": [
        "# 5. Построение интерактивного графика со слайдером\n",
        "# График зависимости net_worth от level с фильтром по duration\n",
        "\n",
        "# Определяем минимальное и максимальное значение время игры\n",
        "min_duration = df['duration'].min()\n",
        "max_duration = df['duration'].max()\n",
        "\n",
        "# Создаем фигуру и оси\n",
        "fig, ax = plt.subplots(figsize=(10, 6))\n",
        "plt.subplots_adjust(bottom=0.25)  # Оставляем место для слайдера\n",
        "\n",
        "# Изначальный график\n",
        "scatter = ax.scatter(df['level'], df['net_worth'], alpha=0.5, color='teal')\n",
        "ax.set_title('Связь между уровнем и золотом')  # Название графика\n",
        "\n",
        "# Создаем слайдер\n",
        "ax_duration = plt.axes([0.1, 0.1, 0.8, 0.03])  # Позиция слайдера\n",
        "slider = Slider(ax_duration, 'Время', min_duration, max_duration, valinit=max_duration)\n",
        "\n",
        "# Функция обновления графика при изменении слайдера\n",
        "def update(val):\n",
        "    max_dur = slider.val\n",
        "    filtered_df = df[df['duration'] <= max_dur]  # Фильтруем данные\n",
        "    scatter.set_offsets(list(zip(filtered_df['level'], filtered_df['net_worth'])))  # Обновляем точки\n",
        "    fig.canvas.draw_idle()\n",
        "\n",
        "# Привязываем функцию к слайдеру\n",
        "slider.on_changed(update)\n",
        "\n",
        "plt.savefig('matplotlib_slider.png')\n",
        "\n",
        "plt.show()"
      ]
    },
    {
      "cell_type": "markdown",
      "metadata": {},
      "source": [
        "# Задание 4"
      ]
    },
    {
      "cell_type": "markdown",
      "metadata": {},
      "source": [
        "Построить три разных вида графиков с использованием pandas.DataFrame.plot / Series.plot.\n",
        "<br>Среди графиков должен присутствовать один boxplot (обязательно надо использовать параметр by, для исследования взаимосвязи числовой переменной и какой-либо другой).\n",
        "<br>Графики должны быть построены как через методы DataFrame, так и через методы Series. То есть оба варианта нужно продемонстрировать."
      ]
    },
    {
      "cell_type": "code",
      "execution_count": 14,
      "metadata": {},
      "outputs": [],
      "source": [
        "#axs[0].hist(df['kills'], bins=20, color='skyblue', edgecolor='black')\n",
        "#axs[0].set_title('Убийства')\n",
        "\n",
        "df.plot(kind='hist', bins=20, column='kills', title='Убийства')\n",
        "plt.ylabel('Убийства')\n",
        "plt.savefig('pandas_kills.png')\n",
        "plt.show()\n",
        "plt.close()"
      ]
    },
    {
      "cell_type": "code",
      "execution_count": 15,
      "metadata": {},
      "outputs": [],
      "source": [
        "# График с boxplot\n",
        "df.boxplot(column = ['kills','deaths','assists'], by = 'lane_role')\n",
        "plt.ylabel('Убийства')\n",
        "plt.savefig('pandas_by_role.png')\n",
        "plt.show()\n",
        "plt.close()"
      ]
    },
    {
      "cell_type": "code",
      "execution_count": 16,
      "metadata": {},
      "outputs": [],
      "source": [
        "df.boxplot(column='gold_per_min', by='lane_role', grid=False)\n",
        "plt.title('Золото в минуту по роли в линии')\n",
        "plt.suptitle('')  # Убираем автоматически добавленный заголовок\n",
        "plt.xlabel('Роль в линии')\n",
        "plt.ylabel('Золото в минуту')\n",
        "plt.savefig('pandas_gold_by_role.png')\n",
        "plt.show()\n",
        "plt.close()"
      ]
    },
    {
      "cell_type": "code",
      "execution_count": 17,
      "metadata": {},
      "outputs": [],
      "source": [
        "# 2. Гистограмма через Series.plot \n",
        "\n",
        "df['duration'].plot.hist(\n",
        "    bins=30,\n",
        "    figsize=(10, 6),\n",
        "    edgecolor='black',\n",
        "    grid=True,\n",
        "    color='skyblue'\n",
        ")\n",
        "plt.title('Распределение длительности матчей')\n",
        "plt.xlabel('Длительность (секунды)')\n",
        "plt.ylabel('Количество матчей')\n",
        "plt.savefig('pandas_time.png')\n",
        "plt.show()\n",
        "plt.close()"
      ]
    },
    {
      "cell_type": "markdown",
      "metadata": {},
      "source": [
        "# Задание 5"
      ]
    },
    {
      "cell_type": "markdown",
      "metadata": {},
      "source": [
        "Построить .pairplot на каком-либо наборе данных, проанализировать взаимосвязь набора числовых признаков.\n",
        "<br>Построить .jointplot, проанализировать взаимосвязь двух конкретных числовых признаков.\n",
        "<br>Построить .boxplot и/или .violinplot на каком-либо наборе данных, проанализировать числовой признак в разрезе категориального.\n",
        "<br>Построить график .heatmap попарной корреляции всех числовых признаков.\n",
        "<br>Категориальные признаки необходимо убрать из датафрейма перед построением."
      ]
    },
    {
      "cell_type": "code",
      "execution_count": 18,
      "metadata": {},
      "outputs": [],
      "source": [
        "import seaborn as sns"
      ]
    },
    {
      "cell_type": "code",
      "execution_count": 19,
      "metadata": {},
      "outputs": [],
      "source": [
        "sns.pairplot(df[['kills', 'deaths', 'assists', 'gold_per_min', 'xp_per_min']])\n",
        "plt.savefig('seaborn_kdagx.png')\n",
        "plt.show()\n",
        "plt.close()"
      ]
    },
    {
      "cell_type": "code",
      "execution_count": 20,
      "metadata": {},
      "outputs": [],
      "source": [
        "# 2. Jointplot для анализа взаимосвязи 'kills' и 'gold_per_min'\n",
        "sns.jointplot(x='kills', y='gold_per_min', data=df, kind='scatter')\n",
        "plt.savefig('jointplot_kills_gold.png')\n",
        "plt.show()"
      ]
    },
    {
      "cell_type": "code",
      "execution_count": 21,
      "metadata": {},
      "outputs": [
        {
          "name": "stderr",
          "output_type": "stream",
          "text": [
            "C:\\Users\\Roma\\AppData\\Local\\Temp\\ipykernel_15540\\2160736468.py:3: FutureWarning: \n",
            "\n",
            "Passing `palette` without assigning `hue` is deprecated and will be removed in v0.14.0. Assign the `x` variable to `hue` and set `legend=False` for the same effect.\n",
            "\n",
            "  sns.boxplot(\n"
          ]
        }
      ],
      "source": [
        "# 3. Boxplot\n",
        "plt.figure(figsize=(10, 6))\n",
        "sns.boxplot(\n",
        "    data=df,\n",
        "    x='radiant_win',  # Категориальный признак\n",
        "    y='hero_damage',   # Числовой признак\n",
        "    palette='Set2'\n",
        ")\n",
        "plt.title('Распределение урона по героям в зависимости от победы Радиант')\n",
        "plt.xlabel('Победа Радиант')\n",
        "plt.ylabel('Урон по героям')\n",
        "plt.xticks([0, 1], ['Нет', 'Да'])\n",
        "plt.savefig('seaborn_boxplot_win_damage.png')\n",
        "plt.show()\n"
      ]
    },
    {
      "cell_type": "code",
      "execution_count": 22,
      "metadata": {},
      "outputs": [],
      "source": [
        "numerical_cols = df.select_dtypes(include=['float64', 'int64']).columns\n",
        "corr_matrix = df[numerical_cols].corr()\n",
        "sns.heatmap(corr_matrix, annot=False, cmap='coolwarm')\n",
        "plt.title('Тепловая карта корреляций')\n",
        "plt.savefig('seaborn_heatmap.png')\n",
        "plt.show()"
      ]
    },
    {
      "cell_type": "markdown",
      "metadata": {},
      "source": [
        "# Задание 6"
      ]
    },
    {
      "cell_type": "markdown",
      "metadata": {},
      "source": [
        "scipy.stats:\n",
        "<br>Построить QQ-график (и гистограмму) для одного из числовых признаков с целью проверки на соответствие его распределения нормальному распределению."
      ]
    },
    {
      "cell_type": "code",
      "execution_count": 23,
      "metadata": {},
      "outputs": [],
      "source": [
        "from scipy import stats"
      ]
    },
    {
      "cell_type": "code",
      "execution_count": 27,
      "metadata": {},
      "outputs": [],
      "source": [
        "# Выберем числовой признак золото в минуту\n",
        "# data = df[df['radiant_win']]['gold_per_min'].dropna()\n",
        "data = df['gold_per_min'].dropna()\n",
        "\n",
        "# Создаем фигуру с двумя суб-графиками\n",
        "fig, (ax1, ax2) = plt.subplots(1, 2, figsize=(12, 5))\n",
        "\n",
        "# Гистограмма с наложенным нормальным распределением\n",
        "ax1.hist(data, bins=30, density=True, alpha=0.6, color='skyblue')\n",
        "mu, sigma = stats.norm.fit(data)\n",
        "x = np.linspace(data.min(), data.max(), 100)\n",
        "ax1.plot(x, stats.norm.pdf(x, mu, sigma), 'r-', linewidth=2)\n",
        "ax1.set_title('Гистограмма с нормальной кривой')\n",
        "ax1.set_xlabel('Золото в минуту')\n",
        "ax1.set_ylabel('Плотность')\n",
        "\n",
        "# QQ-график\n",
        "stats.probplot(data, dist=\"norm\", plot=ax2)\n",
        "ax2.set_title('QQ-график')\n",
        "\n",
        "plt.tight_layout()\n",
        "plt.savefig('scipy_norm.png')\n",
        "plt.show()"
      ]
    },
    {
      "cell_type": "markdown",
      "metadata": {},
      "source": [
        "# Задание 7"
      ]
    },
    {
      "cell_type": "markdown",
      "metadata": {},
      "source": [
        "plotly:\n",
        "<br>Построить несколько графиков разного вида.\n",
        "<br>Построить несколько суб-графиков на одном графике.\n",
        "<br>Построить интерактивный график.\n",
        "<br>Использование Dash опционально."
      ]
    },
    {
      "cell_type": "code",
      "execution_count": 25,
      "metadata": {},
      "outputs": [],
      "source": [
        "import plotly.express as px\n",
        "import plotly.graph_objects as go\n",
        "from plotly.subplots import make_subplots"
      ]
    },
    {
      "cell_type": "code",
      "execution_count": 26,
      "metadata": {},
      "outputs": [
        {
          "data": {
            "application/vnd.plotly.v1+json": {
              "config": {
                "plotlyServerURL": "https://plot.ly"
              },
              "data": [
                {
                  "customdata": {
                    "bdata": "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",
                    "dtype": "f8",
                    "shape": "1000, 1"
                  },
                  "hovertemplate": "Убийства=%{x}<br>Смерти=%{y}<br>lane_role=%{customdata[0]}<br>Победа=%{marker.color}<extra></extra>",
                  "legendgroup": "",
                  "marker": {
                    "color": {
                      "bdata": "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",
                      "dtype": "f8"
                    },
                    "coloraxis": "coloraxis",
                    "size": 5,
                    "symbol": "circle"
                  },
                  "mode": "markers",
                  "name": "",
                  "orientation": "v",
                  "showlegend": false,
                  "type": "scatter",
                  "x": {
                    "bdata": "AhQEAAsDBQMCBAUICQIGCQYOAAIJCAUBBAcJAgMNBgALAwcAEwMHAAEFBAESAgUCCgQEBAgAAw0EBgYDBwUDAgAHAgkLAwECCQEVCQEGBAwEDgQJBgsBBwEABAUDBggDAgQDCAMGAgkDAAUDAgISAgYDBAUIAxMDBAEEBAABAwQDDwUNAgIBCwYABAwLCQQFBAoOAwsDAAACEAQDCAcGBwMABgsBAwQBEwQKCwMLDBIKCgkBBw8ADggDAQYFBAYEAgcHAQgHAgEHBQQBBgsIBwIECAIDAQAIBQUCAgUCAQMHAQEHAgAEDgABBggBCgQDAgkLAAwFCAMCCAkJAwELBQYGAAUFBQgLCgQEAQUCAQkBDgURAQwAAgMIBQMFBwUSAgcABQcOAwMHCAQHBQUIAwoHDAMAEgUKAgQXAgUMBQMFBgULBAEEBggCCwQDAAcBAAYFBQwIAwMDAwQEEgQCCgMEBQUMBQcEAQkHAwYCBQkMBgAHBAUKAwwBAAcDDgkHCgsEBwMEAAMHAwYGCwMABAMOAgUDAggCCQcKAQICAgMLAwQOBQMIBwcHAAcIBgQCAgIDBQoBBQIHBQMGBgwJBwQEBxsEBQgECgUBBAELAwUACg0CBwgIAwURCQgDBAYCBwEIDgcOAgoLAwQDDgkLAwgBBAIFAQAMBQECAAcEAQIBAwQGCAABCQEACgQTAgQSAgEMCQgGAgoDAwMFCAAHEgQBBQkOCggPEgcGAAACCAYHAAcICwMNAhIDABUBAwMJDQoACQMFAgYADwUECgMCCgIHBwoSAQEGBQEIBgACCQQSAQACAgcGAgQLAg8FCAAIBgMDBgUMBxABBgcDCAQHBwwABwkHBQACDQMHBAIEBAMJBAQEAgwMBgIIAgEBBAYEAQcJBAQVCwIDBQEMCAABCwkDCRMQBwYLBgMDAAQDBAQCAgEAAxQJBwkNAwUBAAEFBwkIBgIRBQIIGggAAQUBCgYBAQMLFA0KAQQHBAUGBQoKBQcMAwsBDQYDBAEIAgwAAwEECQEIAAEDAQEFAwEEAQIGFAgCAQUDAwQDDAYBAw8CBQQOBAYFBAYFCAkHAwMJAgMFBwQGAQYMAwYBBAsSAwYIAwoKBAMGERECCw8HBhMCAwIDBwoHAAcGAQwMCgQNAgEKBAMAAggIAAAMCQEBCwMDAQQABAEJAgkKCwIFDxMGBQIFDQQFAwIDBAEGBQMEDQUECAsDBg8DCAYFCwUEAgUPEwAFDAIJBAcYBggDEgAABQUFCAkCEAkICQIHBwYDCAAICQECBAYBAQUAAggPBBEEAgcGBAQGBAEJBAAIAxIKAwYIBAAHBQ==",
                    "dtype": "i1"
                  },
                  "xaxis": "x",
                  "y": {
                    "bdata": "BgULCAwFAAQMBwsGBAgGCAcFBQcBAwUJCAEDBgUDBQkFBQEHBAUMBwkJCwIFDAcICQUICAUAAggBAwUHCwcFCgYIBAECBwgFBgUGCgcJAwgJBAMJBwIBAQsJCgUDBgUDBQcGAgEHAwIFAAIFAQkDBQQGAQcHAwQIAgQEAAcPAgYFBAIDBgYIAgMIBAMCAggBDAIKCQAHAQoJAwgEAgYCAgYDBQEKBAMKCQoFBwMBBgIHBwkJAQYGBAEMCgUHBgUJAgMBCRIGCAMECA8GBQkDAwcJAAcECAkFBgUHBw0HDAgFCgkICQkDBAYDCgQFAxACDAUCCgkBBQILBwAGAwgECQYHBAoGCgEHAQgJDQsEBAkCAgcGBgMGCAUECAkLBQMHCAUHAAsDBwgKBAYFBAYHBQQEBw4JAAgCBQQFCAgEBggLBwAMBgQIBAcTAwgVBAQDAQAFBQYFAwUMAgwCAgUICAYECQgABg4NCAUFBAYMAAMEBwYNBQYBBgYGBwECCgULDwQGCAkACwcDAgMIAgYFCQcCCQkDCwUIAQQKAAcEAgwBCAgFBgINBwQFBgIKAwQHCQUCCAkKCgsGCQYGAwEADAMDDAIJBAgHCAQHBQ4CAQcGBwQFAgoLAwMCCQgGBAoHBQcGAgUFBQMAAQMFCAIFBAcJBwsIBQQCBgYIAgUGBgMGAgUGBAECAQUDCgUEBAcKBQQNBQMDBwAGDQcJDgQDBAMGCAEBBwUCBAoFCgcGBwUDBBALAQUHCQUEDAEGAQIDAgIKBQQEBgYJAwQIAwgJBgYFBgcCBQoKBwILAgUCCgoFBgcJBQICAgoJBgQFBgoBBwQCBQgBAAUHCQ8GAwQEDAYMBAMFBgkGBAkCAwgJCgQIBwcFBQUBAQYDBwQICwUEBwYADQgGBAkFBgYJEgIKBwYJBwgCAwICCgMCCAoKCAoMBgYCBAUAAwUEAgQJCAgABwgGAgYDCAICAgkLCgMGCAcJBQoICgkECggBBgMICAUEAgcICQAICgUOAgUDAwYEBwcHAwUCBg4EBQYIAgUJBQAABgcEAwYJDwcFBAcIAgIKBQMCBwUDBAcLCAgCAQUBCAYCAgUFDAMGAw8ECAYEBwYKCgMEAwcKBgUIBAIABgALAwkKCgABBAgCBQYKBwEBBQYHBQgGCQcFCgYGBgUMAwwFBQIFCAoICgMKAQQDBAEIBAQLBQcHAgsBBAwECAUKAAcKAwUEAgIOAgcOBwwHAwMFAggKBwoCBgIJAwIKCAQBBQMHAAUECQIBCQcDBQQCAQEFBwUGBw8CBQ4BBwMBCQABBwMDAwUGAwgFBwgDBgMBCAYDBwcBBg==",
                    "dtype": "i1"
                  },
                  "yaxis": "y"
                }
              ],
              "layout": {
                "coloraxis": {
                  "colorbar": {
                    "title": {
                      "text": "Победа"
                    }
                  },
                  "colorscale": [
                    [
                      0,
                      "#0d0887"
                    ],
                    [
                      0.1111111111111111,
                      "#46039f"
                    ],
                    [
                      0.2222222222222222,
                      "#7201a8"
                    ],
                    [
                      0.3333333333333333,
                      "#9c179e"
                    ],
                    [
                      0.4444444444444444,
                      "#bd3786"
                    ],
                    [
                      0.5555555555555556,
                      "#d8576b"
                    ],
                    [
                      0.6666666666666666,
                      "#ed7953"
                    ],
                    [
                      0.7777777777777778,
                      "#fb9f3a"
                    ],
                    [
                      0.8888888888888888,
                      "#fdca26"
                    ],
                    [
                      1,
                      "#f0f921"
                    ]
                  ]
                },
                "legend": {
                  "tracegroupgap": 0
                },
                "template": {
                  "data": {
                    "bar": [
                      {
                        "error_x": {
                          "color": "#2a3f5f"
                        },
                        "error_y": {
                          "color": "#2a3f5f"
                        },
                        "marker": {
                          "line": {
                            "color": "#E5ECF6",
                            "width": 0.5
                          },
                          "pattern": {
                            "fillmode": "overlay",
                            "size": 10,
                            "solidity": 0.2
                          }
                        },
                        "type": "bar"
                      }
                    ],
                    "barpolar": [
                      {
                        "marker": {
                          "line": {
                            "color": "#E5ECF6",
                            "width": 0.5
                          },
                          "pattern": {
                            "fillmode": "overlay",
                            "size": 10,
                            "solidity": 0.2
                          }
                        },
                        "type": "barpolar"
                      }
                    ],
                    "carpet": [
                      {
                        "aaxis": {
                          "endlinecolor": "#2a3f5f",
                          "gridcolor": "white",
                          "linecolor": "white",
                          "minorgridcolor": "white",
                          "startlinecolor": "#2a3f5f"
                        },
                        "baxis": {
                          "endlinecolor": "#2a3f5f",
                          "gridcolor": "white",
                          "linecolor": "white",
                          "minorgridcolor": "white",
                          "startlinecolor": "#2a3f5f"
                        },
                        "type": "carpet"
                      }
                    ],
                    "choropleth": [
                      {
                        "colorbar": {
                          "outlinewidth": 0,
                          "ticks": ""
                        },
                        "type": "choropleth"
                      }
                    ],
                    "contour": [
                      {
                        "colorbar": {
                          "outlinewidth": 0,
                          "ticks": ""
                        },
                        "colorscale": [
                          [
                            0,
                            "#0d0887"
                          ],
                          [
                            0.1111111111111111,
                            "#46039f"
                          ],
                          [
                            0.2222222222222222,
                            "#7201a8"
                          ],
                          [
                            0.3333333333333333,
                            "#9c179e"
                          ],
                          [
                            0.4444444444444444,
                            "#bd3786"
                          ],
                          [
                            0.5555555555555556,
                            "#d8576b"
                          ],
                          [
                            0.6666666666666666,
                            "#ed7953"
                          ],
                          [
                            0.7777777777777778,
                            "#fb9f3a"
                          ],
                          [
                            0.8888888888888888,
                            "#fdca26"
                          ],
                          [
                            1,
                            "#f0f921"
                          ]
                        ],
                        "type": "contour"
                      }
                    ],
                    "contourcarpet": [
                      {
                        "colorbar": {
                          "outlinewidth": 0,
                          "ticks": ""
                        },
                        "type": "contourcarpet"
                      }
                    ],
                    "heatmap": [
                      {
                        "colorbar": {
                          "outlinewidth": 0,
                          "ticks": ""
                        },
                        "colorscale": [
                          [
                            0,
                            "#0d0887"
                          ],
                          [
                            0.1111111111111111,
                            "#46039f"
                          ],
                          [
                            0.2222222222222222,
                            "#7201a8"
                          ],
                          [
                            0.3333333333333333,
                            "#9c179e"
                          ],
                          [
                            0.4444444444444444,
                            "#bd3786"
                          ],
                          [
                            0.5555555555555556,
                            "#d8576b"
                          ],
                          [
                            0.6666666666666666,
                            "#ed7953"
                          ],
                          [
                            0.7777777777777778,
                            "#fb9f3a"
                          ],
                          [
                            0.8888888888888888,
                            "#fdca26"
                          ],
                          [
                            1,
                            "#f0f921"
                          ]
                        ],
                        "type": "heatmap"
                      }
                    ],
                    "histogram": [
                      {
                        "marker": {
                          "pattern": {
                            "fillmode": "overlay",
                            "size": 10,
                            "solidity": 0.2
                          }
                        },
                        "type": "histogram"
                      }
                    ],
                    "histogram2d": [
                      {
                        "colorbar": {
                          "outlinewidth": 0,
                          "ticks": ""
                        },
                        "colorscale": [
                          [
                            0,
                            "#0d0887"
                          ],
                          [
                            0.1111111111111111,
                            "#46039f"
                          ],
                          [
                            0.2222222222222222,
                            "#7201a8"
                          ],
                          [
                            0.3333333333333333,
                            "#9c179e"
                          ],
                          [
                            0.4444444444444444,
                            "#bd3786"
                          ],
                          [
                            0.5555555555555556,
                            "#d8576b"
                          ],
                          [
                            0.6666666666666666,
                            "#ed7953"
                          ],
                          [
                            0.7777777777777778,
                            "#fb9f3a"
                          ],
                          [
                            0.8888888888888888,
                            "#fdca26"
                          ],
                          [
                            1,
                            "#f0f921"
                          ]
                        ],
                        "type": "histogram2d"
                      }
                    ],
                    "histogram2dcontour": [
                      {
                        "colorbar": {
                          "outlinewidth": 0,
                          "ticks": ""
                        },
                        "colorscale": [
                          [
                            0,
                            "#0d0887"
                          ],
                          [
                            0.1111111111111111,
                            "#46039f"
                          ],
                          [
                            0.2222222222222222,
                            "#7201a8"
                          ],
                          [
                            0.3333333333333333,
                            "#9c179e"
                          ],
                          [
                            0.4444444444444444,
                            "#bd3786"
                          ],
                          [
                            0.5555555555555556,
                            "#d8576b"
                          ],
                          [
                            0.6666666666666666,
                            "#ed7953"
                          ],
                          [
                            0.7777777777777778,
                            "#fb9f3a"
                          ],
                          [
                            0.8888888888888888,
                            "#fdca26"
                          ],
                          [
                            1,
                            "#f0f921"
                          ]
                        ],
                        "type": "histogram2dcontour"
                      }
                    ],
                    "mesh3d": [
                      {
                        "colorbar": {
                          "outlinewidth": 0,
                          "ticks": ""
                        },
                        "type": "mesh3d"
                      }
                    ],
                    "parcoords": [
                      {
                        "line": {
                          "colorbar": {
                            "outlinewidth": 0,
                            "ticks": ""
                          }
                        },
                        "type": "parcoords"
                      }
                    ],
                    "pie": [
                      {
                        "automargin": true,
                        "type": "pie"
                      }
                    ],
                    "scatter": [
                      {
                        "fillpattern": {
                          "fillmode": "overlay",
                          "size": 10,
                          "solidity": 0.2
                        },
                        "type": "scatter"
                      }
                    ],
                    "scatter3d": [
                      {
                        "line": {
                          "colorbar": {
                            "outlinewidth": 0,
                            "ticks": ""
                          }
                        },
                        "marker": {
                          "colorbar": {
                            "outlinewidth": 0,
                            "ticks": ""
                          }
                        },
                        "type": "scatter3d"
                      }
                    ],
                    "scattercarpet": [
                      {
                        "marker": {
                          "colorbar": {
                            "outlinewidth": 0,
                            "ticks": ""
                          }
                        },
                        "type": "scattercarpet"
                      }
                    ],
                    "scattergeo": [
                      {
                        "marker": {
                          "colorbar": {
                            "outlinewidth": 0,
                            "ticks": ""
                          }
                        },
                        "type": "scattergeo"
                      }
                    ],
                    "scattergl": [
                      {
                        "marker": {
                          "colorbar": {
                            "outlinewidth": 0,
                            "ticks": ""
                          }
                        },
                        "type": "scattergl"
                      }
                    ],
                    "scattermap": [
                      {
                        "marker": {
                          "colorbar": {
                            "outlinewidth": 0,
                            "ticks": ""
                          }
                        },
                        "type": "scattermap"
                      }
                    ],
                    "scattermapbox": [
                      {
                        "marker": {
                          "colorbar": {
                            "outlinewidth": 0,
                            "ticks": ""
                          }
                        },
                        "type": "scattermapbox"
                      }
                    ],
                    "scatterpolar": [
                      {
                        "marker": {
                          "colorbar": {
                            "outlinewidth": 0,
                            "ticks": ""
                          }
                        },
                        "type": "scatterpolar"
                      }
                    ],
                    "scatterpolargl": [
                      {
                        "marker": {
                          "colorbar": {
                            "outlinewidth": 0,
                            "ticks": ""
                          }
                        },
                        "type": "scatterpolargl"
                      }
                    ],
                    "scatterternary": [
                      {
                        "marker": {
                          "colorbar": {
                            "outlinewidth": 0,
                            "ticks": ""
                          }
                        },
                        "type": "scatterternary"
                      }
                    ],
                    "surface": [
                      {
                        "colorbar": {
                          "outlinewidth": 0,
                          "ticks": ""
                        },
                        "colorscale": [
                          [
                            0,
                            "#0d0887"
                          ],
                          [
                            0.1111111111111111,
                            "#46039f"
                          ],
                          [
                            0.2222222222222222,
                            "#7201a8"
                          ],
                          [
                            0.3333333333333333,
                            "#9c179e"
                          ],
                          [
                            0.4444444444444444,
                            "#bd3786"
                          ],
                          [
                            0.5555555555555556,
                            "#d8576b"
                          ],
                          [
                            0.6666666666666666,
                            "#ed7953"
                          ],
                          [
                            0.7777777777777778,
                            "#fb9f3a"
                          ],
                          [
                            0.8888888888888888,
                            "#fdca26"
                          ],
                          [
                            1,
                            "#f0f921"
                          ]
                        ],
                        "type": "surface"
                      }
                    ],
                    "table": [
                      {
                        "cells": {
                          "fill": {
                            "color": "#EBF0F8"
                          },
                          "line": {
                            "color": "white"
                          }
                        },
                        "header": {
                          "fill": {
                            "color": "#C8D4E3"
                          },
                          "line": {
                            "color": "white"
                          }
                        },
                        "type": "table"
                      }
                    ]
                  },
                  "layout": {
                    "annotationdefaults": {
                      "arrowcolor": "#2a3f5f",
                      "arrowhead": 0,
                      "arrowwidth": 1
                    },
                    "autotypenumbers": "strict",
                    "coloraxis": {
                      "colorbar": {
                        "outlinewidth": 0,
                        "ticks": ""
                      }
                    },
                    "colorscale": {
                      "diverging": [
                        [
                          0,
                          "#8e0152"
                        ],
                        [
                          0.1,
                          "#c51b7d"
                        ],
                        [
                          0.2,
                          "#de77ae"
                        ],
                        [
                          0.3,
                          "#f1b6da"
                        ],
                        [
                          0.4,
                          "#fde0ef"
                        ],
                        [
                          0.5,
                          "#f7f7f7"
                        ],
                        [
                          0.6,
                          "#e6f5d0"
                        ],
                        [
                          0.7,
                          "#b8e186"
                        ],
                        [
                          0.8,
                          "#7fbc41"
                        ],
                        [
                          0.9,
                          "#4d9221"
                        ],
                        [
                          1,
                          "#276419"
                        ]
                      ],
                      "sequential": [
                        [
                          0,
                          "#0d0887"
                        ],
                        [
                          0.1111111111111111,
                          "#46039f"
                        ],
                        [
                          0.2222222222222222,
                          "#7201a8"
                        ],
                        [
                          0.3333333333333333,
                          "#9c179e"
                        ],
                        [
                          0.4444444444444444,
                          "#bd3786"
                        ],
                        [
                          0.5555555555555556,
                          "#d8576b"
                        ],
                        [
                          0.6666666666666666,
                          "#ed7953"
                        ],
                        [
                          0.7777777777777778,
                          "#fb9f3a"
                        ],
                        [
                          0.8888888888888888,
                          "#fdca26"
                        ],
                        [
                          1,
                          "#f0f921"
                        ]
                      ],
                      "sequentialminus": [
                        [
                          0,
                          "#0d0887"
                        ],
                        [
                          0.1111111111111111,
                          "#46039f"
                        ],
                        [
                          0.2222222222222222,
                          "#7201a8"
                        ],
                        [
                          0.3333333333333333,
                          "#9c179e"
                        ],
                        [
                          0.4444444444444444,
                          "#bd3786"
                        ],
                        [
                          0.5555555555555556,
                          "#d8576b"
                        ],
                        [
                          0.6666666666666666,
                          "#ed7953"
                        ],
                        [
                          0.7777777777777778,
                          "#fb9f3a"
                        ],
                        [
                          0.8888888888888888,
                          "#fdca26"
                        ],
                        [
                          1,
                          "#f0f921"
                        ]
                      ]
                    },
                    "colorway": [
                      "#636efa",
                      "#EF553B",
                      "#00cc96",
                      "#ab63fa",
                      "#FFA15A",
                      "#19d3f3",
                      "#FF6692",
                      "#B6E880",
                      "#FF97FF",
                      "#FECB52"
                    ],
                    "font": {
                      "color": "#2a3f5f"
                    },
                    "geo": {
                      "bgcolor": "white",
                      "lakecolor": "white",
                      "landcolor": "#E5ECF6",
                      "showlakes": true,
                      "showland": true,
                      "subunitcolor": "white"
                    },
                    "hoverlabel": {
                      "align": "left"
                    },
                    "hovermode": "closest",
                    "mapbox": {
                      "style": "light"
                    },
                    "paper_bgcolor": "white",
                    "plot_bgcolor": "#E5ECF6",
                    "polar": {
                      "angularaxis": {
                        "gridcolor": "white",
                        "linecolor": "white",
                        "ticks": ""
                      },
                      "bgcolor": "#E5ECF6",
                      "radialaxis": {
                        "gridcolor": "white",
                        "linecolor": "white",
                        "ticks": ""
                      }
                    },
                    "scene": {
                      "xaxis": {
                        "backgroundcolor": "#E5ECF6",
                        "gridcolor": "white",
                        "gridwidth": 2,
                        "linecolor": "white",
                        "showbackground": true,
                        "ticks": "",
                        "zerolinecolor": "white"
                      },
                      "yaxis": {
                        "backgroundcolor": "#E5ECF6",
                        "gridcolor": "white",
                        "gridwidth": 2,
                        "linecolor": "white",
                        "showbackground": true,
                        "ticks": "",
                        "zerolinecolor": "white"
                      },
                      "zaxis": {
                        "backgroundcolor": "#E5ECF6",
                        "gridcolor": "white",
                        "gridwidth": 2,
                        "linecolor": "white",
                        "showbackground": true,
                        "ticks": "",
                        "zerolinecolor": "white"
                      }
                    },
                    "shapedefaults": {
                      "line": {
                        "color": "#2a3f5f"
                      }
                    },
                    "ternary": {
                      "aaxis": {
                        "gridcolor": "white",
                        "linecolor": "white",
                        "ticks": ""
                      },
                      "baxis": {
                        "gridcolor": "white",
                        "linecolor": "white",
                        "ticks": ""
                      },
                      "bgcolor": "#E5ECF6",
                      "caxis": {
                        "gridcolor": "white",
                        "linecolor": "white",
                        "ticks": ""
                      }
                    },
                    "title": {
                      "x": 0.05
                    },
                    "xaxis": {
                      "automargin": true,
                      "gridcolor": "white",
                      "linecolor": "white",
                      "ticks": "",
                      "title": {
                        "standoff": 15
                      },
                      "zerolinecolor": "white",
                      "zerolinewidth": 2
                    },
                    "yaxis": {
                      "automargin": true,
                      "gridcolor": "white",
                      "linecolor": "white",
                      "ticks": "",
                      "title": {
                        "standoff": 15
                      },
                      "zerolinecolor": "white",
                      "zerolinewidth": 2
                    }
                  }
                },
                "title": {
                  "text": "Убийства против смертей по победам"
                },
                "xaxis": {
                  "anchor": "y",
                  "domain": [
                    0,
                    1
                  ],
                  "title": {
                    "text": "Убийства"
                  }
                },
                "yaxis": {
                  "anchor": "x",
                  "domain": [
                    0,
                    1
                  ],
                  "title": {
                    "text": "Смерти"
                  }
                }
              }
            }
          },
          "metadata": {},
          "output_type": "display_data"
        },
        {
          "data": {
            "application/vnd.plotly.v1+json": {
              "config": {
                "plotlyServerURL": "https://plot.ly"
              },
              "data": [
                {
                  "hovertemplate": "Роль в линии=%{x}<br>Золото в минуту=%{y}<extra></extra>",
                  "legendgroup": "",
                  "marker": {
                    "color": "#636efa",
                    "pattern": {
                      "shape": ""
                    }
                  },
                  "name": "",
                  "orientation": "v",
                  "showlegend": false,
                  "textposition": "auto",
                  "type": "bar",
                  "x": {
                    "bdata": "AAAAAAAA8D8AAAAAAAAAQAAAAAAAAAhAAAAAAAAAEEA=",
                    "dtype": "f8"
                  },
                  "xaxis": "x",
                  "y": {
                    "bdata": "rVPOZeatfkADQ0fWKHiBQH5dSrrDe3tAI591gymed0A=",
                    "dtype": "f8"
                  },
                  "yaxis": "y"
                }
              ],
              "layout": {
                "barmode": "relative",
                "legend": {
                  "tracegroupgap": 0
                },
                "template": {
                  "data": {
                    "bar": [
                      {
                        "error_x": {
                          "color": "#2a3f5f"
                        },
                        "error_y": {
                          "color": "#2a3f5f"
                        },
                        "marker": {
                          "line": {
                            "color": "#E5ECF6",
                            "width": 0.5
                          },
                          "pattern": {
                            "fillmode": "overlay",
                            "size": 10,
                            "solidity": 0.2
                          }
                        },
                        "type": "bar"
                      }
                    ],
                    "barpolar": [
                      {
                        "marker": {
                          "line": {
                            "color": "#E5ECF6",
                            "width": 0.5
                          },
                          "pattern": {
                            "fillmode": "overlay",
                            "size": 10,
                            "solidity": 0.2
                          }
                        },
                        "type": "barpolar"
                      }
                    ],
                    "carpet": [
                      {
                        "aaxis": {
                          "endlinecolor": "#2a3f5f",
                          "gridcolor": "white",
                          "linecolor": "white",
                          "minorgridcolor": "white",
                          "startlinecolor": "#2a3f5f"
                        },
                        "baxis": {
                          "endlinecolor": "#2a3f5f",
                          "gridcolor": "white",
                          "linecolor": "white",
                          "minorgridcolor": "white",
                          "startlinecolor": "#2a3f5f"
                        },
                        "type": "carpet"
                      }
                    ],
                    "choropleth": [
                      {
                        "colorbar": {
                          "outlinewidth": 0,
                          "ticks": ""
                        },
                        "type": "choropleth"
                      }
                    ],
                    "contour": [
                      {
                        "colorbar": {
                          "outlinewidth": 0,
                          "ticks": ""
                        },
                        "colorscale": [
                          [
                            0,
                            "#0d0887"
                          ],
                          [
                            0.1111111111111111,
                            "#46039f"
                          ],
                          [
                            0.2222222222222222,
                            "#7201a8"
                          ],
                          [
                            0.3333333333333333,
                            "#9c179e"
                          ],
                          [
                            0.4444444444444444,
                            "#bd3786"
                          ],
                          [
                            0.5555555555555556,
                            "#d8576b"
                          ],
                          [
                            0.6666666666666666,
                            "#ed7953"
                          ],
                          [
                            0.7777777777777778,
                            "#fb9f3a"
                          ],
                          [
                            0.8888888888888888,
                            "#fdca26"
                          ],
                          [
                            1,
                            "#f0f921"
                          ]
                        ],
                        "type": "contour"
                      }
                    ],
                    "contourcarpet": [
                      {
                        "colorbar": {
                          "outlinewidth": 0,
                          "ticks": ""
                        },
                        "type": "contourcarpet"
                      }
                    ],
                    "heatmap": [
                      {
                        "colorbar": {
                          "outlinewidth": 0,
                          "ticks": ""
                        },
                        "colorscale": [
                          [
                            0,
                            "#0d0887"
                          ],
                          [
                            0.1111111111111111,
                            "#46039f"
                          ],
                          [
                            0.2222222222222222,
                            "#7201a8"
                          ],
                          [
                            0.3333333333333333,
                            "#9c179e"
                          ],
                          [
                            0.4444444444444444,
                            "#bd3786"
                          ],
                          [
                            0.5555555555555556,
                            "#d8576b"
                          ],
                          [
                            0.6666666666666666,
                            "#ed7953"
                          ],
                          [
                            0.7777777777777778,
                            "#fb9f3a"
                          ],
                          [
                            0.8888888888888888,
                            "#fdca26"
                          ],
                          [
                            1,
                            "#f0f921"
                          ]
                        ],
                        "type": "heatmap"
                      }
                    ],
                    "histogram": [
                      {
                        "marker": {
                          "pattern": {
                            "fillmode": "overlay",
                            "size": 10,
                            "solidity": 0.2
                          }
                        },
                        "type": "histogram"
                      }
                    ],
                    "histogram2d": [
                      {
                        "colorbar": {
                          "outlinewidth": 0,
                          "ticks": ""
                        },
                        "colorscale": [
                          [
                            0,
                            "#0d0887"
                          ],
                          [
                            0.1111111111111111,
                            "#46039f"
                          ],
                          [
                            0.2222222222222222,
                            "#7201a8"
                          ],
                          [
                            0.3333333333333333,
                            "#9c179e"
                          ],
                          [
                            0.4444444444444444,
                            "#bd3786"
                          ],
                          [
                            0.5555555555555556,
                            "#d8576b"
                          ],
                          [
                            0.6666666666666666,
                            "#ed7953"
                          ],
                          [
                            0.7777777777777778,
                            "#fb9f3a"
                          ],
                          [
                            0.8888888888888888,
                            "#fdca26"
                          ],
                          [
                            1,
                            "#f0f921"
                          ]
                        ],
                        "type": "histogram2d"
                      }
                    ],
                    "histogram2dcontour": [
                      {
                        "colorbar": {
                          "outlinewidth": 0,
                          "ticks": ""
                        },
                        "colorscale": [
                          [
                            0,
                            "#0d0887"
                          ],
                          [
                            0.1111111111111111,
                            "#46039f"
                          ],
                          [
                            0.2222222222222222,
                            "#7201a8"
                          ],
                          [
                            0.3333333333333333,
                            "#9c179e"
                          ],
                          [
                            0.4444444444444444,
                            "#bd3786"
                          ],
                          [
                            0.5555555555555556,
                            "#d8576b"
                          ],
                          [
                            0.6666666666666666,
                            "#ed7953"
                          ],
                          [
                            0.7777777777777778,
                            "#fb9f3a"
                          ],
                          [
                            0.8888888888888888,
                            "#fdca26"
                          ],
                          [
                            1,
                            "#f0f921"
                          ]
                        ],
                        "type": "histogram2dcontour"
                      }
                    ],
                    "mesh3d": [
                      {
                        "colorbar": {
                          "outlinewidth": 0,
                          "ticks": ""
                        },
                        "type": "mesh3d"
                      }
                    ],
                    "parcoords": [
                      {
                        "line": {
                          "colorbar": {
                            "outlinewidth": 0,
                            "ticks": ""
                          }
                        },
                        "type": "parcoords"
                      }
                    ],
                    "pie": [
                      {
                        "automargin": true,
                        "type": "pie"
                      }
                    ],
                    "scatter": [
                      {
                        "fillpattern": {
                          "fillmode": "overlay",
                          "size": 10,
                          "solidity": 0.2
                        },
                        "type": "scatter"
                      }
                    ],
                    "scatter3d": [
                      {
                        "line": {
                          "colorbar": {
                            "outlinewidth": 0,
                            "ticks": ""
                          }
                        },
                        "marker": {
                          "colorbar": {
                            "outlinewidth": 0,
                            "ticks": ""
                          }
                        },
                        "type": "scatter3d"
                      }
                    ],
                    "scattercarpet": [
                      {
                        "marker": {
                          "colorbar": {
                            "outlinewidth": 0,
                            "ticks": ""
                          }
                        },
                        "type": "scattercarpet"
                      }
                    ],
                    "scattergeo": [
                      {
                        "marker": {
                          "colorbar": {
                            "outlinewidth": 0,
                            "ticks": ""
                          }
                        },
                        "type": "scattergeo"
                      }
                    ],
                    "scattergl": [
                      {
                        "marker": {
                          "colorbar": {
                            "outlinewidth": 0,
                            "ticks": ""
                          }
                        },
                        "type": "scattergl"
                      }
                    ],
                    "scattermap": [
                      {
                        "marker": {
                          "colorbar": {
                            "outlinewidth": 0,
                            "ticks": ""
                          }
                        },
                        "type": "scattermap"
                      }
                    ],
                    "scattermapbox": [
                      {
                        "marker": {
                          "colorbar": {
                            "outlinewidth": 0,
                            "ticks": ""
                          }
                        },
                        "type": "scattermapbox"
                      }
                    ],
                    "scatterpolar": [
                      {
                        "marker": {
                          "colorbar": {
                            "outlinewidth": 0,
                            "ticks": ""
                          }
                        },
                        "type": "scatterpolar"
                      }
                    ],
                    "scatterpolargl": [
                      {
                        "marker": {
                          "colorbar": {
                            "outlinewidth": 0,
                            "ticks": ""
                          }
                        },
                        "type": "scatterpolargl"
                      }
                    ],
                    "scatterternary": [
                      {
                        "marker": {
                          "colorbar": {
                            "outlinewidth": 0,
                            "ticks": ""
                          }
                        },
                        "type": "scatterternary"
                      }
                    ],
                    "surface": [
                      {
                        "colorbar": {
                          "outlinewidth": 0,
                          "ticks": ""
                        },
                        "colorscale": [
                          [
                            0,
                            "#0d0887"
                          ],
                          [
                            0.1111111111111111,
                            "#46039f"
                          ],
                          [
                            0.2222222222222222,
                            "#7201a8"
                          ],
                          [
                            0.3333333333333333,
                            "#9c179e"
                          ],
                          [
                            0.4444444444444444,
                            "#bd3786"
                          ],
                          [
                            0.5555555555555556,
                            "#d8576b"
                          ],
                          [
                            0.6666666666666666,
                            "#ed7953"
                          ],
                          [
                            0.7777777777777778,
                            "#fb9f3a"
                          ],
                          [
                            0.8888888888888888,
                            "#fdca26"
                          ],
                          [
                            1,
                            "#f0f921"
                          ]
                        ],
                        "type": "surface"
                      }
                    ],
                    "table": [
                      {
                        "cells": {
                          "fill": {
                            "color": "#EBF0F8"
                          },
                          "line": {
                            "color": "white"
                          }
                        },
                        "header": {
                          "fill": {
                            "color": "#C8D4E3"
                          },
                          "line": {
                            "color": "white"
                          }
                        },
                        "type": "table"
                      }
                    ]
                  },
                  "layout": {
                    "annotationdefaults": {
                      "arrowcolor": "#2a3f5f",
                      "arrowhead": 0,
                      "arrowwidth": 1
                    },
                    "autotypenumbers": "strict",
                    "coloraxis": {
                      "colorbar": {
                        "outlinewidth": 0,
                        "ticks": ""
                      }
                    },
                    "colorscale": {
                      "diverging": [
                        [
                          0,
                          "#8e0152"
                        ],
                        [
                          0.1,
                          "#c51b7d"
                        ],
                        [
                          0.2,
                          "#de77ae"
                        ],
                        [
                          0.3,
                          "#f1b6da"
                        ],
                        [
                          0.4,
                          "#fde0ef"
                        ],
                        [
                          0.5,
                          "#f7f7f7"
                        ],
                        [
                          0.6,
                          "#e6f5d0"
                        ],
                        [
                          0.7,
                          "#b8e186"
                        ],
                        [
                          0.8,
                          "#7fbc41"
                        ],
                        [
                          0.9,
                          "#4d9221"
                        ],
                        [
                          1,
                          "#276419"
                        ]
                      ],
                      "sequential": [
                        [
                          0,
                          "#0d0887"
                        ],
                        [
                          0.1111111111111111,
                          "#46039f"
                        ],
                        [
                          0.2222222222222222,
                          "#7201a8"
                        ],
                        [
                          0.3333333333333333,
                          "#9c179e"
                        ],
                        [
                          0.4444444444444444,
                          "#bd3786"
                        ],
                        [
                          0.5555555555555556,
                          "#d8576b"
                        ],
                        [
                          0.6666666666666666,
                          "#ed7953"
                        ],
                        [
                          0.7777777777777778,
                          "#fb9f3a"
                        ],
                        [
                          0.8888888888888888,
                          "#fdca26"
                        ],
                        [
                          1,
                          "#f0f921"
                        ]
                      ],
                      "sequentialminus": [
                        [
                          0,
                          "#0d0887"
                        ],
                        [
                          0.1111111111111111,
                          "#46039f"
                        ],
                        [
                          0.2222222222222222,
                          "#7201a8"
                        ],
                        [
                          0.3333333333333333,
                          "#9c179e"
                        ],
                        [
                          0.4444444444444444,
                          "#bd3786"
                        ],
                        [
                          0.5555555555555556,
                          "#d8576b"
                        ],
                        [
                          0.6666666666666666,
                          "#ed7953"
                        ],
                        [
                          0.7777777777777778,
                          "#fb9f3a"
                        ],
                        [
                          0.8888888888888888,
                          "#fdca26"
                        ],
                        [
                          1,
                          "#f0f921"
                        ]
                      ]
                    },
                    "colorway": [
                      "#636efa",
                      "#EF553B",
                      "#00cc96",
                      "#ab63fa",
                      "#FFA15A",
                      "#19d3f3",
                      "#FF6692",
                      "#B6E880",
                      "#FF97FF",
                      "#FECB52"
                    ],
                    "font": {
                      "color": "#2a3f5f"
                    },
                    "geo": {
                      "bgcolor": "white",
                      "lakecolor": "white",
                      "landcolor": "#E5ECF6",
                      "showlakes": true,
                      "showland": true,
                      "subunitcolor": "white"
                    },
                    "hoverlabel": {
                      "align": "left"
                    },
                    "hovermode": "closest",
                    "mapbox": {
                      "style": "light"
                    },
                    "paper_bgcolor": "white",
                    "plot_bgcolor": "#E5ECF6",
                    "polar": {
                      "angularaxis": {
                        "gridcolor": "white",
                        "linecolor": "white",
                        "ticks": ""
                      },
                      "bgcolor": "#E5ECF6",
                      "radialaxis": {
                        "gridcolor": "white",
                        "linecolor": "white",
                        "ticks": ""
                      }
                    },
                    "scene": {
                      "xaxis": {
                        "backgroundcolor": "#E5ECF6",
                        "gridcolor": "white",
                        "gridwidth": 2,
                        "linecolor": "white",
                        "showbackground": true,
                        "ticks": "",
                        "zerolinecolor": "white"
                      },
                      "yaxis": {
                        "backgroundcolor": "#E5ECF6",
                        "gridcolor": "white",
                        "gridwidth": 2,
                        "linecolor": "white",
                        "showbackground": true,
                        "ticks": "",
                        "zerolinecolor": "white"
                      },
                      "zaxis": {
                        "backgroundcolor": "#E5ECF6",
                        "gridcolor": "white",
                        "gridwidth": 2,
                        "linecolor": "white",
                        "showbackground": true,
                        "ticks": "",
                        "zerolinecolor": "white"
                      }
                    },
                    "shapedefaults": {
                      "line": {
                        "color": "#2a3f5f"
                      }
                    },
                    "ternary": {
                      "aaxis": {
                        "gridcolor": "white",
                        "linecolor": "white",
                        "ticks": ""
                      },
                      "baxis": {
                        "gridcolor": "white",
                        "linecolor": "white",
                        "ticks": ""
                      },
                      "bgcolor": "#E5ECF6",
                      "caxis": {
                        "gridcolor": "white",
                        "linecolor": "white",
                        "ticks": ""
                      }
                    },
                    "title": {
                      "x": 0.05
                    },
                    "xaxis": {
                      "automargin": true,
                      "gridcolor": "white",
                      "linecolor": "white",
                      "ticks": "",
                      "title": {
                        "standoff": 15
                      },
                      "zerolinecolor": "white",
                      "zerolinewidth": 2
                    },
                    "yaxis": {
                      "automargin": true,
                      "gridcolor": "white",
                      "linecolor": "white",
                      "ticks": "",
                      "title": {
                        "standoff": 15
                      },
                      "zerolinecolor": "white",
                      "zerolinewidth": 2
                    }
                  }
                },
                "title": {
                  "text": "Среднее золото в минуту по роли в линии"
                },
                "xaxis": {
                  "anchor": "y",
                  "domain": [
                    0,
                    1
                  ],
                  "title": {
                    "text": "Роль в линии"
                  }
                },
                "yaxis": {
                  "anchor": "x",
                  "domain": [
                    0,
                    1
                  ],
                  "title": {
                    "text": "Золото в минуту"
                  }
                }
              }
            }
          },
          "metadata": {},
          "output_type": "display_data"
        },
        {
          "data": {
            "application/vnd.plotly.v1+json": {
              "config": {
                "plotlyServerURL": "https://plot.ly"
              },
              "data": [
                {
                  "bingroup": "x",
                  "hovertemplate": "Убийства=%{x}<br>count=%{y}<extra></extra>",
                  "legendgroup": "",
                  "marker": {
                    "color": "#636efa",
                    "pattern": {
                      "shape": ""
                    }
                  },
                  "name": "",
                  "orientation": "v",
                  "showlegend": false,
                  "type": "histogram",
                  "x": {
                    "bdata": "CAYDAQQKBQoDAwQBAQkBEgIHDwMCBwAAAgcCAwIDAwQBAAUCAAEBBAEEAQEDCQMGAwAAAgEAAAEAAAEBAAIABQUCDQQGBAEOAgQEBgIABAcFBAIEAwQEBQ8DAQgEEgMLBQMMAwYBAAUAChUHAgIJCA0CAgkGBw0MBw8CBwQABwIHAwwDAgUJCQ4DCRAECQUGAAcDAgEBCxMNBQAKCwUGCQIOCQQHAgYRAwkKBQkJARACCwgJAwsGCQADAQUGAQUJBQQGAgQEDQQFEQ4KCQAFCAUACQIHBQMDAQEAAgUDAAQCAQkCAw4HBAYCAwUABgsDFAIPAgAGBwsBBgcFAA8BCAEGAAQBBQcGAggCAA8FAgQHDgQLAQgNAwYEAQQJAgMCAwEDBAILBQIFBQECAwMKCwoDAwQCCQUFBAEJBgEHCQoBAgQDBQkDEgoFCQYECwgDCwsNBQQCAgYCCQMCBgoFAQQABQIDBgoDAgIEAgMCAQUAAwsHAwQGAwACAwMHBgsHAQIFAgQHBRACAAQCCgcDEgIEAwcECAsKCQQDAwQAAgYCAgcAAgULAQMFBQACBQwJCgALAgADAgQHAwwOBgQEBwoZCQkPEQMJCwEEDQEGCQUABQMIEAIKBwUUAQkRDgMHBAEEAQUFAwIMDwUBAwUBCQYPAwIEBAIKAgEBAwACEgUKBAMCBwgGAgQBAAACCQQJBQMYBwMHBQYHAwYCBAICAAQHAQEDBRICBAkOAgEDAggLCAsKDAQLBAIDBAUBBgAIBAgEBggADAQEFA8FAwQCAwYCAQkJBwUFAwcHAQgBBwcLBAkODwMGDg4LDQYMCgMHAwYIBAUBBgsKEAIEAQkFBwgDAgUFCggHAwUDDQYFAwEJBAMDDAUEBQQBAgcDAgIJBQIDAQsEBQoCBwIFCwMEBAwAAAQICAEFBwIEDwACAQEDCAURBQoCEgkKAgACAw0EBAINAwUHBwYBAwYNBAgFAgIAAQEFBgMHAgEDCBANCAkEAwkFBAMCAgoDDgoIBAYEAwABCgIJBgQEAAMFAQoBEAgFCgMLCAIEBgMDAgcADQQAAgkLAggFAQIDBwcBBQ4EDgcFDAMBAgUCCQIFAwgLAwMDAwcEAAEKCAIDCAIJDQMQAQkGBg8DCwELBwMEBgwDCQIBAwkEAwUBCQEGAwEFEAENAg8DAAIABQMLBAUDAwoGAwcBABECAQcAAgMEBAECBgYDDwgFCgcFDQoJBgIFAQgDAgECAQAGBAMDAQAKAwoHBgAABgQBBAgMCgICAwAHAgcDBAMFBxAEBgIEAgEBAgACAAMKCQQHBAsIEwIEBQoPBwMFBg8FCQYEBwMIBwQFEgcJAgMMAQMHAAACBg4PCQQKDgMJAwYCAwMFBAUABg0IBQMICQ0EDg0BBgICAwQKAgcKCAUGDQcJBQQFAQgADgEECBEFDgUEBAUAAwIICQQKAgIGAwEADgkGCgQECAQCAAUIBwIDBgMDAwEDCAMYBwcECAcBEQIEBgwSBQgCBwMCAgEBCQIJBwUCCAYiBggLCAQBAAEDAgQECwQJAQULBw0DAgYGAwcDBAAAAgQCAAEEAwIEAAIJAgcDBxEEBQADAAgSAQMFCwcCCQkCAg4GAAABAAMLCQYLBAYLDAEHBQEBAQIHAAQCAgsMBAAMAgYBAQEJBAQKBAICAAMCBQIDAQMBBAECBQ0JDwEGAgUCCgMDCA4GEAkEBQMECwYDCAYEAAIDAAMMEQMIAAICAAEAAAABAAIFCQQJDAkGCwoEBAICBAkCCRAKEQQLDwECBhILAxMBBAMIAAgCAAgCBwIHAQkGDQkHAQQSEgcBBgYCBAIJCgMMAAEABAACCQUEAhMHAggFCAMEBAoLAwQDCwAAAQABAQQACwIECAQIBA0FBQgFCwoDCAEDEgcFCQEBBAEBBAoHBAgBAQEBAw0HEAQODgMCCAUAAAECAgwACQIGBw0JAQICAAACAgYCAQIBAgwIBwMHBggGCQIBAQMBCg8HAwIGBAECAw4HCAQIAAEAAAALDAUECAABAQEABAcQBwEBAQsHBBAIAgkDAAABAQAHDQcACAIKAwEGBwgEBQIBAgAAAQUTDQMCAQABAQALCAoHCAABAAECAwEAAAEBBQYEBwQRAwYEBAYCAgMCAwcJAwMICAUDCwkHBgAAAgMCBwoDBwIEAAMAAQEHAAIFBAkMBwMCAgQKAwMBAAMAAgMHCg0BBgcDBwMCDgQCCQICAAACFgYIAgcCCQIFAwAABAECAwgEAhIDDgUICwcCAQEBBAMCAwkCCwYDBgcMCAYGAQIBAQANBgUGDgIFAgEKCAILBQMBAAIGAg4GDhIIAgQEBwQDAgEDBAMNAgYGEgwKCgMFBQcCBAUKBAgFBwkLBAwFDBYFAQsFBgMFAgIAAwAGBQMBCAUJAggCAwMAAAABDwgMAwMDAwEFDgUCBwQDCAQCBQAHDAcHAAUCAgEFCQ8GBgEAAAAAAwQJAQQBAwMGAQQFEAgJAAABAwEGAAMCAAsDAwQDBBMJBggDAQMAAQUIEwQFAgYIBAQKChEEDAsIBwQGBQgEAQEGDAMDAgMMCAQDDg0DCwMMAwwECQIDAwQDBxEFBQYBBwQEBQEBAwEBBBADAQsDCBIKBAQCCwMHCwgLDgIAAgEGAgMIBAQEAAkCCAkIBQgGEBASDBYEAwAMAgYBBAcCAQAAAQIABgkIBAkKCBAFCAMAAQEBChAEAgsABAABAgEIDAQHBQQEAgELDAkGAgUBBAEABQYEBAIAAQABAAcJBwQFBgUFBAIGCAcDBwADAgECBwwQBgsJBgIDAQIDAQQBDwkCBQUGBQIHBgkWAwEEAQgAAAIKFQwMCgIEDwQIAAEBAwEBAQQBAQcMAwkDAQMEAwILCwcFBwMDAAYBEQgPCQgEAQEDAgoOCgYIAwMCAQMNCQQHBwgBCQ0EAwQLBAQCBQMEBw8OAgUGAwUKCAcDBgIBBQcKBAUbBwkEBAkFBQUOAgAAAwADDgkHCQEDCwcCBAkICQQCBQAAAAMCBRALBwgCAgQEAgkEBAUDAQEAAgIDCgEHFgoEAwMJBwcMBQIGBAMIAwkGAgINCAcEDAIICAALAwEKAwQJDgYIAgMCBQUGCwYEDQ0BBgMGBwEKEwQHDQMEBQMMCQIDAg4FCQIMCQECAwMIDQoDDAESEQsKBQ0AAQYKBAECDgEBAAIAEQwFBQUCAQkDCggHCQYDBgIBCAkEBQYDBg4GAQsLCAcEDg0MBQgDBg0BBQoABwUCCAYKCAcNAQEEAwcEAQQUBgQFCw0HAgEBAw0GAAMEBwECDgkNAgUBBgwCCwkGAgIABQQDAwUBBAUBBwIABAMAAwQJAggJDhAECQEDAQIDAAMAAgEDBAMAAggFCgYKCQMAAQoJCwIAAAAAAgACAAIDAgcECwQDAwEBAQEDBwMHBxIGBAICBgMPBgMBAwcCAgYBAgYBDgIMAgALCAYLDgMPCQoKDgQIAQACAwcAAAMEAwECBwQJBwEDAAMFAQEBAAEADAIGBgcDAwIHAwAAAAABBwUGAgMFDwkHBgQIBgMVBBEECBAFBwgBBwIDBgkNAAEABQUAAAABAgQBBgQEDAUQEgcCBAUGDBAUBQMJAgcLAwQDCQ8RCgYIBxACCgYCAwMEDAwHBwEBAQEBCgkAAwUBBQwDCQwIEAMBBgYLCwEEAQIEAgMECgQFAgQBAwwDBQkGAxEMCQgCCAwQBgYDAgUFAgcCDAcQDAwMBQYFEgUDCQMKCQEACQQICAQKDgwGCQULAwUDAQYHCwQICA8GAwMGAwECBwkHDwIICwIMCA4GBBEFEgUICgoAAAUCAgQNBAYDBQcCAAIEBg8IAgQLCAUCBQcSAQQKBgEPCgMIBgkFEwcEAQMDAwYBAAYYAQgFAhgRBQYIBwMEBwkDCAkHBQUFAwEAAgABAgYFBgMADAgKAgAGAQsDAwMBAgQOAwIBAQEECAYMAgEJBAgLAQEHAwcDBAMKAxEIAgUNAgUKAgQECgYDCAULBgQFBwQFBQQCEQQEBgQDDwUEBAIAAgIGAwEEBgYGGAcEAAoDAQUKAgMAAAMBAQAACggRBAsCAQQAAQUDBwoDAgELBQECAwcFCwMJAgsMBgMCBwECAgMAAwAOAggRAQQMAgIECgYCBwAAAQAABwEIDAIQDAwDBwkOCBEEAQAGAQEDBwcECAIAAQIBBwIGAwECAAABAAcCCgUGBQYCBAIPFQYIAQMCAQUCDgYQDgYBAgIDAgICBQIFChAEBAYIBAECCQEBBAEACgoIBQIGAAABARIGBwsEAQQJCg8HAgYFAAcGBgYLFQcCBAENDwMGAAwDCAMKAgMFBAECAgEBAAYBCAEADxgFEQMECgsGBQsHBAcBAgkEAAUDCwgMBQwJCQ0BCAUJBA0FAAgGBwIIAAUACQYCDAoVBQoGBgoIFQgKCRILCAEBAQEAAAcLDA8HAgECAgAMBwcIDwcBAwYFBAUBAgYNDQECCg0HBA4KAAAAAAEICgIBDwEFBgEDAgoHBQQBAAEAAAgEAwICBwcBCQEGCwoDCwABAAAAAwECAAELCwcJCAQDAQUCDA0ECwYBBxAOAgAFAQAHBQUFAQIICgUFCAQEAAADBwIHCAgFBQIBBwEBBAQCCw8MBw0JCgwBAwMJCQUMAQEBAQARBwgECgELAQEEBQsKAwMDBQ8FDg0IBAEHAwcIFQUGAwcIAwABAAACBwMEBQcAAAECAA8DCwwHAwEBAgAPAgcRBwQCAgEBCgwDAwQBAwMDARYHCgIFAgAAAQADBQIDCAAAAQABAwoEDAUBAwECBBABBwgDAQABAwAFBQQFBwAAAAAABwkHBAMBAAEAAAkCCwgBAQECAAEHAxICAgIDAQEEDQcFBQgAAQMBAgYLDA4DAAIFBAQJAAcDAgMDAgABDggIBgYDBQAEAw0KBAUFAAcAAwINEQgFBQMICgcCBgUGAAMJAAcOAgMNBwMNCQEGBwESEQgCBgMAAgABBwMLBAAEBgUEEA0EAQkFAwQGBQgIAwcECAQFAQEBDgcFAwICBwUEDQEJBgUXDQUEAwQHAgUFBgAAAAAAAwACAgEGBwQDBgYIFgQDCQcHBwQGDAMCEAoGBQQFCAoLBgUDAwMBAw0RBwEJCAcEBQMDAQIAAQUJAwgHAwEHBgUFAwEBBAIGAQcDDgADCQkIBwgFDgUEAwIABQ0FCgoFDQIDAwIABAEDAwwNBAkDCg0GCwUDAQMABQQGBAQAAgIAAAELAgMGBwYPAwUBBQ4FAw4JBhANAAAAAgECBgQDBwMBBAELAQIBAgEABQIDCgIICQIKAgcEBgcMCQYCBwUDAQEBFAkFBgQNBwUEERQODAoHAAAMCQIABgQBAQMFCAAMAgECAQEBAgcEBwEIDgcEBAMHEgEDAwcEAhMNAwMFBwoHAwMTCg4EBwIFBwEEAwYBAwQICg4EAwICAQAAFAYDAggIBwEGCQ8RBA0FAgUJAgMICQMGEBABBAcHBQICAgQCEQULBAIQBggIBg0BBwUKCQoDAwgHCgcEAQMEAwEBAQABAQADCgICBwQLAgYFEAYHDgMCAQYICQMICwgBAAADAgQOCw0BBQEAAwMIDQ8CAQUQARAGAQIBAQEIAwcDAAQBBQcMBAEGBQMXBA4HBQcJAwUOCwYBAgAPAgUSAQQDAgEFAxEEEwQCBQQCARAKCQcOAgYCBQUABAYGChAKBQEDBQECBQEICQIAAwQHBwIBCAsFFAQIDQgKAwIBAQEEAAsNCgEIBgUGAwUCAgUCBQICChMDAAIFAwoDBwYMBAMEBQQDCAYLBAgMCQwHAwUDAwkECgEGBAkCBgQBBAMIBAAFAQUHDA8CAgMECAECBwMHAAoBAwkGBwgFCwgAAQkIFAUJAwICAwUABwQBCAkEBQEIAwICAg0MCAEIAQQDAAQGBQMCBQQABwAIBQYAAgkGBAACAQEBAgADAwEIBQEIAg4GBAgDBQQFAwUPAQMOAwQEAQMDAgICAAEBBQUJBgIJBAIICgUGBAkCBQYCAgQEBwcLBgICBQEFAgACBAkCAwsDBAkNAgAHAgEBAQUDAQELAgEAAQALBwcCAwINBAoCCBsHBQIFAQEDBwAAAgEAAAcEGwUHDw4IAAoGAQcFBwgBAwYDBgQCAgUGBggGCBsHBAQBBgoLCwUDCAEDDwkEAwMGBQIFAQABAAABAwYECA8CCQIDAgkHDAEPAQUGAAIDDAICAw4JCAYDAQEBBAECBAEDAAQDCwMDCQEGBhAMDgUIBA4LCgwCAwIDAwAMCQIFBwgDBgIBAQAAAAEDBgMDBBkHDAUEBwIAAAIHDwgBCQ4OBAoBBAQDCwULBgQXAhICCAMFBgQCCgcEBAACBA8GBQEGEBETBQUDAwMXAgIEBQAJBRYSBgcGCwEBDwIFCgEKAQADAgMCAQEEBgYBBAAHCBsJAwgPAQYLBAQTAwcDBQsCBwIEBAcDDgMDAQIBBAgHDAkMDQcSBQIBAwQABQkGAggBBwEEAwUTAQQQCwcDAgcBBwMAAwUDCQYHChEWCggEDwkCAgkHAAUECw0JCwkDAwcIAQMRDAURAQcCAAoHBQUEAAwGAgUJBggKCwsDBwMHAAgOCQwHBwQDBxQCDQAJEAcHCwgKBwEBCAEVBgYFCAMBAAICAQYCDwIKCQ4NCQMCAgEDBAEFDQUHBAQCAAIHBA8FAAIFAwEEBgUIAwMCBAEDAQMDBQYDDA4GBAQDBwkEAQACAwQRBQMLCQgBBAMEAgIJAgQECBMEAAMEBAEDBwwGCwYPCQwLDAIKAQcABAEGBQQNCwQDBAADBQUBAwcJAgkGDgMLBggBAQgKBw0WCwQGAQMDAwMDAAQCBQUFAhEHAQIGCggDAgsJAQEDAQMJAAIACgUEAgULAgQCBQQJAQ0DBAQABgMAEQIHCQcGAgEIAgUBBAAGCgIICQUKCAUGAwYEBgEEAQEDAgMEDAQICAIEBAMCBgsKAwkCAwMFAgINAQkDAwQKCQIHAgMDBAYIBQcIEAIEBgwCCAEBAwQLBwUIAwIHBgUBAgsPBQ4CBQcGBAUDBAQCAAEAAgsAAwIFCAMHBAEAAQACBwYTAwcCAgcHBAMCAgQEAgYGBQcBGgUGBgIDBAUEBgkFDAoHBAEHAgIDCAgHHQoGDgMDAQIDAgIDCQELBgABAQgBBgMHAgwFAQcDBAYECQcGBAEEAwEGCQQJBw0KCgMGAQQACgIFAwEJBQMEBQEABAQCAwQHCgsIAwEJBQIGAAMBAAAGBgEGCAMAAgUDCgYTDwAFAwIMAwEDAgMCCgUEBQQICQQIBwIEAAcECBYHAwUFEhcJBQYPAAQDCgUJCAMBAgIAAQkABAIMBwMFBQISAgcGAQYBCwEFAAIBAAACAgUDAAIDEgQEFQUDBwIDCgsGBQ4FDAEDBgUDBAEJAwEEAwsDAwgHBQQBAAIKBhcDAwcAAQQFBwQFCAQPAxMHAwMFCgMGAQMAAQATAwUBBwYEDQUCAQEDAgIAAgMFAgQACgYCCwcBCAQFAgEBCAMFBQIFDA8PBgwEAQEFCwIaFAYJCAEJCQMACgQHBgACAAEDAQ4BBQkCBQIBAAUIAgEKEAMOBQwHBAQGBgMSBgIDAwcPBQ8FAwcIAgAMDQEDBAUFAQIQBwYBAgUJBAcDAAYBAwMDCggKCgYJBAYFAQABAwEEAgMIAwwNBQQDCwQBDQMBBQICBAEIDQMGCgIKBgUCCwEEBAIHBAcQEQUOCA8HDQgDAgUGAQQDAgIPBQsDAxUHAwABAwABBwQPAwQJBAUOCAQEAwUBBAQABgQMDwkHAQIHCQUMAgUJBwMCAgQCAAQDDAMIDgEDAgAEAQMBAwUFBgcJAQsIBQIFBAwHBwAAAQUDBAEGAAEDDgQLBAcCCwUFCgsGAgcBAgUIAAQHCQACCAcGAAMGEAsGAAAEBAMOBQkMCAUCAQUFAwgLDhESAQkEBAMCCAIEAAYBAQMABgAPAQQFBQADBgcHBAsMAAAHBgMFAQcMAQoCCAMIBQIEAgMREQQDCBEEBQcICAQFCgMOBwkEBBERBwEHAxMJAwsEBQQAAwEJBAgMBwgBAgQICQIHAQkJCBgGBAQDBAMDAwcHAwEACAYOAQEGBgUJCwEEFgoECQkFBA0EDBIcEQUFBgIDCQAEBAIKBgUHCgcDDQICBgIEBQMKBQQBBQEAAAcMBgEDAwQIAgMCCQgECwQMCQYRAwYDAQMEBgYHCQYEAwADAQcCAQEIBQMFBAANBwoJDwQKBQsBCgUGCAIHAwMDDQEMAwEFDQMKAQYFAQEOCAQBAgMMDQkDAQkIAwQEAg4JAwkDAgABAAEJAgcKAwIDAwQBBwIBAw4CAwgHAwQBBgQDBggMAQcLAQoFAgQFBQIMAgEDBAUKCgYHAgUWCwMBAwUDCAoGBAIDBAQIAQEFAwYBBgEMCgQEAQEDAgIKBAIEAwsEAhQDAQMEAwYBAAEAAgMEBg0DAwsBAgIADAgNAwMCBgsAAgEABQIIAgMNBQUVBQIEBAMKDAQCAwECAgUAAQIDDQIIBAEIBA0JAwMCBQAAAgIJCQIKDQ4FAgQCBwkFCAYLCAkEBAIBAQkHBwYCBQUFCAAQAgkDCgEGCQIKCQIDCgYKDgIFBgsBCgIDBAAABAAHBAUPAA8BBgABBQMJBQIJAgUFAgcOAwoHAwECAgECEAgFEgoECwMHCwQGDQoIBhUCAwAIAwUCAwUEBgIFCAgEChkDDQEECAADAwMBAQABAxEHBAQEEQ0HDAoEDBkFBAQBAgAEDAIJAwYMBQMECgkCBAMABwALAwYDAQEECAQOAgsGAwECAQIFAAcBAAMGBQgECwQKAgYCAgcDBgIBCQEEDQsGCggDAQIFAAcCBAgFCQYBCQEAAwMAAAgEBg4DBAIICQEDAAAGAAQECQkFBQMTCgwJBBgDBgwGBAIDAgUHBA4DAgIGAwQFCwcKDAUKAwMDBQIHAgMGAgYBCAcKAwUJDAcDCAIEAQEGBQYEBAQACQsBAwIECQUFCAoDBQ4HAQINBQAABAUCAQIJBQsLCwMABQIMAhAGAwIFBgUABQECBwYEBAoEBQADBAICAwQPDgIDCAoHBgYWAhEEAwEIBgcCBgMCBAgJAgICAQIACAUDCAQGAQIABAQHAwUMCwQDAwYDCAACAAMGBgMRAwUABQMHAQADBAUFAwMAAA0GBQUBCAQCAgoTAwsFBwcKDwMCDAUJBQwBCgcIAgYMDQUADgYKBgAMBwQLBAoBAAQDCAgICwECAgcCAQANBwUCBQcDBwAHEQoDDgIIEAQHAwkKBQUOCAADCwUABwIGCwgLBAYHBAsQBQsCBx0JFAUEAQsAAgQIBQgLCAYDAAECBAECBAoECwUDAQIAAwQKCgUQBwYIAQYBBAADAgQGAwMGEQQDFBINAQsGBw4WCwQHAQcCAgIBBQEBBBIKBAIECA0DBAIKBAELAAACBQQMBwcCAQMBAgECAQQCAgYHAAkCBA8FCQgFCgwBBAcFCAMEAwQHAxECAQUUEgUBBgkBDwYCAg8EAwQFAwIEAgAFDwIECAMBBQcFAAEACQMCDQUBAQQICwUDAxEGDA0DAxAIDAUEBQENAQUAAwICAQEECAQBBQYLAgQJCQUOAwsDAA0DCAQSCAACCQQLBgMEBQsCCQkGBAUBAgEBAggKCAUAAwYCBg8BBAMCDwQMCAYBBQkFCwoHCAsLAgAJCwQHBgMMBwUDAwMDBQEEAgQHCwkEAwMDBQMFDwEDAAACCAcBBwsBAgEBAQQBAgIBBgoGAAcECgMCAQEBAwABAwcCBQIKAgoIAwQHBAcIAwIAAQICCAYDCQIFBwEBBw4DBwIDAwMHAQsHBAcJBQoDBAcDBQsDCQADAQEDCAgKBAIBCgIRCAUIAwgCAwQEAwAAAwEDBAwCBgUDAgIIAwQLBQMFAwcMBwUDAwUMAw0EBQYBBQQWCAMBDBECBwsMAwMMAgoBAAADBQoCDgcKAQcEFRINAwcGBQwHBgwHAgUHBAEICAMFAQECAAIHAwYKBAADAQEAAQMAAwIKCwQFAQQAAwIJCgkLAAMEFAUKBg4JAQQFAAEBAAACBQEABAIDCgUOAQMbAgkEBQUMAQ4DAAgDAAcOAAsHCQYHAAABAAEBCwMCBAEKAwgHCw4EDAwCBgkDBQYXBwILBgADBgADBQsCCAQAAgABAQYFBgcGAAIBAgIKAwkLAwEGEAQACQMBAwcBBQACCwgEBwoFAQICAAQCCwwDBwUNAwsHBwwFCAYGBgADDgIAAAQCCgkCBQgGBAACAAgIBwABCwIGAQoQBAsEDgcACgUEAQYBAQUCBwsCCAcFBAcBBAYCAQQUAQgEAgULBwIACQQKAgYCAAMCAQ8DAw4GAQEHAAMHAgMHBAUIAgUHBA4DBgEGAgYJFgIFAQIACAYEAgEECAMACwQHFAUGBgQBBQEFCAYAAAMLCwEJCgEEBAcGBAkFBwEBAwEAAgUEAAABDwgEBgIBAwABFQkDCgMDAgEDAQQLBAIFBgoCBAICBw8ECgMDAwIHBgwICAMCAwgKCgMAAQAACRADAQEHEAgIAwQMBgQNAQEMAQECFAIEAwAAAAMBBAAFAwYCFBIDBgADAAEBAgMFDwQFDAkDBAQECgcIAAQCAgcEBgEBAAUMBQwEAgoAAgYFAgUECAMHAwsBAgMBAgIBCAQSBQYKBwQHAQIDAQUHABAFBggMBQECAgQMBgUDAgQBAwYEAggJAAACAAANBwcFAwYQBAkPAwwGDQMNBA4HDAQFDwcFEgMCBAEICwQHAQICBQMBBwkRBQMIAwICAAIAAQEABAMDDwIBAQACAQsEAwUHFQ4ICQEDBAYCAwgFBwgCAAEAAgEEBwIBAw8IAwACBgMHEAQDBAECAgQCBgMGAxIGAgMOCggFBwIFDgMOCAECAQYAAQEAAAsEBwkJAQMEAgABAwEBAgIHBgcDCAECAQMFCQUOCAAKBwMDAwEEBAMDCAQDDBUCAgYMBQsLAQIKDAYEBggECwICAwcIBwUDBwICAxYGCAQICggHAQEAAgMBBwMGAgwIBQQBAwQKDAUIBwYEBwoEBQASBAIGBgICAwUOCwwJBgUEAgMAAQQAAgUCAQwEBAsJCQMCBAIBAQACBQQDBQoCBQoGAQMICgAFAQEDEQQPAQAHAxIBAAMFAAoGAgIBAwYBAwYDDQsEBgkFBwMKBQcAAgABAQUDAwYACggBCQoBAwMMAgIEBQAKAQcDAwUCAAABAQQCBQ4FBg0JCAQCCgQGCQkBBgcDDAcKBg0SAQ4EDQkFCQ0DEQsFAgQQAQYEBAYQAw4KBwYBBQQECA0IAgEIBAICAwkIAgsIAwQCBQYIAgcFAQEBAQEGCgYFBgMOBwADBAgNAQ0AAQIAAgEBAg4CCQYDAgUIAwwCAAkDDgsNAwYGBQUDAwsDCgUBAgQEAAEIDAYHBgkKEQoPCwMBCgoDBwICAQECAgYDAgINCgILCAICAwACAAIPAwQGBQEAAwYCAwAEAgcLBAQDDQwIEgQMBAoFAAIDCAEHBw4CDgMQCgEFAQMECwcHBQcJBQIBBwIBAgMBCQQCAgEAAwACEQEHAAMFAwAAAgENAQAJAgsBCAMGAQQCCgwKBAQBAAQDBRYFBAIIBw0KDAcHEQcSCAwMBgUDCwAEBwIJCQUIAAgIBQQBCAkCBwQBBAAAAQEEAQIDAAQFBgcDCAEFAAsNBAICDAYFAgEJCgMCAREFBAwBAQQJAwIEBwEFARMEDQgDCwIHBQEGAgwJAgcFDQcIBwoJAAgXDAgBBAIECgUJAgIBAgUDAwgACA0HBwUCAAEFAgABCwEDAgYMAQcJCgcCAgEPBwMGCgUEGgUQEgoQAAUACwUEAg4HCQMHBgYFAg0DAgQBAAcHAwcJBQsICAIHCgIDAgQCBgMBCAIHEwoMAQcPBAMKAQgKAQABAAAXBQwGAgUJCwgLBAgNAwwCBAUMBgUDBgcDAAMEAQAEAQADCAcFAQ0FDAUACAICBwQAAQsIEBMDCwsDBQMCBgMABQAJAQYFBAQJAwgFBBoEAQEBAQEACAMIDAwDCAACCAEOBA4CDAMHBwQIDAkKCQkBBgYSAAoFBgMDCQgFAgYQBQALBQYJCgcBAwMEAwgLAwQAAAMGBAIFCgsRAgkBBQcKBAEDCQUGBgYMCQcKBgIBBwsBCwERBgUOFhIKBQEICAoHAgEGCAYGAwUOBQUEAQIICgICBQUGCwILCQIEEAYTBAEGBAoFFQICAgEFDA0MCgQIBgQBAwQEDgQHDgsGDwYCAwoEBAIBAwAFBQ0EAAQDAwcBAQgFCQYLBBAFBwILAgkCCgUBAhcIDQIFAwUGCgsGDQcSDAYFDAEIBQEHAQUAAwsGBgsDAgYHBQUDDwETBQ4KDAQCBQcDDgkFCQkSDgUABQACDBEBAAoJCQkBBwoKCAEICQ0EBgwCAQQBAwkHBggEDw8LBxIDCQoDEgkVChYEBwMACwsHEgkCAQYDAgICBBMBBQQGCAQLAQYJDwsBCAEDAwEEAgMGEAEHBQMEAwcICAUMBQQDBAsKBwUDBQECBgEDDAYFCAIBAQEDAAsBBgsGBwgIBAEJAgYKAwgHCgUBBAEDBAEDAQMHBgUMBwIEAAYGEgIJBBIHAwkEAgYGBAoDAgIAAAEABAkEBQEACQEEBAQKCQcIAgkCBAQKBAUBAgACBgQNAQoQAwoLAwoHAQMHBAoABwQGAQEOCAwFBwcDEAkIAgcJCQMEBgUIBgMFAgAHAQoMAwEDAgYMCwUFAAQDFgUJBAYMEQACCAoBBQIABQYUFAUGBAoEAQMDAAIJCQQCDAgCAQQAAQEEBRAFAgYBAwEIAAgHBgEGBgQECAUEBwkHBQcGCQwFCQYTAwUGAQUQFAMFBQYQAgQEAgQDBQAYBwIDBgoaCxEIAgQOCAYBBgIBBQkIAgUBBgIAAAIOBw4GEBMJHQgDBw0OBwcGBQQLBAEGBAILDgECCgQBBAICBQcLAwsDBw8HAgIJBgIDBw8MDAQFAwYHAQYGCQcDAggJAwgBAwQBBAYPBAQCAwQEBQwOCwQGBAMCAgsMBgoEAwAEBBEGBQ8IBAYCCQIDCwYIBRIGAwAFFg0GBhQGCQcNBQMCBAcAAAEABAECAwEBAggJEAAQBgcKCgQHCwsJAwsDAQkIAAYEBwwBBAQMBwMDBwQGAgsJAgIGAwMBCwMLDgYPBRMLDgYGDAMDCwUGCgoGAgYFBwADAAEACgEDCQYEBAsFAQkBDwcCAwICBQAIDAsDBwIDAgADCAIBBgYCAQEBAAoEBAcGAgQBBAUHAAYDBAQOBgMBBQMDBQYCAgEAAQgHCAMEBwACAQIKAgQBAREFBwAGAgUAAwMPCAUEAgQMDwkECQQGCAQHBAEHAQACAgAHBAkCBwEMCgIGBQEGBgYABgAEBgQIBwcECAYEBQEFAAABAAAECQIFAQQQBxMGBQMIDgIDAQEAAQIDCgQDBgcEEQcBBQABAwUPDQkCBgEMBwQAAwgJAAEEDAIFBAoDEgoGDQgGBQMHAgQBCgUBAgcNCQUOAwwHAQEBCwELCAkBAQQGAAgJBQgGBwEFFAkEAAACAAsHCAICAAEBBQMIBgYHCwQGDwMGAg4GAwgUBgUHAwQHBgQBCAoHBgcLBQcCBAoNBgAHDAcLBwUSCA8JBQoDAgEBBQIBAwIQGgoFBQsCDAsDCAIACQIHBw0ABgYHDA8EAgsCCAsEBgQHCAMIAwkJBwUCBgICAgcFBxEJBgAQEBQDBgkIDxAGCwoCBQEIEQgGBQAGAQQCAwMADAEOAgQEBgQHBwYJAwoKDAUCBQUBAAMEDwwIEAIFBwcBCAoBAQQIDA4LAwIFDwgBBQIEAwAIFgIGAwQHBAMAAQIDAwEGBAQIAgMHCgYJAg0DBgQCAwQCBw8CBgEIAw4JBAIEBBUCBQkEBgUMCAIDCQIMAQIKAgIPBgsKBAIDAQEDAw4MAxEDBwMJBwEDAQQDAggGBA4DEgQGBQIJBQgDBAQEBgMQBAgIBQwCBAkEBAcPBQICAgQCCgMHBAkNAgMCBQkEEgUABQQDAAQOCAQCBwEGAgQGBQoGCAYGAQEIAgcNDwsJBAAAAQEFBwIKCggUBBAEBgcCBA8BAAIABQAKBAIJAw0HFAEEAQYCBQcBCQULBAYCBwMFBQQaAgEKBAYCCQMJAQYDAAEBAwgHCRQECwcDBAMEAgIBAAkKAgUIBwsKCxEMBQgLAwEECQEIAgQDAAEIDg8GBA0MBQUFAgEDAQITBwYDCQAGAgoGAgEEAQUAAQAAAAQIBRMEAgICAwACBgMIAgoHBRAGBgMFAgUECQYBChEGBQkKAgEBAgAIAwMEAwsIBwkFDwoWBwoBAwAFAQ8DCgULAgEAAQACBwsCBAMFAAABBQ4KBwcaCAsFBAEAAAICBggIAQUFBAMLBAADAQIAAQIECQEMCRALCQoHBBAGAgIGAgIIBAcEBAgAAgMDCwMFBgsAAQACAhEKBgQFAQACBQMTDQQHFQYABwMAAgIJBAgECQQDCgkLCAcJAAEEAwAMBw4LBgIBCAkDAQkFAQkDAwEABQQKBAAEAAAAAAAMBg8FBwIPCwYTDgcHCQYGBQYFBAMGAQMADAIDDQMFBwYNAwYQCgMDCAIFDwkBAQMDAgoPCwcHAAECAQIGCggBBgAAAQECDhoFBQQAAAACAAwGBAYGAgEBAQAGAgMDAQYBBAkDBAMBAAEJBwsBCAoECRADAwkEAwQHBAEBABEIBgMBCgEIBwUBAAEAAAMMDAQJAQAEAAEFAwIKBgAAAQEDBAQKBQYFBgMCAAcQAA0LBQICAgwDBgIFBgMFAAMBCQMGCAcNBAADBQkJCAUFAAAAAQMDAgYDBQAJAgULBQcDBggDAAIAAQQCBgMMBQMCAwQDCwEFCgEBCQYCBwIGFwQFBQcFAwcDBwgPBggDAwEHBQkIBwsCEwUJBQgNFAUDFA0IAwMICxMEAAMDAwICBxYDDQABCAAEBwQECQMEEwkJAwMFCQYJEAMGCwoAAQoHCAMAAgIBAAQGBwQEAQQLCwIFBAcDBQwFAQ4EAgECAAsLCQUCCQEEBAYEBQ4NBAQNCQMFAQACAAUJCAMDBwUMBwwNAQgCAwALCAIFEQwIAwQXCwYKBQMEBQcGDwICAQABAwMFBgENCgoECgYKCgMGAAYAAwMBAAQCAAMFCgMKAwUDBAIBAwQAAAMCAwQJBwYHEQMJDwIRAwAGBAECBgkMBQMAAgIGAgkGAgcPBAgVChACBAIEDQQEBQkADg8EAgQOBwUEEgQJAwsGAAADAQQKAwQBAQYAAgMABQYIAgsEAAIDAgEBAgAHCQYGBwIGBw4FBgYDBAUIAgQKBQQPAgcBBgYEBwoQAQECBgUDEwgHBwQEAQYGBgsCBAgBBQICAgYHAQcDAAAAAQAICgUSAwACAQMBBBMKBwoDAwgDBQoFBQYDDQ4GCgoNCQYJAQEBAAMABAUIDQ0KCQwGCAIEBQQEAQEAAAALCQYDDAMCAwEBCggKCBABBAMFAAMECwUJAgQBAQQDBAIJAwsFCwMFAwUDAwcCDwkCBgoPBQQLAgUGAwEGAwYNAgECAAIBCwQDBQANBwMCBwoJCBEADQgGBgcEBgUIAhEPBQICCQgFDAMABQIDBQUTAgUFAwYBAwEDAgQLBgoDAxAPAgICAgAGDAgKBAIFDg4IIAsECAoFCAMDCQoGBxQCCgQGCBACAgAEAQABAQIDBAABAQIMAwMKAAIKAgEIBBAKCQQHBwMBAQsAAQMABQAOAggGDggLBQMDCAMEEgwEDQQJBQMGBwUGCAsJAAMCBQYAAg0FAQEABwULEAEBCw8LDQUEAQUGDAQCAAUABQIMBwkCAAQCAQMBBAQGBwYAAQAAAAMEBQUEAwUGAQIJBwICBwEAAAABAwUEBwcFDwkCCQMCDAUCAAILDgMBBAECBgQCAgsBAwYAAgYDDAYGBgIEAAYACgMFAQgHCQcCCAEFAgYCAwQEDwsBCAQAAgIHBwMGDgIBBgMBBgACAAoTAAoKAgEBAQEKAgQDAwgGAwsMAQMHBAQGBAULBgIFABIDAwAECgEAAAkPDAEDAQQCBgIQAQMHCQwECQkFAgUCAgIAAQkCAQoECQcJDAcKAwUFBg0DBAcECgEDAgEACgoJAwEdBQMBAAcJAgACCAQFAgQDAgIDBAQLCAUABwkBDQgCBQMBAA8FBQIHBAMEBAkACAcBAwMLBwEREAkICwEIBBEFDgcUCgwGBwoMCwILCQUFAwUEAwUBBggCBAIBBRUMBgADAgACBAkFCgUDAgIFAgYHAgUGBxoMAQADCg8JAwIIEQUHBwgBAAQEBgICAQYCBggOAgECAwUHBwkFCQsCAgQFERQFBwkVAggFDwEIBgYJAgAAAAMNDAcACAIECQIIAQQFBQAHEAsGAgADAgICEQwICQQFAQsCBQwGCwcBEgICFQAEBQYCDhAPAg0CCg8CAgkFAwUCBQACDAoABwwKAgkNBgUECQECAQYABAYEAggGDA0SDgMBAAIECQoLBQIDBg8GBQUCBgoCCwQEAwcCBgwEBQYAAwgLDBUFAwQGBwYEBQgDCwICBwIIBwUJBgQBAwQJCg0LCAMDBwAJAQECBAMPDgMCBQkCAwUCAwcEBAgKCwIJAgIHCAQIAQQBAgMBAwYGDQIFAgAJDwcBBAYGCAkLCg8HBgYKAwUGAQMABAEBCQEECQcBAAQAAQQIBgIAAQECAAABDAgEBQMBAAEAAwgGAAYAAgECAQEJAAECBAEBAQgFAQYHAgcCBwECCQQIBB0NCgUGBAYABAUWBAIDAAgCAQMBAgMICwMDAAsDAwQHAwEBBg0HAAEDBgQGAgsEBgkHEgUDBgUDAQMBAAEECwMCAQYIDwcCAQICBAAHAwgBAxgDCAQDAggEBQQQAwcGCAIDAwMFCQQNBAMBAQIABQkCBAIKBwYSBgEKAgQGAwQEAwQACAUHCAcJBgMFAwwOEgQBBAEEAgMLBgIIDgwFCAIEDgkGCgETAwYJCgkDDwoIGAcIDAQYFAYGAwIDAQMEAQMFCAUCBA0IDAQBAQgABxEEAwUIDwkEAQAGAQYCBg0JAgQCAwUEAwsIBwYNAxUDCAgNBAkDBAoKAAcIAQgCBgMGAgoJAgwJCQcDCAELAgIEBQMLEQMSBQYLAwYLBAULBQcKAg4DBgoFBwUNAQIIDwIGBQMAAwIBCgYIBQEKAQ4BAwUDBgIBCQMPAgkDAwIACAQCAAMACAgIAwECAQAEAAQEAwEKCQYFBAsQCg4ECAoHEAEFBQELCAQHBAEBAQcGAQIIBwkCCgEEBwEFEwgFAQUEDAoIAgQDBAQFEhACDwYGAQYEAAEDAgoHBQIKCQcBBQEHAAQIBQUBCwEIAAUDAQQFCwIBBQcGCgMECw4KCAYEAQQDBQIBBAIDBQUMBwMOAQEABQAEBQEFAQEHAwoHBgkCBAcHBAcDBgQIBAgIBAMLBgsHCRENBgUGHwUKBwcFCQ0GAwQGCAIFBAQXBQQDBwUCAwIFARIDEwwLAAINBwkDCgQEAwIEAAkLAQkHBQkIDQMOCREDEgcGBQcCAAYEAgYLBAEBAwYCAwYNBQQBCgMIBwEEBAUCAQEMAgQKAgADAQMBBAMIBAQGBw8HBwEOBAMIDBcCAwIKAQUEBQIBAwIBAgoGBA4OEAQEAA0ICAoHCg0EAgIHAgEEAgIKCgcCBgQFCQYFBgcJCQ8JAQYGAgIBAQAHCxAOBBEJBwgEAwYEAgQJBwYOAQYFDQYBFAcJBwIHBAgDBAYICwICAgkUAwYIAgQFDQQBAwEBDREEBQsSDwUHBA0FCQIEDwQHCQkBAwcLBwMBAwIKBgYfAQIJDQQDBAoBBAEBBgUDCgIABQQDAAEBBQIDDAQEBgQGCAkNCwMHBwYDCA0DAwIBAQICAQcBAAYEAgwBBA0FBQcBAgYXCggJCg8EEQwFCwcBFQQDBwECDQgEBwEGCwYMDQsLCgcBAgUDBQIJCAcGABMOBAMBAwUFAAALCQMHDAgBBQAGCQkLCQkABAMEAhQIAgUEAwIEAQEDAwMHAgIBBQABBwYBFAQBAgEFAQAEBgQACAgCAQoEEgQFBAEEABQHEwYEBgYECgMBBAIFEAQIDQgCAwYBCgMBBQEGCAwHAgQCAQIGDg4DAwwFBQYIBQQLCgQGAwEIBgEHCQUDDQcICwYFARsHBAkIBAMCCAYHCgQIAQIEAwcIBQkOBAUBAwYOBAUDAgIABAIDBg4DAAkACAgHAwcBAwcFCAoBAgQNBQQKCQkGDgYMCAoHEAYDCAcECAoBBgMJAQUJAAMJBAoEBA4MBQMHEAIMBQQIBAQFAggFEAYEBwEeDQQUCAkHBQIEBQEBDwcCCAMGAwgJCwQFAgEEEAcLBAMBBAMEAhkICQ8GAgQABAIFAwkEAgABAQAABwUGCQAAAAABAQcJDgMHAgUAAQACCgkEAwEBAQECAQUHBgUFBw0FAwoLCAIEDAQBAQUCEAwDCQQFAwYCAAIBAwAFBwgjAwcQDQQHAwABAQQECQIDARUHAwEICAYJCgIFAwUNBw0VDQgQBBMFBgEKAwIEBAECAwACEAgDAgEFAAsJAgEIBgQJCgEFAgEDAgEDAwkSBQUBAgsGBwQBBQIAAAEBBQEBBggKAwEHAQECBAYIBgkCBQoIBwQDAwACAgAEAgEBEAMWBQYQBgwODAEBAgIEBQkNCQQCAgUBAQICBgUIAQEBAQECBwIEAwMAAAEAAgQKAAIEChkABwMNBgYUAAAAAAAPAxEEDgABAQEAEwwICQkEAAQBAQcIAgcMBgEBAwEJBQoHBQAAAAAABRUKDAkBBAEBAggFEQcPCgsCDAYCBwAABQABAAABAwEGAAEDCggEAgUKAwcGAQICAQMCAAcBAQELCAcBBggDCg4FBQUKBQQFBhAFBQcLBAIGAwMGAgQGCAQNBw0KCA8BAQYOCQoFDAYDAAUBBQIDBgUJAwcFDAkAAgUDBAABBAEAAAoDCQgGBwENAwEDCAUEBAoPCRUIAwQEEQMEAQABAgcTDgYIEAECAQQEBAIDBQUHDQUMAgkDAgICBwQBAgYQBwsBBAEGAgICCAkGAQQEBAIBBAEBAwUHEw0DAwgPAgcIBAcGAwgGAgIBAQkGCQIIEAwEBQ4QBQoHBgAEBgEDAwELCAMGBwwMBQgFAQMADQYRBw4CBAsBAwQFBAcNCQMHAhMCEgMCCwMDBwIDBgcNBAUBCQUFAwMBCwELAgEAAAMDAQgDAgkIBQQLEA0ICAIHAAIDAw0LAgQPGR4FBgUFCxIJAwEFBQMEBg0KAQcBBgsDAwMJCQwMCgUEEAQFAQQBAQAFBBEBAhECCgsCBwQCBAcPFAUICAcHFwgEBAMEBAQKAgkKEw4JBwgHAgQBAwUJFQcFAwUWBQwHDQ8GAwIDCQYGBgQBDQIFEgMIBgYJBQAOEwcMCQoAAgMDBAcFDAMGDQUHDgQDCwICBAYDAgMRBAMDBAACAwEAAAcFAwMEAgUCBAINBwECCgMDBAQEBQcRAw8GDwEOBAMOBQgHBAoGBBoBAgECAwMGDAsKBgEDAQQJCQMCBgEAAQICDgwGCAgCAAAAAg0ICgkFBQICAQcJAgQCBAsKCwYEAwcFCQUCBgYDAgMFBQYJBwMJCA8HAgIBAgwMAwMEBQQGAgMODgoGAgAHBQMBAgoFBw0GCg4MBgEAAwEDCgMDBwcCCAIDAQEBAwEBDQgBAgMFCgQGBQEFAggDCAILCAUHAwIEAgcEBgUEAg4LCwYMDwgHBgEDCgEBBQQVCAUFBAEDCQoEAwIGCQIDCAkEDgoEBgQJCQgHBQUFBAgRAQgGBAQNBBEFBwIBAwMQBgEBBAUSBwYDBgEFCAkAAgMAAAQFBQQFBQwJDAkCCA0KAQIIBAMEBQYDBQUGCBMDAQUGBwMFDAUEBAkFDgYIFhoEDAILAQsIBAsGAwUDAQECAwURAgIHBA0EBwcGDQQMBwgCBQgPAA0BDAMECgoQBQYCBQMHBQYOAAIFCRUSBwcLAAsBAQcFBAQNBgkGBQkBDBIJAQQLCAQKAgAEAgEACgsHAwADAgEAAwoCCAQLBxUWBAoFDAUPAAwFBg8DBAcCAgMBAwABAAkDBwECCQkLBAoAAAEAAAMHAgQDBwQDDQcCBgMECgYJAQYLExAHBgEKCQcOAgwFBwYGAQkCAQMBFAIHAgQCAwsHAQMDAgIGDQUGBwQABgoABwQLBwQDCwUBCQkLBwQHCwMDAwIABgwAABMIAgALCgkUBQEFAQUBBQYMAwUBBAoHCgIMCgsFBgkGAQYBDAkMAwsDAgsDBQAAAwQCBwgLAQIDCQUEBQEABgMDAwMDFgYLFAQEBgMFAgEBDAcGBQUECgYKCwUTBggFBw0GAgkGBAYFAQYMCAMFBQoKAgEeAgoMBAcMBQARBAEEAgEACwQGCgYHCQQBBAgIEgkGBQEICAESCgYODwoABQUEAgMBAAUCAQQCAw8NDgcHDgEECQUBAgIAAQcKBgIEBwYGBwICBAQDDgcDBwQACgMNCQwACQ4cAwEHAwUPBQQGAhIDCQoCCQUPBwEFBQgCCAoCEAkREgQIBgEOBAQIAQkDBgsCAQcCBgYPAwMHBwwHCwQGBAMECgEIBgUPBgYFCwgKCgIJFAQCBQEHEgkGEQcFBQMIBgMEBQgEBRMKBwcDCQQFBQMKAQEDBAsICQUCCgEEAAIEBgIMBwUGAwICAQcGBQ0LBwoDBgkDAwQCFAQICAIBCgYCAAkHCBESCQMPCgwCCgEAAgwEAQcFBQ0MCAYEAgEEBAMHBgQNBgEGBgMHEAgFAwUHAQMHDhIBBAAIAwkLAwYKCQQDAwMDAQIKEQcPBQYVCgYLCwAFAQcECgsMEQgJAgIDCwkFAAcCBAMAAQAJBQ4BCgwEBAUKFwgKBwkKBwQHCAMJAAUEBgECBAkFCgIEBgoCEgEBBgUBAQQFBQQICQ4VDQoHBw8GAQEAAgEDAwUBBAMNAwMOBQ0GCwMGBwYJBQgKBQQHAQYABQAGAhcEBAgFDQkDBwQICwQCBgIGAAUKBwcAAwYDAQIICAoMBRQOCgQKBQICBwEOChUGAQIHCQcCCQIDAwIACAQKCAcFCgoQBg0QBQYDDQYEAQQJAgIFBwoGBAwEBQUBAQ4FDQcDBQoCBwIFCAIBEAYSCQ4FBQILBAYJAgUCCwUBAQACBwUTDgsOEAgDBQoGCQ8HAwQCAQcEAgsLCgQCAQUCBwcNAgkDAQENBAgMDwoJBAgCDQYGBgIHDwYGAgkBAAIGCQQIBAgHBQUBBQkHCgEFDAQEBAYHCgUSCQwDAgQDAgMGBggHCgcBAgEDAAsFAAkAAQAEBwEBAQUGCAACAQEGAwoCAwUCAwYGCAIDAAAFBAcDAwEEAwYMCAUEAgIDCgQFDQIBDQYGCQMFAQUCAgsCBAMGAAQEAgUAAgcBBA0BBAAEBAIAAAQPBwIJBQgEAgcBBxABBQYFBAgAAgQHCQEMDQIGBgsIBw8HAwMBDQAIBQMIChIIBAMCBw4KCAkFAQACAAkNCAUFAQEFBwQJBQwLAQkICQIDAQEBAAAJBgUCAAcBEQEICgECBwcBBgIJAQkCBA8FBwMKCAYFABMFCQIBBwMDAQQSDAAJDwYFCA0FAQQCAAACAQAAAwMDAAUJAQ4FAQAKAQkEBAkHCw0ICg0DBAoFDQITCgQCBAgEAwADCQgMBgIEAQkFAggLBAAOBQIAAwIACwcFAAIBBwYABAUDAQUHBwQOBwQIAgEABQcECgYFCgQFCAQIDgoCBBIHBQoFBAQFBwoLDw8BBQUKBgUBBQIOAwsIBwEFDBEHAggBCQYGBgUCCAMEAgIDAQALAgoEAAMCBQIDCQUICwQDCAYDBgEEAwIDBAMJBwwEBwICAgYKAwcDAQYDBAIGDgYJAw4IBwEKCgQKAwIEBgcKBwYBAgMCBgEFDwEJBQYEBggLAwsKAwYBDAQBAQIAAwcCAwoGCwQNAQUIBQQAAgQDCgMFCxAMAAYHDAMHAQgCCAEBBAIEAQICBgIGCQgAAAMCCQ0JAgYDAwMEBhACAgwAAwgEBAMJBgoCAgQGBQgBAQQCAQEIBgYKAwcECQIECQUNBwcDBAIBBQUFAAUDAQYECQgFDw0HAgcJCgkGAgYCAQgIBQkDAQMGCQQDBggMBQQBBQ8DBAsHDwUCCgIGAwMPBA0FDwgGAQcDAggBBQUHDgIKBAQMBQIGBBMCAgASEAIDAQQDEgIBCQoIBgIDDAYICggCBwICAAABAgEABwoCBAwKDQEBDwEICAgGBAIEFgoBEQcDAQMHAQQJBgIJAgUGCgEBAwMHAQEBAQEBAwMKBAIECwYCBAYEAgsQCgQMBRUCDQIIDQUFBgMDAQMKBgUEBAMKAAIBAwYAAQUBCgQFDgQDBgMGBwoRCgUFBQYIAgoEAwAJBw4GBAgBDAQHBQYEAgUMCQYMAwwDBAMIEgMEBA0HAgUEAgUEAAIFBgwHCQwFAQIJAQoEBgMBBQQBAQEKBAkCAgMLBAUKAAYHAQYHCQIFDwIDBgMADQICEQkKAwIEAwIDAgQPCggJAQsFBQwHAQoIBAIACQUACAcEAwABBQELAQIHDAMUAAACDQcIBQYFAAEIDQkEAgQAAwAAAwwJAgYCDgwABAQFBQICBAkGEgMFCwYIAwcIFAoHEgULAwMDFwQIAwMHBAYAAQUHBxEDAAcCAwIDAAsDAwcHAQAHAAYFAwMIAwMJCAMCAQgGAQUACAYHBQIIBwQEEAUEAwIBAgUHDgQJBAIFBgcKBQQDAgQGCgsEAAEDDAcFAQsFBAMOBQAGAQIBAggCAQwDBAQDBAoLCAcHCwEFBQMAAgYECgYHCgUDBgMFAAQBAwMMCgYHAQIGAQ4DAAEAAAMDAQMGBg0FBwQCBgIECA4KBgsCBQIMAwELAQcDAwQKBwkJBAgFAgECBgQCAwQKBgsBAwECCQQDEwMECQUHBgQJDAMFBAIBBgMEBAgLAhEFBAEKAAcBAAYCAwEIBgcJAAEAAwEABQsKAQMDAwQDAQUFBQICAgsKAwYEAQUCBQIOBwAKFwEGDQgJCQYFAggJAgkCAQMKAwICAQYEBgIGCAQGAQUNAQUAAgABAAgCCwEEAwkIAQIBBAMDAgsLBQYBAgkNAgcDBQcQDQgLAwcGCQYKBwYGEREIBQUDDwEFBg8MBQcKCwMDBgoOAgAACQgFCAMDBwUEBgIDAAEBBQwMAggEBQQEAAQCBgIDDgcFBwYEAwcEAAYLBQUDBQYDCgABDAUPCgwJBwUEAgEABQIEBQMIBAYGBQIDAwUDBgICCwkFAgQFCQIFAQEBAwAIBQIHBwMDCgECAw4HCAkBAQEAAgQBDgEFEhIDCwMJEQMCAwIAAwkFBgQPCgYFAwwDEAEECQYBAwgGAA0CBAICABAJAwUKCgQGBQQDCxIGBg4DBQYCAAABAQQLBwQGCAUBBwUDBxAFCQoGAwMBBAECAwQBBQ0CBQoDCw8GBQcJBQICBQoIAwYLDQwIAQgCAgMBAgICAAAJDwsEAQQJCgUACQQDBQMCCAMGAwoWBgQKAQYICgMHCgQECAYDAgkDAgoFBAsDCwUFAgMDAgUBCQEGBQAABwMDAg0EBQIHBQMHAQMGCQYHAwYDABEBBAYGBQIHBQwKAwADAAMCBwIDAgAKCAUDAgwDBQYCBRMNDAQFAQIABAMIBwQDCwIFBQUAAgECAAMHBAkKBgAFAAICCgIBAwMKDQQEAwsIAQsJBgQDBQQDCQcFBQkbDQUCAgkACAoCBQEEAgcDEgADCQMFEAcDCAUDAAIHAwIDAQgKAwAEAgACCAgDGAoGCAYGAgIPAAUPBAQHAQECAQYDBA4GBwMHAQgNCgYEAQQEAgUCAwMADAMEAQcBAQEAAgEHBgcEAwMEAgIOBwoJBAMCDgUIBgcKBAMEBgwBAQEFAQEBBAEBBQACBQoCAAEEAQEEBAoIBQ0KDwcRBQENBgAKAQIBAQIKAg8KAgULAgkBAQEGEggFBQQKCQIMAgwAAQoFAgwEAwIEDQoBAwgFAQECBAIGBgMBAAYCAwQNAAsIBAgAAQIAAgYBCAANEQsNAwQXCwQDAQsCBQYFAwkCAQIFBgMFCwUUBggHAw0DBAIICwEFAQQCAwMDBQcBCAkGBwcJAwUFAQEBAAMAAxIEBgYEBQQHAAEGAAQDBQQFCgUIAwIHBhEHBQMJAgQFAgcEEwETCgIHAQ8GAwcBAwIGAgwTCgICBQkDAwYHDwQIAAMBBgQKAQUFDQYGAgMEBAABBgIAAgQCBAUBCgkDCQEBBQQACQkFCAIBBgIGBAUEAgEDBgwLAgQICwADBw4OAQcBAQEBAwIICQEDAwYDDQEEAgsABwICBAMFBQIDFAwNCQ8GAQECBwUBAQQADAIKDRMBBAYHAgkHAQMNEQ0BAwABAAEIAw4BCQIGBAECBw0HBAUHBwMEAwMIEQkEAgIEAAYEBQUKAwcGDQYAAw0FBAUGAAUEAAwMBAMHCQMHAgIAAQABAAMGAwIBAgsCBgYHCQsBAggLAAQIBQMOBgMHAwgEAwUJBQUFAQEAAgEAAgMABAUEDAUDAwUFAAQFDAALBgAAAAAAAwMBAggEAAMDAwICEA0IAggCCAsCBQMCAgIDAwYIBgICAAILBQoGDgIDAAEBAQ4NBQYFAggDAgQBAwMHAgoLAwQMCgYDAgQIAgYDBgoBCgMFAwMGAQAJAQMFAwcMBwYCAQQAAQ0HBQQEAwYRBAkDCggIEAABBAECDAgHBgYBBQsDAwAHCQMDAwQDAwUJAwACAAIFCQQTBgMFAwQCBQADAAcIBAIBAgQCBAIFCQUKBgsLAwcEAAUFAgAEBQQCBgAAAAEAAgcHCgcBBQUEABUFDAQJAxIVDQUBBgECAwkHBwMAAAAAAAAEAA8NAAQJAgUEAgIDAAECAAQABwIMDwoIAwoFBwoEAQADBAIBAwoJAwAAAwIGBhMBCQ0HCAcCDQAFBAcGBQQBBQMRCQEDAgIEAQIBCgcDCwAFBQABDQkLBQELCAINBAUEAwgCBgMEBwwHCwUICQ8PAw0MAQYCAQQLBQUEChkSCAYJBwoJCgsJAQwFBgEEAgEBCQcQCgICBgIGAwUGBAMHBBMDBQMDDAUCAg4GCwIEAAQAAQMBDBEDBwMAAgEBBwMKCwIEDAUFBwQMBAoIChAEBAMFAgMEBgoHAwYCAAAAAQECEQEFDQMEAQMBAgMAAAMHAw0BCAQIAwIBBQQDBgYCAAECAQIIBgQHBAMEAQwABAIDAgADAwIAAQIIAwYAAwQCCwUOBAMEAgkFAwQCCAMCAgYFDwIFAQIDBQgHCgMHCRAHCgUBBgYGCQgIAgcFBwEBBgABFgsJAgIDAgQEAgYGBgwCBAYFBQEJBAELBwIEBQULBAUKBAgBAAABAAYDBAAJBgYDAgEFBAMEAwMEAwEEBgcKDQwCBAgPBwAAAwMCAwMDBwMBAQEAAwQECgECBQEBAQACAgUBAgUEDREEBQkCBAURCAkIBgsIDgMEAQcDAwMIBwkFCAEBAAICAQAAAQADAQMCBwMCAgACCAsGBgUFCAQHCgIEAAQDEgUKBgMCBgMNAwoDCAgCBg0JBwEAAgAAAgMHAgMCDgoOBwUEBgIFAwgEAwICCgEKAxIMCgQBAAMABwEBBwUABAEQBQQIBAoBBQEBCAkHBQEDCQcFBgMCEQIEBwQBAQcLAgQNBQsGCAQGDwUMBQIICAQGCAgHAQoIBwsGBwkCAQQCBQgECwIBAAAAAAMIAwkLCAIHAQgBCAcEBQUKBQcCAQIPBg0IDQgDAwQCAgIAAQgKBQsEAQMKAwMGDQMNCQUGCQcBAgIGAAEOBAcIBgIBBgMJAwcBCgUCAQEAAAIBAgAACgwEBQIGBgUBAAMFDAIEBAkBGBMMBAkBBQcFDAgJAAQFBQQGDQcHBAEGAQMECwMLBQMMBwYNBAcNDQUEAgIDAgUBCgYAAwYHAgABDggFBwMDAw0FAwAKAwABBgYEAA8GBwwFBAwNBA0KAQMCAQAMBgYEAwEAAgEAAwsHBQARDAgGBhAQBAQDDAUJBAQGAQYABAUEAAIBBA0CEwYEBwcDAwMCAAAABQgDAwECCQsIAwIECgUCAQAAAQAMBQcCAwACAQIBCgMLAwMLBQkCDwkJBwIBDAMRAQIHAwcCAggQDA0EAAMAAAAFDAkCAQwRBgIEAwUCAQENBgMGCwwICwcKAQEEAAECCQQEBQIABAIACQoDBAYEAQMEBwIIAAwECBELDgQCCg0PAw4GBwgEBAIBAQUCCAECAwsICQMHCwcEAQYGBAEHAAQEAAIACwILCAkLBAgCAwgQBQcDAwAFAQEMDgcPDwMCAwQCBhsECAgBAAACAQYJAgEKAgUBBQMNAQgPBAcRBAgHAAEAAQAFCQgGDQIOBgUCBAMKAAMQBwIKAwkGBAMCAQMCAgIIAgEDCQMGAhYBBwkFCQQBCQkDAQkECQcCDxADBgcKAgEFCAgTCQgCAwMBBQQKAwkFBQQOBgEFDwQNCAUEAQwFAw0FBgYGAQwJCAcNBwwBAgMCEwYCEQ4ZBAUJDA0DAQEEBAQDDAQFAgEDAQkGCQMBBwQDBwkKAwgFAwEBAgMJAQILAQMLBAYBAQMBAAUEBAYGBQgMBgcECBEEAgoDBQUEAwMFAwYKAggGCwMTBgULCAQABQIKBgMCEgYHBAEFAwQEAw4NCAsCAwIBBQMBAAUPCAQGAwUEBAIGBgoHDAYQAxMDAgsHBAYOCQ0EEgEJAwYWBAgHBQsHCAcBDAkICAAFBQcFAgUGBwYEDwIBCAgGAgAEAAUKBQkDAgQGDwIBAQIAAAQCAgIFCAAEAgsGDAsFCgYHAwQCAwIDBAQGAQgCBQQDBAQGDQwGAwEDCwQDAwEGAQIEDAoFAwIKFwIBCAoGBQkFAggFAw4DAwABBQYIAwEIDRMBCwwGCwkJCQkDBgMJDAYHAgQCCQUIBw0CCAYHBAcBBwEHDAkEAQQJCAMGCwgDAQ8KAgYFAQUMBQgEBwcLAAIJCQMGCQMCBQwFAAICAwMBAwMMAgMHCQYEBAMEBAYCAgUKDAIJCAUDEQMGBxECBwUJDw8ECQgSCQQHCQQBBAUFCAgECAMCAwsBARACBAIBCAwLCwkGBgcFCQULBgAEAgMTCQQPAgoHBwINAQcDAgEBAwEBAAoKAwcHAQIBCQ0FAQADBAUFAgYCBQEEAAMLBQMAAgABCAINCwEGBAUFCwkIBA4PBgUHAwIDAQQIBgcICgkFBwEAAAEBAAEICAEGDQcGBAEHAgQABhIHBAMHDwMFAgYJBAAKAgUGAwINCggICgQMBwULAQQKBgQEBg4HBAQFAgEFAAMMBwYOBwQKBgMDBAMHAQcDAwIHBwoEAwMABw4BBAcPCBECAgEBCAMEAQYABAoBBwcEIQkGAwEDBg8DBQMICAkGAgYTEQQCCA0MCQwAAAkDBggKBAoABAABAAEDAAABBQUCBAEEAQQFAAkJAgcHAwkICgMGAQMBBgQCBQ4BCQ0QEAcFBwYBAQABAQAABA0HBQQBBAQCAwUOAgADCQQTBAQGAwIEBAsLAgYFAAEBAgEBCgYCBgYIAgECAgUCBAIGCAgFAQQFAwUCAgwIAQcEBwwQAhALAwQFAAgEAQMEAAMDAxwKAwUEAwYSAwwCAwEFBAMPCAQHAAACBAEMAxIEBQEBBAIIAAYGBQsFAwECAgYGAQEBBQoEBAQLBwEGAAcTBAgFAQcDAwAFDwoPAwcKAwMFBAQDAwYBAwQEAQQGCgEKBg0GBwQNAQgJDgAAAgYCBgcPAwQECQcHEQEFAwgKCAwCAgEDAgABAgQIBAcFDA0HCAEGCQkEAwMDAwMBAwEBBAEABggIAw0DBQQFBgMCAQMNCw0KBQoJCQQHBAEJDAUGBQ0BAA0JDAQABgEABAwOBgQSCQgCCwYGBQgGAgQOBAYDAA4QBAUHAwcFBQYJBAcFCQYFBwkOBAYNAQgBBAMJBRAGDwUGAw0HBAsJAgIBDQEBAAQFCgEGAQMLBBMFAQgDBgsNAgICAQYGBAYDAw8GDAEDDwgBBgQBAQEEBAMEDAYHAgMEAgQPBw0GBgEIAgICAAADAAADBgQGCgMCDQIFCQQFAgMMBAEGCQMGAgACAQQAAAALAAgCBg0GBgAECQQEAwUEAgQEAgMNCgYCCAUEBgQFAQICAwYEDwQACAcDCQcIBAoEBgoBBQgBBgMABAUEAwgGAwkKAgIEAQIAAQMFBwAECAcMAQMVBAIDCAsFAgIEAggAAgMGDQMJAwEFAwQFBQQIDAEJBAMGBwoKBQUJDQMJCQoDAwYKAQgOCAYEAwYLDwQDCAEAAQUFCAMKAwcEBAMNBQUACAASCQYMAwQABQQLAAACAQQDBQkCAgcEBgkGAwwEAgQCAAIAAgcFAwkBBgQQBAIDCQMBBwUDBAMCBhAEBwAHBhAEChMDEAIHCgUIAgMDDgYEBQMBAwMBBQMGAQUFChAKBQYGAAIABAYKCAEBAQAAAQMBAgMHCwgHAwYFEAgACwYFCA4FCQoHAQgDAQUCBQYBAwcRBg8GBAAGFQwEBgMBBAYMBAgNBgIJAQMNBQMBAQABEQgFCQQGCgcEBRALBAYDCQYMBwQIAgEBAQoFBQQFBgYMEQUGBgkHBBACBQIMDgYMBAMRCAUCBwEOAQABCQYDBAIEEgMCDQELAwIHCgoLCgIHAxIFBQMGAwIEBAgOCgQCCgcFBgMCBwMCDwISAgQHEAYDBQIFBAcCDgEGBwoRDAMFCAYMBAIPDgwDBQIFCAgBAgEAAAAEDAUDBwAKBQUJBQQDBgMBChELBwcKCQgGAwsIBgYEEgwFAwUEAQsDAwoNCgIWCAQJCQIEAQYECQMMBwUFBgEAAQEECQsBAAIEBQMAAgsEBQgCAwEBAQUCBQMCCwsKBgMKAgQBBAcODgcMAgoHCwMFAwIFCwEMCQcRCAUGCQYIAAACAw4GBAICAAgGCQICAAoRDhgEAgUCCQEJAwYKEQYJEg0FHgMEDgwGAwQBAgQDAgkIFwwKFQkEAwQDAAYAAQQLCQQCCgUMAgECCBIJBAQGBQQLAgIBAAEIDw8FBg4TBRAFAwIAAwALAAUIAQUJDwEHAgEFBAERBQAMCQEBAAABBwQBBQMJBAMOAwoLBAoFAwEBBAAEAgUBAQELDwUAEgEEBgQDAQECBAECBQADCwEFCgAGDwYGBw0NAQQFCQYHAgYECAEBAQEBAwIBBwgEBQMCAQYAAAcEBwQAEwYEAQcDAgQGARIJBgUFCgYMCAUDCwYFBRAPBQQCDAIGCAkFBwYCAQMEAQQBAQALDQkXDwkFBwsDCggHBAUJAwMDAhAGCAQFDAkDCAYDBgIDAgUJBwUEAwwIEgQEBgcNCwIHCgITGAYIFQgJBQEHBggECAADBAALCAkDAgkECQUDBAACAQMACQQCAgEIBBMDAQYFCwUFAwsDDwUGCgwHAxMGBAUDCwYFCg0ECA4EBQQBBgYEAwIHBgEFFQcFDAMBAgIBDggJBQIBBAMCAQMGBgcDBwoJAgMKBAYAAAMFBQIABwQEBwMDDAUJCAUFBQIBBgYDAwQAAwcDAAMGCgQCBAMDBgYLEwYCBAkJBQ4TBQQABgIKDQEFBAMBBAYBCRMFDQoJAQQDBQMNAwUPAxAAAgQLAQoHBAgGCQIKCAkBAQQCAgQFBAsFBQQFCgMFAgEIBw8LAAsCDwUECA8FAwsECwgGCwcMAwYHDgcLEgEFDRAHAQYGBgMIDQoNCwgICQgDAgULBgUICwkCAgYJAQECAgIIBw8FCQYCAQMEAgECBwYJDgIEEQwKCAMHBwQGCgIGAQAEDREBCQUCAgQIBg8HBAQFCAwKBQ4BBwUFCxMDAQICBA4CAwMFCwsGAwQFBAkACgkJBQMBBgUDAQYHCgMRAxADBwUBAQMCAwwJBAMDBgIFAgcCBgUGCBEFDQUIBAEKAgEBAQIBAQYICwoKBAMBAAEHDAUDBAoICAABAwkAAgYFBAQJAQAAAgIBDxQGCggJCwUQFQgGAg8BBAQNAQABBQMFBgUJCwwGAgACAAgFBAMDAgQIAwICFQIIBQUCFAQHBQkDBgEFBQAKAwEJDwkAAQQIBwcJAQUABAEKDgcIAwYOBwYEBA0GDwQBAgcBBAYJBgYIBAYCBQYCBQYEAgAEBAQDBAMPBgIIDRgEDgICEwoDAgMDAQIFAwcFBw8KCwYDCQMRAgQBAwQBCAYEBAACBQgICgIHAQUFAwMEEwgQAgsIBAESBQ0HAQIHBgAHAgYIAw0LCQMIEAQGBQIFBQ8IBgsJBgMCBAsMAgAKCg4HBAkDCAABAgwBBAUHChAKBgsMBAgFCAYBBg0EEwsFCwMMAwMEAAQFAgQHDgUNBAICBwcFAAEBAwUIBQsMCAcJBwUCBgwDAgUCAQQGBAUBAQUAAgUFAgECDgMLAwQECxAEBQIEBAEDBQoHAgMMBgUGAAICAwEIBQMICwcBBgQEBwUDBBMKAAUJBAICBQUEAwYBCwgLAgEGAQcCBAUNBgcDAgMFCQgGAQkHBAQIEQICAgYHFgQCBw8EBwgBCwQKAQIBAh0ECQAODwMDAAQBBQcBDgQEAgMJAwMAAwkECAUGCAMFBgIIAgICAAgOCwoGAAcFBggBCggDBAIEAwMADBEIAwgHBQUDBA4HAgYABgoHAgAEEQMAAw0HBQwCCgkHAwsEBgUHBwQDBQMBDA0HAgMHBwEDEwwJAwUEBwoDAwEGCRkHAQsIAgIFBA8ICgUJChADAgkNBQkCCQcHBQsJBgUFAwoAAgoBAxYABAYJCwQCAAgFBBQFAgIIAQEGCAgFAAMLBAICDwYEBwMOAgsDCwEDBwEEBgoDBwQICQsKBwwDBgcBBQYAAgERDAALBgoCCAMEBwoOAhIEDwMDAgEKAgcCAgkECwUHBgIGDAIBAQAABgYCBQAHEgoACgkVBAEDAgkCAwUGCwUUBAgFBQgIBwQJBgAECg8EAQAIAgYKBwEIAwIFAwMEAwIFBAYMAwMICQsDBgUBAREAAAYBAgAAAAIbDAgHBQcLEwYFBwgFBQcLBBIECgILCAYOAwYCBQYEAQYCARECBgUIAAMCAgABCgQFBAUNAgoADAYCAgAFDgwEBgEGBwcGAwAEBAIDBAcHDQMBBAMCBwMKCwcDAw0DBwEEAAQCDA0MBAYFAwsBAQkLBwEFAQIHAwENBgcBAQIICAUFBgEGCQADBgABBAEGBwADBwcMAAQNAg8ODhYIAw4LBgMGBQMHAwgEBwYEAwQGBQMFAgEJAgMFBwoFBQAIAgUABAIMCAcGBAQGCgUBAgkNBAQCCwwJAAIAAAICBQkDBAYBBAcEAgAJBwcHCw0NCAwLEgMIBAoFBQYCBgIHAg0EDAQMBwoSAgkMBwUFAwMBBwsHAQkECAIACQUGAQkSCwsDAhEFBwsBAgYBAQUHCQIEBQMECgUDBxsJCAIFDgIIBgIEBQUEDAQOBQECBAMABAsIBwMDCgUEBw8MCAQGAQQDCAMABwUDAQEBAgQOAAUDBwYFCggDDAgHBggFEg0ICgcEAQIFAwYGBAsGBAgHBAYDAgECAwEHDQcCAgQCDgcEDQkCEAoGBwEJBgYDBQIDAgcGCAMHAQACDQUBBAcBBQIEAQMBAgMGCQgNAwcDAgEEAgEFAAcGBgEHCwMHAwcFBAIIAgkCBQkUBAAJCw0BBQcMBQYIBhkFAQYFBgsEBAAGDwMEBwUBBQQFBQcLBAANBwIEBwQGBAYBBQUBAw0DAwUDBA4CCgQFEgUDBAMBBwYBAgQEBgUEDgsPAwAIBgcDAwsFAwMHDgkBCwEKBQIIAwYACgIGAhEEDwwHBQoBAgMJAgQBDAoHBQEJBREDCwIDBAMDCwkFAgULEAwDBgMLBggEEAEBCwoDAQEJDAEDAwUACAkOAgcABwcKBAUEDwIDAAkNCQICAgcBAwcHAw4GBQABBAIBCwMOEwcIAggDBhMFBQQFBAMOAgMGBQwEBAUAAQIDDgcFCgYEAwYDAQAAAQEDAgUFBQgSDwcDCAwKBwYHBxIFAgMEAAMCAgIDAQEDBwoDBAEDBwICBgQDBw0IEQQEAgcHBAcFAQUAAQEFCwsAAAYHFAUIAAMIBgIFCAsHCQQDCAIDCwkFBQUCAQoFAQEFDQwOAwkCCAQEAAcBBwIGDAIIAwwHBwYFAAEBBAcWBAIGBw0OEQUAAQYFAwgHDgcFAwUEBwQDCQoGBgQLCQcJAQQCAQEPCwMEAgEGBgQDAgMHAwUJCggHCwMDAAAABgQHBgYICAEDAQEGAQEBBAsFCgQFCAMCBAoEAwEBAgcJBgkHBgALAwIABgMICxQGBAQJCQwDBA0JCwcCAQEAAQEOBQQDBQAAAQECAwcFBQEJCAIGBgYHEQ8MCAgLCgoGBgICBAsJAAEKBw4OCA4DBAcHAgoDBgMDAQQHBQMNAwwMBAcDBQMBCQwPAwQKAwUJDAQFAQADCgoMDQoEBgsDCQELAgYFAQQDAQICDwEGBgIFCwcFAwcBAgQDAwIIAQMACggHAwIIAwwBBggRAgILCAoHDAkDBQUBDgQCDAAOCgMFBAIOAwIAAAEDAgUEBQgMAgEDBQMGAAIBBAUNBgYFBAgGAggKDAgHCwgLDAQLAQQEAgIIBwIEBAYFDAUHCAsEBQQGAgQCAggJAwMCDgEFBQMMCgUFFAULCAQOAgULDQcGAQUCBAUGBQYGAQ8DCQQBCAIJAwIDAgEBDxUHBwUEDBgECA0OBQkLBgMLBwIHDQYDAAMDAAICDQQGCAMECAUGBgMIFAYCCQYGCgYPAAgNAQoCChAMAxAFBgYGBwQHAwoHBQgGBQEEAgoDCAYFAQUBCxAMAwICAwAICQEHCAAIBgEHDAEDBwQFBwUEBAIICwQGCQQBBgMDAQUCBAMOCAcHAgMIAwIMBQcHAgQKAwsDBAcRBAgDBwYDAgwCEQMLBgoIBwcKBwEGAwMGAwMAGQgFCQUNDQgFCgMDBAYDCgUHCAgKBwQHCwoGBgEEBAQECAkKCgYQCwcUCgMMBgYEAQUQBAsHBAcKAwIHBRQFBAwIAQsCAgUADA0OBBICBQYGAQMAAwwGEAYGAwEAAAADBQQBBQIHBQMDAA0HDQQKCREJCRUTBgYGAQkHBQMDAwEBAQQICREJAwgFAgcBAAEBAAYLBwcJDQYIAwQDBAICAwEDCQIEDAQJBQEBAwECAQUJBQUGAwABBAYJAwUCCAQPBQUCAQMCAQUPEAkHBQQPBAQHCwcHCAIBBAQHCwcKCAAHAwMEAAMMCQUKAQEBBgwCBgkMEAoLEgsICwEPAgQMAAQAAAIDBQEABAYKCwUBCwMFCQIBBwMDBAMDCAoHBwsKAwQEBgMACQgNCwUJDAUHAgMBCAsCBwcNDgQGBgIIAQIICAUHCggBAQEECQwYBgQGBA8EAgcIEgQFCAMIAwADCQgCDQUKDQUDCQUFAAELCgoDBAUDBAYLBgkNDAQDAwQDAAYMCgMDAwkMBAQMAgIBAQMJCQIFCQEFAAMGAgQAAQEHCQMGBQcIAwgFAQoHBQcICQMHCwEABgUCBgYDAwkRAA4BBQUMAAMMEgAOBAUIAwQBAAICAAEDBAMCAQUIAQ8HAwIFBgIIDAsBAgUEDQcFAgMBBgELAg8JCAgBAgcCAw8EBAICDQcOAgIBBgYADxQHCAYBDgUFAQABAwEAAhECBwMDAAICBgkRDAsKDwoRBwUECQ0FAwMCAQEBAAIDAQAHCwUHCgUMBwYCBQMRBA0CCgwMCgoGBQUGCggMBAwDAAQAAQMNBgwFBQQIBgMPCQgFEwQJBAgEBgoFDAYIBQQHAwIBAQIBCAcIBAUUAQgJDgAAAAEBCgUDBwMBAQAAAgMBCQgDAgABBAEFBQYDAgUICAYWBQoDAQIFDAEBCAUHCAQEAgMJAgkKAwIHBhAEDAcLBgoDCAEAAAQCAgsHBwYEAAIBAgIIBgUEAwIAAAAADgYWCQENCw0EAQwECAQBABALBggFAgECBA4LBwcFCgQDBwcCAAEDAwUCAgMDBwoKEAUMAQsFAwQNBgMLDAUECA4BCwUDAQEIBwUDAwgRAwYCDwQQBAoGCgQKAggHBwYODAcBBQUIBwcAAQICBgIHCwgLBwAAAAIADAgFBwYFCQUBCAkEBAIFAw4MEQwIBgsFBQcOCQQDBQUDBQMDCAwIDBEGBQ4EAQ0EBAUBAAIDAQcBBgQFAwMBAQINBAwHCAEEAAAABAkNBwUBBwECBgQFCgULCQIFBQYECAYICgQEBAYOCQMEDAQBCwcCAwEKAAIDAwAAAgEDCQMCBAMADAIGAgcABgAFBwcJBhASCg0LBA8FBAQDAgEMBQMLBQgCBAQBBAICAwYCAgkEBQUQAAEDAQEFAgEFBgQKAQUTCAQHAgcGAQQDBwYOBAUEBQwHBAEBAgUAAwAEAwMGAwkGCAUEAQIAAwYKBw0CBgMDFAIGEQIDAQUBBwwKCQYKBgAIEQkRAgwBCQIIBgAFCAIEBQEACAUEBAQBBQUOCggDDQYFCgkBAQIEAwUCAAILBQsGAgIKAwUKFAkHBwYFBQwFAQAEAgkDAwUCBQMNCAMEAAkGBwYEAwMDAgADEAUFAAAJAQUBCQoCBgEDAAgBBR4EBAMECgQFAQIGAQADAgcLBwMECQ8EBgcJBgYIBgEFAQYCCgkQCw4OBQoKCg8NAwoHEAkHBgAEBwACAQgKCgMCCAEDBAcEAAMCAwQWBwgECAgYBgYYCA0FEQ8GCQYFBwkMCQQCCAEBAgQJCAMDCgYHBQQIBQQDAQUFCgYBAgABAAIEBAMBABEDDAYEBQABBgIHCQQCBQYDAAQBBgMKCA8KDAIDBRAECgQBBA4BCAYJDQkOAhQCBwgIBggKAgIFAQwDDgIODwUDBQEDAwEDAxALBgUEGgMGBQgFCAMFDwYKAwAFAQAEAwkOEwUIAgMECSIFAQAHBA8GAgMFCQUOBAMEAQMBBAUDAgEFCQgIBAABAgQBCwAFAwUFDQUKCgoLBgQGFA0GAQkFBQUJAgQWAxAJAwcJBgcABwcEDAUPAwECDwUDBRAFEAQEAggGBwQKCgUFDQYBAQwHDQEFAQICAw8BCQoCBQMBAwsHBAIEAQIEAwIBBgIBAQADAAAAAQUEAwUAAwgJCg8TBQIJAAEFBAUEBgQFBwMSCgMBAAQCAQACBwACEgQECAQFAgUAAwIEBAMICQMFAgsFBg0FCgQJCRMFBAEDBgUDAwQSBwQJDgMLBQQJDAsDAgICAAABCQYECQgPCQsHBgIICgEGBwAQAwkGBg0GAAIEAQQJAgcDBQULBQQBAgECAgEGBQQKCQEBAQEBAwIAAgYGBwMIAw0DBgAABwYJBQ0GBQMCCQMCCQYHBgQEBBAFBAQEAwkFBQcCAwcCBAkEAgoKEQoKAwgFAgMFBgUFAAQABAoMBwIIBgABCgQKAQYGCgoFBgADAwQAAQYBCAMGBwACAgEDCQECBQUOAwoJBA0HAQQKCAEDBQYOCgEDBQQOBwUBBAIIBAUMCgIGDgwICgkGBAYFCQEFAQQHCgwJCwMGCQMEBQUBEwoHBgIEAwQLBAYNBQEBAAAAAwwOCgYHAQMDAgYCDQYICQgEAwMECQMBBQQHBAUDAgIHBAAPDQEFAwMKEgUCBAcCCwQJAAgCBgUIBAYHAwkDBAYLCQUBCgQCAggGCA4FEAkKAQADAQEFEAsDAAIFAwYBCgUKDQQEBwcEBgcFAwEMCwcIAwkFAwUEBwQJCgoFBAMFBgQJCQUFDAwWCgMFGQMHCgMICQQJBw4EBgwJCgwGBgYFAwcAAQoFCQYIBAkHAgEBAQEAAAQCAwEBBg8OCwMFCAcFBAITCgsEDQoIBAcIAwkFBA4BBAQHDQUSDQ4DDA4RAgEIBQMJAwcKAw4JDAgDBgwOGQwHEBQIBAkBCgMGBwIFAAMBEAgRAQEIBQ0EDg8DBQMFFgcCBAkCBwIBBgkOBhUCEAMTAwISEBgHBAsMBgQCAQcABQIJCgQDBAECAAMCEQUICgIIBggMBQcECQICEwMJBAwHAAIBBA0LAwQEBgYNDAYABAwCAgoKBwYGBQ4GAgUDAgQLCAYFAgEBAwUJBAgCAwECAQgLDwQYCwMKDwUHAw0DBgIABwYECwUEAgQOCQUFBAAQCwIIBgYDAwMFCggDCgQLBAMAAgcCAggIDQkKBgUKBAcEEwkEAwIDCQUCAwsLBQcDBQQGBAkBAgMBAQMVDAsICA0dBAMLBQcKAwMCBgACAQgMAQYAAQEAAQMCCAEBDQcFCgMECA0EBQQSBwYEEgwOCAgFBwkIBAIDAQICCQkGAAQKCgAPAwYJBAUCAgIBAgAFBAUEAwUMBgsFDAIFBgMDAAIAAAYJCQcCBQIBAQEBBQ8EBQoECQECARADBxIABgcJAQkDCQMBGQYJCAcEAwkGAwYCAg0HBQcBAwQCDgkIAgoEDAIAAwkGBgcODwEKBQYECwgQCQYAAQUDBAEKAgoKBAQHCAcKDgIQARgIBgIEBgsDAAMABQUKAQgEBQEDAwICAAACBQIHBQEOAQUHCAwGAxsIAwECAgQBDQICBAYBBAwCBwMFBgUCAQUMBAoCAgIAAgMECgIFCgkEBgIGCQIHCwoDCwgGAgMEAAMDBwAGCAsGAwQDAAQHBgIEBAMEAAQBAgQSAAUEDAMGBQkGDgANDQEBCAMFBgUBBwoEBQkABAYBBAcCBwUCCwsBAgoKBwcFAQQIAQIEAQUEBAUKAQUFBw4KCAIHCQwDAgQGBwMFBQ4LAg4DBAYDBBEGBgAJAAQJBQQDBAMFAwIJCw4HAggDCggFAgQEAAIKCQcEDgMGCgYBARAGBgkJAQECBRAOAggEBBADBwkJCQUJAwcDBwEFBQUIAgENBggHBwYOAQQBBwYGDQMDAwMFBQUFAQECCgsIAQcIBw4GAAMDCAgFDggCAgYOCQcDBgoFBwUECAQCAgMRBAkLBQQHBAoBBQIFAQIUCQQJBgIEAAACAgkIBAMLCAYICAsDAgcJBgIGAwEICAEBAgsDBQkABgUHAgQICgUFCQ0PBAIHBQgGBwMDBAQHAQgJBQQOCQYQAQMHCRIJAg8ICQ0JBgkHCAIGAAIBAwMOCAsCBAMEAgYDBAQEAwMGBgUEAgoGAwkEAwgEBAcFBAgICwUTCgIDFAcKAwIHBAoDAwMFAAECBQYMBQIBCgEBAgkGCQMLCg0KCQsJCAgGAgUDAwEBCAcGAwEIBgQAAxACBwkJBAYMAgYEBAIBAgYAAgQIAgMLAAIHAQMGCQoKCgQEBQUFAgEECAUBAQUIAgIGDAkHAQgIBQEAAhANCQQFCAQQAgIIAwcCAAQKAwEKCAIFAwcIDQYQDgcGDw0KAgIDBAkGCwMFBwoGBAkKEAcHBgYODQYPDgkMAgIDBAYFEAQPBQgIAgYEDQYBAgEIAQYHAwMKBRQKDQsGAAMDAwEKBwMGAgYLBBADAwIDAAUIAgkDAQEKBhIFDg0FAgQDCAAHCAUHCwMHBAILDQMCBgAJBxMIAQ8KAwkECQkICgoHAQICAgEDBAEFCBcABQEGBxAJAQ4HBAMECBAIAQcGCAgHCwcEAAYGAgAJAgMEAQkACwQMEQMJBggECQQEAwMJBAICAgUDDAMFBQQCCQIBCggKBgEKBAABAQoBAwsEBg0KAwgKAQkLCggFCBUJDQUFCQAMFAYPCggECwgHAgEKCgQBBQEHAwcABAcFEwMCAwIHAgkDFQIBAggTAgMJBAYbAQUGAwQECAIOBg4EDAYHDwUHEAQLBQgSCAIHBgICAQwEBhAKAgQFAgUTCw4FAAcKDAUDBggLBAkDAQMDAAIEBQQBBwUHBAgHAAYEAQsMAwcIBQMIAwUNAQwBBAcBCgYJBg4DAwQHAgMEDgYQCgUCCgMPBAMDAwAGAgsEGAMEAQAGBAIHAwQABA0ICwIBDwgFBQ8GDAcNAwQOBA0EAwYTFgQJBgQDAwYLAwoFAgcADAYFBQ0JCgkJCAcBCgUFBgwGCAMHAQoGAQMGDAQQAgcPCAkIAw8FDwIFCQ0FBQMHBgYJBwIDBQEABwUECgUSBgIGCQcHBQsBAwkNBgcDAgICAQsUAwkIDxcLBgMGAQkFAAQDAwMLDAwIAwoCBQQDBQkGBwQEAxAKCQgCDwcFAwMFAgUEEAcFBQUEAAUDEAMBCwcKAgMEBAEHBg8DBwMECAQGBQgEBhAZAgwLBQAUAgARCwECBgQEAgcGDwQDBQYDAgQBAgEHAAEAAQ4DDQAEBwMLBgICAgoIAgoBAgYDBAQFAAMMDgUDBA8VCwoFAgEBAQQJAgcBBhAEDAgDAgIEBgYHAwYGAgoEBAEBEBQFBgUCBAIDBBMGBgQDCQ0GDQgDGgQCBQYJCw0KBA4DAwYDBQcBBgMCCgYCBwYGBQYAAAAAAAABAQAAAwUGCQYEAgcNCAYHAwIQDwwDBQIABAAMCgYCCAMECwIDBgABAgcQCwEHAAAHAwUNBQILBgkPAQUEBBINBgIFBQEDAgQHDgQDAwUHBAcGBwMICAoKAQsCBAIICgAJDQcKAwgTCAsJAwQJDg8LBQUJCAMGAg0FBwUPCggACxABBgcGAgMLBwIEAQMCAQUFBAEDFAkMBAMCAwUBAQEHBAYHCAYFCwoAAQYCCgoKBAgMBgMDCQMIBgYFBQIGAwEEAwoKAwQEAAYJAAIEAggOAQEIAQIDAAMIAgAAEQMECQYFDAgFCQQJCwkICAUJAQQGBwIBBQcJBBQHBgYFBAYJBQYHDQsDBA0KCw4FBgQIBgwEAAgMBgAHAgYEAwMEAgMBBA4NBQUHDQwMDAsMCQgCBAEJBwELCgIBBQ8CBQwGGAgCAwQMAgoDAw4MAhIEAgMEAgIICwkCAw8CBQYFCQECBgYKCAQDCAERAAMBBgIEAQIZAwYJBwYDBQcSAAYDAgEPEQUSAwIICwcHAwQCBwMLBwICCgQEBgUCBQQCCg4DAQoEAQEBAQEBAgIAAQQNBAMHCgEDAAUCAwkMBg0PAQQCBAwKDAwBDA0DCwUEBAUMCQ0IAgsABQQTAwcICQUGBAYIEAIDAQMDAAMMAAQFAwMHBAQIBgUGAwIEAgQEAQoUAAQDCggCFAEHAwMFAgACAgMCBAcDAQUCBQUEBgcHCwIDAQkBCgYIAgEDEAEDCwUFAAICBwUNEggIBQYGBQkGBQ4LAwMACQwAAAYKAAgLAgQDAgUBAwEAAggGFAgDAAQEBQECBwQBBwgKCQAHBgUGAQkCBwgCDQQEAwIDAwECBgUJBQsEAwMBBgIFBAgFDQkJCQUCDQgPDAQCBA8HBwMHAwICBwIDBAMEBQkIBAMLAwsFBgEFBQUEBgIBBQAKAgkEAQgSCRUBCAYABgsJCw0IBAkACAgAAg0IDwoJBgMJCAcACAUCEQoIBAIKBREPDw0GBAUGAggEBQYGCAIIBQUABAQBCAYLCgQJBQ0QBAsEBwwEBQQKBAMCCAIHAQQCAwIBCgcDCwUDDggJAwYDCAMGCwEGBwcEAwYBAAkGAQcNAxEMAQADAQ0CAgYFAwsFBAYDAgMPBQoKCwQEBAIABAMBCgcIBAENCgUCAQoNAQcADgsBDw4GCAUGBAcHBAUDBQ4CAgcJBAMEAwACAQYACwIGEwEFBwQEAAQEBwkJAwcEDgAAAgADBAsNAAgHBQIEDQYMBwQEAAcBBBgEAQkSCQMGAwAGDQUECQkPCAcKCAoBABgFBAAIDQICBQMCAwQFAw8CDQQCDBEDCQUEBAAFDQgVCQEECAYRBAkRCQUEEBUBCQMCEAIMCQYFBAIBAg0BCwMDAA8BAQUJDg4DBgYNAQUJCgQQAQcGAwYJAQcUDQkGCAULCAMIAAUFAgYKAwkKAwoRAx0GDQYJCQMBAwIEDQcGDwQFCQoGAgUIAgIIAAEAAQINBQMBBQYAAAIBBwYJCAAAAgIBAQoGAwUNDgUUBwMDAwQFCAAAAQECBgsOAgADAQIFBAYHBwcIAgIIBwMBAgEAAQ0FEQsJBgUEAwMFDgMHBAQCBQYAAgQGAgAQCAIFCgEEAwEGFAsGBQQCCgQEAgUQBgcMCAQJAgMJAwYJAwEDBAEADwIACwUEBAIFBQkMAwYGAQICAQIDAggHBAoHAgQCBgEBAQEMBQMOCwAGBgQDAxYIBA4JCBMWCwAABAcDCQEGCQsTBg8ICAUGBQYEBAUKBgYFAgAECAUJCQcDCQUKDxMQDgkHAwUFBAcBBAIBBwcLGA8HAQYHCQgCAwYCAwIECggJBAEHAwMDCwoHCgoGEAsCAgUUDAQKFgkJCgUCCRMDAAQNFAUFAxQICAYFCgUHBQYCBAUCBwkFCQISCwYICwcPBQwMBgIMBQMRCAgGAwQKCAEDAQEBAwYCBQcVBwsQBgQIBAECAgIEAw4KAg4ICwMEAAYJCgINDw0FBgMKBAcBBgkIAwgQCQEHBQkEAgEACQsLCAIHBwMDCAcICggCBQYPBAYFFAkGBQYGAgENBgIEBBUBAQ8PBwgBBQQIBgsEEwIFBgQEAQMCCgIBDhEMAgUOCgYFDAYDAQIDBAEDAgEHAwUDCQoCAQUBBgULEA4KAgQFBQsJBwULCAQNBAoFBQcGBwYCCgICAQkHCwYEAQUGAQkNAQcDBAECAwMDAQAAAAUOAQAJBgAJBQwBCAYFAwIAAAABAQABCQEPFQMFBAIJAwACCRMLAgMFCAUOAwYHCAoJBAsGCAkKCQQTCwABAAIABQMEAgECAQUGBAoGBQYJCQ4HAwIBAQEAAAwHAwgGFQcFARMPDwMMBg4SBggPFgMLBgkNAwYJBAsLAg4DBwYNEgENBAUDBwAFAgQBAgwBCggDAAABAgQEBQQFBhQGAgEIGAkHBAMDBQMBAgMIAQwQDgMCBwMIFgUOCAkFBwsIAggFAwIFAwUICgQDBQQAAAACAQIBAgEFBgkHCAYCCwYJDwYAAQYCAAUBAAYEBgUJCBAKBwoMCAMQAwcDAgMHBA4EBAMHBQMEDgEBAQIAAQwDAwYIAwEFBAQEEA0BBgoJBgoIBwMDCgIGAAQJAwMDBg8DAgQABAMGCwIIAAQFAQAICgIFBAYBAAMJCAYEAAwFBgMCAAkTBwUDBgQCABUEDQkFCAUGBQUCAgUHCAYIAgUEBAYEAQgAAAQJBwMDBQ0HBQ8HBAUECxYECAoGCQcDAgYDAwQEBgMCBwYABgoDBQMCAwEBBgMLBwICAQIEAwAEBgIFAwIBCQwLCQQIBwcDCwICAgACAQYCAwIEEQULDQQMBgUHCA4GEwMJBAgLBwEFBwQEDQUEBwgDBQIEBAMIAQoDEgISBgUEAgINCwMEAgcFBAECDAMJAQYIAgQDAQkMAQkDBwgNBwIEAwYBAwUDBgMCBQYKBQQNBgcKBAkKAQULAgUIBgMKCQMDDAsFCA0EAQUEBwMIChMGAwEMBgIDFgkHBAQLAAYEBQsEAwcFAAcCAgEDCAUKAgIGAwMCBwEFCgYCChMBBAUHBQEEAgELAxQEFwYBBAQAAQMAAQUABwEQBQkCBwEIBAwIAhMBAQMBBwQGBggSBgQGBgkLBQsEBQoDBgYFEg4EBQUGAgQGEwkECggMAwMEBAcJBAcIDgkRCQEBBwcCCwgCAQoDBQsJEgMLCgEFBgECAQgUBgcNCwICAgMACQ0IBwcCDAIHAwIYAwMHAwoGBgYDCQ8PEA4GCQgDBgwLBQwNCQAKBAUEAgMKCQgTBwcAAQUBAgQFBAIHCQQDDAEDBgYLCgICAwcCBg0QBAIJCQUGBAoMCgYIAgkGBwUCAgEBAgQNAQIEAgUEBQEHAQMFBwUDCgEOBgcGAgIFAgMBAAEHBAQJCAoFAQUCAgoFAAENAwIAAgkMAQQDBwgGAgUBAQAABQYBBQACEQQABgAFAAACBgkLAgYEBQMDBAcHCAQDAQkEBwcLDgcJDAIWCwMBDgMKBgoEAwIABwkSCAQCAAMCAgIFBhEHAgEGCwgHBQQFAgYBBQUDCgkHBggBDQwDBwIBCwMCBwkIAgYFAgACAgQHAgUAAw0ECQgICQMGBREKCAMCAQcGBAIGDBUGCAIBBgIEDAABAQIABAQCAgITBQgCBAsIAgMBCQgDBwgCAAoBBAoCBQYCDQgPEgIICwAIDBEJBAQGAQEAAAIIAwYEAQIBAQECAg0DAQILBQMIAQYKDAAKAAEDAQIICQkFBhEIBAwABAoBABAOCwEOBgoGBQUDCQUHDAcBBgcDAgsDAwQMCwsHCAIJDAQFBQECAQQBCQEOAgMJCBMJBQIDAQgDAAABAAIGBw0IAwsFAQIBCRcKCAEOBhAKCgUNAwsCAAEFBQMBDQIBBAUEAhEBBAICBgcCBAMEAA8BBwQKAwkKAQMBBQcAAQYCAQECBggOBgwJBwYIEQgDCQEDAAsABgYPFAUJBgMGBgIMAgEBAAIECQQMBQoJCAIFBAcGBw4GBA8NBgEOCQQDAQECAgELAwIAAQUIDgMDDgcGBAQBAgMDBQEHBAIGAAkICAYHDwUCBQEBAwIAAAMBAQEHCgoGAwQJAQUHCAINAwgDAwIIAAMKEQUIEQoRBwUDCg4ECQIDAQUECgsCBxIFCwECAAQGAwkFCQEEBQUJBAYOBAIFAQACBQgKCQMHBgIABQUAFwQCAQIBAQECDAIECAACAwICBwkECwQIBw0OCQUDAgkFDwUMCAMBBQQAAQkJEg8DAgcJAwQEAwMBBQULAAUCBwUEAwUFCQQGBAIDAgEBCQYEDgUHCQUKBwcEAwEDAgUAAQgJBw0LBgsHBQUEAgUHAQMEBgICAgwDDQQRAwkIAwAQBwUHBgIMDgMEAAMEBwQGCAYKBxIGBAEDBg8RCAEMAxcDBwEABAMBCQgCDAEFCQYCBAcCAAsABAUBCQgDAgUPAQICAAMBCAYBCg0CAgUKAwsIBQoEBgUNEAoFBQgIAgYEAwQFAwUDCggBBAEBAAMCBQYKCwYFBQcBAwIJBAgFDw4EBAcDCQQBAgMEEQIFAQQBDA8GBgUBBwgEAgEHAwcOBAMIAgQGAQUFBQMHBwEIAQYBAQkBCQcGBwEQAwEKBAMKAgQKBxEBCAMBAwMFCQMHBgUBDgwKBgIECgMMCAEFAwwCAwUDAgsMCgECBAkHAgMBAgICAAAECwIBAwYBAw4IAAUCBAcLAggGDAQFFAMGBgMGCQUEBgQCAwgHCwICBAgEARALBwAEAwIPAwsIBA4EBAgOAgEIDgsIBAYGDgkGAwgKBwYCAgYHBwIDDAQKAQoICQwDCQQEBQMHAwYGBwsFAAIFAQULBAkGAQwJAwcGBQQMAwgBBQUEAwAGCAQGAgAGBQUBBwAPCAcCBwIRCA0IDwgCAgIMCAMDCgYKBQYEAQMBAAEKBgUFBAUGCQIDBgkGDgMDAQEAAQMICAMCGQYGBAMBCgsOCAMHBAMBAw8MDgQDDQQGCwUKBAgDCgwJAgMGBQwDBgUKAgIDFQoGBgQBAwMJAgQTBgUHDQYJDwQIEAYFAQQSCgMECAgLDwMEAxIJBQUJCAUFDgsUAggJBAYHBwcHAwQCAwcIBAcDBAIBAQ4KBQYABgMEAgULBxAFBw4BEg0HAQAEBQQJBQwGAgIKCgcOAgUQBwMBAgQCAAAHBgUFAAgDDAELBAoIBBALBQcLCxEJBAUEBAwFAwENBQMGAgIBAQQGAwgLCggAAwcBBBYDAwMCBAcKCAACAQMFBgUFAQgHAwkCBQsHDQUHBwMJBg4KAgQGAgoCBAEBAQIBAAMHCQkEAAEAAgUDCQMKAAEIFQAEBAQBBAQGAwwDDA8CBQYHBAYCDAYNBgUHAQECBgQEBgYEAgoMDwYGAwIJBAMEAwkJBwcMDAERBAQAAAMDBAMRBQwFAgMKBQkRBQsDBBkOAQALBAoFAwMJEQQMBAYNCRMFDw0BBQcFDgMDBAMEBQMBDAwHBwcIEAcRAQEBBQgDAw4FAggFCAoFBQsEEwcICAIMAgQBAgQBAgYLAQcEAwIDBQEDAgIAAA0JBQIABQgHAggKCwgSDAQHBQYHFQcCCgIBBxoGDQQDBgwEAQECAwICBwEICgQKBAIHBAUFCQMJCAcHCQMOBwoJEgUCAQUUDgUHCgoFCwIKBAYFAwMFAgYCCQMCAgIGBwcCBgYQBggICAkGAggOBwwKCBIGCQsGAQcFAgEKCwgDCwQEDg4GCgMBAgAKCQYEDAADCAcHBQIKDwcEDwMDBgICAQQFAwUOAwwABgEEAQQFCAAGAQ4MBQgGCgMHBAgCAgEHAQMACAAFAwwIBQcFFBMEBgoKEAMLAQQIAgEBCgMKBQEHAwYMAQYQBAAOAwUFBwgEAQAECwMGCQkPCQECAgIHBgcHAAQBAwMABwoSAQMIAQEKBwEHCQ4ICAEABgIGBQUGCQUEAQoACgUDAgECBhAOBAMCBQcHEAIGCwQEBQcECAQIAwcBCQUFAAMDAAAADAQLAwYPBgkCCQMEBwgJBwQCAgIIAwYQCAYDEhMDBQUCCwECAwoEEwoCCAQCAwUCAAEEBggKBQgRAwMFAQYFBAMFBgYECQQKBwkEAQEGAwYCAwoOCAkTGgkBEAIQAwMDCBkOBwEFCwoECQMHCAIEAAoDAw4GBgEDAQ0PCAUDDA0EBgQCBRIICAQLBQIBCREBBhUMDAgAAgEBBgEJBgIEAgUDBgMBBQkBCREEBwkFCwQFBAQACgYJBAQMEQQKBAQEBQ8JBQUIAgQFDQwHDAIBAwUDDgQCAQYFBQIEAQwKBwwPAgIDBQcAAAQDAwcOBhICAwQGBwYFBxACBgwFBAcQDAUDAwUFBwoCEQUGBAgEBw0JAAwCDQsGAwcJCAILBQoBCBADBQUCCwMCAAIBDgIIBAQCAwMCAAMEAwABCwkGBQgCAAgEAwQBAwACBg8GAggQCwcHBgcOCAkHBwECAwMSAwEJDgMBAgMCAwIGBgMEBwQDAgMIBwIIAwECAgIDBAYBBgoUBwcHBQIIBQYBAAEDAQQPBwgIBQUMAwIGAQMCBgoSBgYFEAMHBgIBBwcGBgwECgwEBgwKCQMKAgoDBAAABQICBgEBBQINBgUJAgcGBwcQAQYCBAcMBBEFCQQODQwDAgYKBgQMCwMPCAgHAQMEBQMEBwIIAxACDQUMAgMEBAIADAoVCgsIAwIHCQkGAQYDBAQBBQQBBwEDCAQNDQcMCAIJBgkLBAUJDAADAAAHCAYACgsECQECAQMIBAQBAQQECggGBwUHBAIKBwwUBQQFBAUDBQYLAQ0ECQQKAwkBAwICAQcECQUJAQYDBgILBQQFFAcHBAMIBAgHCAAFBwEKBwcDBQcHBgILCAYFBQEEAQQLCAkCAQUGAgMDBggECQYGAw0CDQYJCgIJBQgHAQQEBQQDAAUDBQIAAgIEAgMEAwcEAw8DAAgAAwECAQgFDQEEBwYJCwkBBQUOAxMHAAUJAQ8FBwEAAQ8GAgEGCQwBAQMCBQ8BAgICAQcFAQEDCAgKCQUJCQsDCAkGEQUBAwENAxEECAkCAgMICQYHCQsBBAMMAQcFAwUEBgQHAwICAgERBwgFAwkFAwMLBQIDAgAEAgMJAQcJBAILAQEBAQcGDQMFBgoHBAUIAgQCBAQLBQQMDQYCBAUGDwkDCwAFBAYIDAICBgAGBAgMCQQHDAYDCgkSAwIJBgkDCwoABQMJBQUHBgoABAMIBgQGCAoBAxcMBAMEAwEAAAAJAwMCDw4QCAkIBQoPAwwKCwYPAQcDBQEDAQoGAgQSBggBAwUCBA4HCQYNDQENDggBBAIKBQIJAwcHCgoMFAMFBwoICQsDAQIDAgEDBQYGBQoMBgQCAw8JBQUDBQECAAQIAAMBBA0JAgoVAxIBBwYJAgMECgILCQgAAgQFBAsKBQ0HBQMHAgwAAQYEAgEMAgcEAQoPAgMDAQkGAgMIBAIGAAECAQEFAAkEAQULBwQHDAYAAgMFBg0CBAQCAgIBDA0IAgIFBgoGAgMCAgEBBhAKBgsBEQYLBAEBAQABBAULAgECAgMABQ0DCQQADwIJAgIEBQ8EAQ4IEQgDDgUMDgcFAAQBAAUEAQIIAAMBAAIFAAIJAAYIBAQCAwYTAQEJAwwJAggVBQgGDQsEAwQDBAMCAQoIBwsDAgEEBQEEDQUBAgUIBQkHAwUFBQMDAAEAAAEFDQYGDxUNBAgCBwMBAgMDCwsDAwEEAQUCCwgNCgkDCgkMAQcCCAYDAwYEAhMJAwYIAwgDCwYDBAMJBAUEDAUCDwkEDggFAQIFAwsEDAQLBwABAAQEBAYJBQoHDwAGBgUJBhUHAQIDDQoECwwCCgYUCwYHBBMLDwQCCQcCCAUDAQQKBQECAwYDBgsGBAIICAEFAgICAwoFCQkUCwoHBAQDBQkLAwYGBAYHAQQCCgEHBQwIBAMNCgYFAwYFBAMBDAQHBgMGDgoMBAAEAgACBwMDBgIHAQsAAQQDBgEEBQEJCwEBAwgFEgUEAwoFEAMEBgMMAQIBBQYKDQ4CDQEDDwgDAgcEAwgVBQsGBAUEAwoAEQgBBQUECgIFAAMBAAcEBgQMCQYKAwoBAwcJBggVAQoMCAUFDQMGDQoJBAMCBQQFCQcGCAIHCgUEBAAOCAUDAAABAgUDBgUBBA0FBAMFCQMGDQQDBQoCCQYGBQQDAAIAAAIGEAMSAQ8HAwMGCAkBAgAFCgIIBgIECAEGAgUKDAMCCAwBBAQABQECAgACBQELCQQHCAEDAgIFDwICBAMGDQkLAQIFBwABDQcJBAsDAQEDAwMICQQFCggMBA4CEwgEBgsSAhEDBQgKCAQGCQQIAxELCgIBDwYEAgcFEQUaBhESFwMGCgACAQMSCQkIAwcDAw0HCg4LAwIDAQUAAAUJBAYFEQIBAgkIAwQEAgkEBwcEAgYDBAYDCAwCBAUBBwUEDgQHCAQJAAQDAgQBBQEIBw0JBgMJAgIGAAwMBAIIAQQKAgYLCQQJBQUJCAoBAgoRBgIGAwMEAwgLCwcTBQcKAgANBQUABAsGAgcFBwoGCQkDCAgEBQEFCAACAQEBAQAJBAYFCAMAAwYDAwkLAwEBCwYCAQwHDgIACAYGFwoMEQcRCwEGCAMICgYNAwMDAwMAAAQJAwwHDRMHCQQGCAgKBgIGBwgBDgIFAQUFCAAFAwEHBAMMAgMFBQcHCgYNEAsOEgcNBQkIDQUBBQUCAwoEAQMNDg4FBQIDBgUFCwEEBAYLCAYEBwEHCgMBBQIFAgMAAQQDAwQBBAEDAAUEBAUFBgkIAQQDAgoKCwAJAQoDAg8JBgMFBAMMEwEEAwgJBAIGAQEFAhACBQQBAAAACBQFAgAHAwMBAAQCAgAAAwsHAQMEBwUFBQIJBgQBCAoMCQcJCAIFBQYDBggHAwQEAAAJCAQBAgwBAgMFCgsGBQQCEgwDAQYJCwQABgMCCAoHCgIFCAICAwUBCAkIBQADAAEBABAaDwYDEAwRCQsMBQ4BBw8FBRACCwEAAwAWBAMDAgEBAQAEBAkHAwYABQAFAQoIAwUHAQgBBwQIEQQJAgIBAgEABwYGDAkGAgoEFAsNDAgDBg0NBQYECQ0FBgQDBBAFAwEFAgMEBgsKAwIBAAIBBgMCBwUKBgMEDgADBgIBDRAABgQKAwoDCQMCBAUFCQMJAQkIHAAJAwUQChEKCAUBCgEBAgIEBAkRBwMBAQMECQAAAAAAAQMKBQcTBQwLEAYGBQoEFwoDBwYFAgYEAAMFCQ0IAwcHAgQAEAkDCQIFBBcGBQIBAgYBBgcDAwIAAQEAAAUPCw8NAgUDAwMLDQ4DAwcKBgMBCAQBBgUQCQcDBAQWCgQJAg8NAwoXBQgJCAEBAQACCQgNCQ0FAgMBAgwEAQMGAwcHAwEBEAYJCQAHCQEEBQYECQQFAQIBAwIEAwQECQUVAgULBwYLAgcGGhMNBg8TBQsFAgMHBwgIAwMHFAoEAAQIBwoBAwUKBgkPCAYCAgYIAgYJBQkPBQQSBgIABQkKBQUCAgELAgoTAgACAQIJAwUNBhYFCQkEBAcDAQUBEQUEBAQKAgIGBAECAggCCQQFBgEGBgQBAwIKAwISCQMCBQIQCwICCQMDAQAHBgIICwECEAcAAAQDBQQLBh8KDA4LBwMFBw8FBgYHAQgJBgMDAAEDBQgBAA0ICAURDgcOBAYBBQYCAwMDAwYIAQgABAQEBAEICQQCAwgEAQIJAgMEBgAKCwIJAgYKBgoQBAcEEgsFBgQCBAIDAAQHCwIABwMEAQAPBQYDAgoECAQDCxIHBhEDBAIDBQkCCwIEAwICAQgLDAsDAAQFChADAgMBAQEHAAoEAQMICwICAQMCAQADAgYDBgMQBgUIBBAKBAEJCQoCBwQMDAUIAwQFBAMMBQgEAgACAgACCgMEAwIDCQQEAQ4LCgUAAwEFAQoJDAQDBAYGBwEECQcEDAANEAYEAwkGCAEFEAMBDQgDCQUJBg4OBQUKBQ4DBQAPBAgOCw8LBQYBAA8JBQgEBgEHAQMCBAQBEg0DBAQGBggDDQYFAgADDwgIBAUFAwcEAgMQDgIEBgQCBQcFAwMDBgkFBQQEAQIEAQABCQIJAgEBEwcDAQACAQIDAhAEBgEEBwIABhAEBAUCBQoCAAYNAwQDBwYLBQUECgQFAgcFAwEGBwMLBwIHEAYFBAUFAgQECgQJCQENAwMHBQoGCBUHAAICAQQBDQcGAgUDCgYCAQQBBAMAAAAAAAYCCAoEBgcDCAMFDQIBAwYFBgICFAYCAgILBggGBwIJBgYIAgUDAwMJCgEEAgQEAgoCBAkDBQEEAgoGAQ8LBQUDAwUIAwcBAwICBAMEDA4CAQEEAwUABQEBBAYHBgAFAQMDBAIPBwMHCwkIBQQEBwUIAQ0NAgYOAwwHCAMHAgsFAQQDCgcKAw8CBQcDAAoEBQQDAgMBAwwLEQUCAwQBBQEEBgsJAgoMBgQEEAgKBggHBwgCBwUHCQMIAQMDBAMGBwQLCAgBBgACCgkBAgMEAQABAw8NBAUECgkHBwwIBQQSBAQNBQ0EAgkKBQUDCwECAwMJEAMCBAUCAQAJCAUEBQQFEgICDQgPBQgEAwMACgIDEwMGAgEICwYJDAIFBQAPCAkEBQIEAQ4FBgwFBQULCQYCAgUDAgEPEAQDAA0BBAIMCwMFAwoICwoEDQUVDQMMAgQDAAQMBAYCBAQDBAQEDQEDCgMPDQIEDRMNBAQFAQQDAgIDBwoBBAEFBAEGCQ0HAwYHBwUOAAoHBgMRBQcDBAADBgkEDgMEBBAFAhcGBwIDBwQDBAYEAgcJAAACBAIECAgHCAYLBwIBAAECAQILEhMTDAkXDAUJCwMKBgUABQUCBAgBCAsHAQEFBgQGBQcJBg4FCAsFAwUBBAIEBQ8HCAkEAwgDBgQBAQINDgwECwgEAgYSAwMGAwYGBAMLBQQMCwUECQwDBQIKBggCCAkBBAUDAwcNBAoFBwECBAwCBgEIAAUFAAIHAgYQBgEBCAcDAQQBAgQBDAIDBQQJEAIGBgQBBgIEBAUBAgICBQsDBhALAggCBgICAwEBBQoFAgQCDAcBAgITCwECAxQCBAwJBAYGCwQHCAUNAQEDBQ4BCgUCAw8CAAIEBAQACwYGCAUFCQEFAgcIAwIDBwgGCQYCBgkPAwUDAwACBwkKBgUGBQEHAwgJBwcCAgEABQUGCQMDAAMRAhAKAxYHBQIEBgcEAwwFCgUBAggHBwcCEAwEBwMFCAkDDhEIBgcPDQQGBAgKAwgHEAcFCQgFBQcDAAcKAQcGBgkIBAIPBwMFBQcIEQcHBAoHAQcEAgADBwoMBBEFDwMGBwcGEAcHBwUECgMUDQMECAUFAAQBAAsDBRQGChADBQMNBwUFCQULBwMBAwIAAAMOEQYDAQQDAQAABgIPAQQHBQECAQMCBAIAAwMKAwUBCgQEBAoDAQoCBw8DBRABAgQDAwEBAwIECgcHAwoDDQMGBAABAAEEARIIBQQFBwMFAQkGCAYBBgAFAgMGCAoCCQULAgYDAwAMBgsDAQQIBQgEFgQBBgIOBwcDCAUDAwUDAAEBBAoGCggKAAMFAw0HCgUKBxICBgIECAwFBQMHAgICAAUAAQoCBAcQAgADCgEEDgQHAgIEBgMCDgMGAQUFCA8TBAkAAwIFAwwKCwEDCQcGFgcBCAQJAAkLBQMHCQoIBAYAAAYABQkGCAkICgUGCAYBBAQFBAgLBgUEAgQEBQwCAQMDAwoFBQoDAhINCAMNBwgDDQkEAgkHDAgJAQQEBAUBAgcCAQIDDAMGBAMEAQIIAQEAAwEBAA4GBQQGBAMBAwEBAQEDDQkCBAUICQ0BBQcCBwMGAggJBgUFBAwDAgYCAwAEBAMDAAIJBgUDAQ0LDgcGAQAAAAUNAgYHBQwHBgAFDAUEAQQRAgQDBwsEBAEDCAgDAw4YFwQGCg0HCQAFEgUGAQMDCAEEAAoHBgUDCwgBAgEGDQMEBgEEBwUGBQECBAEBBhQCBwMDAwcEBAUKAQYTBgMEBAcGAgEGBQECAgAABwQGBwYREgUCAgIOBQYEBggLAwAFBQgEAQwIBQUBAQEBAwMFBgIGCBIECgMFBQEGAAQGCAQTFAECBwYBBQECAgIDCAcQBgMGBQcCDAsGBAoHAwQJBgIEAQEFEAkFBgwKCwcDBQYIAwIJBQsCBwYHBw0EBgIFBQIFEQkGHAsUHQ0HBAcICAMEEg4IBAADAwADAAMFDAQHAAsTBQYNAREGAgMBBQIBAQgFCAAHAgYBBAAGCAEBAwIHBwEOAgwCEgkPBgYFAgMEBQMHCgsDAwYCBAADBwMEDQMFBQQBCg4CDQMCAwMJAwAEAQUACAYEBAsJAwMFBQEDAQACBwoEBAUFAAAJCQMDBQADBAEEBhEDAgYAAQsBCAYCCgAFAwYBBQECAAgIAwIDAQIABgMEBAcLAQABAgIBEgMNBAMHAgQGDgcECgUDAgMDAQEEAwIHAgwFBgQCCgICDwoICwEBBgwOCAYGBwEBCQMEAwMBAg0EBAoHCAUPDQMDBAQIBQYEAQEBDAYBBQQBAQAFCwMDEwABCgELBAICCAMBCwYHDQQMBgMDAQgABQECAgoHBwYEAgIJCAYJAQsQBAUHDgEDAgMDAAYGBgQCAwEBAgEBCwwDCAICAwYBAAcBCwUGDQgICQwGEAUGDQMIBAMGAwMDAQQEDQQCDAgDBAMDCAsHCwMMBAgECAYFAQEAAgAICggGBgQECgMEBQIBEAcHBgQKDAUFFAELAQkDBgkGAwIHEgEBBQgDEQ0DCgUDBQsDCAIFCwgLBwEJAwQBAgMAAAAAAAQIAwIEBQQFAAUDBwwEAgcHAwMJCwMCAgsFAQEAAQkEAwMABA0GBgIFAQsEAAQTAgsJBQYSBAQDAgUHAgQBDAsDCAgFBgoLAwIFAwAFCgMFAgkFCAMBAQQCAgIFAgUDAwcBBQQMAwYDCAUCBgIAAxAHCAQMAQYCAwYRBgcGChMDBQYKBQQOAQcGEAYIAwUJCAsDCgMFCwUECgcKAgQDAwMHDAQFBAoLAwUBAAEABAULAAgBBAILAwEDAAMACgEIBQcCBAgDBgoJAAICAQEKBwUDAwUCAwQGAgwJCQAXAAgHBAsFDgMGAAEAAAELAQYEBAYHDAcJDQgPAQcECQQDBREFBgkQBAYFCA0GBgYBBAkFAQUCAQEFAgQEAgMDAQcWBgYGCgUaAwMHBwYDBQoGBwkHBgIIDwQDBwMGCQECCQAAEQcEAgcNBgMDDAAAAAUEAQ4IDAgNBQIFBgUCBAEDBgcGBgQXAg0NBAQBBAYFAw8GAw0DCwcEBBQPBAICDAcGAgULDgcECQcMBgIFAgcGAwUHAgIEAQQDEAEABAMDCwIEEQUUDgUJBAQDEQ4HEwUIBgoDBgIDAQIBAAYGAAkLCQcFAwQFAwYAAAIAAgQDCAUJBQIEBQICDgAKCAMEAwYEAQQGCgUDAQEAAAEMBg0HCw8EGQgFBQQLDQMUBw0GAgkODQcMCwUHAwUIAQYIBAQCAQAFBgIEBAELCwECBQQGAgUDCAwKAwQSCAgGAwgCCgcQAQEAAQACAQkDBwMEBwQNBAkEAQgBAwAMBQ8FBQYNBgMNAwIDAgIBAhAEAgQIBwIAAwAFAwMCAQgXCgQDAQICAQIMBAYIAwQIBAMJBwwFBAsDBQcJCAQBBQYBBQ8ECQcCAQAEAQYLCggECQICBAYKCAYAAQIHBQAECg4NAgwDBAcDDAkIAgQHDw4IBAYEAQIFBBEDCwECCAYMCAECBAACAQsNBgMIAQIDAwACAwQAAwIGAw0KCw0KAwYKBwcEBwYOAgUAAQcDAwUJEgEGBgIJAgYJBgkFCAsFBQQEBAYCCgoEAQQDAwEKEwUHCA0FBAQEAwUCBQMLBggGAwoDDQcLDw0MCQECAQMABAUFCAcHAQABAgABAwYHBgABBAMDAgUMDAQNAg4CAwIFAgMCBg4DCAECAwQGBwMAAQAABAUEAwYDBAMCBQcMBQcGCwgRDQ8IDhQICAYEAwsDAgMBAAACCAUEAAsFDQYCBwYGAwYBAAEKAAMHAwEDBQwKAQkOBQwOCAQCBwUICAUECwEIBgkGBgkEAgEBCwQEBwMCBQQIBgMCAwgQAwMFBQIHAwkIAAIFAgMAAgsCAQgKBA0DCQIIAgYBAQQCAQIDDAQGDQIAAwkBAQADAQIFAQcHAQMFAQICAQMEAAIEDAcDCgIEBQEIAgICAAEDAwgGCAIDAQ8FAQEBAAIGBAEBAQgCDAkFAgIDCQUGEwcEBAEBAgEBAwMCBQoFBwwDAwkGCQYGDw0HBAMFCQUECQEDAgIKBQQDCwQMBwMJBwcGCAMEAAABAQADAgUCAQIPCAMDAQYBAgQMAggIAQoMAQgAAQAFAgoFAgsBBQcHEAQFBggEBQQDBggEAQMBAAUBAgMJBQMSDAIHCAoFDwcEBQQMDgMHCQMNAgoMDgEIDQYPBAYDBAYGBAsMBAYICQUFCwMSBw4CAwQAAQQEDwIHAQMFDQcFBwICEAAEAwEAAgAIDwIJABMGAQUEBQcGBwIAAgMBAwIIAw4DCwcCAwIDBAgBAwgABQECBQYQBQgDCQMIBQYCAgIBEAILFgEVBAIIAgMCAgACBAcGBgcNCAoGCwUJCAIDEAYDBQoHCgINBwAEAgEBAQoEBgkMCQMEAQMECAcDBwECAwEHCgcFAgMMBAkGBAMFBAAKBQYFAwQACAQFAwMDAwACAg0EEQQJCBAIAwIHBAMDBggFCAUFAwIBBgMGBQgOAgIDAggEDRcLBgcCCAAIAwkNCA4MBgUBAQILCQIBAgEAAwMDAQADBggKAwMDCgUPBAICBwEADgEDAwsEAQEAAAIHDAICBQUFCwYLBwQDAgIAAQEAAwoJBwEAAQIDAgQJBAQEBwUGAgIDCwUGCAICAAABBwQJDgYCAwEBBQcDAwAGFgUHBgcDCgECAxQJAQQIBggIAgcCAwYAAwUPAgcGEAYJBQQFAwYSAQIABQUEEwMEAQkEBgkEBAoECQYDAQIBBAMMAwIFAwIDBgACCQMDFgIGBAcDAwQPEAMABQgBAwMEBQIBAAoJAgEDAwoBBAcBCQcEBQIJBQoMAQUGAAQCAQAABRIBCgAGBwkCAQUFAQIBAgUIBwEGBQoBEwIBAQEDAgcDBAkECQMBAAMGCQUDBAYFCgIHCAgFAgUHCQcICAUHDQIFEAUMCgUGAgwKDgQCAAQABBAMBAcHBgwFBQcIAwACAQMDBAANCQkEAwADCAYCDQ4DBgMCAgIAAAMECwoFBAIJBA4ABgMAAAIDBAEAAAgGBwUKBQERBAoCAAQDDgYDAwQBBAMABRABCQgGAwoJBBIEBAQGAwsGBgQDEAoGAgIDCQcBAwUKBgQDBQICAgMICggEDwMCBgIFDwAEBwUGCgMKAgEFAQcBCAkEAQoCBgIEAQUFCgUKAwkCAQECAQABAQIDCwgBDgIOBQUACgYBBAkJCgECBAUNBQQJDBMFBwIEAgAGCA0LBgMFEQwFAwMLDAkLAwYEBwIHBgIIBQYFCAcKAwACAQAFAgYHAggDBAUJAwYNAgUECgUCBAUGAAIBChERBgkGBQ8EDgIGCggPAwAAAgQGEwwMDwABAAAABQUMBgoDEAUCBQICBAECBQ8IBAMMAgUBDwYLEAQUBQMBBA8BAQMBAQYKAwEBAQoFBAYQBAcEBAoBAgUEAAIBAAIEDQ4DBwQGCAcKDgIDBAkFAwEGAQgACQYABQkKBQIDBQkDCQIDAQICBQ0EAxIBAwADAwEBAAEDCQoFAQMCAwEEAgYCCAYGAxACBAIOCQQDAwUEAQMBAwEEDQUABgECAA8DBAEFAwEEBQMKBAUIBwEGCwQGAAEAAgMLCwUKBwMEBAUDCwgCDwgBAAQEAggDAgsKDAEOCgsJBQwEBAIKAAoYDQUGAQEABAIBAwAXCwkJBg8RDgcGBQ0HBAQFAwEAAgYFAgQAAQEBAwUDAwoGCQgQAwYEBwMCDQgBCgMIBggEAgAEBA4GAQcLBQIDAggHAwQAAwEDCAMEBQIGAQEFAwQDAgcMAgUAAwcCBAQCBxAQAQUCAQMCAgEBBgkCBAkDBAQCAwIBAAcCAwoBCgQDBQQCAwYCEBEHDQMNAwMDDQULBAsFAQILCQIDAgYPAwUBAgIBAAECDAgIBA0OAggHBQMAAwEDCwENDAcFAgIHBAQFAQUICAQLBgQBBQMAAw0NAQUBBQUGAgIHBQgCCgMGAAEDAAMBCQAEDAgHBAQJAgUABQsGBAYDBwIGBAoHAQsCAgMCAQELBgUDBQEEBwUCAgACAwAAAgIHBQIDBgUCEQMFBgwEBwUEAQQFEAEEBg4HBgQQAwEGAQQDBwUBAAEBAAADCAUABAgHCAgDAwICCAIHBwYJAQwRDAAKCRIOBwIGBwYCAwYBAgQDBAsBCQYJAxABAAECAQEDBAQGDAQIAgICAgIABAIDBgkMCwMJBAYCCQsKDAoGBwwICgEEAgQFAwYEAgUBBQwQAwEDCwwGAwEDAgcIAQoCCwYLAQEJAwMHGQYGDQEGAhEKDgoFBAQDCQUFAgMIBAECAxAFDQQJCwMOEAIHBQcOCwUECQEOAgEBBQUHAwEHCAQEBAUCCQgPAgUIBAYCDQcEAgcLAxUCAAcAAgACCA8ICQ8NEQYGFgMMBwQHBwcMCQEDAQMCDw0JCQUFAgYBAhQFBAQKBgsKAgcLAw0CCgQNBQIBDAYBCQwFBgMCAAcLBQIEDgUCBQMGBAYFAgYKBgQNBQMEBAYOCQIDAwABBAQACwQBBQMGDQQKBQIHBggIAgIGAgEGEQUDBAoJAgQEBQMCAwQEAgoBBQgHDwsLCQEICwQIBwUBCgIBBAADCAUIAwUEAwcAAgwEAwQCAwcIBgQGBgICAgIEAQgDDgcGAQgDAQcBAwcFBQkDAwUFAQYIDAYDBgUGDg0GAAQCAgIBBgMaCgQEBQIDBQIKBwUIAg0FDQQIBgkHBQEDBwEBBAIBAQYNDAEDCgQJCA0CAQQFAwEBAgEABAAFCAQFBgQDAQIOBwMIBwIKBAgEAwgEAgMNCAIMBgkJAQIECgsJBQUAAgMDDQEEBgcHAgQEAQMBEhMOBw0FCQIDBgMEBQcBBgULCwcJBQEJCg0EBgMHAwIBBQgEDAECBAkECQIGAQIDAAcHBwUPAwkJCwIEBAEBBgcFDwkECAIGDA8MCg4FBwACAAMIBQMFCgUDBQQDAQIBAAINDQkFAQEDAgAEAQYCCAMFEQ0JCQYLAxACDw8DBhICAgQEBQcCDwYWCwUFAwcCAQECAgMCBAMEBAULBgQMBgUQCQEEDAcGBQAGEQ8HBAMBEgYKAgEEBAABAQACBAEABQcNCgQEAQEBAgEJCQcMBAwHBRICBAUHAgMMDgUGCgcFBwUFAgIFBAcFCAsHAwgMBAMJAAQGAgEECxYDBgUCAgMAAgsABQoDAAEFBAQIAgIIBwoMAwQFDgYEEAQLAAYDAwMFAgYFEgwEAQgDBAMCAgsECQYEAgQBAgQEBxgOCAICAwMEAQUIAQEICQUFCQoJAwADDQYIAAMBAgQEAAsDBQQEAwwJCAYGBAoPAggDBAMJBAcFAAEKAQEEAgIGAQYCBAcEBAMKAAQGCAgBBAoACRAHBQEAAwcDBQYLAQgDAQMGAgMHCAEEAQICCQEJBQgEAQEEAgcEDQsCCAQICgsAAAgHAQgBAAYFAg4EAwACAhAJCQYKAwsDAAEEBAYEAggGAwIBCgMEBQgLAQsIAw8FCwcCBwgECQYCCgQHDgABAQEACAcDAQIDDQADBwIBAQADCgQNBAcGAwEGABAGDAcHDQQIAQIJCwMIDQ4FDwkDAgsDAwMHEQQFDggSAwcFBgMGBQEBAQEAAgILBAAHBQIFDQUGDw0DBA0HAwMDBQcEAgMCEgsDAggBBgECBwgBAAMKCwMFCQUGBQMDDgoFAQQJCwMGDQoGAAICAgUEAgEQAgcFCAQNBAADCwUPAQUGBwgHBwIGBAIECwUJBQUMBAEJAgQCAgQFAxgIBwcMDwcDCAUGBwIECAQECRkFDwYHCQkGBwIABQIGBAEBAgEAAA8SBQMECAIUAAkJBAkKBQYICAcFDAUREAQCAgIFAwkMBAQLAQEBAQEJAQIHBAgNAAMIBAYGAAIMCgcCBAcAAQIDCg0CAxEBBQECFgEEBgEBCAURBgYGBwcHBgAAAgEBEwYOBw4KDgoECwQBAQIBDQgEAgMJCQwGBwEHBQMEAAIABQIPBQcDBAIGAgUKAwwKCBwCAQIAAAQCAgIMDQ4EBwYEAg4EAwECBAACCQUHBQIHAggBCgQCAQMDDBECAgQLCAUHBQkHBQMFAAACAwIPAwgGAgIHAgIABhALBwUIAgEBBQoOAggCDQIBDAoOBAMLAQoCAQMEAgAAAAAFAQkDCwgCDgYGBgAAAwEDBQIFAAcEAgMDCAsBAQABBwIBAQsHAQIECwkEAwIBAAADAgkGDAEADAcNBgMICgYEAQkCCQICAQICAAIDDQMJAggTABADBREACBEPFQUAFwYDAAAAAwwCAwIBAwkCCBIKBg4CAQgEAQAEBwcJAgsEAwcDCAICAwEGCwcQAwIKCwMBBwoJCAgJCQQCAAEBAQQDAgcNBggCAQ0HCAcKDwYABgoGCAUOBwQCAgMDBAMAAxIKBAgDFQgICwoHBA4DAgUSBAEBAQMCAQYDCA8BAQUDBwIEGAYKBQcAAgEDBQUBBgcHCgUKCQYHBAECBxMCBAYDDA8DBgUGBQYGARIEAQMAAwIDAgEEAQAAEAQCBQIHEQcHAAIUBBMDAgcEBAEGBwkMBAEDCAsCDAgFBgQJCgUJBxIJEAcIDwsIAQcCBgQFBAgKAQkCAgEABwEHDAUDBwIHAgUGAQICAQIECQkDAwIHBgICCgIUAQIEAwMEAgsCBwULCgEDFAECCAQMAgEBAQAJBRMMBAgDAwIGAwAAAAEABAUQCwMAAgEAAAMFCQQFChsBBAESCQkKDgQAAwELAwsEBgUHBwwKBgQAAQAABgkHBwMZCAcEAQsQAAELAAURAwMCAAUBAhYHBgUGBgMKBQoACAQCBgYMBwkKCAICAQcCAgECAhgOBgQBAwUCBAEQAwMDAwEDAwUBAAAFExIQAgcCAwkEBAEIAAcFAgIFBAABBAULDwQEAQMCBgIMAg4CAwEFAQMBCQwLCgUSDwQDBgURAAsQCgYOBwoIDgcGBQwECAUCBAIIBQcDAgcBAQMFDAUMBAMBAwMLAgYFBBMDAxILCQEDAQAFAxQOAgoDBgIDBwIKBQUCAgQHAwQeBggDCgQLDQMBAQMBAQYIAwQECAcFAwMOAwICCgEDAwMCDQoFBgIDAwMDAQYTAwEBBwYDBAMGBxADCwIBBgQBAAoDEQQJBAMTCAsDAQEFCQQCAwkFAwcCCAMGAAoDDgQDAwcDCQoIAwQDAwUBBwwIBAcBAAQAAQAMCAMDCQQHDAEDBQQFBRUCCAMIBgYMBAMBAQAAAAQBBAgEAQAAAAEDAQcEAgsHBwYFAgIJDg0BAQIAAQoEAgICAwoKBhIFAgYICgQEBAADAAYEBQgABAEDAgUGAwQDChADCwQLDgQDBwIRFQMGDgIGBQcCAgQBAAIEBRIDAwMBBQEGDwUEAAECAgQCAwsDAQIJAwgIDwgFBgYAAgEEAgIDBgEGAhAEBgYDBwcAEAYJDggHAwwGDAUEAgACAQMGAwUGAQQKBQwFAQQDAg8DBwAFAQELAwYBCAAICgIBBgMEAgUFAwsABQENCwcBAwUGAwIMBAgCCAcLAwwIAQcKAQYHBgwIAQUDBAEHCAUMCBAGCwYHAwACAgAOBQkKAwcNBgsCBAUEAgcOBgUGBAAAAwIEBwIKAQQFAwcFAAsICAICBAgCAggAAQEDAgcECgAJBQ8IBQEJCAQEBAMFBAEDFAgFCgIHDAIDBAUACgMABBQEDwQIEQEBCQgBBAQCCQsKBwEIDQEFBQMLBQ4BAgEBCQYMBwYBBQYCBgIBCgoHAggEBAsDAwoQBAICCQ8YBgELDgIKBgECBQIECwAEAQAfBAIBBwoNCAoFAwMJAgMJBQsIBQcFCQwGBAYHBgECBAILCAUKBwIGDwkEAgMFCwECAggMDAEFAwgJCQUIBAUIAwQDBgkCCgwIDwUCAQIGAgUEEAcFBgUCBQEFBg4CCgIFAAICCQULBQMNCwcDBAkEBwELCQQEAgMAAQEAAgYFBAgDBgMIBgIECwkBAgAMCw8IDQEGAwIBBQUDAAkGAwYGAQUABAEABQQBBQcODAMDCAoLBAYABQICAgEHBQMEAggGAgYAAAMBAwcCCwUFAgEDAgAEBwIDBgIEAQEBBgMDAwEMDgQBAgQDCAgGCgQFBgIDAwYHAgwEBAkGAQEICgIDAwIFAQgHCAcDBQkMCQYBCgcFBggDCgkDBgADCAECBwcCBwECAgMACwIFCg4GBw4IBwMBAQECCwQDAgcFBwUAAwMDAwQBAgYHBgQKCgUHCgsOAwQBAgUGAwYCBQICAQkGBAIGAgIABQECAAgKBA8GBgUBCgIDAwoMARAADwMHAwYFEQQGEQMHCg8MEQMAAAYAAQIDAwIBAQQCAAgDCAQEAgUBAAECBQILBAEFAwEABggJCAcBAwECBQoFBgEEBQwIAgEHBQQCBwEBBAIADwMLBgcHBxEHBAABAwECCQ8IDQYJBgIEBAMDBAsCCAcEBAsBCQMAAAMLBAoDCAYOBAIDBwUBAQ0FAQQCAAACAAEDBAQFCAUCDAQFAwkEAwYFBQgLBwIHAAgECAwLBgAEBwYCAgUMEQkCAAMCAwcHBQYPAwgKEggCAxEEBQQABQYDAAMLBQsFBwYHAgwFAwABAQwDBAgSEgcFAQYDAgMFAgwCCAQFBgkICQUCAQIBAQgIBgQDAwEAAgILCBEHAQQMBwEDBQMMCgECBAIGBAkFCAMFBQMEAQMMCAgGAgIGBwIFCQkMAwkDBAQBBgYGBAMECgcNAQIFAwcQAgQFBgIHBQcOBAUFCwQNBgMEAQQCCgkHBwEIAQUFBwEAAAAECAEHCAQMAgcJCwEHCwMEBQUICQEGBQMHBAkHBgcGBAgDBgwDAAUFAw0GBggEBQQODwMCBAcEBQMCCgQFBAgHDgUDAwcHAwMLCQYFAgYBBAEHAwoDAwMCBwUAChUHBggFBAkFCAYEAgQCDQcJBAILCAYBDQQBEQoEDQsGBgYGCgsJAQoIAAkFAwEDBAEEBw8JDwYGCAQHBxMMBQMDBAEBAxULBwYEBQEHBwEMBwQFBwUGBAYFBwICBQIKCQEKAwIHAwgEDAkEAwMDBREKBgYKBAEECAEHEAQOGAYMAwodCAUHAQQCAwcaDAQLBAUDEAEGCggICQIHCwYRBQcECgQHBgMDAQIFCAkHAwUFAQoDAgADAwAGCAQQAggKCgYGAgEBAgQFBQUBAgABAQICDQwKAwIDAwcEAwoHDQgFBwkGBwYCAQEDAg0IAAADDwoFDgQJBgkKAwYPAQMKAAAFAgYFBAkLBQwEAgEACAUICAMJDAgEBAUIAgABBRACBQUBDgUBBAkCBwYFBQQFBAQDBgMDAwoNAwUEAw0UCAMFCwMEBAECAwIBCQcGBAAMEAMLBwMWBgcFAwMBAgIBCQoFBwIGAwEFAgMJBgIFDAMRAAYIBwEHCwoQAwUGBgwAAgADAwMCAwAGBgUJAgUGEAEGAwIDCwcKDgAABAEFAgkHBwUGCgMKBAoCBAUEDQsEBhIGBA0SDg4GAwMBAwMJCAMEBQABAAEHBwMGAwYBCAIGAQECBQQFBQQCBwYDBBQCCQEIAgQHBQkECgcMDQAHBgMNAwUCAgACAwsPBwEDBQkRDAgGAgUFAgEIBgQMAQMDAQIEDwsDBgINCQwFAgoCAQIEBwoDAgACAQEIBAgIBgMBDQUCBgkHAQUFCAwECAIFBgIJAgQKAQUCAwQABgMKAgoDAgQEDAkNBgUBAwIHBwMDBQQGEAUFAAECBAMFBwUBBgUIBgMAAgIECgoFBwYDBQMBAwMAAgwMBQoCFAwDBwQEBQMDAQACAgQHBgAJBgECAAUAAQgGBQYCBgMCAQ0QAgMDCQkGBwgPBgwHGQUDBAIBAwAFBwgKAgQCAgEBAQICAgQHAQECCQoEFAYDCQkFAgcBAQAFBgMGARMJBwUDCgEEAgIFAwMKCAwLDAQGBQEDAwQAAAUCBAgGAQsFAwgWBQ8OBggDBQIFBw0DBAIEAAEEAw4DDQECAAIFBAMDDAQDAgQDAAUEAQUGDQEPCQEBAgIEAwsHAQsGCAMKAQYPAAEBBgECAwQDBgUIBQMIEgYFEgoIBAYGCgYFBQMFAAIGAQoFAwQHDQQEBAMEBAUAAQMIBwUCDwsHBQoCBgQDAgQCAAIEAgQNBQQDCwAMCwUFAQQOAwMDAgQCBQMTBAgJBxkJBBQCEgYDAwsHBwQGAwICBQcECwQDBAEKDAABAQIBCwEIAwUGBgQGCQQMCAoCCwkHAgMBBQMGAgcRCwUBAwQDBAsKBgYHBAUCAQIECAUDAgEKBAoJCAYEABYECAEJBwMJAwkNCAkDAQcJAwYMAwIBAgQKAgwGBAoIBAgDBgICBQUHBQcGAgUIDQUICwMHBwQCCQwEAgMHCAMRBAMPBwgJAgQABAQCCwkBCAcDCQgEAwcLBgYBAQIGAgQGBQ8CBhMFAgUUCAgGAgAPCQoLAQUFDQoGDQ0JDA0ABAIBAwkECwYIDggDAAcEBQUCAwcOAgcAAwECAQcFAwMIBAUFCQgDBQkBEwQEAQIBAgITAQ4HAgIGBQYJBAEEAgkMBwcFAQMFAAkCCwYBCAcCBwMKBgoKDQcDCAMJBgEABAABBgcDBQAAAAQAAQsOBwkHAAkJBAEIBwgDAwEGAwYIAw0BEgwBChAIAQEMBAcBCQkJDgMBAAcCAwgNBgYDCwkGBgEFAgADBQIGAgIBAwsPAgcJDQsFEgUFBwsLAgEGDgIBAAAAAgIAAQACBAYCCQEPAxMFDAUCBAEEBQQVAgMJBAcEAgYHBQgGBQICBAECBAEGAQsLAQQDBgQDBQIICwkEBgUBBAIFDQoFBgIGCQQIDwkEBwQFBggJAQQCBAEHAwMKCwkGBAMIBgUFCwQIBQUFAQgECwcFBAMDBgUDAQkGDwMGBRAOCAYGCQIBAAIBBQEDBgEHCAIBAwkNAQsECAMIAgUFAgMPCAcICAYKBggEAAcGAAgCAwEEAAkECgEDAQ0MAg8IDAcKBwMDAAECBQIGBQgAAQEBAAMFAgEBBgIMAQMBAQAEAQwDBgcHDQIICwUFAgcEAwULAQIICQUEFwkFBgEBAQIGDAUEAgYLBAQBAgIBAgMGDg0DBAcFAQQRCAcGBAgJAQkFBAUFCAQHBQgOBAICAQQGDAcFCBAFAQYEAAUCAwwKAQQCAAELBAUCBRcECAgOAgMGBQ0KBQgCEA0FAgYJCgQMAgcIBAIHAwAFBgUABwcLCwcBBAYPCwMMDAMGBwEIAgMCBgIGDwEHEgINAQMCBQMJAwEDDAIKAgABBAkNCgkKDQgWBAkBBAUDCQUFBgkMBw4GAAsCBQgDAgYECAANBQMNBwIHAwYEAAQFAQAJDgIDBwsOBggGAAIEBAIDDQ0IBgIHAwIGAgACAgALCwMIBQQJAAABBAMJBQYHGAICAgwKFAgABAUECQMCDAUHBgEGAgEBBgYGDQoCBAgEBAgDBwYMAAsCBwEOBwgCBgQABQICBQQFCQQDCggHBQUGBQULBAkKEg8FBg8DBAEAAwEACwkEBAkLDAwGCA8KCAYPAAUSBgMGBgIFBAEEAAEBCwUEDwUJDQIMAQwGCgsBAQIBAgQTEAEDBAICAwQBBQQIBQwOAgECAAMDAAQFAQwFBhIHCQ0GDwIJBwYIERAGCgcFAwkCBwYGAwgFDQUHBgQGBQEIBQEDBQMEBAoEAg8FAgADAQMDBQIEAQoFDAsEBBADBAcHEgQEDAQNBgcMBAwDBQcFAwYIAQACBwMHBAYFAQETAAUEBQsCBgAHDgkGFAQHBQEFCAoFBQUDAwEEAQoJBQkHDwYGBAMBAAACAQ4HBgUCBQACAQMFAQcIBAgKFAQPBQ8DAwINCw0DCgIPCAsCAwgGBwIIBwoIBgYDCAICBgkBAQEJBQgMBQYEAQMGBwgDCAYGAgMDAQwDBwMPBRADAwoBAAMDBRQKEAUFDgoIAQgGCQYDBA4DBQYMAggCEAQHAwAEAgIDBQQMBQQEBQQKBAoFBwQDBgMCDQkCDQIGBAUAAQIJCw0GCwgTBAQBCAQOCRESAgINCwcHAgMGBwYICg8NCRAFCxMTBQEKDQgKBAADAAEHBAMKFwoEBgYHCQsDCwQDAgECBQMJAQMCAQIDCAUMAwQIBgsECwcKBAkGBQ0KAwMGAAUHBA0UAgMCBAYMBAQLBw0AAwIEAgcIDQYCAwYIBAAFBgcHAA4JAwIGDgUMBQQHBAkCAAgGCgIABQoBBwEDCwMIAxECEAYCBAYGDAUGBAoDAAAICAYCBQ0PAwQFBw4EAQMDAwUECAkFCAoCDAsJAQABCAMDCAcEDwECBAQLBQMFAwAACQYDBAYJEAUGAwgGBQIDAgMFAgEEAwsKAgUECQQDCgQCCQIFBAQKCAEEAwYCDQYLBQMGBQUGAQwLBAQBAAkFBAYCAAIBAAUJAQMEAhAHAwQCAQYCBQsBBwMIDAADAwMGBgYEAwcBDwUEBAQFAgMABQILBg8GBgMDBwQIDg8DAwoDAQADAgMCBAsOBAQPDgwIBREMDQsCAgMIBwIOEgAECQgIBwkJAgQMAQICDwIEBwICAQMABwwBBggDBQMCAgYDBgcIAwUGAwMABAcFBQQGAgoCCAsMBgIIBggKCAAECQ0FAAAAAwEBAwIGBQMKBQgMCA4OBQ8JAwUQCQYFBQsCCQoLBgURBwgBBQMIAwMFBBIFAQMGAwcDBAkNBwoDAg8PCAYFBgEGBwQCCgADAwAEBAIGCwgDAgQLBwUNAwMIBwsCAwQFCAYCAgIACg4ICQsIAw0HBQUEBgIECxkCAwIBAgABAgUICAMCAxILAwMEBBECAgMKBgAFCwYNBQIEBQEFEAgJCwgSDQgFAwUBBgoIARAHCAUIAggHAgEKAwQGCwcEEQYJBwcKCRIFCAMBBQQNCgAFBAEBAQ4EAgQKBQUFAgUOCQQDCQIBAwANAREKBhEFAQQIBAQBCwoMCAUBBQQEBgYOBQsFDxANBQcFBgkJBAkFEAgLAQUCAgQMAQgDDQcHBQUJEwQSBBIEDQYRBwMAAwIJAQMDAQYJBA0HBwcEAgQJDAoECgsMBxQJBQ8HCAkQBAUGCAoBAwkDBQIDAAQFAAcGCAUCBQ8EBQEFBwILCgUGBwECAwMCCBEDBQIGBAYECQUEBQQDFgwDAgcDBAMAAgMBCgkEEAUGBgsIDAEIAQMLBgsECQUHAwMBBgEBAQQCDQYABg8DAgIIGwgGAwUCAQIDAgMICAMCBwMKAwEDAwIBBw4CCQIQCAwJAggGBAcDBAYDBgQKBwIBAAEFBAIFAgMFAwILAwcHDAMRBgQEAwEEAQQIBAgJFAEDAwIEAQICAwIEAQEKBBQDBA0BBQYGBQIHAwMBBwkKCggDBgkFCgYDBQIJAgMLAgsDBQQCAgIGAwMBAw0FBAkBBgQMBQkOAAoIDAYCCAQCAgkPAwUEBwQEAQ0KAQYDCxEIAgwMBAkFFA0HDgEHAgEIAQgKBQYFBQADAgEBDAkDBQYJBwcDBAYCBgQBCAkGAwoJAw0DCQMFBgUCBwUBBAkKDAoGBwMKAw4PAgQQBQIDAgUCAw0JBQgDBwYJBAYEEQoECwcICwQCAwUEAgETCQkCAgYCCgUBDgkIAwIDBwkKBAIGAwAFCAYJAAcIBwQFBwMCBgYBCwgDAwgHBAECBBAPCQgFBwECAQUECQYFAAgEDAcHAwEBBQIBAwYSAQkEAgYDCAkFEgILDgQNDQMMCwoGBwoJBQYHDggHAwECAgEABgQGBgsMCwcJAxECCgEBDQQNBAYDAgYFBgICBQcKAQMECgMHDwcGBgMMAwYKCRkKAwQGCgcLBwkFCAkDDxELCAQBBAIAAwMHBgsHDQsICgINEAIKBQoJCwUFCwkFAQwBAQUHAwEHAQsDAwkWCAQDCAsRDAUNCAUCCQkFAQQHCQMDBAIEBQYABggIAAQBBQ0PAgMMBgMXBgQLAgoDAwEDCQkNBAQRBAUMCgcAAQQBAwcEDAMDAxAQAQ0GCAUGBwMDAwECBgsBAgMCDQsFAgYHCAwFCAgFDw4FAwwHAAgNBxQBBQENAwoFBwABCgcEAgEJBgMUBQgSCQwDAAMKBAwHAwYABQESAQgCBQoKBgIMBw0FBwYGBAIAAwkOBgIBBQUACAELAQUCCwMCAQIEDwEGBAEDAQABAAUFBwsCCQIDAAATCgoBBQIEDwEDCAcCDQMGBQAPAQYCAQgIBAYBBQUAAwMAAwoLCAMNBgYEBQEGBwADAgUTCgIGAQIGBgIGBwsKBQcSCAcBBQQGEAIDDgYOCAEEBwEDBAsLAQ0FAwAEAwEGDwoBAwECAAANBgQDDgcGBgQFBQELEgcLFQsFCAcDBgECDQoDBQQSBQUFBAYIDwoDAgIDCAIFBQYUBg0DCwYRCwADDQQFCAACAQsRCwUEAwgBBAAHAQQDFwQCAwMBCQYIAgICCgYJAwEDAgABCAwMCAUDAwICAQgHCQcFAgMAAwMFBAQEAwoNDwYKAggGDwcCAQAABBEFDAIPDwIXCwkEBAUDBAYIGBMFDgkLDg4KAgMOBAIJAQACBQoGCwkKAgYHBQwIDAgPCAkIAw0ICAoVCAcIBggPBAYBAwMDDAUTBAQCBwYDCwMPBgMKDAwCBgICBBICAQIJBAMUBwoHBAMOCgkFAQMEAQICCwQFCQwHBQMJAgQFAgYGAQMEAQYKBgYFBwoKAwEJCAwGAgACBQcGBRQNCQQPCgIDCQYCBgAIDwQFCAgEAAEBBAUGDhACAgIEAAEIAwQJEQsSAwQPAwYKCwMCAQYCAQMHDQoGAQIBAgILCxgDCQgOBgUABwcHBgEDAgsDAw0NBQwKBAgPAgMDBAIEBgQQAwEcAgICAgENCQEBDAgCBgIEBxQCDgIHCAQECAANAwkEEAsJCxAECAsHEQoICwMFBAMIAAQDDAMJAgICAQICBgQPBQQFAwQBCAYEAA4IDwkIBQkHAg0FBQcCAxQEAQcCAgIMBAICAgoABREDBAMHDAUGAwUGBwADAAEACA4CAgQMAgoCBAgCAgsHAQMKCAENBgwEBAcFCgsCAQQAAwMNBAMEAwcDDQYFBAEHDgULBAYGAAMKAA4IDQUCDAMEDwQMCQEDAQsIAgEJBw4FAhABAwIBAwICBQYDBgcNDQoFBQUEDAwPAgkFCgQHAQcBBAAHBAMCBAUDBgcNBQcNCAIFAwUBBAcHDwgIBA0DAgcGAwEDBAEKBgIGBxQCBAUOCwEGCAwIBgQEBwUGBQoFEgMFBgoLAgEFBQgHFAsCBQUGAgkFAwMMBBALBQoDAgELAwgIBRAFBAgFBg0ECAcEBwACAwEGEAUDBAMDCQMDBwcSCQoHDgcDBQsHBQEDDgMGBAkMAwULBggHBQMHBggHBQUAAwAFAQ0DAwYDBAMIAQ0LDAQCCAQGAwMCCQgQBAIDAwgNAggBCggFAxIBDQoCCwQGBQMICAMAAgMLCgICBQUABAMGCwcSDwgIAgkCDgMHBQsECgcBCQsCAgQZAQkRAQcCDgcIAgUCAQUBCQkVAgoECQYICQQFFwUIEwcKBgEIBAwDAgQBAxMGAgEDAQ0JEAkHAAgTDAwGBAYEAQEBAQMGAwkEBQcIBQcQBwYGAwIGCAECBAoFAw8PCQoHEQQGCAwGAQkJBgoEDAIFCAkCBRMJBQUFBgQDDAUGBggIAAQAAgAHAwgBAwABAAEBAQQLDAIBAwIJAwcDBQoPAwIEAAIIBAQDBgEDBQYFAwQJBQEFBAwJAQcDEQsJBAwLCQMLBgcKBA0OBwQGBwILBQMAAQEBAg0DEA8BBAEQAQUFCgQSAgICBgIBCQQPBwIIBA0EAwULBQIWAgEBAgMMChEFBAIOCwoKAgUKCAgACQMDBwUIAgELCQEEBgEGCgMKAgIDAQIDBQwKBQMDBAkNCQsDAQICBgQDEAIYCgoCAQQFBwcCDwgJAgoLAQwDCAcBCAkFCgQKBQoHCgkJBAMNAQQHBwgCAQUEDwkFCAEHDgEUCwcJCAYHAgcCBwQGCRAEAwYJBxYIBQQGAgIBAwQRAgQDAQEJDQYJBwIBBgAOAwYLBgQHAwUDBAMHBRAIBRAVBwkICQIAAw8JAwYBAhQCCQkIBgcFDAIEBAcCDAcFBQkDAgoHBQsGCgELBBcEAgUGBgQIAAQDAQoGDBICBQUGBQQFAQQBCQYPBw0CCQcDAgQJBQQHDAgGCQUDBgUKCw8FCgwIBgMCCAoKAwkGBAUHAQIFAgQEDQcFAwUDChAEBgUGCAQDBwcCAgUEBgMAAAsFAgwHBAYCAgAGDQYEAAEAAQIBAAkKAQIIDQUDAQECBAADAgcRAwIFAQcCCA0HAggFCxQFAQYEBAMEAQgHBgMFDAcNAhMBCAQGBgUCAQACCwgJCgQTAwYQCgACBAEABAgIBgQDAgQJAQQGCgQMAwoECgQGCAQFAwUBAwMDCAUPBgoDBQEEAgYHBgUEBwcOBwELBAMMCQ0HAgIHCwgDBQ0IBgkIBQEBAAECCQgNBgcABQkHAwYHAQcEBwMCAwUEBQwEAwgMBAEGBQUGDgkBBQQCBAYBBAUDEQgEBggDCAMFBQEBBwEACAsECgMEAwADAxAFBAcKCAYDAwABAgMCBAsIDQEJAwYEBQYJAQIAAQEGBAUCCAcEFQYTCAcIBQgRBQIAAggRBQYEAgQBAgIJCg8CAgUBCRYDAwMCAgkABQMKBwMNDwABCAIJBQcKAgEFDQ4UBgAWBQMMBQgMDAIICQwDCAIJDxEACAkCDgQDBAIFAgMDDgcEDgEGAQMCBggKCAIMBwcCCgEEEQ8KAQUCAQgCAwABAwMNBwkIBAoGAQwBBQMEEAIHEQQIDQcXCwoFBAcFAwILBg8CCgkLBwYCBAsDGQEGDAcLAgMBAAUAAgYBBhAFCAEHARAJCAUCAwQDAgUJAwQFDQ0NDQcDAQQGBREKAQcEEgAJAwUHAQIBAAcDAwYQBgEDBwEHFQICAQoCCAQFBQQBAwAMAgkFBAYICgIDDgIKBgUKCAgECQAFCREIBQoCAwUDBgICAgYECAoECAoHEQEECAYGBQECBQMABQcIDgsIBAYGCQUICQYKBA4ADgwMDgUFAwMHDAQBCAAFCQQBBgQGAQANDAUKCAsDBAUNAQoDAwgBAAcHERAGAwQLBQcUBgMGBgkIAwMEBQADDQYGCgsSAQQDBQcDBQUPCgwFAwMFBAMGCwQFBAYCBg8FAwMEAwUCCAMFBAgEBAUGBAQDAgQDBQcDAwMKBwsEBBMGCQEJCAoPCQQOCQQHCgAHBgEBBggKAgYKAgUMAgYGAwEEAwcBBAIPBwUBChgHBAUHBQsHCgMHBgEGFQYLBgIFBwQDAwUHBwsDBAIEBwYCAgYBCQIIBgYEAwICAQcCAgADAQEDCAkHBAEDAgMABwILAwQFCQkIBgEDAwQGBgkCBgYAAgIAAgMIBQIMFA4JBQMDAwQHBgQNBQgECwwEDgUFBgsHAwILCyERBQkWCggDCAQEBAAEAQQCAwkTAgYHCgcRDwsDBQQACwkGCwoDAgUAAwUHDAYDBAQDBQQFCAgEAgEDCgcJAgMFBAcFBwEBBQsIDAIOAQEEAAEFDQMBCAsJCwIDAgQDBgEBAAQBAAgBDwYCCwoFAwQBBQkKAgoJDQUGAwIFAgcDDwcCAwUKAwoCBBIIDwEFAQMHCQQOBAMEBQwIDAUIEQYEAQABAQMBEAgDBgMDDAIEAggIDAYNCAQBAwEDAQYBAwsEBQICCQcRCBQICQgDBgUABgACCQYFAAYEAwABAAkFCAkDDAIHCQMYDQcGCAcEBwcCBwcFEQEKBg0GAwEEAwEDDAYFBwwFAgECAQYHAwgFEAsLEAUECAcJAQYEBQcMBgMEBAQLBwcJAwsGBgMFAAUFAwMDBAQCBgMGBQMaCwQIDQIQBAMTCw0OCAIBAQQEAgICAgUDAw0GGQgMCAwJAAAEBAsEAw8FBggDBQgEAgcDAQAGAwADCwQMCAgOAwoTAwEBAgICAwMEBwEGDAAIBgULAQoCAwQCAQkBBwkEAAQQCAMPAwkJAwcJBAgBCgQDAwQKDQIOAgYDBggPAgQKAQMDDAILAgsICAURBAQLAwQCBQcDAAgEBwQDCwYHCgICAgUECQMMAwgGCRADCAQHCwYCCQAGAQIECwMMAgQIBwcCBwQFAAEJAgIEAgcADgEGBwkOAwIIBAMBAgwIAQUDAgMFAwEKDAUGDQYLBAQDCQsECBEJBAQFAwUHCQcFAggEAwABAQQHAwUPCAgHDQ0CCAcMDQMEAAsGAwcECQYDAgILBQINEwEHAgQDBwQEBQIEAgIHBhEQBgQECgIHBQEOCgkIDAcHBwkGBA0GBQISCxEKCxEGBwcFCAIBBgEEARcEAQEEAgIBCAoJCAUJEwwECwQFAwUDCwcGBwMMBgsIBQYHBxUDAAEEAwIHCgQEDAIPDAUHBAIBAgAMCAgGAwIDBwYFAwMGCQAGDwUNAwQDAQEABA0JBgIQBgUICgMGAwACBwkBEQcCAwwGAgAEAwMGBQ4LAwgECQcFCwIGBQQEBQIIEAUBAQMAAgMEBQ4DAAEGAgQIAwEGAgsFCQYICQEFBQYGCQoJBgUMAAQGCgoFBgkDCQsCCQIBAgIDAw4KDwkEAwoNBQgNCQEIBwQFBQsDBAkAAwoIAwUHAwcOBAgBAwEAAQECEAMHCAYGBAIGAgECAgUCAgcIBgwLBg4ABQMOAwcWCxEEDwgNCA4HBAsFCAgDBgkPDQkHAwEGDg8EAQUFBQYNDAkKBwYKBgkGCgQFBAQGAwUBBgwHBRINCwUHBwsMAQQAAQsFAwEHAxIKAgoQCAQCBwUBAAEAAAUCCAUMAQcIBQ8ABwAAABEFCQQCAQEDAgYJCQ4KBQQDBw0FDQMOBRAEBg0CBQIEAwIHBgYDBgcSBwMOBQgCDAYCDBAHAAAAAAADAQgIAAEDBAACAgAKAwECBgESBAUKBQEGBwAHDwgEAQQEBQQEAwEFAgIJBQYEEQEABAEBBwoFAgIWAgEFEQMFBAgKAgIAAQEFCAICBAcRBgMLCwQKBwIEDwQFDAcOBAQEBwcEBgMBBAMGAgkHCQcFAgMNBAYGCQgACgUABgULAAIIBQABAgADFAcEAQcBAAUVBAUCAwcEBQIBAgABAwYJDQcHDQ8BCQULBgICCQkABQMLDgMDAgQCBAYJCQYFAQoCAQIDAAgMAwMBBwsEAgYJEQkHBQcJBQkEAAILDgYAAwAAAgUEBwcABQEBAQIFBwAEDgEHAwUBCQ0VCAMGAQUDARAQAwUDBwQACAQGCQgGBgkFBgUAEgsGAAwFBAUEDgYFBgYECAYSAQcMFAUWCQ4GBQYHAggGAxIQCgUBDRAFBgIJAgMCAgAEAwQDBQEAAgAAAgQMBwcECQIDAgMFAwECEAkIAQwQFgoJBhYLAgoEEhIPEAISAxMCDQ0BBAsCAQQDAAkDBgYHCQkQCgYABwkWBAkDAgsBBQIDBgIPDwcIBQwICwkKBAEGAQACDAgBBAQUCQoFBwgBCAUPCQgEBwIFDg4CBxIFBwYEBgMJBwMLDAgDBBADBwUKBAMHBQICBQMCAwgHDggCBwYDEwUCAwMDCAAJCAILAQUBCQMCAwICAQYIAQQLBgIAAQISDwoCBAkJDQAKEg4HAgINAwcHBQQECAEEAgQGAAYECgYJBQMCAQMBFhAFCAMGDwYHCgkGCx0KBw8GCQUKCg8CCgQGAwsDBgMYBA4LCwQMAwwHBQUAAQkDCQQQAQIFCQAHAQABChAFAwkFCgYNDAYAAgEFFgMGBwMBBAMAAwoCAgELDgoGDAoPBAgIBAkHCwcDAgMFAAYGCgUCAQULCwkRCgAEAwYECwYGBwgCAgQLAwoKAwsABgIHAgkDBwkPBwQGGQULDwcCAQEDAAECBgQDBwQFDQgDCw0EBgcBCwYKAwAMBwcJBAQFAAIDAgACAQAGBwUCAQMHCQUEEwICCgMDAAABBQQJBAQBBAUEBwQGAwQEEQUFAQMDDAAIAgwDBQUKAQQJCAYFAw0OBQACBwQFAQALARICBQsDBQQFEwgGAwIDBgoIAgMCBwQJAAkKAgEOAg0BBAQaBgoDBAcXBwESAAQDBgIUBgYGDQUNAAMGBwQECgMEBw0FCAYCAwEEBQEBDQkGAQsCBwEAAwUFDwEDCAYLAwMOCQcKDwIBDAEJBAYFCAQJDAUIBQEDAQEDDAYJBgUGCQQDAgkIBQUDBQ0JBQIAAwcCAQ8JEwYEAgMBAAUCBAoCBQsSBwUMBAsJBQEDBQEBAwQTBwcDDwcGDgQEDgUEBgADBwEBBQQIAQEHCQkKBwQWDAUDGg0LCwcLAggFCQEKBRYDBgoFAg0CCQgEAQYCBwAABwQMAgkDBg4IBQICAgEAAxUIBBEAAwMBBQENCgMRDwoFAwQXAAsFBQACBQwKBwcNCREBAwIAAg0LBA8PAQoXCBADBwkKCwsFAwQDBgICAAIDDQMGBQIKAwUPBAoIBgAHAgcICgsMAgIHDAIPBAMNCAQHBgMHBgUKBwYODQgKGAcGBAQJBwwGAwICAQAHDQUNBQYICwwIBAkCCAgFCQYPEAEFBwMDBAcHBAUFAQcGBAEHBAMIBR4HBgQFCg4DBwEEAQUABxEIAQEMCBAHDw4OBwoHCAkECgIKCQMLBQwFBwoGCAIDBAMHAgITBAcGCwYCBwcKCQMPAwMFBwgGAwINCA0FBAIDBAMEBgcFBwQHEAkNAgQCAQgDAgACAQECAQEIAQAFEAkLBggHAwYEAAEAAAAlDAoFCgUDDAIGAwIAAwINBwEDDAMGAQoJCAUJDAMCCgIBAAQGBwQUAQgEBQIBAQUPEgMBBQUDBAAAAAALCgAFAAIGAQIFCggEAQsBAAMAAggMDAgEAAgBAAMDBQQCBQYMAQYPBwECAgoLAgsEBxAMBwUDCgoGBAMCBAsPEhAGBRQOAQIGAwgRCwQEAwQGCRIDAwAGAQIDAgEAAgYDCAYAAgUCAQIUFAYEBQsHBgoFAwgBAgMPBBQIAwMAAgEABgUMAwkEAQMDAAAAAQABAQgBAwYEAAYCAQsTCgADEgMGAwYDBwYGAgoGDAMFDAYIAwAHBgsMFAgLBAIDEgwPBwMBBgQJAAgMBgIHAAQDAAMIAAcECAoHBQcDBAMABQEEDAMEBw4EDAoHCAYNAw4QBAcICwQGAgoEBgkKAwUHBgoGDgEBAgEAAgYBAgMFAgINAREEBQgGAAAAAgELCAQCAwIHAwMFDAsFBgQJAQMSCAgFEAkEBAQHAgkODAoHCBQDAwkICQYFAggIGgwEBw8ICgcFBAgFBQIBAgECAgUHBQMYCAkHBAIBBwUICAQNBQgICgUECQQBAQQPAwUBBAQBCwYGBwUNBQYDAgADBQIDCAYDBQYKBQYBAwEMBQkFAwADAwEGEwQDBAIGBAYEBgoBDwkDDAgFAQQIAwACCQIFAwgECQgSBRAPAwgDBQUDBAQDBQYTBAQCBAUTAw8OBgIBDgYCAwELAQEBEQYODAkKCwgGEAsJCQUGCwQJBw4IBAIBCgEAAAYBBAcDBgoTDw4ABQUDCAgDAwwKAwYIBg0RAwsNBwoGBgsKAgMBAgEEBAUBAwQCAwEJEgoFAQMFABAJBgQDCAQGAhIDBA4GAggIBwkHBhQFCQYEAw8DAQEECwEDCwQFBwwCBwkIAA0HCgMDBAACAQMKCwQDBQMCAQIABgUGBQEBAwACCQINBAUIAAACAQADDxEJBgQDBgcEAwELBAkCCwUCCgkGBwgHBQAJAAIECAABBQwHBwcJBgUEAwwBDgcFEgkFBwsEAwQBBQMABg0HAQMXBwkLCAoGCAoDAQADAQQHAREODgYJBhEKCAYEAwMGCAoEAQQAAAEGCgQFAgkICQ0CAQQBAwQEDAYEBQAAAAQGBgIPBQgEAQYEBgAACAEEARADCgQIAwwQDAIDDAAQChYLCAUDAgEFAwMUBQoKBwMHBAQDAQMHAgwLBgMGCQIIAgUIBhMHBQ8FDwYEBAICBAMLAwYEEAEBCwMKDwwEDAMBAgADAwICAgQABgkEAQ0CAwYHBwgEBQENAgUCAQUFBBAIAAYDBgIKAxEJCgQMBgEFAwkCERMMBwUHEhMFDAgICQkFBQEEBAYLBQwHCwMBAwAAAAABCRENBQ4DBAQCBgEDAwQCBw8WAgMBBgAFAg0NBAcCAgEMAwIEDQkGCQQTCgIKAwABAwAGDQQJBQQCAwMDCwUJBAECBAgHAAMQEgQKAgQFBAoEBgUFBw0HAgYEEAwFCQICAwEAAQICAQQCCgQEAwgGBA8EAwQFAgQEAwkEAwgAAwECAQkMBQUEBg8KBQYGDQULAgQPCQMRDAYGCQYBCAcCCwYJBQcHBwkAAgITBhUIBQgGCg4DCQkBEQYBCg4DDAABAgAEBAkCAwkEFAUKCQUGBQIFCQQCCwEGDQoCCwYFBwEEAgMEDwcABwoCCgEBAQMDBAoFAgQPAgcICwkCBAEFBQsGBQMDCgkHCwoABgACCwQMAQkLDQEDBAMAAQEABAsIBAYGAg8DBQsBDAgKDAcCAwMNFRUFAwIDBgYHDgkGAgELBAQICA8BDwwIAgYHAQYMAwgFBAYEBwMECAkRCAIBAQQAAgwEBwQDBggDAgwGAwYBAQoSAgoCCAwHCQENAwgCAwYZBgMIAgEHAAAHCAQCCAIBBQIFBgkJBQIIBAcEBQgBAA0DDgcIBgYICAYCAQgFBQUNBAcEAQMFCA0HBgEDCwsGAwYGBAQBAAECAggHCw8HDwUCAwsKEAMEBwsDAQcDCgQFDAcJAAQAAQoFBAYFBQQEBwMDBwsFAwEBBgQCDQYHBQEECwkSAwINBgQBCgcHBAAGBQoBBwUGBAACCQkEBQgDBQUECQEIBA8HAgoCBwUBCggPBQMBAwMBAwIEAAIIEAUGCwQGAwwGCQsHCAYBCgUCARQIBQQIAQIGBQkGAAEDAQIDAwQDAwEPDQQCAAcCBwgFAQUGBAsDBQYAAAMBAwYDAg4BEAYFFQQHDAQKAwwMBRYEBQYDCQMGCQ0GAgcBDgIDBQICBQAJCQkEBgEAAwECBAYQCAYNBgoIDw8EAgoIBAIDBQYDAQMCBQEHCAcFBwUHBgUHBAMFAgILBwQIAwEDAgMHAwMCCAkHBAcTCQQGAwMHChIECAkHBAgDAAYHBAYABAQEBQ0HBA4FDgwKBQQCBgQFAwQDAQICDAQFAAQADQwDCggGAwYCAAIDBAARAw4BBgMDBAADCQgFBgMECwcGAgoEDAYKCAoHBwkLCwgECgAIAgIMDwUNBQ0FAwcHBAMGBAoQAwwLCAQDExAGBgQKBhEHDAgCBwsCAgUCAgMKBgoECAMLBAkDBAYDCQsGCwMCCQEFBQgHCwIGDQUGBwYDDQUIAQIFBAkMCQMMDQECBQsDAgYFBQcCAQIKCAUGCAQHDgkBGAwEBwACBwIAAgsFDQMGEAYIDAMNDAsPAQsGAwQFAw0PAgwIBAQFAQEOAgEMBQICBAYIAwEAAwgFAQQFBw0AAwUEDA0KCwwFCAcREwQGBQYFDQUCDAUJBQMGAQQCBQsJDwQECwIMBAALAwQDAwoUAQIDBQUCAAYLBwgCAQIKChMCBgEPBAMEAwQBAQQJCQcKCgUKBAoICwkCCAwFBgYCCAEFBQILBAYGCQQCBgECCQcECAUIEgkJDwYFCwIEAAEFBAIOCwMGAwsFBgkKAgEHAgQKCgMHAgILBQIHEgMLDxAYBgYJBA8HBAQPAAACAQMHAgkCBQcPCQsBAQgQAwIHCQIEHAUJFAIGAgUIAwUDDQQHDg8GCQsEAggGAgMCBAALBAMGBgQDCw4JAQMBAQQFBAQFBgABAgAABAABAQIBAwoDCAwCBg8CAgMaBwoFAwQJBwkBBAkOBAIHBwYHCQcQDAkGBwQJCwQHBBYCAQMHAgUDBAwDBAsFCggGAQUJCwQHDAwFAgEEBgICBAIGAAADDQUBBwsIBhEDBw8LBAwJCAMKDAICAwEAAwQACAcCBgoRCAsOBwoECAoBAwQDBREECAMNBwACCQYJBAQIAgYFDAMRCQUMBQwECg8OCAUCAgsBAgUDAgMDCgAGBgEBAwMCBA4HCggAAgQDAwYQBAEdBgMHAQwOAwgFAQUAAwAEBwsABAEMCAELAg0LBQsJCAQBAwIBDwIACgYUAQ0ODAcEAw0SCAIICgAHAwAHBQEBAQYFBgMJCgsDAgINBAgCCQsPCAUOAAMHAwQHBAcFBQwFCgcIBAwBAgYIAwYHBQURCQEDBAEDBQINBAgBBAEDCAgHAAsPEQMBBwABBAcPCgEEBgcSBQgGBQIBCAcEBgsBAQEAAwYHBAECAgQECwQDBAcGBAMEAgcEBAMHAwUECggDCAIDBAcNAAEAAgEEAwkGCAMCAwEGAAgJBQIGBgoBBQQPBwcBBQEGCAoABQkCDQENEAkCBQIFBgEKAwYFBQQGAgkFBgIMAAcGBgcBAAUKAgECBAEBBAELAQkSARUKAgcKAgkDBQMCBgMDAwMMBwkEBxAPAAQBAwUCAwMEBw0DAAUEBAkECA4CBAMCAwUEAwIDBgYLBAYEBQYSBwIPCgYLDwYDAwEOCQwODAsHBwEKEAQFBQEGBwIQBwgGBAUAAQMEEQEGBwUIAgUAAQoGAgURAwsKAgEICgIIBwEIAgMAEAcJBgIHCwUGAg4FBQUBAwMFAwAOCAIDAQQHBwMCAwEBAQIGBBIFBQwHCAgDAgIKBAIHDAYCCxIFCAkHCQkMBAELAggFCgMMDAIJBwMDAQQPBA4CAgECBwUBBgEFCQQBBgMGAAMHCQYHAQEGAQMHAAcIAAsFCgIJARENAwYCCQIEAQgDAQYNBQQFBwgCAQECAQgHDQYCBgABAQAGCQQKAQoHAwIDBAYHBgcNBBEFCwIABAEECQkCBAEDBgQBBAQBBgQFAwgHDgEFAQQCAgcJBwUCBAoKAAAMAwUPAwUHBwkEDwsJCAYIBgMDBg0DCAkEAggHBQQHEgwQCAoCCAcCEQkHBAcDBgQBAQ0DBQMPDgUFBwcPBwkMBggBAgQDDRIGBAUECgcJBQ4NCBIBAgoFEAoFBgEABgsKBgIEBRcEAggLCgoUDgsUBwQIDwMGBAYQCgEAAQQBAwMBFAkCBQUDBg8PAgILEgUFAhAICQoDBQMBCwYOBQEHBAQRAwYGCQEDBA8FCAcEBQ4JAggABgEBAgAGAAQDBRQFBAMBBwcGBQEBBgMCDwwBDA0BAggNCgUCBgcEAgUPBwwDBQcIAAgHAgkJBgIHAwISBA0FBgcDAwcFBwQOBQsFAwYMAgACCAMCAwINAwIECAUMCQMEBg0OCQEJFw4HAwQMAQIEAgEDCAoQBQMCCAcEAQEKBQQDCQYIAwMCBAIIAQUJAwwGAwMFAwQGBgUJBAIDAwQBAg0GCQcBAgoLBgQKCQcCBQwLBggJEgQKBQMHDgUEBAIAAAIDBggGAgACBAABBAMFBwsJBAMCAQMHBgQCAwUFEQAHBQcIBxELCAQIBQQAAAMIBgUIBg4GCAsFCQYLAQoOAgwBBwEMAgECDgYOAwYCBQEAAgYEDwMCCwUEBgUGDwkBBA0JDAgFDAYDBAUKBAgIAg0HBwwMBQULCwISCQkEAgYBBwoCCgMCCAkIAhYFBAUWBAQKBQIJBQcRCxADBAsDBQYKFgQHBAIECwEBEwAFAgACDgcBDAMJAwQDBQEDAgEBBwABGQcEAQYCAwcKAQkGCg0IBwUIDgoHDgcNAwEFBQIBAwYEAw0ECwwKAQUBAAMCAgEGBwQCBQYTAw8GAQEGBggEBA0MCQoHBgsNAwkCAwICBQQFCAQFBAAADQMHAQMCEAILAQkCCQcCDwQCBwYHBAUFAgIEBQMGCgcMCQsGBAIEAwULAQECAQgQBgENDAgGCQENBAQGDQUKBg4LCQUDBwcIEA8RDgoDDQsBAgQBAQcKCQICAwUHBhEOBwEDBAMBEgQQDAoJAxECAwMBAAAAAQAACwMKCggCAgIEBQEXAwQQBQMIBAoKCQUCAQ0KBQQLBAwDBxAEAwIBBQUZAwwKCAICAQUKBAgPCAEDBwEHAgwJAwgSCwkOBwYKBgMEAQQAAgIICQgCBQsECQwGDQoDBAcOEBARCAwKCgUGBgMSAQYLBwcaCgkECgcFAAwKEQcYCAoQBgkFBwcGAQMGAgEFBBEMAwULBAUBAwkVAAYLBgUEBQQMDwIFAQIDAQ4GCQQFBQoFCwwFBgYFAwgIBQwLDwQEBQECCw0EBAgQDgQKCAQIAAgJAQUGAQYNCwMHBAMHCgMCBAMGAQAGCQQJAQMABgcJBQsMAgMZBAMEBQYDAgMGAAABAgEEAQYJAgINCwUECAICBAoUCwUNAwQGDAYEBwYIBQUKCwcACQMFBgIFCwUFCg0ICgcCAgQGCAIRCAQEAAUIBwQEAAUECwkCBRIHBAQAAwMCAAoOCgMLBg8JDQsDAQAABAgLCgMDCw0GBgQFDAgEAQsGBAMCAQgAAQYWBQIEBggXEwoGAQEGBgUBCQoHBgsTCAgLCwMDBAEBAwEAAgsCAwMDBBADBgMEAwUBAQIAAQACAwQDAAUMBAYLCxELAgIDAAABAQIDAQoCAwUNBQ8BAwIFAwQIBgcDCgMNBAYHCgMCBBMEAQAAABMECQsFBAYBCg4BAAAABRQEBQcDDRwEBAkCAwINBQUFBwYHAgACBAMLBgEEBAEBAgADCgYCBggJBAIDBwoAAwIOAQABAQMMCA4JBgkIDQINCQYFBQERAgYEAwACBAABAwgHFAEFBAwJAQcDCRYKAgkHBgcMBgkJFQsQDAwHAwIMBAIGBQwBBAQJAwsHDRcBAgQDBAkSAwMDAwICAAYOBQcJAgQGBw4EBwkBAwgECgQAAwIDAwgCDAEBAgEAAQALFAgGBhMDAAIBBAEICAQBAwIAAAMJBAUDAAYAAQACAQcLDAICAQABBQYHBAYDCgUDEwECAgYCCwwEBwQPBQoCDgQGBQMKBAUDAgUCAw0CFQIIBQAIAg0JDgUJBQQIAgEBAgQBAwQIBhgMCgQECwQHBQcHAgQFBgAHBA0GCAUDCwQCBQQMEwUFBwYKAgwNBQQHBwQWBQgKBQcDAAkFBA8LDAQMAAMFCwIBAwMGBwUCAQMODQoNDAYHDQ8JBA4BBQMDAwgEEwoFBgMCAgQBCAUACAgBAgEDAwkEBgYEBgMGDQgLGQUACg8KCgYCAQsSCgIFBQUMAxMACgELFAYGBAIQCAULEgUHDQUFAwkLAwIDBAwBAwMEBQUNBwsBAAEDBwMIAwUNBgQKBQkNDAIGAAMDBw0UBwUHBAoHCAYCAgAAAgcCBAQDDA8DBAQBDAMBAAgDCA0CAAAAAAAGBRcMBAoLEggDBAACAAITDgcHCgUEAwYIAggEBgUFBwcMDAAGAAIBAhQFAwIKBAITAwQCAQcBBAQDBQMFDQsCAQMCAwIBAgkHEgcDARMDCxAGBgYRAgwLAwgMBAUHBQIJCAIBAwEAAwIECQQFAQECAQACAQMBBwMFBwwFBAIIAwEBAQoIBQUDAggEAwMQAwIRCwoOAgkGCAYKAwQCAwUCAggHAwMIEwMIAwEEDQ4QCQUDAgcABAIEAwMCAw4FBBAUDQQKAwgJCgwPBgQIBAMOBgUIAgAFAQUIBAIDAgsDBgcFBQoEAgkOCgQPBgYFAwIEBw8SBAEHCQAJBQAEBAEEBwMHCwQGCgsDAwQDBgQFBwkFAwMHBwcMAgEDAQIEDgcICQICAQAAAgACAQMNCQoFBQUEAwkGBwQKGQIEBg4DEgcLCA0DAAgBFwUFAwIBAAcPAgQLAwUECQgFCw0BAwkEBwcLBQwHAwIFDhAOAQEBAAAACAEBAwQGBQMIBQIFBQICAgMAAwIJCQYHBQMGEAYJAwYLBgQECQEQBBQGEwQFAgMCAwUJBgcJBQsCCAkIAgIDAAUGAAEDAwIGAQcDBQUVAg4KBgMDCg0ECQgGBQABAgMDAwgFCAQBDAcNAQADAAALBgECBgQIDQcGCQECBQUJAgkGBwMFAAYCBAYJCwgDCgMEBwwIBwQDAwgFBQsECgYFBwoICw0BDwIJBwUIBQkCARAJBQYDBQEKBAQJBAcCAQECAgYDCggCAwMCAwICAgEEBQEJBwUMAAcFBAECBhEGAgUCAwQDBgUQCwMFBQMDBgQBCwkGBwMBAQMDAgEECQULBRIECAECAwIIAwkGAwABBgkFDAYKAwECAgwIAgMAAQoDBggPAwoDAwcEBgEDDAwCCAEDAQ8JDgQICwUJCgQGCAIEAgMAAQsJBAYGAgQDAwIDEAwDBgYCAQIMBQQEAgQCBgsJCAoHAwcDBAkJBwEEBQ0DAgcBCQMHAggLCAQIAwEHAAIEBwEFCAwCBQMHBwADAQoFBAwCDAQKBgURBAUGBAIKCw8BBgQMAQoGCwcIBwIBAwEEBgIBBQwAAAQCAAYCCAQGBAQEBQMHCwUHBgMHAgADCAYCAAACAQECAgcGCBIPBwoLCgMGCgUEAwELAgMBDgIGAgQGCwYFBgMAAgMAEwQHAQQCAQIDAQoFAwkDAwQHAAIMAQsKBgMBCwIHAxMFBwMGCQcDDAcDBRkGBwkJAgUGBgIHBAcBDgACAwIBAQMDAwwDBggJAwUECAYKBQUBAwEBAgsJAAMGBwMCAgMAAw4DBQYQAgIBBAMBBAcRCBEEBAcEBQoDBwgEBwAFAwcCAwIDCQMBBAkICAQCAggBAQUHDwcFBQINAwYEAgUCAQgQBQECAwEABAETCAkGAQgCCAIIBgMHBA8BCg0NBAABBQcBAAwEAgQBBwsFCgkMBwcGCwgCAAAFAwQBAwMLFAkHBQcQBwINBQoLCwUDAgsHAQQCBQQDCQIBFAEFAAQHBQUIAwUJCQMFEQ0FDgcDBwQKChMECQUJBAIICAQHBwYLCRoBBgYDAgICBwIDBwkFAw8BBgsHAwECAQQDCAMIBAsKEAgGAgYEChYHAwoFCREFEgoHCAELAwgHAgsFAwMLBQILBgcEAgcNBQwKCwACCAgABRQBBAMHAAMFAgcMCgMJBQ4HCAUEDAQHBQwNBgMCAhAFAQQSBQMKCAIKAwMCAgUICRAAAwMCBwEOBwgDAwQJCwMNBAEGAwUPBgIGBAsAFwgDBggICAAFBwQBBA8GBAQDAgYBAgUSDAkDAAoIBgIMDQ4EAwoMCwUFCAsEBgMGCwEFCwgLAQMEBAwDBAEDAQQAAQEFAQIEAAwJCQICBg4KBgUHCRYDAwQODQcGCgISBAsKCA0DAxEKAQMCBgcCAwUCAQIBAQgCAQQBCAcEAgoBCAAGCAQNDAgBBAICBgAHCAUIAwMQAgMKAwQECAEEBAcMBgkFBwgDAQgCCQEBBwsOAgIBAQcBCQEDAggMBwYFBAgNBgQBAQMBAQEDCBACCQQMCQkMBQkVBg4LAwcIBwYDBAUADQUJDwUDCwAEBAkOCAIJAwYDBQMLAQUDCwQHAAMBDwgNBQUKBAIMBQEDCAUIAgYDEAkNAQIHDQ0FCgQCCBEHEQgHAwkEAQEFAwQBAQIMAQcGCgEFCAIBBQMBBggIBwMFEg0IAwIBAgMDAQQIBAIHAQUBBRMEAgYCAQwDAAMEFQYFAwgEBwQIDwkFAwQQCAIGAwQAAAMFDwQFCQgBBgkCBBMOBwgFCAcLCgUWBgsHAQQBBAcEBwYEBwkODgUFEwYPCAIICA0GAgsDAwcEDwMEAAMBFgEHBgcDCQUGBBAPBQECAgMEAgEOCQIDBQoLAwcMGAILBgsCDgQQCggNBgMBAQABAAELDQsABAECEgsMAgcJBwMEBA0BFgIRCQQJAxUOAQMKCQoIFxcJHQUDBwwGCQwLBgsJGQEOBwUFDhYHBxIECQwHBwQUCgUFCAkLBQgOEAYCCQUICgcDBwsFCAEEAwUSBwgQCg8JAwwBBAQEDwUFBAMGAQQCBgwBAgcFAgQMCQQEAwMJBQUIAgUIAw4FBgICAgYABhEAAgQKAAkCDAIBBQIAChEGAQEFAQQBAAUFCgcICAMDBgUDBAEEBgUECgsGCgQGBRADCwMFBQcECAMQBgIDBgYMBgcNBAsHAQgFBQMDAwkEDAQGAwIHAQYBAw0KBAEDCQYAAgQABQMSBAEEBAMDCAkDBg8MBQYDAwUIBQIIBQYLDAYKAgYDEggOBAELAwEEAwsGBgQJAgQBAAIFAQIDCBIHBAQCDQ0KCwcHDQQFDwQWBwECAgMBAAIGAgAABgYDAQoDBQUHBgYPAgQCAwIEAQ0ECAgICwEMBwcHBAEABAEFBwwBDQMIAgEBBBAGCwUEBwQGCwIHBAIHBgcDAgQGAwwEEQMGEwsICQYPBAEBEAMJBAUCBQEBAhENCgMCAQUBAQADAwwDBQMIAQUGEAwBBAQCCwAMBAEHCQYLAAEBBQAHAgULBRQJBQUMCA4CBgEDBAIBAgIPBgcCAgkEBAUJEAYJAgEFBQIDDgQIAAMBCQcIAwULBQ0CAwACAQIEBhABDQgCAhUDAAUCAAMDBAEBAwkQBhMKBgMGCAUPAgYFAQMDAQEDBwMGBgcDBQoABggOAgkFBgcNCgQEAQEBBAcCBwQBBQcIAQ0GBA4FAwUHBwYBEAIGAgMFAAsFBgYGCgYGAQEBAgIDBQoGAQMIEgUIEAwHBAwCBAQDAQEBAAECAggHAwIBBAQMAQEBAQAABAQDBAMGCQwHBA8EDgcEAwEDDAYOCQQCAQoRDAoGEQsNAwoOEQ0FAw8IBwIIAQUSBQoLBgwTCQQGDgQKBwoRCgMSBw0ABwcREwMLBgYLEAgJDQYFAwsDBgcEDAUPAQ4CBAEAAwIGBgoFAgMAAwIJCAINCAAEBAMCAwgBCAEAAwIBBgYJCQIHCAYBBAUCAQcCAwEGCQcBBgsCBwQMBQgRAwYHCQcDAgYIAwEEAQwICAQDBQMDAgcKAg8HAAQHAwQFBQMCAQAEAgcJAwMCAgcIBQoFCwgEAgcCAQgABBIFBgMBBhACBg4IBQcDBAwGBgoDBgAUCwYHCA0HAAIQDA0FBQoBAQQJAgABAAkHBgoFCwkAAAYLAAcGEwUGBQMDCgQICQMHCAMFDAUPCAwJCAcDAQIGCQUCAgQQDAwEBQ0ECgIOBQMJBgUDAQsCGAwJBQYECgECAQYHCQ8CAgIBAQUMBwcJCAUFBAMJCAoEBQEFAwADAgcBAgMCAAMICwUDBwoHBAILEgkKBwEIBQoXBwIHAwIBBgMGCwcBBAECAgMQBQEGBAMDBQIBAQIGAwUDDAAJBgIAAggMDQcJCgUDDAIJAwMCCAIJBwcAAAECAQYECwUCBQYHBgYKBgQCBgQACwINEw8FBAMGBwIDAg0FBgUBBRkLAw0FDQcGCA0CAgUFAwMCAwIDBQ4GBQQIBwkDBwIBAAQJEwEDBgYAAQIHBQgDAQUJFQMFCAYMBwQEBwMHAQIBAgQBAgIJBwUGAAMABgMKAgYEBA8LBgMCAgIOAwYKEgUJBgQHBAYCEAsDBAEGBgcDBgkCDQQFBAoBAgMDEgcIAwQCBAYLBQQFAAIIDQQGBQUBBwIEAhMEAwIKBQQFARQJAgMMAwEGCAEFCAUGEQsYAgAIDAwOBAUCBQEAAQ4HBwMODRMKBgYECQMGBQcBAQQKAwwGBgYRBQMHBgkFAxQDCREGBAcCCQcFAwcBCgkHBAoGBAQCAwUFBgIEAwgCBAgHCAYECgMNAQYDAggBBAcLAQsHAAIEBQQGABMFDAwCBAkDCAwIDQQEBgYQEAAIDwoMAwoMBgMFAQcCAwUHCgABAAQDAgkBBgYDBwAABQQMBgoFBgoHBAMCBAEDBwMTBAUEAQMBAgQCCAUGBgQMDAgABg4HBAIFBwMEBwkCAwgDBgkGBAoCBQUDAgEFCgwICQwBBQcCAgIIAwYHCQQJBAEBAAEBBQkHAQQMCwYEAQgKDAcMCgEGBwICBQIDAwwJCAIIAgUIBwgJCAgIBQcCAgICDAQGAgwOCAgNCAUDAxEEAwUFAwECDQIQABgFBgYGAgYKAQUEAAEAAAgJBQgIEAgICQkOBAIMAQYCCAcDBAoIEAQDBQoFBAUDAwEAEQgBAQIEBAAAAQYBBg0ICAcECAUHEQMUBQEDCgcJBAUDCwIEAwYFBAIKBQUKCQ8OBgYBCgIDAAYCAgMHAgADAAIBAQUBAwYDDggNAQQFEAsJEAwDCAQDEAECBQMBBAMIBwIKBAMNEwQHCgYABQYHAgACBwkIAwkDAgQBBAYHBwICAgYFCgoGAwcSBQQGBgkEAAoVCgkIBwwFARAABAIEAQgHABECCQEIAwYKAgEDBQgEBwYGAgIBAgEKAwECCAoFBgIGBQgFBAoHBQwHDQEFBAAAAAECAAEFBw0RBQEGAgIEBQoDBQIAAw8ECwwIDQYLBQUCBg4PCwQCBwUIBQUHEAkEAw0GCAMBAxQEDAYCAwkSAQkDAw8HBgQCBwICBQgKAwQHBgUEAwEDAgQCCA0CBgAEDwYDCgMDBQMCEQEBBwQDCQYNCQQAAgEBAggHBgsECgcPCQMCAQ4AAwkHCQwXBQoFAQEFDwUMAQIDBQQDCwEDBwEBAQICBgIABAYDCQ8LCAMBAQMBAAQFDAEBAgACBAkIDwEFBQcBAgEHBQIICgEAAgEBBwcDAwYFBgUAEAkECAcDBAkDBREHBgIFCA8PBAoECwQHAwUCBQYFBAYJAw8GAggICwIGEQUHDgUCAQICBREDAgEHCgUFBQ0FDAgCBAEEBAAIBAkGAAMFAwEGCwMMBQMNBwQCAQEEAAUBBgYJBgECBgQIBAUHEwYEEQUEBAYLBQcHAQUBAgECBAcABgMIEgENAwYJBBQHBAUCAgIKDQICAQEFAgUECAEEAQQEBAsEAA0OBAMPCAgDEAUJAAQCAAMIAQIBCQQHBA4GBQYEBAEFBAAEBQILAgkQCAkDBwQIBQEHBQYBBgUGDQIIAggGAwcRBQQDBQYEDQQJAwEEBQMBAgIFAAAJDwINAwICCAEBCAgGBgEAAgMBAAUDBQQFDQsDBQUKEAQDCAgEBw0CAQIAAgMIBA4JBAkKBgYPEAELBgMDBAYRBxINAwQDAQIFAgQAAAAAAwoOAgcDDAgLAwUDAAUHBAMEBQgEAAEBBQMCBAQBAgQJCAkLCAQHBAECBggDEAEEBQICAwUGAg0HBwoEBQEJBQcBCQQEDBIIBAgKAggEBggLBQ0FCwABAQMGAAYDDwAOBwoEBwYGBggMAwILCggEDQQDBwEBCQQJBgYCBAEJCAgLCwkOCg4DBAUHBAIBAwIOCAEDCggFEQIGDAQFDQULAwIAAQECAAEFAhAEAwkMBAEDEgYGGAMGAgIeAAIFAQALAwEGAgMLCRgCAgYGFAIDCQoAGAMKBAQCAQkCAAEDBAICBBAMBwEDAwgBBAgJAwgGABQTAwICAgUFAQUJBAMAAQMGCAYDERQCAgoDBQUFAgcNAgUHDQUEBQQIAAUDBBcJAggDCQUDBgIGAhICBwcFAwIFAgMIAgYDERAFAgoBBwUCCwkDBQMBAwACAwgFAwIFBAcGBggAAgQBAQkMBQYBAAEHBwEDAAIDAAsFBAURBAUCAQkGDgYFAREVCg4FEREGCgIGCAQJBAQHAgQCBA8BBgIKBgcGDAgIEwgCBgYEAwIDCQYGBQcJAwEDDAMSBQUEBQUEAwYEAgEOCAIBAwMNAgoDAQoEBQUBAgQDBwIJAwUSCAcOCQAEAwECAgAHAwkHBgUFAgMABQUFAgMEFw0DBAoKCQ4CAAEAAAAUBAEBAQAAAAEAEQkPBQQBBQUCBg8RDgUMAQUKAwQPAgELBggGBAEGAAAAAAIIBQgICQECAgIHAAMLDQ0CAwsEEQUFBQkDAgkDAAgGFAMIAQMLBAMBCQ4GCw0NDAwFAgMAAQEDCgIGBRUCAQIBAgMBBAMJDgoIBAUQBwwCDQUFAwoTFAgDBAYGCAIEAgcAAwIBDwgLCgoPBwgKBAIFBwYJBQUGAQkJDxMJBgMDAAsDBAgGAgsTAAoACwEDBQgGBQwLBggJBxYFCQMGCQUGEwUKAAMEBw4TBQIFAQcCBREICgcFAgQEAAEJAQECAwYFBgAEBgcIBwkNBggNDAkKBAMDBAIHAgQJBQUNAgEDBAADFQQKDgYFDgcFBwUDBwIECQQMAwgGBQAFAQIAAAEEBwkJEw8GAhQAAQkFAxEKBBMKEwEJCAoHDA8FAgADBAUBBA4CCg4QAgIBAAAEBA4CAQcIBwMFAwIAAwMBBAsCBAEECQ8HCgwECwcBBwYEBAEBCgUBAgwNAQcDCAAECQMGCwoHAgYFCwwABAQFBgUJBAYGAQAMAgABBgMECgMAAAIGAQQBBwEEEAIEBQcEBgwJBAEDDQIRBwUGAwkFBQoDBwsDCgQFAwQDAwUGAwQGAAYBAwQABgYIAw0PAQQDAwAFAgYDAwgBBAIDBQsNCAUEAAMKDAUDAwYMCQEEBAAJCAMEAAEDBQcDAwkDCAgBAwYMAQkDBBgFBgIEBAMCBgEGDgMFBQgDBgECDwkKAQoHAwMCCgkQAgoECQwICgUEEwgFEwQHAgUFCQIFAwgCBxUFBQwEAwUHAgMFBgUOEAYDBQUODQ0JDAYBBAYEBAICAQUGCRAGBAYDBgIEDAkHAwQDAgUFEAkGAgwQCQAFBQoGDwQDCgwJAgQBCwcFBQcCBAEDAwYDCQ8FBRMKCAwFFgICCgkIBQ4FCAIDBgUKBAMFCwQIBgMBAwQEAwQIBgIFBBQKAQcLBAUNBAEEAQQICAgFBgoOFAcCBAUCBAgCAwABAgIGAwgEAwcDBAICAggHCBAJAQcJCQoLBhIEBRQGBAoAAQkEBgIBAgMECwUGDwYNBwoHBAUCBgQICQEDBgcFDgcCAhUDBQQJAwQEBQMGBgUIDgQCAgIEGQoFCQILAwgDAgYNCAYCCwMFDAYEAQEFAwcIDgADDAwODAoECwMDBwUOCQADAQQABQcBCBEJBwMHAQsGCAkBBgoFBQUGAQMTBgwEBQYIBgIBEgIEBAQPCwMMCQMHBwQFBQIRCQUJCQQCAhEBCAIDFAwDEQUDDQMKDAsDAwEABQIEAQEDAwENBAQJBBAEBQMQDQQFAwIEAwQLBAMAAgkDAwMGAQADBQ8HAQkFCQYHAgEBCQ4FCwgGAwwHBwMBDAIEBAoJBAcGCwAFBg8MBAkAAAMFBAoKAggCBgMAAQYEAg8EBwMNDgELBQcJAwEAAgoDBhIHCAgGDwIGBA4DAgQCCAIICAYBAwEDAgcDFAMAAgEFBgMHAQcGBAcLBQkBCAgJBAUHCAwIAQMGAgoEGQEFDAQKDAUOAQUEBAkBCggGCQoIFQ4MAgYFBgUEAQMCCgAGBwIGBAgAAgQAEQYFAgIHCgsFBxMEAggHCgQEBQIFAgIBAwUDDggOBAkLBwIIAggJAwYECgkHEAgBAgYNBgUGAxQSCwgCAQQGCgkIBQYBDwYFBAEDAQkIBgYDBA4EEgMGAgcCBAMJCw4IAgEGAwsDAwcHAAABAQIECQ0EEgAGAgUGBAcICRYJBgQDBRYGAAcIBAwKGAADEgYEAAIFBgQFBQ4IAwQDBAsEBxICCQYIDQUKAgYAAwgHBQgHAgQBBAwGCgIRAw0JDAwIBAgGAw0VDAMBAAUFBAcFBwUIAQYQBQIGEQsEBAkICBECAg0HCgIJAwoKBAsGCQIKEwQVBwYIAgYEAQYNDgEEBAoKCAUIEg0HBQgCCAsIBgEIAAIKAgMICAQGAgEFAgYHAwIOCBkFBg4FEBoRCgYFAwoEBQEGBAIPCgICBAQIDAgABgIEAwEABAIJCAYGABACBwEEAAIFCAkIBwwFBgMBAwQGBQMNAwQGAgIDAwEDEAIEEQkHBwULAhILBAsACgYGDA8GAgICCgEPAQYBBAMAAAEBBAkLDgAEDAUAAgoEBQkHCwYABQEBAQUFBAYCAwUDBAADDgAJCAIGAgYFAAgDCQIHBgMPBgcDDAQIAwgLCAkAAQECAAIDAgEPBwMLDQ0CAQYCCAEDAwAFAAkCBwUCBQQQAwMJAAICAwYABAUCAQQGDwECCQgDCAMDCgEBEAQEDAcFBQYBBgcECAYECgYICAQNBQUOCQIKAQcEBwYFAgQFCwIBAgQDDgYCCgkRCgkKCw4HBQoIBwMGAg0EBAANEAkIBQsCDAoIDQYHAwUECQ4ICQUEEwgGBAELAAECBggIBQwGBwYDAQUGAgEGBAkOBQ0CAggACAUPEw0ICwMJDAMICwICHA4DBAgFDwYDBQEODgwVCQMDBAMJDQYGBgcFCAkJAAQBAgICCQwJFBUIBQgMBwoIAQEDAQYCAgIEAwQIBAUIAgsGBAkHAwICBwQBCAULCAoBAggEAgsHCAMDAwEDAQQDBAQIAxMIBwcDBQsEAwkEBAUCAwQMEQoCAgIECwcDBQECAhQEAwMDAgABAwIJBAYBAQcDBwoIAQMHAAYOBAUHAQgEAwMEBAIGBAIDDAEIAwcKCQYLBAQHDgQHBwQCCQcRAgMLAwsGCAkDBwMFCAwBEAwCBggCCwYIAwcIAxMGBAsFAAQBAQMGDwUIAwIJBAIFAQMDAAEKAwEBAgMDCBINBwsKAxUGAwcCBAsOBQwCBxMFBAMHBggCCQoKBQYGBAcFCwUJBQMKAQQDBAgCBQgKBgsGBAMLBhgEBAINCwUABAIGCAwCAwEDAwMEBAQJDgcHAwQMBQwECwMBBw0HAg0GCQYEDhMLAQQFCQUFFAkDAgQHCAgJBQcKBxEGAwcCChINBgIHAwMDCA8GAwYAAQIEAQALBwMIAw8HCAgCBQMCAwICBAEAAQgJAgQJCQICAgERCAEMCQgHAwkCBQMHBBgKAAMEBwMCAwEADQQLAgMFAQgEBAgHBgEBBwECAgQCAQIEAxAHBQEJAgEGAwsCCwoABAUFBwkJDQIJAgcKAwQCBAAJBgADCggJBgQABAcCAwYBAxECBgkECAUCCwQGBwMFDQMAAwUFBQIKDwMJDQUIAQgCCBQHDwkGDgMABwYGAQAGCQQBDQIBBAMEEAYCBQERAQkDCgEBAwUDCgMJAQkDBAECAwcDDgMGCgIBBAkBAwEDCAgLCQAGAQAGAgEACQMDBAkBAw0KBQsMBAUIBQQCBQsTBwUACQUDAQMECAgMAgIACQMDCQIMBA4FCQAJBAgTCQIEDwsHBQQRCgADBQIEAgIKBQcFCwgeEQcCAQYJAwQJDQYDBhQHCwcLDgIGCAwGAwcQBwMCCQUEAAgHCAgCBwgGAhIFCQEFDgIDAgMBCAcOFQIECwUHCAkBBwwMCQwABwIECAQGAAQDAwMBCA4KBAgIAAAECwEJBQkAAwwDBw0NAwkFBgUFCAUCAgEJBAcADwwIBAsNCAkMAgcABwUFAQYGAgQGAg0DBQMBAAcHBAACBAMHAwADAggHAgQEAwgFAQsDBQQICQgEBAMCBgIBBAoDCQENCgUCAggEBgUHBQkJDgcCBwcCBQMDAQEDAhEGAwYDEwUFEQMMCwwHBBAQBQcFBgcJCQQCAgMHAwIGCgIEDQwGBQQMBAcECwUJAwQHBgQOBQ0RBwwPBwcCBQUFDwUHBgsHCgQACAcBBwUUFAkKARABBgoLCAEIFgcLAwEEEQYAAQEAAQMIBwUBBQgECQoCAQQAAwIHBgIECw4IAQQPAwcFFAMWBgUFAxIVBgUFFgQEDgEOCAIDAwsHAA0DBwIGFAQEBAMAAAUHBgMWBQsMAQIDCgYKAQIABgIDBQEBCQEUBAYKAQADAgIEDQIDBAIBAgMBBBIHDAIIAAgHCQMDBgIDAgUBBgIBCwILAQUFAQgEAgUKBwwDAQYLCgYHFQIFCwULAhkECwcFDA0GBwMGBAICAgUGBAwLBAMBBwMECQcFDhwFBAoCFQUEAwMEBwQPAQsBCQMGAQcFAQYCAQgDAwgICAMNBQgHBQcHBAQCCwMEAAMAAQUEBwMFAAIEAQMFBAQDBQIDAQEABAkJBgEGBAICAAYIBggEFA0OAQELBQkCCA0LAwIEAgMEAwIFBAwHAgYDAgIDAgwFAQUCBgABAAkFAwMDAQIHEgUGBgYHBA8CDgcBBAIFBwAGAwYFAwABAwQCCAwEBAICCgcEAwAFCQcQAAoAEQQCBgIBAwUJAQMACgMNAAEJCgUQBgUFAgMABQMDDAUEBAUEAQYCAggEAQsHAwQJAwQIBAgAAwMEBAMABAIHBgcSBwsHAwsHAQMGAwcFBAEHBAYWCgYBAwMCBQIEDAMFBAMJAxAEBgkBBgQFDAUKAwIKBQkBAgsEBwIVCggHBQsICAQBEQYMBgUFAwIJAQkGBwAKAQUIAwELAwsNBgkDAQMFAg8MAwYVAw0HAwMBBAUEAQkNBAUKBQcBBw0GDQEDAwMEAwcKAwwKAgUMBAcCFAoDCgIGDgIECQsPAwEBCQkEBQkBCgEDAQ0OAgUGCQQIAhAJCBAIDAMBAQADAggKCAEbBAsEBgsTBwQKBwIECgUKBw8EBAMFBhIUBA8HGgMEEAYJBwEFBgEEAwMHBQsGBgIFAgYBBAYDCBUMBQIHBAQHEBEOAQgFCQsFBQYGBwEBAQUJDQUOBwcFDAMCBQwJBgMCAQIDCQkIBQMHBgQDAQQHAgQEBAECBQEGEAoPCAMGAQIIBg0ICwkEBAEEAwwOBQYEAQoHBQUABQMCAQUCEwcFAQwDCQwEFwcPBwoOCxAJCQQKDgIOBgQFAgIDAgEEAhEUCAEQCxIHBQMCCAMAAgIAAQACCwILAwQBAAIABwIFAwIPCAYMDwQNBAUHAQMABAIDAAQABQIFBQYFBwESBgkDAAYCAQEFCAwHBQYBAwUCBg8MBgIBEAUMEgEJBAICAgICAg0BCg4BAgcFBgEACgQHCgQLBgkFEAIDAwUFBAECAQYPCAcDBAIDAgEGBRAABwMDAQgCBAcFDQkGBxEABQkBBgcDDggABgMIBwQGBQ0GAgsDDAAIBQEEAQUFCwkIAgkCAwYCCAYBBQEICgMDAQkRBAkBAgMJAwsCBgcCAgYHCQMQAgYHBAQFAwMCAAIDFQgDAgQEBAIDBAgCCgQJCgUDBw4AAQAAAQcGAgYBBQ0OBQ0QAA4EBQQHBgQEDgkFBQIJCQQFAgYDAwsOBwIGAQYAAgAABAkXAwECCAECCwQKCQACAQYZCQYCBA0HCwMSCwIEAwAAAAEABwYBAAEEAQcPAgYLBhEGCwcGAQIDAgECABMEAw8ECQYJCQcAAQUCCAUAAAIDBQcRCggGAQoGAgMEAggADwgDAQEBCAQFAQsOBw4IBAEFAwcFCRADCAAAAQMDCAMJBAINCAsCCggICAgMBwgDBwsDAwUEAQsJAwUDAwMBAgEHBAUHBgMLDg0EAwMFAgEIAgkEBgYCAwIQAgsBAwIJAg0HBgACAQMBAwMFAAIKAxQMBQUHBQMOAAAIAgIFBQUBAgwFBBAEBhAPAQwFAwMEAgIABAMCCAQFBwcJEQUEAhMKAwgFBAEcCQMDAwQAAgIPCQgBBQIADAEIBQQBBwkOBAQPBg4HCAUIBgIFAwQGAAIDCgMOBQcBAQIDAQEGBAMEChIEBQMBBAIBAwYHBAwAAgIKAwgFAwsFDwIABQEBDgYFBQYFBQUEAAUCFQIDBAIAAgQHCQUGCAQGBwEAAAwKCQMQBAwIDgQGBwIGDgkACQgRCQYDBgYBBgMAAAMDCQ0DAAYDAgECAgEBBAIFCggDCwEGCQYBAQIBAQICBQEIAwgJDAUCDA0EAQgCAgMNBAkCAw0KBAUAAgoHDwEKCQMGEgECAgMBBAkECAIGBwcMDwANBgYBAwIDAAMNAhQDBgIABwMBDQUGBQQDAgQDCgsIAwcCDwgMAgMJAgETDAQCBAIAAQkGDQQEAQIHAgIPEQYBCwEFBwIEBAsHDQUKBAEGBgEICQEKBQQFCAYGAg8ADAoDAwEBBwUBAxgIAwQPGAgGJAMKEgkNDg0IBAIEAwECAgIECQ0JAgQGAwQEBQYCAwcFAgEDAQ0CAwICCgEMBgEEAwQCBgQDCQYEAgMBAwgHBwUDAAcFCwMFAw4ACBACBAoFBQcDBQUCBQwEAxAJAgkHDwkDCgYIAwAEAQYGCgsSAwIIDwMEAgYBBQAMAxAFBgMCAQcBBAMCAQsEAwAAAQkQCw4DAwIBAgIHBwALBwUNCAwCBQgDCgYEAwAGAQIDAwQDCQkKBgcBAAAAAgkHEQMCBQEPBwAMBQUKCQ0HAgcJAgEAAAEPAgUEAwgLDhAGCQAMAg4ICAMHBAUDBgoDAwAAAAAJBQYSAxYDFAMTCgIKDQQBCggFAgUKDgQCAwIBAwEKAQ8FBQEBBAMDAAUBAAIICQUEAgEBAAEBBwMKCQUCAwcABAoMDgcEAgQCBgcGBRwOCwQHCQ8IGgYDDw0DAwgDAgYECQUCAQIBAAACBQ0GBgkKBAMXAwcECQQNCAsKCAUBCQMFAwkLBQMDAQABAgMDBAsFBwwCAhcVCQULAwUFCQYIAwICAwEGAwgVDQcGEAkNCwYMDgUHBQIFCwEGBAIABwYFCwUEDw0HBwMPBgQIBBIKChYBAgIDAQMIDAsXCwQCBgUAAQQFAA4EBgIBBAwIAwUDCwMJAwYHAwMKBQUCBQICCgkFEwILCgMEBgwICAUMAwsEEwkFAQsEDwQFBAUCCgcEAwgGCAQDAAMAAQQUCgUBBg0EAQIFAgUCAwUHCxEQBBINAwMEDAUABQQNCQgABgQFBQQECAwEAgQDAgUAAAQFBRQDCAQIDBEFAQMDAwAQBAcEAAECBQAECQICBwcKBQgMAgIHBAQGBAoJAgEBAgMEAQcIBwkBAgQBBAEBAQICCgIDCwIBAAMFBQsGCQYEBAUDBAwMBQoLAQYDCAcIDQ0JBQEEAQMGAwMNAwQIAgUDDAUJAggBAw8CAQQOCQoDAgIAAgEAAwICBQwHCQUFAwQIAAYEAgEDBQQBCA8DAwYNBQMGDgwDBgIEDAYIBgUBAgAEBwkLBwUJCQUPAwkHAwUHAw8NDAQDEQIBBwEBCAUFCAQGDQkIChIGDQkHBQUFBg4CEAIFAw0EBgQCAwISBhAGBAYECgQEBAAOBAYHAQUGAgYHAwsEDAUCBQIFAAIJBAoIAwEABgUCBwIEBgEJBQIRCAUAAQEIAAMGCgQQAwoIAwYCAwEJCwENFgEGBAkMAwELAgwEAgMBCgkDDwgFDwcFBQEGBQcBCgIHAQEBCwMAAgMDAwMKCQcNBBAACgQDBgIGCQkBCAEEAAMBBggBBAYHCgYCDQQBAwMGAAsHCAQPCAMFBAIEBQQCDgcGAwIEBAIEAAUFBwgCHQYJBAAFCQQEAgkDAgARBgsNCAsLCA4HCBYLAwMJBAQNBgEEAw4CCgcFEA8PBAcEBgEODgYCAAoNBQUFAgABAgQEAQcAAAkFBQYJEQYFAgIEAgcAAQEMBgEMBQUGCQYEFQUFCwMYBg8JAgQFAgcEDg4ABQUECgkEAQYACQEGAgkICQIBAwMEBBEKBgEDBQIGBAQDAwgPBQoEBA8DBgUABwkJFQMEAQABAQEEAwgCAwMEBgICCQYDAQAKCgsABwwCBAcHAgUCDwMBCAMEAAoEBgcGBAUJCQcDBwYPBg8GAw0CCg0EBwYDAwAAAgYECgABAwEBBQQFBRMECAMEAgQKCAcMAggBAwcBAgICAwUCCw8KBwcFAwUMDwIFBBUNBwgDBQEYDAkCAwcDDAUGCAYGCQUECRQKAwgBBgYMFQcQCwIDAQUHBgUEBg4GBAECBwECARQCAQYGDBALCgUDBw0FCgMBBw0cBQgGCQMJBAYDBQMKAgIGCAUBDgUMAQwKAwECCQUGBAwLBAQDAgUGDgUJCBQHEgoGAwUGBwQEBwEAAAgCBAQBBgEMBAkMCAQNBQgBBAcCBgEEBgwIAAEJBwMMBgoDBQABAQUEBwcHDQQRAwUJCwYCAgALBQcGAgYKBQ0NBQYBChAABwQEDgkCCw8HAgAAAQAICQQCAwUDAwYFAwAAAAAEBwEGBAQDBwQOAgMFAAELDwMCCAEIAAYJCgMJBQEBAgUCAAAHDwUNAgUABgYHBwIBDAAHCQAGAgUGCAECBgEFAQ4CBQkCDAEDAgoCAwgBAQIBBQkRAgUGBAcDAAQJAggMBAkBEQATCQYIDBACBAgBBAoDAwQCAAMEBAAGAwIFCBADAgwBAwsFDgcFCQEQDAMJBgQDBgoEBgkDBAUFBAIIAgQEAQMOCAMEBgIGBAoKAwIEAAECBAEBAAMRDwEAAggIAgQKBwcHBAQODQAIBAQEBQgDBwQOAw4GBAMDEwYECAwIAAUADwQFCAQLAQYIBQAHCAQKAwgBAQYABREBBAMABggEAAMHDwwHBggKCgEBAQYIBwYKDQIFEBQFCQMRDgoHCwIGBwEPChIJEgQDAgAFBQQFAwsFDAoNCAkRCgMHAAMJAwwEAwIDAwQBCggTAQsFBQcHBwIICAICAAAAAQ0CCQYBAgAFAAMGCgUHBwgBCQoLAQIJAgANAQYNDAcCAwkDBQcNDAMLAwsQDAkGAQgMAgUAAQAGAgEFAgkKAxAJEwUIBwUEBgwKBgMCBQkEBQEDAwMKCAYDAA0EAgUEAQMDAgQBBwEHAQQKAwQEEQ4MAQIDBggGAwUHDAMKAwUQBQgEDwgHAwIGBAYIBAQHBQUFFAYMBQUEAgQBAgUJCAEOCQIBBgEBBAACFgUECQQFBQYHAAQJCAoEDA4GBAMNAhEIBQMHBAMFBAcKBgkDBQMDDggGBAQGAAcBAQIJBgkGAwABAgMBCQMHGgUDBgcDBg8EAwIQDwMGBwYNCAkTAwMODAwDAAACAgMADwUCAA0FEAQMAQkKCBAJBQUAAgMFBAQBCgcLAQEFCgIPBAIKAwEDBgQTAw0BBQUCCA8KCAgGBAYKAQ8DBQQCAAEBAAIDDAQCBgUIDQcBDwYIAwUEAgQOCAkJCAgFAgMDAgIDDQwFCAIABQMHAgsGBAAHBgIHBAcCAQUAAAQFAAUBAgUDBwcMCgcCAgcJBgIIAgQAAgQDDAQGAgYCCgYGAwUAAQUDAgECAAIMCQMCCwEHBwIAAAcIAwEBAgMDAw0JBAAVCAMEBgkLDgwCBxYCBAQIBwMEBQEDCAIABAUGCwEOBQgGBgIDAQEACAkFAwoEBgMIBQkHDAIFAgYDAgUGBg0GCgcFAgMIAgsLAgYDAwAAAAYHCwcGAQMAAQMEBQsEBQALCwoLDQEEAwIEAgEBBQgABgQEDQIEBgcCCwUFBgELBAkFDQALBQMGAgcBAQULAQIDCQQGCAAICQUJDwYFBgMGBAQFAwcFBgcIBQYEAgEDBgMTAgsCAQcEAgoEAwMIAgUEBQgHCgMJCgUCBQUDDAwCAw4BAgEBBgkGBgUGBAwLAgUEBQIBAgQABAECCQ0CCAIFBwEAAAECAAoOEhgFBQkHFggMBxELAwMDBAIEAwgHAQoCAgoGAwMKBgIJDAECBAYAAAcNEgMEBAYIAwAJBgMEBgYKAgYBAAIBAgAJAwgCCAMDCgQGBAIDAQMAAQICBgMEBQMFBAcEBgMMDAUBBQIDBQIACAoDBQYHAxMHCwULDAICBAIGAQQJCgIDCAwMCAcCDAIHBAAFAQUECgAFCAAMCAMFDgUMBwMCAA0CCggFBggLCAQGAQQEAQECCgcKBgUEBgYHBQgMDwMIBQUIBgMMDgYGAwQEAQUHFAcEBQsIBA4JEAYNDAgDCgoEAQEDCAIDAQECAAYCBQMMAwkFBgEKBAcKBgILBBEDCgcCBgEFBwkFBQUHBAILCQMJAwwLBwMLBAQKAQYGCwoCAwMCAgEGAw0EEgUDCwQBAwQDBgYDFQEFAQUGBAcGCg8AAwcHAwQKCRwKAw0KAgUCBQEAAQMGAQUBBQgGAgQJBwEIBgYVBgsDAQUDAQMDAQgODgQOBAkKBwAEAwIBAwMBAwUPBAcFCQUCAgISCQYCAQQDBwEAAgUDBgIHBAcBAwMBAgMBCAcDBAYABAEDAAwHBgsBAAoCAgoLCgQEBgYGDgMAAw0EAwUOBAIJAAoBAwMBDAQPAwsDBAYKAwQCAQQAAQUEBgcJBwgCBQkDEAERAwEABAYCAQQOCgUDAQwEAwcHAwMBBAoQDwUICQoBAQUGBAcCBwIBCAsGBAYHAwIPAwMEAQIBAgYBCAYHAQUKCAMCBQsGBgMAAwECAgEDAAIABgEHBQ4FAgQGAAcDBQEBAQECAxIDBAIFAgMNAg4BBQQFAQUBCQMBAwAAAgAABAkFBgQOAQsBDAYFAwQDBwUEAQMHDhMBBQsDAgEHBAUECBIIBQgBAgoGBQkBFgkKCBIFCwYDAQsCBQgDBgUGCQcHEAcEHQQGBAEABwoEAgIDCgoMBw4LBQICAgMAAAYKAwESAgMDBQQCBw8KBwABAQMBBQUGFAQKBwAABwUGCgUCCQsECQADAwIDBAkHAgQBAwADAQMGBxMKBgIAAgECAwsFAQQFAQAAAQkECAMCAQAAAgEBCQMAAAkFCgsBAwcMBgkKBggICQYUBw0CCgMLAgIGCgcJBAkCCAYBFAwDBgIEAwoGAgYIEgkGBAUEAwMaAwcDAwMGBQQHBAMEBgAICAgEAgMEBQkDBwwIEwUEFAQECQQFAwQDDA0CBgAIAgcGCQYMBwUDAgQCAQAEAwICAgcNBwUCBAoOCAQCAAEDCwoCBwACCgoCAwYODQ0JAwsIAQUEDAkRAAUHBgUCBwQECgUGCg4NCQYGCgUVCAIHBAUGCgcHBwYKAgUBCQEDBQYCEQgLBQEUBAIGBgUHBAQCBgMJEgcBAwQGAQsKBgYKBwMFAAIEAg0HAwUXEwQFAQUECAMHBgcFFQQGCAMEBAACBAMJCwEGBgEHDAsGAwoFAwQCAwsCAgQAAAEBAwwKBQsDBAUFBAcICwEFCQYECAUFAQsIAgEBCgMHBwMDAgsBBgABAQUCAAkJAQgEAgEKBgYIBQwCBgcCAgEDCAIHDAYBAAgBAQUHAQUFBAsCBAMBBgEBBgYDAQECAwEFBQUKBQILBAIEAgsOAgMEAQwIAwQCBBEHAwACAwcFBwYDAgIJDQcDBgUDBgMKBAQKBwEDAQYCCAcGBAgDDgkCCAMEAAcDEQICAgYIBAQCAgcNCQwFCAgRBQMHAwQDCQQIBRAADQMFAwwDAQQFBAYPAwYDAgMEBAACCwURBAYFBgQKCAkLBQUFBwcEAQ0CAQMHBAQEBQQABwwLAwcGBQMABgQEBwUIAwIBAQYDAQECCAsCDQYCBQYBAwsIAgIEBQEBAAMEEgIFCAEHAQMDBwUECQQICBEECAABAwIEBQ8LBQUJDwYFAgUFCwcDFA0GCwUFBAsGBwYCAgMHBgIHAgEDAQEFCA0DCA4GCwIFAAEBFQMOCAAEBwcFBAIFEQgCAwICAgICAwEDCgQHAhEEAAIBAAgKCAMIBQoJDgUMAwIDCgsICwMFBQMFBQQGCQQGDBcICgYEAQcBAQEIAwQNAwoEBAcGCAQDAwAEBQIGCwIAAgQBAgQDBQAEDwQGCBAFBgIDBAEFAAINDAIFBwYBBgsPBQUKCwsWCQcCBQcLDQsPBgUEDAMECBIDBAMFCAQCBQgAAAcCAgIBAQUFBBIFAwMBAAEQBQIFCAAFBAgGBw0JDAYGAwcDCAQBAQUFCQYPBAMLBQsPBw8DCQQFCgoPCQUJCQMEBAIFCg8FAwMBAgYAAgUBBAoBAAYCBQQECAYBBwEBBAkTCwUKAwgKDgsMCgURAgIMBQkHAwQGDggEBQoFCAEEAgIEBwgHCAIGBAYEBQYOBgsFFwcGCAUFAwICBBMOCAQFBAoLEQMGAwkGCgECAAEABgQJAQEBAQECAQgJBwsGBAADAgEDDQIJDAACAQQGCAMBCQQBAAAAAQACAgEBBwcEBgEMBAoEBwAAAAAACg4IAwYBAQEBAAQFBQgDAAAAAAACBgUBAwAAAAAACwkFBQoAAgAAAAQDCwkCAAAAAgABAAACAgsAAAMEBxAFCQcDAAMDBgEHBgcNBAEBAAMNAwMICwIBAQECCQYFDQgAAgAAAQYEDBAEAwUDBwcKBQEEBQAAAQMBBQ0DBQQGDAwEFQgMBA4EBQECBQMGEgoDDwABAgcCBwQLERYFAQMBAgcLCAoJBgAAAwECDQMGBAADAQABCgMIBQMBAAAAAAQSEAYBCQcACAAHBQsGCQoSBQYKCQgFBQQCAQECAAQRDxgICgcHEwgCAQEEAQUGBgUEBAkGBgMFAAMAAwQFBAMCCQkGAAgCBgcGEAMGAQIBAwEDAAAMCgQECQcJDAEFBAABAAIOBgUNCQYCAQYDBAgHDAMAAgIBAQkGCAcBAQACAgICCAUEAgABAgACAg0JAwUIAgcHAwYLChAJBAMDBQINBgUGAgICCQYBCwgKBQUAAAAAAAoKBggIAwICAQAJFRsPEQMSEwUMBhAFAwMAAAMBAQUIBgIDAAAAAAAEBgYCBAIAAQACBwYBAwIKBQoGCQgRDggFAQcCBwYHCAsKCgAGAgICBwUHBhAEAwEEAxQIBwkBBAIFAQQKDQQCCAEBAgIACA4CCAIBAQMEAwQFAgMBAAMDAwEEBQkLEgIGAgYBDQUPFAoICgwGAwoEBAEABQ8ECQkQBgMIBQIDAgMHBwoQBAIABA4DBgMGAQcDBAYGAwUMGAQCBgkRDQsEAgoFCQYBAgIAARILAQYFAwgFBQIGBAIEBgcQBQMDEwELBAMBBAICAgkCBAQJAQEDAQELCAIBBggQAwYNBQQQBg0CBQICBQIICgIHAwAFCAQHCw0LBgIAAgEBAgEGBQIFCQkPAgUGBgQCBgAKAAcCAgIABwUNBwIDEwgSBAIGBgsDBA8PBQgGAQEBAAEMBgQIBgYXDggEAQMGAwgKAxQEBQUIFQ8DChEDAQYJCgYHBAoJAAQDFxYFBQ0IAQsICQAJBAEFBg0KAgcFDQYGDgIBAQICDQkFAgIIAAcEAgcDDgoNAhgIEQgKDgQCBAcCAAECAwMEAwEOBwUDAwgBBAgDAwwEDQkCCgwHEAcDAgIFAAYCAAUGBgUHCQ4GBgoMAwUHEAoPAg8ICQgEBwYGAw4EAQIBBAMCAQwHAgYFAwIHBwUOBQwHAwQDDAoCBgoIDAYBCwMJBQEFAwQIAwgFFAQCBAEDAwUDAggEDAQJBwcFAwoEDwcMBQgLAgMCAQMKDAcCBgMCAQEACQEEAgkCBQUDAgABBAMABAQFBggDCwEMCAIDAgUHAhIDAAwOAQUFAgMBBQoIAgMCBAUABgMEAAYWCQYHBQMQBwQAAwAFAAQAAgMKBwEBAwINCQMBAQUHAAMDBQgIEAoQAwIDBRUJBQoBBgYOBAUHCQsHDwEBAAIIBwEACQIFBwIOBAgICwgBAAMLAQ8FBwkJDgcDBAYCAwoHBQADAwICAwQFBAoJAAEAAAIKCAkGCQQEAwIGCgkCBw4CAwYBBgYCBQkACgYJAgMGFwUECwEBAwEIAQ4ICAoDAQMCAQ0DBQIKAAEFAQMABAMLBwIBAwkFCAgDAwEFAAEBAQQEDAQEAwkDBQUEBQ0MBAEHBQoEBAIEAgUIBAINBAEDAQIDDwkAAAMHDAYBCAQMAwUJAgQIAQIFCwwDAAYDBQgDAgIHDA0NCAQGBQwGBQYRAg4CAwcNCgIQAAMCBgQEDAUQAQUOAgoDAwUMAwgMAwcCAAEEBgoBCg8CCAkMAgcKAgEEBAgEBRsNAggFDwMPAwEEAwgEAQsFCgoRCgUECwQIBwYDBAEBAQEABAYFAgEBAQkQCgsLBgQBBAEAAQQDBAMBCAsDDwoFCw4LCg4JBAUEDAIFBQIBBAwLAgUKBwsGBgIIAQMEDAkDAwcECQIDCA8ICQIJCgYCBAATDAkFBA4GEQMEAwYDAQEDBQsFCRAJCwkHCggEBwIECQcEAhMICQYEAwsCDQkHCAICAwcMAwUACwkEBwQJCgQRBAkGCwYJBgMLAQMAAAAAAAYEAAIDBAUDAAUDBgECBAURAggSDQQFDwECEAkDBAQKCgECCwwLAQUJAwQBCQcNDQgLAQICBQIGCAYHAxICCggPAgMEAQMIBAEBAwEBAQEFAwgPBgADAg0DAgUDAAYCBgEMCgsAAgAAAgwFBgQBDQwKCwQEBgMGBwEGBQMCDgECBQUBAQUDAgYKBBIEBAEGAwUEBQsFAgcHBgcFBxMNBAQECQMGGQMCDQUDBwECAAMLCQQDBxMDAAsLAgQBAAQDBAYBBAgDBgMKAwABAAMBBRAGBQUDAQQCExUKAg0CCQkGAQ4LBAoJBgcFAwIUBQQBAgECCAICBAUPEAIAAQcFAgYdBQECDRYDBAMBBQIGAgYCCAECAwIIAgACCQUABQgJCgEPCwwNAwgBBAsIBAIGBAIJDg4HCAwDAQMCAg4IBQ0HAAEEAgECDAYOBRIQBgYJAAIBAAQRDg4BAQgBDQMDABAKBgIHAAMAAQUNBwsGBwIDAgUFAwgGBgIHDwQDBQIDBw8DBAIAAQYJBwcEBwkQHAEEAwYHAgMDBQMDCQcPDAUHCwcHBQcCAAABDAkFBAIJCgoKAwQKCQgTCAIREgoHBwIKAQQEBgUIAgACAAIEAgECABMGAQkGEwcIBQIDBgQBAgUHCgoFCAQMCQcBDQQKBQYEDAgFAwoDBAwICQMICREEAAEHBgQCAgABAQMDBQgHBAgHAAsGBgYEDAMDAQoACgEBAQEFAAEDCQYLBwQBEgMCEwMGBAQGBgwEBgEEAQQHBAUGBQMQCAICBQUDARAECAgCAgIICgIQAwECAwIEBAgFDAYNAwMCBAQFAwQABAkJCwUCFAcGAgEICQQDAAMEAgEEAwQDAAcIAA8ABQUFDAMEEAMOEwQLBAYBBQkGAwoICAADAQcKCwMMBhEJBgYEBQQDBQ8FDQAJCxIKAwgEBgMFAQQKCQYKCQEFAQAOCAgBAwIBAAIDCQYNAgECDAcDAgMODQkDAgkEBAECDAUECAwHEgoGAAIBAQYJEwUNBwoMDwIECQcJAwQFDRIGBwMGDgUGEQcQCAMABAEBAg0GAgUKBwIFBAgCAgAFAgQGBAwFAgEAAAABBgYCAgwMBQMDAQUDBAgKFQIGBQIDBQECBA0GDgUBAAICAwsECAQBCQMMBAkFDAoRCwICBwEDBgIDEAMEBQMKBQkMAAgAAwoDDAsHAgEACQYBAwECCgUDAgUEBwoJCAAHAQMEAwMFAAADCAMBBgMJAwkDBwIDCgQDChUICgQFCggIAg8ICgEDAwECBAkFBAQGBAEEAQQEAwMDAAQDAwADCQkHBQgHARMFBA0CBAMBBBoQBwUGBQEBAwYIBgULFAkNBQYOBwACBQ0BDAUQCwUaAwQKCwcTBQMMAAoDDA4GEgUDAgEBAgUECAQHAgIEAgQKAwYFAQkDBgwBBBMGBAsAAAIAAQAAAAABBAcBCgQECQoGAQQHAgQFAAABAQECBAwPBQIEAgACBgYIBwIHBBANAwoLAg8RBgQIAwMEAQMAAgkHBwMEAwMFAAEFAwYFBgABAgAACwwFEgMAAAICABMUCwUIBgMCAwYKAwwDBgIAAQIACwYLFQYDAQINBQICAQMMAQkADQETDQsGBgAAAQICAwgLCQcAAQAAAAgDBgcIAQABAAAKBQYDBQIGAQIFCQgHDQgBAgMAABITCAMNAAICAAAFAgUGBQIFBAgICgQCCQcEAAAAAQMFBQQFAQAAAgAEDwwDBgEEAQkACQUQBwEAAgICAAoKEQ0HBQMAAQAFAgIFBAUJBA0CAgUBBwIAAAAAAAUCAQUFAAAAAAADExANBQECBwcIBAoEBgMDAQIBAA4GCQMNCA0RAwERBggCCgAAAAAAAwEIAQIIAwcIBQsDDwMDAgoMBAMFCQMEBQQCAgEBBQUBAwEJBAoFBAkHAQsNAwwABgIEAwMKAwYAAQQCBQoBBAQAAAMCAQEDAgIBBBUOBwkDBwUABAAHBAMCBAYNBQwAAAQCAAUFBgQDBAQFAQQEAAADAQgMBgEDBgkIBAQDAAABAAUDCQUEAAEBAgAAAAQCBQAAAAAAAwkHDQMBAAEEAwYPBwsKAQICAAIJHwQLBQYHDwEEAgMCBgQBAQAAAQIDAQEDDAcJDgQLFBAKCwEBBQIDBQ4TBwgBAQIBAAMEBQIGAQwGBgMIBAgFBwEDAQEDBA8HCAUAAwAAAAkPBwQRAgMDAgEEBhYIBgIGBAMBBgYFAQEOCQcMDAgCAwUCBw8CAggHAgQBAw0KAQ8IDgUDAwUAAgUBAggBDQcIBAkJBAkLBwIABQQEAQMIBAYDAwEUAwMCCwsRBAcMBAEDAQEBCQMLAAEEAQIADwsIEwwFCxETAgABAwIABwYIAQUFAAABAAgBBAMKDAUGDQgCAgYDAgoEBAEFAAAAAAAEBgQGBQgKDAcDBQ0DAQMaCAcDDgMKCQ0LAwYBAwELBwIKAwkACQMGBQQKEwQBAQMCAgIZCgEEBAcMCggDCQsJAgQAAgQDBgsEBAkAAQMFAQ8HCwEFBQkDBAIPCAoHBgYGAgEBAQUBAQMJDQcEAwYHDAYDAQcCAQQHAwMPBwECAgEADgkMCwQEDAMFAxEFAAYPAQYEAwIJCQoHEQoJBgYBDAwLCgMEBwMDAQwKBAcGAgIDAgAIBQQECgIIAQkCCAcFCAUFCA0TCg8dDAIHAh0ECwcIAgMFBQADBAQBEggHCgMGAQIBBAEFAwIDBgQMBwIABAQCAwILCgYFAQsCCAkDAgMCAQkLBQwEAwQDAQUDAhAJCQMABQUFBwsSBwYRCgcKCgIGCgUTAwYCBQMKBwYFBwMAAQACAAMRAwgAAwAAAAYGBgIHBAYCAgECAQAAAAkBAgEIAgQCAAQFBxUHCQUJCgcDCwEGBgYCBAQBAwQSBQEHBQ0CAwMGBAQEBAYCAQMGAAEAAQAGCgIBBwEKCwMGAgUHAwQEEQsFAgYCAgAABg4FBwkDCBAIBAIDAgIFCQgGCAcBAwUCAgUHBQMCAAABBgECBw4GBwEDAgAEAAQAAgMGBwIFAgMBAgEAAgoOBAYFAgIEBgIICAMHBAQFBQUAAgEAAgkTEQUHBQIEAAELBwQBCAEEBA0RAgAKBgQCCAkDBQIFBAsGCgUFCAgDAwQAAAMHBw0JCBAHBgoHBwIFCAIEBgACBAwEAA0JCgcBDAoBAAYDBQgCBAYICAwIBQMDBwoHAwYCBwMABAQGFAEACQsDBBEFCAUFBQUFBwcCAgEABgMPAgQCBAkGAgIJFAQGBAYGCwUZBQMDBAMFBgIGBAMKBwUECgUIAwMCAQMBAwcIAgMJCAgHBQMAAQcEBgQGCAIEBQsGBwYCBQEBAgMIBQYLBwkCBQQBDRAEAwIFABIFBAgDAwUHCAQECAMGBQ4GBAcEAQwGCQgDCAgVBgIHAgsHCAsGBAcEAgQMBwISAQMGBQICAgEEBgkIBwIEBgkDBAEAAwADCgMEAwUFBAgFCQkKBggEDwsUCwEFBRIEEAMCBQMLCAoRBQUHBAUEAQoEDAULAgEGAgIQBAcDFA4KCQEECQMFBwgBBgIDAQECBgQEBwMNAxADBwQECgMAAgIDAAkFBgMLCQMHBwYKAAUADAgHAQkLEQYHBwoCAAMMBAgEAQcLDw8LAwkaBQoPCgIGEAUBBgcFAQcBBAEABAcHAgMDBgUKCwMGEgcEAwIFAQ8CBAgHAwEDAgMDBQUFDQgAAAYABAIJCAIFAgoRBgQLCgkRAwoIFxUCBQoHDgIBAQEFBAICCQEOBQcICAEEAAwDAQkNAQUHBwMODQgDFQAICQoJAwkFAQUBAQEDAQIEAgYABw4EEAoCBgYEBgMLDgkCAQQGCAwDDAEJAgUDBgcFCQEHBQUZBggOCwQCBA4HCAwFBAEKCAgOBwABBQMCAwQACQkDAwsJCxADBwUEAQIDEAsOBQEKAQUKGg4LBQEZBQUCCAMJCwgCCQMCAAMCCQUBBQkFAwgJBQcBAw4VBwsDBQMCBRIGEwEDAwMDAwIAAAAKAwoBAAECCwEFEwUHCQoDAQECBAkEBwcFAQMABAIHBwQGAwEKCQQDBQoBAAMDCA4FCAIAAQEFCAgBBAkEBAADAwMHBQcKDgMMCAUBAwEQEQQLBAQHCRACCQcFCgoHBQYLCgMFCwMBDgQDAAQHBwUOBQQGBAIAAAMEAQcDBQgHAA0BBgkFAwQDDQUIBwIFBAwDBAEHBAQDBQgKAAACAAwCBwQCCgYKAQcIBwQHBQEJAgYAAwEBBgcGBAkEAhMGBAkHCgYEBgMEAQ8LBQECAw0DAwMMAQIEBwEABAUDChIICAoJCQ0OCQQDAQMCCAQSAg0JAgcCBQMEAwcLAwQGAgoEBwQEAgoLAQYIAwECBAMIBxUFAgIBBAcRAQAABQADCQQKBgkECAMGDwMJAwMDAgABAgYJBAEBAwEDAQAKAwIIAQELCQUMAwMFCwIHAgQCCgYECAcGBQUIBgIBAAABAQEBAQEAAwQGCgMDBQEAAQgCCgMEAgAAAwEMBggCAwYEFAoDAQUJBwgAAQEBAgcLAgUDAQACAQEGCgMMCAQDCwMEAwADAQMBAQ4HARQEBgUBBwQJBwECAwICBAMDAwcHHAgFAwUQGQcEBQUKBQMFAQcFBAsGCQkBAQMAAwMACAwIAQEGBhEGBwMFAQQEAwYECwYCAgkCAgUGAgEHBwEGCw0CBgMHCA4DBhEJBQ4KCgQBDgUGBAUIBQsDBAkEBgwGBgACAQgLBQACBQcECAkGAxYIBAELFgYEBwcPAgQCAAECAgQKBAgFAQIAAQEGBgMBCAECAQMBBgIHBgEKCAkDBAMFAgQGAAUGAgoFAAMRBhARBgMVBwYBBwcGDQcGDAUGAwQJAQQGBgAOAQYBDAMABAIABgwHCwYKCAcLAQIJAgECAAAGAgENCQYGBQgHCAIGDAUHBQYFDwUGAhsNCgULBQMHBQkCBgQEBAUDBAMEBQEFBgEHHwYBDAkDAwcDCwkFCQMIBQQJEAEHBgYEAA0DDAEDAQICAwQIAwUFBwIBBAQBAAEAAgkCAwsHCQMGEBQODAQGAg0AAQUDAREHBggDBAEFAwECAAIFBxQDAwQCAQQECQYJCQYQCAwIDAUFAwIAAwIIAwMCAg8GBQEKAwgEBQcGAxMGBwIAAgQKAgcFCA4MAgMHAwABAQELBQcFAQIBAgICAwEAAgEGCAEIAwcCAgQBBQEKAwwDAgUEAwUKBAAJBQoEBA8IAgIAAQgGBAICAQEEAgEBAwYGBgMOChADCA4GBAoHBBQGBhANCAMJAwADAwgCAQQFAQcHDwgGBRMJAwYJCAgBAQMAAAEAAxEDAgUBBgQEBwEAAwIBAgUEAgIPBgcEBAkMAQQCEg8GBgYMCAYJBQQJAAYGCQQCBQgCBAIBAAQEBQgEAAIAAAMFCAUFAQgCCAkACAwFCQMJAQoECwECCQsEBQEEAAkDBwAJCQMIBAYDBwUDAQIGAAcFCwkIAgMFBAoBBgcGDgcNBQYJAQEGBgAKAwcCCAIDBAULBwQDAgcEERMRBgICAwcBAQgJBQYRCAUJBAcBBAILBQYOAgYGAAcMBAACAQsDAwgIBQQDBAQDAQQHFAUIAgQDBAMNBwYBBAMGCgkCAQIDBAIAAgYJDwUCAQQJDAcBCAAGBQIBBQIDAQAFCQcRAwMDAQAAAAAAAwIFAgcCBQIKCAQCCQMKBAUDAgUDBgQABQcNAgUDCwMFAA8BBgQKAgcDAgEFAwQFBwQOAgwEBAEGCAIDEAEHCAMFAQYGAAIDDAkIBgQFAwMLAgENCAgGEAMCAQgFBgUGAAIBAQIDAwMHAxQBAwUDBAQHAQMHCwMDCwAAAQAACAAIBQQEAgkMBgMDAwIEAwAAAwIBCAEFAgIHBgEIAgcQBQkLBg0BBwEBBwcHAwIFAQYFDgsHAQEDAgADAwQCCAYCBwIEBQELCggHCgoJBQkCDQcIBwYCBQQDDwMDCwkPFwQHBQgICAoBCAoDAQAEBgEEAwcEBgYBAAAAAAEFDw0JDRAPBwUFDgsOAwQIBAUEAwIHAwgIAgQCAgMHDQYEAQMCAwIMBgUNBAYBBQMEBQQMAwMDBAIFBwMCBAYHBQ4FBgYGCQIBAgoNCAkGAQ0ICgQFBgMDBQICBQgHBAEAAgIBAQwCBQgCAgEBAQIOBQYDChEFCQYHBxALDQIBBgoBCxEGBAgABAEDBAcMBwEEBwQCBAEEAwQFBAkEAg0HBAsEBQUSAgQPBAUHAgQBEgYDBwwBBwYBCwMDAQIBAAIJAxABBggBAgoJBQsCBAADAgMCAAEAAQQJBAQHCwYMBgQLCwIKBAUGDAQECAECAwMBAQoJCgQLCAEBCgYGBgYCAQkEBQcCDwQRAQ4LBQYECgYIBhAHAwgBCwIJAwIDAgEAAgIDBQACBwYFBAkHBQEVAhAQBgMFBAgFCwUBBAIEAwEEAwIDCggFCQgSBQICAwUFAwwFAwQFAgMOBAwCCwkBBAUJCwILBggBBQ0HEAMDBQMDCwMFEQwDBwMEBAwGBQMCChgDAwIHDgYEBAAEDgUHCQ0GBwMHBQAGAwoIAgIABQICAQIGCgsEEAYOAw8HAAEDAAEHAAUGAQYIBQIQAgICBwYDBwMECAkDDQoCAwAGAwEGDQYBAgIBAgEABAkHAwQEBAIFAgYKCwECBwQJAwUAAgUABAEBAwMBCgwHDAYDCgUJBQICAAACDA4DBgQEAQEDCQQECgMGBAEEEwECBw4OBAcVEAYEBwAJAAMDEAMHAgIAAAYBCQkBBAUBAgEDAhcEBQ0EAQcCBAUGBgQBCAsCBQsHAQwBCgIGDQwDBAQCCAkCBQACAgQWCwEABgYMCQMCDBEVCgwBAwcEAwACFQMGBw4LBgMECgQBAwIABgACAwYMAwcGAAECAAsGAgUFAgQDAgMJBgkDAwUKDQ4PCQIGCAYJEgUEAgIIAgEFAgICAgIOCQIDBAMMDAIMBgMAAwUBBgEBAAIJAQIGAgEEAQMICAIGCAEMBAUGCgQQBgcDCQcDBgQFAwEFAwcJAQQCAQUCAQUNBg0GAgQLAwUJCAcEAQABCQoBCQcFBAkGBQMEBgMEAQIDBwMLBQQIBhAKEgMFDQQCAwsCAgoSDwkKEgwLCQAJAQYDAQIPBwIGBwEBBAUAAgEGAgcPCQMECgUOBQAEAQICAAEGDQcDBgUBBQMECwUJCgkCCAQIAQwFAQkHAgAFDAIDBAAEAQYGEwIFBgkDBgIhBg8GBQ4GDAQOAwUIAQQCBAQDBQsMAQQHBAkCBQYHCQIEEw8DAwMFAAQAAQQEDwsQCAIBBAUDAQUCEAECAwEDAgwKAgkBDQYCAAELAgQDBgIDAwUDDBEDAQsKCAUTBwkGBAICBgIBAAUBCQkNCQYCBQEBBhQDBwoJBAQCCwEGAQEFEw8DCQMGDAQJAgQFAgQBBQgJAwUDBAAEAgkPBAkEAQIHAQIJCQIDAgsACQcDAwYPDAwFBwUIAAMEAwEDCg0EBQcKAwUGBAEBAAACAgILAwcBAQABAAgBCwIIAgIDAQQBBQQBCgEGAgIFCgkFDQYEAgkABQoGBAUDAQoDBwIMBgcFBA4HCwgHAQQGBgAEBAIDEgUCAgEEBAYIAhQAAwEBAAcIAQICAwMDAwcHDAUICAgHBQkCAgEAAwEEAQIHBg0EDAMGBwQFBg8DAgQCAQkCAgIABwcDCwYBBQQFBgsECwQCCBUHBwcECAQKBgkCAgAFBwYCAwMGBA4DCAUDCwoEAwAAAQAEBgkJAQsFCgYGCAMEAgIAAQUDAAUGAwgFBgwEBQQEAAQEBQMFCQEDBQIBAQgFBgIDBgIHAAEBBA8ICQECAAcDBAUEBgwMBAgFBwQCAgECBAIKDgEEBgYGAg4ECAoFAwgEAwELBAsCBAkIAQgEAg0EDA8FEAQKBgIGAgEBAQEEBwYBAgQEDAgJCQ0EBQMLBwIFAAEAAgUFCQMCCgsJBAgIAgcKCgMDFgUEAAISCggGAgYEBwwDAwUGBgMDBwMAAgIBAQAIAxAHAgUJBgECAgIFAwUUAwMNAAQBAQsOBQ0QAwQKBAUBAgkICAoCCgkQBgMGBA0IBQADAgMCAwkGBAYPAwEGBQgGAgIFBxUFAgkCBQkIBQEBBwMDAAUKDwUQAgwFCAQHDQUDAQcFAQQCEAcCAxEFBRAGBwwGCwoGEgkGEgQGBwQHCQ0GCAcMAgAFAgUGAwEDEQoBBAEKAg8DBQgIBAQKBw0EBwQABAIAAwUDAQEGBggNAQIKCwIQBAIBAwkEAAMCAgMBBwUGBwoJBQAJCAYIBQQYFQoJCgcNCwgLEg0CAwcFCwYBBQcHBQEBAgIBAgADAwkEAwADAgAACgEAAgcBBwUFFQoLAgEAEg0BBQUAAwMAAAUNAgYHBAADAQAOAwMAAgcJBAoIAwADAgMMBwoEBAQLEQYCBQUDAwIPCQQCAg4BAQMBBQsLDAgMBQUNAQMCAQICDQcJEAYFBggFAwYCBQMIAgwHAwUQAwEQDQIMDAUGBQkEBgQCAgECAwALBAYFBAIFAQEECQEAAgMNEQMCBBACAgMBBAAAAQAHBQMJAAAEAQEEBwICAwgUDQcFCw8EBAMBCAgGCQIBBQwBAQUQBwMHAQMEAwIBAAEBBA0HDwIDBQECBgMPDQUOBAQDBgIDBwMNBwYFBAMGBAgDBQYCAAECAQQCAwYEEQUCAxMNBgQDBAEHAQkBBgQKBgsBAwMCBAIDDgEHEwsGBAcHBQIDAgEDAgYABQsKBwMGAw0FAwMCEgcFBAgCBAYWCQ8KDQ8GCAUGBQ0IAwoECAEDCwgHBgIDAAYKAgQHBAUKAwECAgIBCAUJAQcCAQUDAgAFAgQBDAUDBgIKBQMIBwkGCwIKAwkEBQMABQECAAQJBgICEggDBwMSCAIRBgIFAQMCAwoNAgUCBgQBCAYBBQANBhUFBQwLBgMDAgEAAgUCAgkJBwcDAwIDAwsGBQIEBQQBAgQGBgUDAgECAgIBBQcJCxgIBQIQBAIBBwEEBg0GAwoLAgUNBhMEBAMEAAMCAQIJDgIFBQ8KBAQFBAMCBQEDEQoIAgQDAQUDEgkFBwQNBAEEAwQMCwQFCwMEAwYDBAMBBwkEBAgGCgUEBQECAAABAQQGBAwECgcEAwgCDAIEDAMEAQECCgsFEAUHAgUGAQcHBAgLBAECAAEKCQsHCwEOBgUEAwECAQIFDQYFAwgBBAoDBQUHBgIGBwEGAg0EAwUDBAAACAMKBgcJBwkBAgYDAAgAAAAFEg8BBAQCAwIBAwIFAAQICQ4AAgMBChAEBQEFAAcEABAHAAIRBwUEDgwMCAcCCgcFDAkHBAQCAwIABwMEAwMFAg0BCQkDAggEDgkDBgwEAAYIAgoBBAYMDAsEBQMCBAEEAw4FAAgCBgUCBQQAAAUDAQQECAUABgUGAwACBAsMAQYFAQIAAQMBCQYFCgIECQcHDAcGDgYCBgUDAQQCAgIIBQwGCAIAAwEJBwkAAwIGCQwGBQUCAwIFAgUGAgULBgUCBgMIDAwDBQ4HAwUECQEBBAQMDwMDBAcABQYBCQIEBwcCBgEBBwIMAwwKAAkDBQQDEAUDAgQDBAEDBwEHAwQKAgQNBgoICQMBBAABAwoADQcFAwIBCAMDBgIBAgQIAQgKAgsFDwoDBAcEAQIGERMIAQoECgsKEQMNAwQIBwEIAQQBBQYGBwUFBQsJAwQGAQ8IBQYCBgUFEwYFBQYGCQMBBhEDAwMEBgMUBwACCgYABQYEEgYJAwoDBQEIAQQIAgkDAA8BBhQOBQMCBw0BBgADBAEFAwQODAoFAQgDBAMDCwoEBA8WAwQIBwQQCgECAgUBBQMJAwcGBgMBCwIDEgMHBAEDEwkNBwgNAwQJBwQSBQIHBAcECQMJBAUECAEDBQMSAAMQBgUDBAoFBwMEBAIICAMLAQoHBQIGAQIFAQUIDgkDAwYCAAMGCgQEAQoBAQEEAQ4EBAsLBgcNBAoGAgUBAwcKAgkCDQIUCAYECA4ZDAkIAgECAg4HAggCBgYEAQcBDQUDAg0HCAAMBAQDCwQDBgQDAwkJAgwCAgcCAAYOABoBAgUGCAcEAQEAAREDDAIGDQYCBgsNBhQJBxIPBgEGBgQEBQIEBwUSAAQAAAYBDAUCAgcJCQUHBQIJBQMDAAUIAgUAAwQBAAgDAwgBBgsKAwcCBQMDBwoNAgsGDAEDBQIHBw4QBQYCAwEECAYGDAQECwcCCgkCAgcADAoGAwQEBQcEDAMGCgYCAgMGAgUGChMECQQIAwQGCgMKBwEDAwEABQEFAAYEBwsIEAcICgYKBAICAQMGBwkFCgYBAgAAAQMDAQQBBQcEBwUBBwMDAQwJAwUGAwECBAQDAwwGBBMPBAUFCg0CAQYSEgEKBAEJEQYFBAEHAwQPAwYEBgUPAQQGAwQCAwIDAwoLAwkNCAcOAAUBAgIKCAsFAQQDBAQHAQMCAgEGBwEIAwQCAgABAAoIAgQAAgIEAwYPAwMGAgkDDgIIBBUGCQACAgkHBgQNBw8IDwgECQMFCQMDBAkDBwgFDAMNDAcNDQ0FAwYDBgMHDgoGCgcJBwsLAgkIAgMCBQkBAgIGBAMEBwkKAgYFBQQBBAEBCQIHBgsIEgYDBgsKBAICAQMHAwEGAgACCQgECQMCFgUGBQQBAAIDBwYTAgIBCAQHAAABBQYKAwMFBgQBAwYGBgcGBwcDAQcKBwMBAwIEEwEFCg4CBAYDAgIOAgYDBQIEAgcABAQBAAgFBQUDDgQEAwEABQYLEAIRCgICDQQDAwIHAwMDAQMFBQoLCQgFAQUJCQQQCg0IFQAEAxoLBgMFBQQFBQkCAQ0CAAUEBgAOAwcIBQUHHAcKBgMVBgENBwkJAgQDAgQDDwgCBgQECgEEBgECBgECBwcEAwsBBwYCCgwFBAEDCwEMCAQNBgUFAwQDAgEAAwEIAgUHCwYDBxADDwMHEQoFDgkJCgMMBQMDDwICAgQDAQEDAwoDDAEDAgEDBAgAAQULAAYLDAICAQQCBgoGBAUHAAkHCQURBQQEDgMGDAgDAwMCAwgEDQoCBAIIAgENAgEPFgoCBwkPDw4EBwYPAgcEDQUHFQ4ACxMGCwMCCQ0CAgQBAQEDBAMDCgIAAgEBAAEAAQMABwsBBQoPDQUEAQYGAgMCCQcEAwwBBAMCBwcOCAMCDw0HDgMCBgsDCw0LAQgKBQMFAgIDBwYNBAQLBgMEBAUKBRQPDQUNAwsHCAQCAAIDAQYLBAMDBQQSAwsNBg0HBgUMBQQFEgYFCAMBCQsKBwAFCQQHBAMJDwsEDwkNCAwAAgYBAwMVEwoEAwMEAwIBAAACAgUCDgQKAxUFEQoHBwYEBQUIDQcGBwcMBg0CCAABAwIHAwMEAgMDAQEBDwcEAAEKAwUACAMLBgQCAgIBBgQGAwUABRMEBwMBBwMKBgQBBQMBCwwGCAQBAgQCAAkJBAIBDQcSCwYHAwkDBA0JBwMBCQMHDgUGCQMAAQIFBgIKCQMOAQgIAggAAQYLCQQGCwMDBgkDAgIIAQQCEA4GBgQFAAEBBwMFAxEGAwQLBw0EBQkFDQkVBAcIBwMGCwoLBwkGBwYFEgcCBwUABgECAgkEDxAFCgwCCAoFDg8MAREQDw8DAQsEAg4KDgEHAwcFDBABCQEBAQMBAAwGFAIEBwgKCAQAAAEFBAcOAgEEAgAAAgsJCQcDEAEKBQcHAwwNBAQCBAUCDQsKCAkJBgMCAggBCgsGCwQEAQMBAwEABgcKBAMGBgUOBAQHDgwTAgIFAAEDBwwHBwYIDAIDBB4JBQUCBAAIAgIIFwMHCgsVDQACAggHBQsFBgIDAwgMDAYEAwEFAwMECgUEDQkRDAYEAwMEAQMHCgIIBAADAwQBBQQODQoICggCAwsGCA8KAAYDBQIGAQIEBQYMAw0GAwACAgQCAgsDBAAEBgEDAwcHBwYFBgMFGwAAAAMABgEGAgYWBAkGCAQAAgECCAgIBgYMABEFBAMABQEAEwYPBgACAQcAABESBQsHBQQCAAIIFhcKAggTDgsECAUQBgkHFQMLEwgQDwMEBQYBBAIACgUAAQcEEAMKAQAAAwkGDQUFBREEBwYGFgcDBAMBBAIDBQgEBQIMDwcEDgcTBAwBBAMCAwEBDAYFBgYGAxEKCgkHAgQBAwMAAQISBgQGBwgMCAcFAQUKAgMEAwQNBAAAAQEBBwAJAQUQBgUFBgUBAgcEBQUEAwIJCQcCBQsNBQ0EBgAeBgICCRcNCQcDAgIADAcKCAUDAgMEAgkQCQcDAwAGBAQFCAUHBwcBDAEBDgQGBQINCBMBCwwHAgIFAQIBAQENAgYTCwECBQoCAAcABAELBgkFBAQBAwYABgMQBhEFDQcCCwICBAMCCAgAAgIGBgUFAQMBAwEACQoOBwUFDQcFAgUCAQIDAQELAwsECgwJBAECBQEABwkKCA4FHAcIEAAAAQABCgQFBgICBQMCAQgHAwgIChAFAg8JBRAHDwUHDQYHAwEAAgIDAQMFAwIHAQYEDQIJAwUHAwgEBwUCAwMAAAABAAADDQEMBAMDBQcEDwYQBxELAwYJCQcIBwUDBQoUAwYDBQMDAxIOAgIJBgQFBgENBgwFBwoEFAkKBwsFBwUEAgQBAQkFEwQFAQQDCwMBDwAPBAUKAgUGAQgABwEGBgUBAAcDBgkFAw8CAQ0CBgEGAgcDCwIECgwIAgAQBAsBBQEGAwcFCAwLCgYFAQsGBAQDCAoCBQkDAgYEDQYEAQIAAQsB",
                    "dtype": "i1"
                  },
                  "xaxis": "x",
                  "yaxis": "y"
                }
              ],
              "layout": {
                "barmode": "relative",
                "legend": {
                  "tracegroupgap": 0
                },
                "template": {
                  "data": {
                    "bar": [
                      {
                        "error_x": {
                          "color": "#2a3f5f"
                        },
                        "error_y": {
                          "color": "#2a3f5f"
                        },
                        "marker": {
                          "line": {
                            "color": "#E5ECF6",
                            "width": 0.5
                          },
                          "pattern": {
                            "fillmode": "overlay",
                            "size": 10,
                            "solidity": 0.2
                          }
                        },
                        "type": "bar"
                      }
                    ],
                    "barpolar": [
                      {
                        "marker": {
                          "line": {
                            "color": "#E5ECF6",
                            "width": 0.5
                          },
                          "pattern": {
                            "fillmode": "overlay",
                            "size": 10,
                            "solidity": 0.2
                          }
                        },
                        "type": "barpolar"
                      }
                    ],
                    "carpet": [
                      {
                        "aaxis": {
                          "endlinecolor": "#2a3f5f",
                          "gridcolor": "white",
                          "linecolor": "white",
                          "minorgridcolor": "white",
                          "startlinecolor": "#2a3f5f"
                        },
                        "baxis": {
                          "endlinecolor": "#2a3f5f",
                          "gridcolor": "white",
                          "linecolor": "white",
                          "minorgridcolor": "white",
                          "startlinecolor": "#2a3f5f"
                        },
                        "type": "carpet"
                      }
                    ],
                    "choropleth": [
                      {
                        "colorbar": {
                          "outlinewidth": 0,
                          "ticks": ""
                        },
                        "type": "choropleth"
                      }
                    ],
                    "contour": [
                      {
                        "colorbar": {
                          "outlinewidth": 0,
                          "ticks": ""
                        },
                        "colorscale": [
                          [
                            0,
                            "#0d0887"
                          ],
                          [
                            0.1111111111111111,
                            "#46039f"
                          ],
                          [
                            0.2222222222222222,
                            "#7201a8"
                          ],
                          [
                            0.3333333333333333,
                            "#9c179e"
                          ],
                          [
                            0.4444444444444444,
                            "#bd3786"
                          ],
                          [
                            0.5555555555555556,
                            "#d8576b"
                          ],
                          [
                            0.6666666666666666,
                            "#ed7953"
                          ],
                          [
                            0.7777777777777778,
                            "#fb9f3a"
                          ],
                          [
                            0.8888888888888888,
                            "#fdca26"
                          ],
                          [
                            1,
                            "#f0f921"
                          ]
                        ],
                        "type": "contour"
                      }
                    ],
                    "contourcarpet": [
                      {
                        "colorbar": {
                          "outlinewidth": 0,
                          "ticks": ""
                        },
                        "type": "contourcarpet"
                      }
                    ],
                    "heatmap": [
                      {
                        "colorbar": {
                          "outlinewidth": 0,
                          "ticks": ""
                        },
                        "colorscale": [
                          [
                            0,
                            "#0d0887"
                          ],
                          [
                            0.1111111111111111,
                            "#46039f"
                          ],
                          [
                            0.2222222222222222,
                            "#7201a8"
                          ],
                          [
                            0.3333333333333333,
                            "#9c179e"
                          ],
                          [
                            0.4444444444444444,
                            "#bd3786"
                          ],
                          [
                            0.5555555555555556,
                            "#d8576b"
                          ],
                          [
                            0.6666666666666666,
                            "#ed7953"
                          ],
                          [
                            0.7777777777777778,
                            "#fb9f3a"
                          ],
                          [
                            0.8888888888888888,
                            "#fdca26"
                          ],
                          [
                            1,
                            "#f0f921"
                          ]
                        ],
                        "type": "heatmap"
                      }
                    ],
                    "histogram": [
                      {
                        "marker": {
                          "pattern": {
                            "fillmode": "overlay",
                            "size": 10,
                            "solidity": 0.2
                          }
                        },
                        "type": "histogram"
                      }
                    ],
                    "histogram2d": [
                      {
                        "colorbar": {
                          "outlinewidth": 0,
                          "ticks": ""
                        },
                        "colorscale": [
                          [
                            0,
                            "#0d0887"
                          ],
                          [
                            0.1111111111111111,
                            "#46039f"
                          ],
                          [
                            0.2222222222222222,
                            "#7201a8"
                          ],
                          [
                            0.3333333333333333,
                            "#9c179e"
                          ],
                          [
                            0.4444444444444444,
                            "#bd3786"
                          ],
                          [
                            0.5555555555555556,
                            "#d8576b"
                          ],
                          [
                            0.6666666666666666,
                            "#ed7953"
                          ],
                          [
                            0.7777777777777778,
                            "#fb9f3a"
                          ],
                          [
                            0.8888888888888888,
                            "#fdca26"
                          ],
                          [
                            1,
                            "#f0f921"
                          ]
                        ],
                        "type": "histogram2d"
                      }
                    ],
                    "histogram2dcontour": [
                      {
                        "colorbar": {
                          "outlinewidth": 0,
                          "ticks": ""
                        },
                        "colorscale": [
                          [
                            0,
                            "#0d0887"
                          ],
                          [
                            0.1111111111111111,
                            "#46039f"
                          ],
                          [
                            0.2222222222222222,
                            "#7201a8"
                          ],
                          [
                            0.3333333333333333,
                            "#9c179e"
                          ],
                          [
                            0.4444444444444444,
                            "#bd3786"
                          ],
                          [
                            0.5555555555555556,
                            "#d8576b"
                          ],
                          [
                            0.6666666666666666,
                            "#ed7953"
                          ],
                          [
                            0.7777777777777778,
                            "#fb9f3a"
                          ],
                          [
                            0.8888888888888888,
                            "#fdca26"
                          ],
                          [
                            1,
                            "#f0f921"
                          ]
                        ],
                        "type": "histogram2dcontour"
                      }
                    ],
                    "mesh3d": [
                      {
                        "colorbar": {
                          "outlinewidth": 0,
                          "ticks": ""
                        },
                        "type": "mesh3d"
                      }
                    ],
                    "parcoords": [
                      {
                        "line": {
                          "colorbar": {
                            "outlinewidth": 0,
                            "ticks": ""
                          }
                        },
                        "type": "parcoords"
                      }
                    ],
                    "pie": [
                      {
                        "automargin": true,
                        "type": "pie"
                      }
                    ],
                    "scatter": [
                      {
                        "fillpattern": {
                          "fillmode": "overlay",
                          "size": 10,
                          "solidity": 0.2
                        },
                        "type": "scatter"
                      }
                    ],
                    "scatter3d": [
                      {
                        "line": {
                          "colorbar": {
                            "outlinewidth": 0,
                            "ticks": ""
                          }
                        },
                        "marker": {
                          "colorbar": {
                            "outlinewidth": 0,
                            "ticks": ""
                          }
                        },
                        "type": "scatter3d"
                      }
                    ],
                    "scattercarpet": [
                      {
                        "marker": {
                          "colorbar": {
                            "outlinewidth": 0,
                            "ticks": ""
                          }
                        },
                        "type": "scattercarpet"
                      }
                    ],
                    "scattergeo": [
                      {
                        "marker": {
                          "colorbar": {
                            "outlinewidth": 0,
                            "ticks": ""
                          }
                        },
                        "type": "scattergeo"
                      }
                    ],
                    "scattergl": [
                      {
                        "marker": {
                          "colorbar": {
                            "outlinewidth": 0,
                            "ticks": ""
                          }
                        },
                        "type": "scattergl"
                      }
                    ],
                    "scattermap": [
                      {
                        "marker": {
                          "colorbar": {
                            "outlinewidth": 0,
                            "ticks": ""
                          }
                        },
                        "type": "scattermap"
                      }
                    ],
                    "scattermapbox": [
                      {
                        "marker": {
                          "colorbar": {
                            "outlinewidth": 0,
                            "ticks": ""
                          }
                        },
                        "type": "scattermapbox"
                      }
                    ],
                    "scatterpolar": [
                      {
                        "marker": {
                          "colorbar": {
                            "outlinewidth": 0,
                            "ticks": ""
                          }
                        },
                        "type": "scatterpolar"
                      }
                    ],
                    "scatterpolargl": [
                      {
                        "marker": {
                          "colorbar": {
                            "outlinewidth": 0,
                            "ticks": ""
                          }
                        },
                        "type": "scatterpolargl"
                      }
                    ],
                    "scatterternary": [
                      {
                        "marker": {
                          "colorbar": {
                            "outlinewidth": 0,
                            "ticks": ""
                          }
                        },
                        "type": "scatterternary"
                      }
                    ],
                    "surface": [
                      {
                        "colorbar": {
                          "outlinewidth": 0,
                          "ticks": ""
                        },
                        "colorscale": [
                          [
                            0,
                            "#0d0887"
                          ],
                          [
                            0.1111111111111111,
                            "#46039f"
                          ],
                          [
                            0.2222222222222222,
                            "#7201a8"
                          ],
                          [
                            0.3333333333333333,
                            "#9c179e"
                          ],
                          [
                            0.4444444444444444,
                            "#bd3786"
                          ],
                          [
                            0.5555555555555556,
                            "#d8576b"
                          ],
                          [
                            0.6666666666666666,
                            "#ed7953"
                          ],
                          [
                            0.7777777777777778,
                            "#fb9f3a"
                          ],
                          [
                            0.8888888888888888,
                            "#fdca26"
                          ],
                          [
                            1,
                            "#f0f921"
                          ]
                        ],
                        "type": "surface"
                      }
                    ],
                    "table": [
                      {
                        "cells": {
                          "fill": {
                            "color": "#EBF0F8"
                          },
                          "line": {
                            "color": "white"
                          }
                        },
                        "header": {
                          "fill": {
                            "color": "#C8D4E3"
                          },
                          "line": {
                            "color": "white"
                          }
                        },
                        "type": "table"
                      }
                    ]
                  },
                  "layout": {
                    "annotationdefaults": {
                      "arrowcolor": "#2a3f5f",
                      "arrowhead": 0,
                      "arrowwidth": 1
                    },
                    "autotypenumbers": "strict",
                    "coloraxis": {
                      "colorbar": {
                        "outlinewidth": 0,
                        "ticks": ""
                      }
                    },
                    "colorscale": {
                      "diverging": [
                        [
                          0,
                          "#8e0152"
                        ],
                        [
                          0.1,
                          "#c51b7d"
                        ],
                        [
                          0.2,
                          "#de77ae"
                        ],
                        [
                          0.3,
                          "#f1b6da"
                        ],
                        [
                          0.4,
                          "#fde0ef"
                        ],
                        [
                          0.5,
                          "#f7f7f7"
                        ],
                        [
                          0.6,
                          "#e6f5d0"
                        ],
                        [
                          0.7,
                          "#b8e186"
                        ],
                        [
                          0.8,
                          "#7fbc41"
                        ],
                        [
                          0.9,
                          "#4d9221"
                        ],
                        [
                          1,
                          "#276419"
                        ]
                      ],
                      "sequential": [
                        [
                          0,
                          "#0d0887"
                        ],
                        [
                          0.1111111111111111,
                          "#46039f"
                        ],
                        [
                          0.2222222222222222,
                          "#7201a8"
                        ],
                        [
                          0.3333333333333333,
                          "#9c179e"
                        ],
                        [
                          0.4444444444444444,
                          "#bd3786"
                        ],
                        [
                          0.5555555555555556,
                          "#d8576b"
                        ],
                        [
                          0.6666666666666666,
                          "#ed7953"
                        ],
                        [
                          0.7777777777777778,
                          "#fb9f3a"
                        ],
                        [
                          0.8888888888888888,
                          "#fdca26"
                        ],
                        [
                          1,
                          "#f0f921"
                        ]
                      ],
                      "sequentialminus": [
                        [
                          0,
                          "#0d0887"
                        ],
                        [
                          0.1111111111111111,
                          "#46039f"
                        ],
                        [
                          0.2222222222222222,
                          "#7201a8"
                        ],
                        [
                          0.3333333333333333,
                          "#9c179e"
                        ],
                        [
                          0.4444444444444444,
                          "#bd3786"
                        ],
                        [
                          0.5555555555555556,
                          "#d8576b"
                        ],
                        [
                          0.6666666666666666,
                          "#ed7953"
                        ],
                        [
                          0.7777777777777778,
                          "#fb9f3a"
                        ],
                        [
                          0.8888888888888888,
                          "#fdca26"
                        ],
                        [
                          1,
                          "#f0f921"
                        ]
                      ]
                    },
                    "colorway": [
                      "#636efa",
                      "#EF553B",
                      "#00cc96",
                      "#ab63fa",
                      "#FFA15A",
                      "#19d3f3",
                      "#FF6692",
                      "#B6E880",
                      "#FF97FF",
                      "#FECB52"
                    ],
                    "font": {
                      "color": "#2a3f5f"
                    },
                    "geo": {
                      "bgcolor": "white",
                      "lakecolor": "white",
                      "landcolor": "#E5ECF6",
                      "showlakes": true,
                      "showland": true,
                      "subunitcolor": "white"
                    },
                    "hoverlabel": {
                      "align": "left"
                    },
                    "hovermode": "closest",
                    "mapbox": {
                      "style": "light"
                    },
                    "paper_bgcolor": "white",
                    "plot_bgcolor": "#E5ECF6",
                    "polar": {
                      "angularaxis": {
                        "gridcolor": "white",
                        "linecolor": "white",
                        "ticks": ""
                      },
                      "bgcolor": "#E5ECF6",
                      "radialaxis": {
                        "gridcolor": "white",
                        "linecolor": "white",
                        "ticks": ""
                      }
                    },
                    "scene": {
                      "xaxis": {
                        "backgroundcolor": "#E5ECF6",
                        "gridcolor": "white",
                        "gridwidth": 2,
                        "linecolor": "white",
                        "showbackground": true,
                        "ticks": "",
                        "zerolinecolor": "white"
                      },
                      "yaxis": {
                        "backgroundcolor": "#E5ECF6",
                        "gridcolor": "white",
                        "gridwidth": 2,
                        "linecolor": "white",
                        "showbackground": true,
                        "ticks": "",
                        "zerolinecolor": "white"
                      },
                      "zaxis": {
                        "backgroundcolor": "#E5ECF6",
                        "gridcolor": "white",
                        "gridwidth": 2,
                        "linecolor": "white",
                        "showbackground": true,
                        "ticks": "",
                        "zerolinecolor": "white"
                      }
                    },
                    "shapedefaults": {
                      "line": {
                        "color": "#2a3f5f"
                      }
                    },
                    "ternary": {
                      "aaxis": {
                        "gridcolor": "white",
                        "linecolor": "white",
                        "ticks": ""
                      },
                      "baxis": {
                        "gridcolor": "white",
                        "linecolor": "white",
                        "ticks": ""
                      },
                      "bgcolor": "#E5ECF6",
                      "caxis": {
                        "gridcolor": "white",
                        "linecolor": "white",
                        "ticks": ""
                      }
                    },
                    "title": {
                      "x": 0.05
                    },
                    "xaxis": {
                      "automargin": true,
                      "gridcolor": "white",
                      "linecolor": "white",
                      "ticks": "",
                      "title": {
                        "standoff": 15
                      },
                      "zerolinecolor": "white",
                      "zerolinewidth": 2
                    },
                    "yaxis": {
                      "automargin": true,
                      "gridcolor": "white",
                      "linecolor": "white",
                      "ticks": "",
                      "title": {
                        "standoff": 15
                      },
                      "zerolinecolor": "white",
                      "zerolinewidth": 2
                    }
                  }
                },
                "title": {
                  "text": "Гистограмма убийств"
                },
                "xaxis": {
                  "anchor": "y",
                  "domain": [
                    0,
                    1
                  ],
                  "title": {
                    "text": "Убийства"
                  }
                },
                "yaxis": {
                  "anchor": "x",
                  "domain": [
                    0,
                    1
                  ],
                  "title": {
                    "text": "count"
                  }
                }
              }
            }
          },
          "metadata": {},
          "output_type": "display_data"
        },
        {
          "data": {
            "application/vnd.plotly.v1+json": {
              "config": {
                "plotlyServerURL": "https://plot.ly"
              },
              "data": [
                {
                  "name": "Убийства",
                  "type": "histogram",
                  "x": {
                    "bdata": "CAYDAQQKBQoDAwQBAQkBEgIHDwMCBwAAAgcCAwIDAwQBAAUCAAEBBAEEAQEDCQMGAwAAAgEAAAEAAAEBAAIABQUCDQQGBAEOAgQEBgIABAcFBAIEAwQEBQ8DAQgEEgMLBQMMAwYBAAUAChUHAgIJCA0CAgkGBw0MBw8CBwQABwIHAwwDAgUJCQ4DCRAECQUGAAcDAgEBCxMNBQAKCwUGCQIOCQQHAgYRAwkKBQkJARACCwgJAwsGCQADAQUGAQUJBQQGAgQEDQQFEQ4KCQAFCAUACQIHBQMDAQEAAgUDAAQCAQkCAw4HBAYCAwUABgsDFAIPAgAGBwsBBgcFAA8BCAEGAAQBBQcGAggCAA8FAgQHDgQLAQgNAwYEAQQJAgMCAwEDBAILBQIFBQECAwMKCwoDAwQCCQUFBAEJBgEHCQoBAgQDBQkDEgoFCQYECwgDCwsNBQQCAgYCCQMCBgoFAQQABQIDBgoDAgIEAgMCAQUAAwsHAwQGAwACAwMHBgsHAQIFAgQHBRACAAQCCgcDEgIEAwcECAsKCQQDAwQAAgYCAgcAAgULAQMFBQACBQwJCgALAgADAgQHAwwOBgQEBwoZCQkPEQMJCwEEDQEGCQUABQMIEAIKBwUUAQkRDgMHBAEEAQUFAwIMDwUBAwUBCQYPAwIEBAIKAgEBAwACEgUKBAMCBwgGAgQBAAACCQQJBQMYBwMHBQYHAwYCBAICAAQHAQEDBRICBAkOAgEDAggLCAsKDAQLBAIDBAUBBgAIBAgEBggADAQEFA8FAwQCAwYCAQkJBwUFAwcHAQgBBwcLBAkODwMGDg4LDQYMCgMHAwYIBAUBBgsKEAIEAQkFBwgDAgUFCggHAwUDDQYFAwEJBAMDDAUEBQQBAgcDAgIJBQIDAQsEBQoCBwIFCwMEBAwAAAQICAEFBwIEDwACAQEDCAURBQoCEgkKAgACAw0EBAINAwUHBwYBAwYNBAgFAgIAAQEFBgMHAgEDCBANCAkEAwkFBAMCAgoDDgoIBAYEAwABCgIJBgQEAAMFAQoBEAgFCgMLCAIEBgMDAgcADQQAAgkLAggFAQIDBwcBBQ4EDgcFDAMBAgUCCQIFAwgLAwMDAwcEAAEKCAIDCAIJDQMQAQkGBg8DCwELBwMEBgwDCQIBAwkEAwUBCQEGAwEFEAENAg8DAAIABQMLBAUDAwoGAwcBABECAQcAAgMEBAECBgYDDwgFCgcFDQoJBgIFAQgDAgECAQAGBAMDAQAKAwoHBgAABgQBBAgMCgICAwAHAgcDBAMFBxAEBgIEAgEBAgACAAMKCQQHBAsIEwIEBQoPBwMFBg8FCQYEBwMIBwQFEgcJAgMMAQMHAAACBg4PCQQKDgMJAwYCAwMFBAUABg0IBQMICQ0EDg0BBgICAwQKAgcKCAUGDQcJBQQFAQgADgEECBEFDgUEBAUAAwIICQQKAgIGAwEADgkGCgQECAQCAAUIBwIDBgMDAwEDCAMYBwcECAcBEQIEBgwSBQgCBwMCAgEBCQIJBwUCCAYiBggLCAQBAAEDAgQECwQJAQULBw0DAgYGAwcDBAAAAgQCAAEEAwIEAAIJAgcDBxEEBQADAAgSAQMFCwcCCQkCAg4GAAABAAMLCQYLBAYLDAEHBQEBAQIHAAQCAgsMBAAMAgYBAQEJBAQKBAICAAMCBQIDAQMBBAECBQ0JDwEGAgUCCgMDCA4GEAkEBQMECwYDCAYEAAIDAAMMEQMIAAICAAEAAAABAAIFCQQJDAkGCwoEBAICBAkCCRAKEQQLDwECBhILAxMBBAMIAAgCAAgCBwIHAQkGDQkHAQQSEgcBBgYCBAIJCgMMAAEABAACCQUEAhMHAggFCAMEBAoLAwQDCwAAAQABAQQACwIECAQIBA0FBQgFCwoDCAEDEgcFCQEBBAEBBAoHBAgBAQEBAw0HEAQODgMCCAUAAAECAgwACQIGBw0JAQICAAACAgYCAQIBAgwIBwMHBggGCQIBAQMBCg8HAwIGBAECAw4HCAQIAAEAAAALDAUECAABAQEABAcQBwEBAQsHBBAIAgkDAAABAQAHDQcACAIKAwEGBwgEBQIBAgAAAQUTDQMCAQABAQALCAoHCAABAAECAwEAAAEBBQYEBwQRAwYEBAYCAgMCAwcJAwMICAUDCwkHBgAAAgMCBwoDBwIEAAMAAQEHAAIFBAkMBwMCAgQKAwMBAAMAAgMHCg0BBgcDBwMCDgQCCQICAAACFgYIAgcCCQIFAwAABAECAwgEAhIDDgUICwcCAQEBBAMCAwkCCwYDBgcMCAYGAQIBAQANBgUGDgIFAgEKCAILBQMBAAIGAg4GDhIIAgQEBwQDAgEDBAMNAgYGEgwKCgMFBQcCBAUKBAgFBwkLBAwFDBYFAQsFBgMFAgIAAwAGBQMBCAUJAggCAwMAAAABDwgMAwMDAwEFDgUCBwQDCAQCBQAHDAcHAAUCAgEFCQ8GBgEAAAAAAwQJAQQBAwMGAQQFEAgJAAABAwEGAAMCAAsDAwQDBBMJBggDAQMAAQUIEwQFAgYIBAQKChEEDAsIBwQGBQgEAQEGDAMDAgMMCAQDDg0DCwMMAwwECQIDAwQDBxEFBQYBBwQEBQEBAwEBBBADAQsDCBIKBAQCCwMHCwgLDgIAAgEGAgMIBAQEAAkCCAkIBQgGEBASDBYEAwAMAgYBBAcCAQAAAQIABgkIBAkKCBAFCAMAAQEBChAEAgsABAABAgEIDAQHBQQEAgELDAkGAgUBBAEABQYEBAIAAQABAAcJBwQFBgUFBAIGCAcDBwADAgECBwwQBgsJBgIDAQIDAQQBDwkCBQUGBQIHBgkWAwEEAQgAAAIKFQwMCgIEDwQIAAEBAwEBAQQBAQcMAwkDAQMEAwILCwcFBwMDAAYBEQgPCQgEAQEDAgoOCgYIAwMCAQMNCQQHBwgBCQ0EAwQLBAQCBQMEBw8OAgUGAwUKCAcDBgIBBQcKBAUbBwkEBAkFBQUOAgAAAwADDgkHCQEDCwcCBAkICQQCBQAAAAMCBRALBwgCAgQEAgkEBAUDAQEAAgIDCgEHFgoEAwMJBwcMBQIGBAMIAwkGAgINCAcEDAIICAALAwEKAwQJDgYIAgMCBQUGCwYEDQ0BBgMGBwEKEwQHDQMEBQMMCQIDAg4FCQIMCQECAwMIDQoDDAESEQsKBQ0AAQYKBAECDgEBAAIAEQwFBQUCAQkDCggHCQYDBgIBCAkEBQYDBg4GAQsLCAcEDg0MBQgDBg0BBQoABwUCCAYKCAcNAQEEAwcEAQQUBgQFCw0HAgEBAw0GAAMEBwECDgkNAgUBBgwCCwkGAgIABQQDAwUBBAUBBwIABAMAAwQJAggJDhAECQEDAQIDAAMAAgEDBAMAAggFCgYKCQMAAQoJCwIAAAAAAgACAAIDAgcECwQDAwEBAQEDBwMHBxIGBAICBgMPBgMBAwcCAgYBAgYBDgIMAgALCAYLDgMPCQoKDgQIAQACAwcAAAMEAwECBwQJBwEDAAMFAQEBAAEADAIGBgcDAwIHAwAAAAABBwUGAgMFDwkHBgQIBgMVBBEECBAFBwgBBwIDBgkNAAEABQUAAAABAgQBBgQEDAUQEgcCBAUGDBAUBQMJAgcLAwQDCQ8RCgYIBxACCgYCAwMEDAwHBwEBAQEBCgkAAwUBBQwDCQwIEAMBBgYLCwEEAQIEAgMECgQFAgQBAwwDBQkGAxEMCQgCCAwQBgYDAgUFAgcCDAcQDAwMBQYFEgUDCQMKCQEACQQICAQKDgwGCQULAwUDAQYHCwQICA8GAwMGAwECBwkHDwIICwIMCA4GBBEFEgUICgoAAAUCAgQNBAYDBQcCAAIEBg8IAgQLCAUCBQcSAQQKBgEPCgMIBgkFEwcEAQMDAwYBAAYYAQgFAhgRBQYIBwMEBwkDCAkHBQUFAwEAAgABAgYFBgMADAgKAgAGAQsDAwMBAgQOAwIBAQEECAYMAgEJBAgLAQEHAwcDBAMKAxEIAgUNAgUKAgQECgYDCAULBgQFBwQFBQQCEQQEBgQDDwUEBAIAAgIGAwEEBgYGGAcEAAoDAQUKAgMAAAMBAQAACggRBAsCAQQAAQUDBwoDAgELBQECAwcFCwMJAgsMBgMCBwECAgMAAwAOAggRAQQMAgIECgYCBwAAAQAABwEIDAIQDAwDBwkOCBEEAQAGAQEDBwcECAIAAQIBBwIGAwECAAABAAcCCgUGBQYCBAIPFQYIAQMCAQUCDgYQDgYBAgIDAgICBQIFChAEBAYIBAECCQEBBAEACgoIBQIGAAABARIGBwsEAQQJCg8HAgYFAAcGBgYLFQcCBAENDwMGAAwDCAMKAgMFBAECAgEBAAYBCAEADxgFEQMECgsGBQsHBAcBAgkEAAUDCwgMBQwJCQ0BCAUJBA0FAAgGBwIIAAUACQYCDAoVBQoGBgoIFQgKCRILCAEBAQEAAAcLDA8HAgECAgAMBwcIDwcBAwYFBAUBAgYNDQECCg0HBA4KAAAAAAEICgIBDwEFBgEDAgoHBQQBAAEAAAgEAwICBwcBCQEGCwoDCwABAAAAAwECAAELCwcJCAQDAQUCDA0ECwYBBxAOAgAFAQAHBQUFAQIICgUFCAQEAAADBwIHCAgFBQIBBwEBBAQCCw8MBw0JCgwBAwMJCQUMAQEBAQARBwgECgELAQEEBQsKAwMDBQ8FDg0IBAEHAwcIFQUGAwcIAwABAAACBwMEBQcAAAECAA8DCwwHAwEBAgAPAgcRBwQCAgEBCgwDAwQBAwMDARYHCgIFAgAAAQADBQIDCAAAAQABAwoEDAUBAwECBBABBwgDAQABAwAFBQQFBwAAAAAABwkHBAMBAAEAAAkCCwgBAQECAAEHAxICAgIDAQEEDQcFBQgAAQMBAgYLDA4DAAIFBAQJAAcDAgMDAgABDggIBgYDBQAEAw0KBAUFAAcAAwINEQgFBQMICgcCBgUGAAMJAAcOAgMNBwMNCQEGBwESEQgCBgMAAgABBwMLBAAEBgUEEA0EAQkFAwQGBQgIAwcECAQFAQEBDgcFAwICBwUEDQEJBgUXDQUEAwQHAgUFBgAAAAAAAwACAgEGBwQDBgYIFgQDCQcHBwQGDAMCEAoGBQQFCAoLBgUDAwMBAw0RBwEJCAcEBQMDAQIAAQUJAwgHAwEHBgUFAwEBBAIGAQcDDgADCQkIBwgFDgUEAwIABQ0FCgoFDQIDAwIABAEDAwwNBAkDCg0GCwUDAQMABQQGBAQAAgIAAAELAgMGBwYPAwUBBQ4FAw4JBhANAAAAAgECBgQDBwMBBAELAQIBAgEABQIDCgIICQIKAgcEBgcMCQYCBwUDAQEBFAkFBgQNBwUEERQODAoHAAAMCQIABgQBAQMFCAAMAgECAQEBAgcEBwEIDgcEBAMHEgEDAwcEAhMNAwMFBwoHAwMTCg4EBwIFBwEEAwYBAwQICg4EAwICAQAAFAYDAggIBwEGCQ8RBA0FAgUJAgMICQMGEBABBAcHBQICAgQCEQULBAIQBggIBg0BBwUKCQoDAwgHCgcEAQMEAwEBAQABAQADCgICBwQLAgYFEAYHDgMCAQYICQMICwgBAAADAgQOCw0BBQEAAwMIDQ8CAQUQARAGAQIBAQEIAwcDAAQBBQcMBAEGBQMXBA4HBQcJAwUOCwYBAgAPAgUSAQQDAgEFAxEEEwQCBQQCARAKCQcOAgYCBQUABAYGChAKBQEDBQECBQEICQIAAwQHBwIBCAsFFAQIDQgKAwIBAQEEAAsNCgEIBgUGAwUCAgUCBQICChMDAAIFAwoDBwYMBAMEBQQDCAYLBAgMCQwHAwUDAwkECgEGBAkCBgQBBAMIBAAFAQUHDA8CAgMECAECBwMHAAoBAwkGBwgFCwgAAQkIFAUJAwICAwUABwQBCAkEBQEIAwICAg0MCAEIAQQDAAQGBQMCBQQABwAIBQYAAgkGBAACAQEBAgADAwEIBQEIAg4GBAgDBQQFAwUPAQMOAwQEAQMDAgICAAEBBQUJBgIJBAIICgUGBAkCBQYCAgQEBwcLBgICBQEFAgACBAkCAwsDBAkNAgAHAgEBAQUDAQELAgEAAQALBwcCAwINBAoCCBsHBQIFAQEDBwAAAgEAAAcEGwUHDw4IAAoGAQcFBwgBAwYDBgQCAgUGBggGCBsHBAQBBgoLCwUDCAEDDwkEAwMGBQIFAQABAAABAwYECA8CCQIDAgkHDAEPAQUGAAIDDAICAw4JCAYDAQEBBAECBAEDAAQDCwMDCQEGBhAMDgUIBA4LCgwCAwIDAwAMCQIFBwgDBgIBAQAAAAEDBgMDBBkHDAUEBwIAAAIHDwgBCQ4OBAoBBAQDCwULBgQXAhICCAMFBgQCCgcEBAACBA8GBQEGEBETBQUDAwMXAgIEBQAJBRYSBgcGCwEBDwIFCgEKAQADAgMCAQEEBgYBBAAHCBsJAwgPAQYLBAQTAwcDBQsCBwIEBAcDDgMDAQIBBAgHDAkMDQcSBQIBAwQABQkGAggBBwEEAwUTAQQQCwcDAgcBBwMAAwUDCQYHChEWCggEDwkCAgkHAAUECw0JCwkDAwcIAQMRDAURAQcCAAoHBQUEAAwGAgUJBggKCwsDBwMHAAgOCQwHBwQDBxQCDQAJEAcHCwgKBwEBCAEVBgYFCAMBAAICAQYCDwIKCQ4NCQMCAgEDBAEFDQUHBAQCAAIHBA8FAAIFAwEEBgUIAwMCBAEDAQMDBQYDDA4GBAQDBwkEAQACAwQRBQMLCQgBBAMEAgIJAgQECBMEAAMEBAEDBwwGCwYPCQwLDAIKAQcABAEGBQQNCwQDBAADBQUBAwcJAgkGDgMLBggBAQgKBw0WCwQGAQMDAwMDAAQCBQUFAhEHAQIGCggDAgsJAQEDAQMJAAIACgUEAgULAgQCBQQJAQ0DBAQABgMAEQIHCQcGAgEIAgUBBAAGCgIICQUKCAUGAwYEBgEEAQEDAgMEDAQICAIEBAMCBgsKAwkCAwMFAgINAQkDAwQKCQIHAgMDBAYIBQcIEAIEBgwCCAEBAwQLBwUIAwIHBgUBAgsPBQ4CBQcGBAUDBAQCAAEAAgsAAwIFCAMHBAEAAQACBwYTAwcCAgcHBAMCAgQEAgYGBQcBGgUGBgIDBAUEBgkFDAoHBAEHAgIDCAgHHQoGDgMDAQIDAgIDCQELBgABAQgBBgMHAgwFAQcDBAYECQcGBAEEAwEGCQQJBw0KCgMGAQQACgIFAwEJBQMEBQEABAQCAwQHCgsIAwEJBQIGAAMBAAAGBgEGCAMAAgUDCgYTDwAFAwIMAwEDAgMCCgUEBQQICQQIBwIEAAcECBYHAwUFEhcJBQYPAAQDCgUJCAMBAgIAAQkABAIMBwMFBQISAgcGAQYBCwEFAAIBAAACAgUDAAIDEgQEFQUDBwIDCgsGBQ4FDAEDBgUDBAEJAwEEAwsDAwgHBQQBAAIKBhcDAwcAAQQFBwQFCAQPAxMHAwMFCgMGAQMAAQATAwUBBwYEDQUCAQEDAgIAAgMFAgQACgYCCwcBCAQFAgEBCAMFBQIFDA8PBgwEAQEFCwIaFAYJCAEJCQMACgQHBgACAAEDAQ4BBQkCBQIBAAUIAgEKEAMOBQwHBAQGBgMSBgIDAwcPBQ8FAwcIAgAMDQEDBAUFAQIQBwYBAgUJBAcDAAYBAwMDCggKCgYJBAYFAQABAwEEAgMIAwwNBQQDCwQBDQMBBQICBAEIDQMGCgIKBgUCCwEEBAIHBAcQEQUOCA8HDQgDAgUGAQQDAgIPBQsDAxUHAwABAwABBwQPAwQJBAUOCAQEAwUBBAQABgQMDwkHAQIHCQUMAgUJBwMCAgQCAAQDDAMIDgEDAgAEAQMBAwUFBgcJAQsIBQIFBAwHBwAAAQUDBAEGAAEDDgQLBAcCCwUFCgsGAgcBAgUIAAQHCQACCAcGAAMGEAsGAAAEBAMOBQkMCAUCAQUFAwgLDhESAQkEBAMCCAIEAAYBAQMABgAPAQQFBQADBgcHBAsMAAAHBgMFAQcMAQoCCAMIBQIEAgMREQQDCBEEBQcICAQFCgMOBwkEBBERBwEHAxMJAwsEBQQAAwEJBAgMBwgBAgQICQIHAQkJCBgGBAQDBAMDAwcHAwEACAYOAQEGBgUJCwEEFgoECQkFBA0EDBIcEQUFBgIDCQAEBAIKBgUHCgcDDQICBgIEBQMKBQQBBQEAAAcMBgEDAwQIAgMCCQgECwQMCQYRAwYDAQMEBgYHCQYEAwADAQcCAQEIBQMFBAANBwoJDwQKBQsBCgUGCAIHAwMDDQEMAwEFDQMKAQYFAQEOCAQBAgMMDQkDAQkIAwQEAg4JAwkDAgABAAEJAgcKAwIDAwQBBwIBAw4CAwgHAwQBBgQDBggMAQcLAQoFAgQFBQIMAgEDBAUKCgYHAgUWCwMBAwUDCAoGBAIDBAQIAQEFAwYBBgEMCgQEAQEDAgIKBAIEAwsEAhQDAQMEAwYBAAEAAgMEBg0DAwsBAgIADAgNAwMCBgsAAgEABQIIAgMNBQUVBQIEBAMKDAQCAwECAgUAAQIDDQIIBAEIBA0JAwMCBQAAAgIJCQIKDQ4FAgQCBwkFCAYLCAkEBAIBAQkHBwYCBQUFCAAQAgkDCgEGCQIKCQIDCgYKDgIFBgsBCgIDBAAABAAHBAUPAA8BBgABBQMJBQIJAgUFAgcOAwoHAwECAgECEAgFEgoECwMHCwQGDQoIBhUCAwAIAwUCAwUEBgIFCAgEChkDDQEECAADAwMBAQABAxEHBAQEEQ0HDAoEDBkFBAQBAgAEDAIJAwYMBQMECgkCBAMABwALAwYDAQEECAQOAgsGAwECAQIFAAcBAAMGBQgECwQKAgYCAgcDBgIBCQEEDQsGCggDAQIFAAcCBAgFCQYBCQEAAwMAAAgEBg4DBAIICQEDAAAGAAQECQkFBQMTCgwJBBgDBgwGBAIDAgUHBA4DAgIGAwQFCwcKDAUKAwMDBQIHAgMGAgYBCAcKAwUJDAcDCAIEAQEGBQYEBAQACQsBAwIECQUFCAoDBQ4HAQINBQAABAUCAQIJBQsLCwMABQIMAhAGAwIFBgUABQECBwYEBAoEBQADBAICAwQPDgIDCAoHBgYWAhEEAwEIBgcCBgMCBAgJAgICAQIACAUDCAQGAQIABAQHAwUMCwQDAwYDCAACAAMGBgMRAwUABQMHAQADBAUFAwMAAA0GBQUBCAQCAgoTAwsFBwcKDwMCDAUJBQwBCgcIAgYMDQUADgYKBgAMBwQLBAoBAAQDCAgICwECAgcCAQANBwUCBQcDBwAHEQoDDgIIEAQHAwkKBQUOCAADCwUABwIGCwgLBAYHBAsQBQsCBx0JFAUEAQsAAgQIBQgLCAYDAAECBAECBAoECwUDAQIAAwQKCgUQBwYIAQYBBAADAgQGAwMGEQQDFBINAQsGBw4WCwQHAQcCAgIBBQEBBBIKBAIECA0DBAIKBAELAAACBQQMBwcCAQMBAgECAQQCAgYHAAkCBA8FCQgFCgwBBAcFCAMEAwQHAxECAQUUEgUBBgkBDwYCAg8EAwQFAwIEAgAFDwIECAMBBQcFAAEACQMCDQUBAQQICwUDAxEGDA0DAxAIDAUEBQENAQUAAwICAQEECAQBBQYLAgQJCQUOAwsDAA0DCAQSCAACCQQLBgMEBQsCCQkGBAUBAgEBAggKCAUAAwYCBg8BBAMCDwQMCAYBBQkFCwoHCAsLAgAJCwQHBgMMBwUDAwMDBQEEAgQHCwkEAwMDBQMFDwEDAAACCAcBBwsBAgEBAQQBAgIBBgoGAAcECgMCAQEBAwABAwcCBQIKAgoIAwQHBAcIAwIAAQICCAYDCQIFBwEBBw4DBwIDAwMHAQsHBAcJBQoDBAcDBQsDCQADAQEDCAgKBAIBCgIRCAUIAwgCAwQEAwAAAwEDBAwCBgUDAgIIAwQLBQMFAwcMBwUDAwUMAw0EBQYBBQQWCAMBDBECBwsMAwMMAgoBAAADBQoCDgcKAQcEFRINAwcGBQwHBgwHAgUHBAEICAMFAQECAAIHAwYKBAADAQEAAQMAAwIKCwQFAQQAAwIJCgkLAAMEFAUKBg4JAQQFAAEBAAACBQEABAIDCgUOAQMbAgkEBQUMAQ4DAAgDAAcOAAsHCQYHAAABAAEBCwMCBAEKAwgHCw4EDAwCBgkDBQYXBwILBgADBgADBQsCCAQAAgABAQYFBgcGAAIBAgIKAwkLAwEGEAQACQMBAwcBBQACCwgEBwoFAQICAAQCCwwDBwUNAwsHBwwFCAYGBgADDgIAAAQCCgkCBQgGBAACAAgIBwABCwIGAQoQBAsEDgcACgUEAQYBAQUCBwsCCAcFBAcBBAYCAQQUAQgEAgULBwIACQQKAgYCAAMCAQ8DAw4GAQEHAAMHAgMHBAUIAgUHBA4DBgEGAgYJFgIFAQIACAYEAgEECAMACwQHFAUGBgQBBQEFCAYAAAMLCwEJCgEEBAcGBAkFBwEBAwEAAgUEAAABDwgEBgIBAwABFQkDCgMDAgEDAQQLBAIFBgoCBAICBw8ECgMDAwIHBgwICAMCAwgKCgMAAQAACRADAQEHEAgIAwQMBgQNAQEMAQECFAIEAwAAAAMBBAAFAwYCFBIDBgADAAEBAgMFDwQFDAkDBAQECgcIAAQCAgcEBgEBAAUMBQwEAgoAAgYFAgUECAMHAwsBAgMBAgIBCAQSBQYKBwQHAQIDAQUHABAFBggMBQECAgQMBgUDAgQBAwYEAggJAAACAAANBwcFAwYQBAkPAwwGDQMNBA4HDAQFDwcFEgMCBAEICwQHAQICBQMBBwkRBQMIAwICAAIAAQEABAMDDwIBAQACAQsEAwUHFQ4ICQEDBAYCAwgFBwgCAAEAAgEEBwIBAw8IAwACBgMHEAQDBAECAgQCBgMGAxIGAgMOCggFBwIFDgMOCAECAQYAAQEAAAsEBwkJAQMEAgABAwEBAgIHBgcDCAECAQMFCQUOCAAKBwMDAwEEBAMDCAQDDBUCAgYMBQsLAQIKDAYEBggECwICAwcIBwUDBwICAxYGCAQICggHAQEAAgMBBwMGAgwIBQQBAwQKDAUIBwYEBwoEBQASBAIGBgICAwUOCwwJBgUEAgMAAQQAAgUCAQwEBAsJCQMCBAIBAQACBQQDBQoCBQoGAQMICgAFAQEDEQQPAQAHAxIBAAMFAAoGAgIBAwYBAwYDDQsEBgkFBwMKBQcAAgABAQUDAwYACggBCQoBAwMMAgIEBQAKAQcDAwUCAAABAQQCBQ4FBg0JCAQCCgQGCQkBBgcDDAcKBg0SAQ4EDQkFCQ0DEQsFAgQQAQYEBAYQAw4KBwYBBQQECA0IAgEIBAICAwkIAgsIAwQCBQYIAgcFAQEBAQEGCgYFBgMOBwADBAgNAQ0AAQIAAgEBAg4CCQYDAgUIAwwCAAkDDgsNAwYGBQUDAwsDCgUBAgQEAAEIDAYHBgkKEQoPCwMBCgoDBwICAQECAgYDAgINCgILCAICAwACAAIPAwQGBQEAAwYCAwAEAgcLBAQDDQwIEgQMBAoFAAIDCAEHBw4CDgMQCgEFAQMECwcHBQcJBQIBBwIBAgMBCQQCAgEAAwACEQEHAAMFAwAAAgENAQAJAgsBCAMGAQQCCgwKBAQBAAQDBRYFBAIIBw0KDAcHEQcSCAwMBgUDCwAEBwIJCQUIAAgIBQQBCAkCBwQBBAAAAQEEAQIDAAQFBgcDCAEFAAsNBAICDAYFAgEJCgMCAREFBAwBAQQJAwIEBwEFARMEDQgDCwIHBQEGAgwJAgcFDQcIBwoJAAgXDAgBBAIECgUJAgIBAgUDAwgACA0HBwUCAAEFAgABCwEDAgYMAQcJCgcCAgEPBwMGCgUEGgUQEgoQAAUACwUEAg4HCQMHBgYFAg0DAgQBAAcHAwcJBQsICAIHCgIDAgQCBgMBCAIHEwoMAQcPBAMKAQgKAQABAAAXBQwGAgUJCwgLBAgNAwwCBAUMBgUDBgcDAAMEAQAEAQADCAcFAQ0FDAUACAICBwQAAQsIEBMDCwsDBQMCBgMABQAJAQYFBAQJAwgFBBoEAQEBAQEACAMIDAwDCAACCAEOBA4CDAMHBwQIDAkKCQkBBgYSAAoFBgMDCQgFAgYQBQALBQYJCgcBAwMEAwgLAwQAAAMGBAIFCgsRAgkBBQcKBAEDCQUGBgYMCQcKBgIBBwsBCwERBgUOFhIKBQEICAoHAgEGCAYGAwUOBQUEAQIICgICBQUGCwILCQIEEAYTBAEGBAoFFQICAgEFDA0MCgQIBgQBAwQEDgQHDgsGDwYCAwoEBAIBAwAFBQ0EAAQDAwcBAQgFCQYLBBAFBwILAgkCCgUBAhcIDQIFAwUGCgsGDQcSDAYFDAEIBQEHAQUAAwsGBgsDAgYHBQUDDwETBQ4KDAQCBQcDDgkFCQkSDgUABQACDBEBAAoJCQkBBwoKCAEICQ0EBgwCAQQBAwkHBggEDw8LBxIDCQoDEgkVChYEBwMACwsHEgkCAQYDAgICBBMBBQQGCAQLAQYJDwsBCAEDAwEEAgMGEAEHBQMEAwcICAUMBQQDBAsKBwUDBQECBgEDDAYFCAIBAQEDAAsBBgsGBwgIBAEJAgYKAwgHCgUBBAEDBAEDAQMHBgUMBwIEAAYGEgIJBBIHAwkEAgYGBAoDAgIAAAEABAkEBQEACQEEBAQKCQcIAgkCBAQKBAUBAgACBgQNAQoQAwoLAwoHAQMHBAoABwQGAQEOCAwFBwcDEAkIAgcJCQMEBgUIBgMFAgAHAQoMAwEDAgYMCwUFAAQDFgUJBAYMEQACCAoBBQIABQYUFAUGBAoEAQMDAAIJCQQCDAgCAQQAAQEEBRAFAgYBAwEIAAgHBgEGBgQECAUEBwkHBQcGCQwFCQYTAwUGAQUQFAMFBQYQAgQEAgQDBQAYBwIDBgoaCxEIAgQOCAYBBgIBBQkIAgUBBgIAAAIOBw4GEBMJHQgDBw0OBwcGBQQLBAEGBAILDgECCgQBBAICBQcLAwsDBw8HAgIJBgIDBw8MDAQFAwYHAQYGCQcDAggJAwgBAwQBBAYPBAQCAwQEBQwOCwQGBAMCAgsMBgoEAwAEBBEGBQ8IBAYCCQIDCwYIBRIGAwAFFg0GBhQGCQcNBQMCBAcAAAEABAECAwEBAggJEAAQBgcKCgQHCwsJAwsDAQkIAAYEBwwBBAQMBwMDBwQGAgsJAgIGAwMBCwMLDgYPBRMLDgYGDAMDCwUGCgoGAgYFBwADAAEACgEDCQYEBAsFAQkBDwcCAwICBQAIDAsDBwIDAgADCAIBBgYCAQEBAAoEBAcGAgQBBAUHAAYDBAQOBgMBBQMDBQYCAgEAAQgHCAMEBwACAQIKAgQBAREFBwAGAgUAAwMPCAUEAgQMDwkECQQGCAQHBAEHAQACAgAHBAkCBwEMCgIGBQEGBgYABgAEBgQIBwcECAYEBQEFAAABAAAECQIFAQQQBxMGBQMIDgIDAQEAAQIDCgQDBgcEEQcBBQABAwUPDQkCBgEMBwQAAwgJAAEEDAIFBAoDEgoGDQgGBQMHAgQBCgUBAgcNCQUOAwwHAQEBCwELCAkBAQQGAAgJBQgGBwEFFAkEAAACAAsHCAICAAEBBQMIBgYHCwQGDwMGAg4GAwgUBgUHAwQHBgQBCAoHBgcLBQcCBAoNBgAHDAcLBwUSCA8JBQoDAgEBBQIBAwIQGgoFBQsCDAsDCAIACQIHBw0ABgYHDA8EAgsCCAsEBgQHCAMIAwkJBwUCBgICAgcFBxEJBgAQEBQDBgkIDxAGCwoCBQEIEQgGBQAGAQQCAwMADAEOAgQEBgQHBwYJAwoKDAUCBQUBAAMEDwwIEAIFBwcBCAoBAQQIDA4LAwIFDwgBBQIEAwAIFgIGAwQHBAMAAQIDAwEGBAQIAgMHCgYJAg0DBgQCAwQCBw8CBgEIAw4JBAIEBBUCBQkEBgUMCAIDCQIMAQIKAgIPBgsKBAIDAQEDAw4MAxEDBwMJBwEDAQQDAggGBA4DEgQGBQIJBQgDBAQEBgMQBAgIBQwCBAkEBAcPBQICAgQCCgMHBAkNAgMCBQkEEgUABQQDAAQOCAQCBwEGAgQGBQoGCAYGAQEIAgcNDwsJBAAAAQEFBwIKCggUBBAEBgcCBA8BAAIABQAKBAIJAw0HFAEEAQYCBQcBCQULBAYCBwMFBQQaAgEKBAYCCQMJAQYDAAEBAwgHCRQECwcDBAMEAgIBAAkKAgUIBwsKCxEMBQgLAwEECQEIAgQDAAEIDg8GBA0MBQUFAgEDAQITBwYDCQAGAgoGAgEEAQUAAQAAAAQIBRMEAgICAwACBgMIAgoHBRAGBgMFAgUECQYBChEGBQkKAgEBAgAIAwMEAwsIBwkFDwoWBwoBAwAFAQ8DCgULAgEAAQACBwsCBAMFAAABBQ4KBwcaCAsFBAEAAAICBggIAQUFBAMLBAADAQIAAQIECQEMCRALCQoHBBAGAgIGAgIIBAcEBAgAAgMDCwMFBgsAAQACAhEKBgQFAQACBQMTDQQHFQYABwMAAgIJBAgECQQDCgkLCAcJAAEEAwAMBw4LBgIBCAkDAQkFAQkDAwEABQQKBAAEAAAAAAAMBg8FBwIPCwYTDgcHCQYGBQYFBAMGAQMADAIDDQMFBwYNAwYQCgMDCAIFDwkBAQMDAgoPCwcHAAECAQIGCggBBgAAAQECDhoFBQQAAAACAAwGBAYGAgEBAQAGAgMDAQYBBAkDBAMBAAEJBwsBCAoECRADAwkEAwQHBAEBABEIBgMBCgEIBwUBAAEAAAMMDAQJAQAEAAEFAwIKBgAAAQEDBAQKBQYFBgMCAAcQAA0LBQICAgwDBgIFBgMFAAMBCQMGCAcNBAADBQkJCAUFAAAAAQMDAgYDBQAJAgULBQcDBggDAAIAAQQCBgMMBQMCAwQDCwEFCgEBCQYCBwIGFwQFBQcFAwcDBwgPBggDAwEHBQkIBwsCEwUJBQgNFAUDFA0IAwMICxMEAAMDAwICBxYDDQABCAAEBwQECQMEEwkJAwMFCQYJEAMGCwoAAQoHCAMAAgIBAAQGBwQEAQQLCwIFBAcDBQwFAQ4EAgECAAsLCQUCCQEEBAYEBQ4NBAQNCQMFAQACAAUJCAMDBwUMBwwNAQgCAwALCAIFEQwIAwQXCwYKBQMEBQcGDwICAQABAwMFBgENCgoECgYKCgMGAAYAAwMBAAQCAAMFCgMKAwUDBAIBAwQAAAMCAwQJBwYHEQMJDwIRAwAGBAECBgkMBQMAAgIGAgkGAgcPBAgVChACBAIEDQQEBQkADg8EAgQOBwUEEgQJAwsGAAADAQQKAwQBAQYAAgMABQYIAgsEAAIDAgEBAgAHCQYGBwIGBw4FBgYDBAUIAgQKBQQPAgcBBgYEBwoQAQECBgUDEwgHBwQEAQYGBgsCBAgBBQICAgYHAQcDAAAAAQAICgUSAwACAQMBBBMKBwoDAwgDBQoFBQYDDQ4GCgoNCQYJAQEBAAMABAUIDQ0KCQwGCAIEBQQEAQEAAAALCQYDDAMCAwEBCggKCBABBAMFAAMECwUJAgQBAQQDBAIJAwsFCwMFAwUDAwcCDwkCBgoPBQQLAgUGAwEGAwYNAgECAAIBCwQDBQANBwMCBwoJCBEADQgGBgcEBgUIAhEPBQICCQgFDAMABQIDBQUTAgUFAwYBAwEDAgQLBgoDAxAPAgICAgAGDAgKBAIFDg4IIAsECAoFCAMDCQoGBxQCCgQGCBACAgAEAQABAQIDBAABAQIMAwMKAAIKAgEIBBAKCQQHBwMBAQsAAQMABQAOAggGDggLBQMDCAMEEgwEDQQJBQMGBwUGCAsJAAMCBQYAAg0FAQEABwULEAEBCw8LDQUEAQUGDAQCAAUABQIMBwkCAAQCAQMBBAQGBwYAAQAAAAMEBQUEAwUGAQIJBwICBwEAAAABAwUEBwcFDwkCCQMCDAUCAAILDgMBBAECBgQCAgsBAwYAAgYDDAYGBgIEAAYACgMFAQgHCQcCCAEFAgYCAwQEDwsBCAQAAgIHBwMGDgIBBgMBBgACAAoTAAoKAgEBAQEKAgQDAwgGAwsMAQMHBAQGBAULBgIFABIDAwAECgEAAAkPDAEDAQQCBgIQAQMHCQwECQkFAgUCAgIAAQkCAQoECQcJDAcKAwUFBg0DBAcECgEDAgEACgoJAwEdBQMBAAcJAgACCAQFAgQDAgIDBAQLCAUABwkBDQgCBQMBAA8FBQIHBAMEBAkACAcBAwMLBwEREAkICwEIBBEFDgcUCgwGBwoMCwILCQUFAwUEAwUBBggCBAIBBRUMBgADAgACBAkFCgUDAgIFAgYHAgUGBxoMAQADCg8JAwIIEQUHBwgBAAQEBgICAQYCBggOAgECAwUHBwkFCQsCAgQFERQFBwkVAggFDwEIBgYJAgAAAAMNDAcACAIECQIIAQQFBQAHEAsGAgADAgICEQwICQQFAQsCBQwGCwcBEgICFQAEBQYCDhAPAg0CCg8CAgkFAwUCBQACDAoABwwKAgkNBgUECQECAQYABAYEAggGDA0SDgMBAAIECQoLBQIDBg8GBQUCBgoCCwQEAwcCBgwEBQYAAwgLDBUFAwQGBwYEBQgDCwICBwIIBwUJBgQBAwQJCg0LCAMDBwAJAQECBAMPDgMCBQkCAwUCAwcEBAgKCwIJAgIHCAQIAQQBAgMBAwYGDQIFAgAJDwcBBAYGCAkLCg8HBgYKAwUGAQMABAEBCQEECQcBAAQAAQQIBgIAAQECAAABDAgEBQMBAAEAAwgGAAYAAgECAQEJAAECBAEBAQgFAQYHAgcCBwECCQQIBB0NCgUGBAYABAUWBAIDAAgCAQMBAgMICwMDAAsDAwQHAwEBBg0HAAEDBgQGAgsEBgkHEgUDBgUDAQMBAAEECwMCAQYIDwcCAQICBAAHAwgBAxgDCAQDAggEBQQQAwcGCAIDAwMFCQQNBAMBAQIABQkCBAIKBwYSBgEKAgQGAwQEAwQACAUHCAcJBgMFAwwOEgQBBAEEAgMLBgIIDgwFCAIEDgkGCgETAwYJCgkDDwoIGAcIDAQYFAYGAwIDAQMEAQMFCAUCBA0IDAQBAQgABxEEAwUIDwkEAQAGAQYCBg0JAgQCAwUEAwsIBwYNAxUDCAgNBAkDBAoKAAcIAQgCBgMGAgoJAgwJCQcDCAELAgIEBQMLEQMSBQYLAwYLBAULBQcKAg4DBgoFBwUNAQIIDwIGBQMAAwIBCgYIBQEKAQ4BAwUDBgIBCQMPAgkDAwIACAQCAAMACAgIAwECAQAEAAQEAwEKCQYFBAsQCg4ECAoHEAEFBQELCAQHBAEBAQcGAQIIBwkCCgEEBwEFEwgFAQUEDAoIAgQDBAQFEhACDwYGAQYEAAEDAgoHBQIKCQcBBQEHAAQIBQUBCwEIAAUDAQQFCwIBBQcGCgMECw4KCAYEAQQDBQIBBAIDBQUMBwMOAQEABQAEBQEFAQEHAwoHBgkCBAcHBAcDBgQIBAgIBAMLBgsHCRENBgUGHwUKBwcFCQ0GAwQGCAIFBAQXBQQDBwUCAwIFARIDEwwLAAINBwkDCgQEAwIEAAkLAQkHBQkIDQMOCREDEgcGBQcCAAYEAgYLBAEBAwYCAwYNBQQBCgMIBwEEBAUCAQEMAgQKAgADAQMBBAMIBAQGBw8HBwEOBAMIDBcCAwIKAQUEBQIBAwIBAgoGBA4OEAQEAA0ICAoHCg0EAgIHAgEEAgIKCgcCBgQFCQYFBgcJCQ8JAQYGAgIBAQAHCxAOBBEJBwgEAwYEAgQJBwYOAQYFDQYBFAcJBwIHBAgDBAYICwICAgkUAwYIAgQFDQQBAwEBDREEBQsSDwUHBA0FCQIEDwQHCQkBAwcLBwMBAwIKBgYfAQIJDQQDBAoBBAEBBgUDCgIABQQDAAEBBQIDDAQEBgQGCAkNCwMHBwYDCA0DAwIBAQICAQcBAAYEAgwBBA0FBQcBAgYXCggJCg8EEQwFCwcBFQQDBwECDQgEBwEGCwYMDQsLCgcBAgUDBQIJCAcGABMOBAMBAwUFAAALCQMHDAgBBQAGCQkLCQkABAMEAhQIAgUEAwIEAQEDAwMHAgIBBQABBwYBFAQBAgEFAQAEBgQACAgCAQoEEgQFBAEEABQHEwYEBgYECgMBBAIFEAQIDQgCAwYBCgMBBQEGCAwHAgQCAQIGDg4DAwwFBQYIBQQLCgQGAwEIBgEHCQUDDQcICwYFARsHBAkIBAMCCAYHCgQIAQIEAwcIBQkOBAUBAwYOBAUDAgIABAIDBg4DAAkACAgHAwcBAwcFCAoBAgQNBQQKCQkGDgYMCAoHEAYDCAcECAoBBgMJAQUJAAMJBAoEBA4MBQMHEAIMBQQIBAQFAggFEAYEBwEeDQQUCAkHBQIEBQEBDwcCCAMGAwgJCwQFAgEEEAcLBAMBBAMEAhkICQ8GAgQABAIFAwkEAgABAQAABwUGCQAAAAABAQcJDgMHAgUAAQACCgkEAwEBAQECAQUHBgUFBw0FAwoLCAIEDAQBAQUCEAwDCQQFAwYCAAIBAwAFBwgjAwcQDQQHAwABAQQECQIDARUHAwEICAYJCgIFAwUNBw0VDQgQBBMFBgEKAwIEBAECAwACEAgDAgEFAAsJAgEIBgQJCgEFAgEDAgEDAwkSBQUBAgsGBwQBBQIAAAEBBQEBBggKAwEHAQECBAYIBgkCBQoIBwQDAwACAgAEAgEBEAMWBQYQBgwODAEBAgIEBQkNCQQCAgUBAQICBgUIAQEBAQECBwIEAwMAAAEAAgQKAAIEChkABwMNBgYUAAAAAAAPAxEEDgABAQEAEwwICQkEAAQBAQcIAgcMBgEBAwEJBQoHBQAAAAAABRUKDAkBBAEBAggFEQcPCgsCDAYCBwAABQABAAABAwEGAAEDCggEAgUKAwcGAQICAQMCAAcBAQELCAcBBggDCg4FBQUKBQQFBhAFBQcLBAIGAwMGAgQGCAQNBw0KCA8BAQYOCQoFDAYDAAUBBQIDBgUJAwcFDAkAAgUDBAABBAEAAAoDCQgGBwENAwEDCAUEBAoPCRUIAwQEEQMEAQABAgcTDgYIEAECAQQEBAIDBQUHDQUMAgkDAgICBwQBAgYQBwsBBAEGAgICCAkGAQQEBAIBBAEBAwUHEw0DAwgPAgcIBAcGAwgGAgIBAQkGCQIIEAwEBQ4QBQoHBgAEBgEDAwELCAMGBwwMBQgFAQMADQYRBw4CBAsBAwQFBAcNCQMHAhMCEgMCCwMDBwIDBgcNBAUBCQUFAwMBCwELAgEAAAMDAQgDAgkIBQQLEA0ICAIHAAIDAw0LAgQPGR4FBgUFCxIJAwEFBQMEBg0KAQcBBgsDAwMJCQwMCgUEEAQFAQQBAQAFBBEBAhECCgsCBwQCBAcPFAUICAcHFwgEBAMEBAQKAgkKEw4JBwgHAgQBAwUJFQcFAwUWBQwHDQ8GAwIDCQYGBgQBDQIFEgMIBgYJBQAOEwcMCQoAAgMDBAcFDAMGDQUHDgQDCwICBAYDAgMRBAMDBAACAwEAAAcFAwMEAgUCBAINBwECCgMDBAQEBQcRAw8GDwEOBAMOBQgHBAoGBBoBAgECAwMGDAsKBgEDAQQJCQMCBgEAAQICDgwGCAgCAAAAAg0ICgkFBQICAQcJAgQCBAsKCwYEAwcFCQUCBgYDAgMFBQYJBwMJCA8HAgIBAgwMAwMEBQQGAgMODgoGAgAHBQMBAgoFBw0GCg4MBgEAAwEDCgMDBwcCCAIDAQEBAwEBDQgBAgMFCgQGBQEFAggDCAILCAUHAwIEAgcEBgUEAg4LCwYMDwgHBgEDCgEBBQQVCAUFBAEDCQoEAwIGCQIDCAkEDgoEBgQJCQgHBQUFBAgRAQgGBAQNBBEFBwIBAwMQBgEBBAUSBwYDBgEFCAkAAgMAAAQFBQQFBQwJDAkCCA0KAQIIBAMEBQYDBQUGCBMDAQUGBwMFDAUEBAkFDgYIFhoEDAILAQsIBAsGAwUDAQECAwURAgIHBA0EBwcGDQQMBwgCBQgPAA0BDAMECgoQBQYCBQMHBQYOAAIFCRUSBwcLAAsBAQcFBAQNBgkGBQkBDBIJAQQLCAQKAgAEAgEACgsHAwADAgEAAwoCCAQLBxUWBAoFDAUPAAwFBg8DBAcCAgMBAwABAAkDBwECCQkLBAoAAAEAAAMHAgQDBwQDDQcCBgMECgYJAQYLExAHBgEKCQcOAgwFBwYGAQkCAQMBFAIHAgQCAwsHAQMDAgIGDQUGBwQABgoABwQLBwQDCwUBCQkLBwQHCwMDAwIABgwAABMIAgALCgkUBQEFAQUBBQYMAwUBBAoHCgIMCgsFBgkGAQYBDAkMAwsDAgsDBQAAAwQCBwgLAQIDCQUEBQEABgMDAwMDFgYLFAQEBgMFAgEBDAcGBQUECgYKCwUTBggFBw0GAgkGBAYFAQYMCAMFBQoKAgEeAgoMBAcMBQARBAEEAgEACwQGCgYHCQQBBAgIEgkGBQEICAESCgYODwoABQUEAgMBAAUCAQQCAw8NDgcHDgEECQUBAgIAAQcKBgIEBwYGBwICBAQDDgcDBwQACgMNCQwACQ4cAwEHAwUPBQQGAhIDCQoCCQUPBwEFBQgCCAoCEAkREgQIBgEOBAQIAQkDBgsCAQcCBgYPAwMHBwwHCwQGBAMECgEIBgUPBgYFCwgKCgIJFAQCBQEHEgkGEQcFBQMIBgMEBQgEBRMKBwcDCQQFBQMKAQEDBAsICQUCCgEEAAIEBgIMBwUGAwICAQcGBQ0LBwoDBgkDAwQCFAQICAIBCgYCAAkHCBESCQMPCgwCCgEAAgwEAQcFBQ0MCAYEAgEEBAMHBgQNBgEGBgMHEAgFAwUHAQMHDhIBBAAIAwkLAwYKCQQDAwMDAQIKEQcPBQYVCgYLCwAFAQcECgsMEQgJAgIDCwkFAAcCBAMAAQAJBQ4BCgwEBAUKFwgKBwkKBwQHCAMJAAUEBgECBAkFCgIEBgoCEgEBBgUBAQQFBQQICQ4VDQoHBw8GAQEAAgEDAwUBBAMNAwMOBQ0GCwMGBwYJBQgKBQQHAQYABQAGAhcEBAgFDQkDBwQICwQCBgIGAAUKBwcAAwYDAQIICAoMBRQOCgQKBQICBwEOChUGAQIHCQcCCQIDAwIACAQKCAcFCgoQBg0QBQYDDQYEAQQJAgIFBwoGBAwEBQUBAQ4FDQcDBQoCBwIFCAIBEAYSCQ4FBQILBAYJAgUCCwUBAQACBwUTDgsOEAgDBQoGCQ8HAwQCAQcEAgsLCgQCAQUCBwcNAgkDAQENBAgMDwoJBAgCDQYGBgIHDwYGAgkBAAIGCQQIBAgHBQUBBQkHCgEFDAQEBAYHCgUSCQwDAgQDAgMGBggHCgcBAgEDAAsFAAkAAQAEBwEBAQUGCAACAQEGAwoCAwUCAwYGCAIDAAAFBAcDAwEEAwYMCAUEAgIDCgQFDQIBDQYGCQMFAQUCAgsCBAMGAAQEAgUAAgcBBA0BBAAEBAIAAAQPBwIJBQgEAgcBBxABBQYFBAgAAgQHCQEMDQIGBgsIBw8HAwMBDQAIBQMIChIIBAMCBw4KCAkFAQACAAkNCAUFAQEFBwQJBQwLAQkICQIDAQEBAAAJBgUCAAcBEQEICgECBwcBBgIJAQkCBA8FBwMKCAYFABMFCQIBBwMDAQQSDAAJDwYFCA0FAQQCAAACAQAAAwMDAAUJAQ4FAQAKAQkEBAkHCw0ICg0DBAoFDQITCgQCBAgEAwADCQgMBgIEAQkFAggLBAAOBQIAAwIACwcFAAIBBwYABAUDAQUHBwQOBwQIAgEABQcECgYFCgQFCAQIDgoCBBIHBQoFBAQFBwoLDw8BBQUKBgUBBQIOAwsIBwEFDBEHAggBCQYGBgUCCAMEAgIDAQALAgoEAAMCBQIDCQUICwQDCAYDBgEEAwIDBAMJBwwEBwICAgYKAwcDAQYDBAIGDgYJAw4IBwEKCgQKAwIEBgcKBwYBAgMCBgEFDwEJBQYEBggLAwsKAwYBDAQBAQIAAwcCAwoGCwQNAQUIBQQAAgQDCgMFCxAMAAYHDAMHAQgCCAEBBAIEAQICBgIGCQgAAAMCCQ0JAgYDAwMEBhACAgwAAwgEBAMJBgoCAgQGBQgBAQQCAQEIBgYKAwcECQIECQUNBwcDBAIBBQUFAAUDAQYECQgFDw0HAgcJCgkGAgYCAQgIBQkDAQMGCQQDBggMBQQBBQ8DBAsHDwUCCgIGAwMPBA0FDwgGAQcDAggBBQUHDgIKBAQMBQIGBBMCAgASEAIDAQQDEgIBCQoIBgIDDAYICggCBwICAAABAgEABwoCBAwKDQEBDwEICAgGBAIEFgoBEQcDAQMHAQQJBgIJAgUGCgEBAwMHAQEBAQEBAwMKBAIECwYCBAYEAgsQCgQMBRUCDQIIDQUFBgMDAQMKBgUEBAMKAAIBAwYAAQUBCgQFDgQDBgMGBwoRCgUFBQYIAgoEAwAJBw4GBAgBDAQHBQYEAgUMCQYMAwwDBAMIEgMEBA0HAgUEAgUEAAIFBgwHCQwFAQIJAQoEBgMBBQQBAQEKBAkCAgMLBAUKAAYHAQYHCQIFDwIDBgMADQICEQkKAwIEAwIDAgQPCggJAQsFBQwHAQoIBAIACQUACAcEAwABBQELAQIHDAMUAAACDQcIBQYFAAEIDQkEAgQAAwAAAwwJAgYCDgwABAQFBQICBAkGEgMFCwYIAwcIFAoHEgULAwMDFwQIAwMHBAYAAQUHBxEDAAcCAwIDAAsDAwcHAQAHAAYFAwMIAwMJCAMCAQgGAQUACAYHBQIIBwQEEAUEAwIBAgUHDgQJBAIFBgcKBQQDAgQGCgsEAAEDDAcFAQsFBAMOBQAGAQIBAggCAQwDBAQDBAoLCAcHCwEFBQMAAgYECgYHCgUDBgMFAAQBAwMMCgYHAQIGAQ4DAAEAAAMDAQMGBg0FBwQCBgIECA4KBgsCBQIMAwELAQcDAwQKBwkJBAgFAgECBgQCAwQKBgsBAwECCQQDEwMECQUHBgQJDAMFBAIBBgMEBAgLAhEFBAEKAAcBAAYCAwEIBgcJAAEAAwEABQsKAQMDAwQDAQUFBQICAgsKAwYEAQUCBQIOBwAKFwEGDQgJCQYFAggJAgkCAQMKAwICAQYEBgIGCAQGAQUNAQUAAgABAAgCCwEEAwkIAQIBBAMDAgsLBQYBAgkNAgcDBQcQDQgLAwcGCQYKBwYGEREIBQUDDwEFBg8MBQcKCwMDBgoOAgAACQgFCAMDBwUEBgIDAAEBBQwMAggEBQQEAAQCBgIDDgcFBwYEAwcEAAYLBQUDBQYDCgABDAUPCgwJBwUEAgEABQIEBQMIBAYGBQIDAwUDBgICCwkFAgQFCQIFAQEBAwAIBQIHBwMDCgECAw4HCAkBAQEAAgQBDgEFEhIDCwMJEQMCAwIAAwkFBgQPCgYFAwwDEAEECQYBAwgGAA0CBAICABAJAwUKCgQGBQQDCxIGBg4DBQYCAAABAQQLBwQGCAUBBwUDBxAFCQoGAwMBBAECAwQBBQ0CBQoDCw8GBQcJBQICBQoIAwYLDQwIAQgCAgMBAgICAAAJDwsEAQQJCgUACQQDBQMCCAMGAwoWBgQKAQYICgMHCgQECAYDAgkDAgoFBAsDCwUFAgMDAgUBCQEGBQAABwMDAg0EBQIHBQMHAQMGCQYHAwYDABEBBAYGBQIHBQwKAwADAAMCBwIDAgAKCAUDAgwDBQYCBRMNDAQFAQIABAMIBwQDCwIFBQUAAgECAAMHBAkKBgAFAAICCgIBAwMKDQQEAwsIAQsJBgQDBQQDCQcFBQkbDQUCAgkACAoCBQEEAgcDEgADCQMFEAcDCAUDAAIHAwIDAQgKAwAEAgACCAgDGAoGCAYGAgIPAAUPBAQHAQECAQYDBA4GBwMHAQgNCgYEAQQEAgUCAwMADAMEAQcBAQEAAgEHBgcEAwMEAgIOBwoJBAMCDgUIBgcKBAMEBgwBAQEFAQEBBAEBBQACBQoCAAEEAQEEBAoIBQ0KDwcRBQENBgAKAQIBAQIKAg8KAgULAgkBAQEGEggFBQQKCQIMAgwAAQoFAgwEAwIEDQoBAwgFAQECBAIGBgMBAAYCAwQNAAsIBAgAAQIAAgYBCAANEQsNAwQXCwQDAQsCBQYFAwkCAQIFBgMFCwUUBggHAw0DBAIICwEFAQQCAwMDBQcBCAkGBwcJAwUFAQEBAAMAAxIEBgYEBQQHAAEGAAQDBQQFCgUIAwIHBhEHBQMJAgQFAgcEEwETCgIHAQ8GAwcBAwIGAgwTCgICBQkDAwYHDwQIAAMBBgQKAQUFDQYGAgMEBAABBgIAAgQCBAUBCgkDCQEBBQQACQkFCAIBBgIGBAUEAgEDBgwLAgQICwADBw4OAQcBAQEBAwIICQEDAwYDDQEEAgsABwICBAMFBQIDFAwNCQ8GAQECBwUBAQQADAIKDRMBBAYHAgkHAQMNEQ0BAwABAAEIAw4BCQIGBAECBw0HBAUHBwMEAwMIEQkEAgIEAAYEBQUKAwcGDQYAAw0FBAUGAAUEAAwMBAMHCQMHAgIAAQABAAMGAwIBAgsCBgYHCQsBAggLAAQIBQMOBgMHAwgEAwUJBQUFAQEAAgEAAgMABAUEDAUDAwUFAAQFDAALBgAAAAAAAwMBAggEAAMDAwICEA0IAggCCAsCBQMCAgIDAwYIBgICAAILBQoGDgIDAAEBAQ4NBQYFAggDAgQBAwMHAgoLAwQMCgYDAgQIAgYDBgoBCgMFAwMGAQAJAQMFAwcMBwYCAQQAAQ0HBQQEAwYRBAkDCggIEAABBAECDAgHBgYBBQsDAwAHCQMDAwQDAwUJAwACAAIFCQQTBgMFAwQCBQADAAcIBAIBAgQCBAIFCQUKBgsLAwcEAAUFAgAEBQQCBgAAAAEAAgcHCgcBBQUEABUFDAQJAxIVDQUBBgECAwkHBwMAAAAAAAAEAA8NAAQJAgUEAgIDAAECAAQABwIMDwoIAwoFBwoEAQADBAIBAwoJAwAAAwIGBhMBCQ0HCAcCDQAFBAcGBQQBBQMRCQEDAgIEAQIBCgcDCwAFBQABDQkLBQELCAINBAUEAwgCBgMEBwwHCwUICQ8PAw0MAQYCAQQLBQUEChkSCAYJBwoJCgsJAQwFBgEEAgEBCQcQCgICBgIGAwUGBAMHBBMDBQMDDAUCAg4GCwIEAAQAAQMBDBEDBwMAAgEBBwMKCwIEDAUFBwQMBAoIChAEBAMFAgMEBgoHAwYCAAAAAQECEQEFDQMEAQMBAgMAAAMHAw0BCAQIAwIBBQQDBgYCAAECAQIIBgQHBAMEAQwABAIDAgADAwIAAQIIAwYAAwQCCwUOBAMEAgkFAwQCCAMCAgYFDwIFAQIDBQgHCgMHCRAHCgUBBgYGCQgIAgcFBwEBBgABFgsJAgIDAgQEAgYGBgwCBAYFBQEJBAELBwIEBQULBAUKBAgBAAABAAYDBAAJBgYDAgEFBAMEAwMEAwEEBgcKDQwCBAgPBwAAAwMCAwMDBwMBAQEAAwQECgECBQEBAQACAgUBAgUEDREEBQkCBAURCAkIBgsIDgMEAQcDAwMIBwkFCAEBAAICAQAAAQADAQMCBwMCAgACCAsGBgUFCAQHCgIEAAQDEgUKBgMCBgMNAwoDCAgCBg0JBwEAAgAAAgMHAgMCDgoOBwUEBgIFAwgEAwICCgEKAxIMCgQBAAMABwEBBwUABAEQBQQIBAoBBQEBCAkHBQEDCQcFBgMCEQIEBwQBAQcLAgQNBQsGCAQGDwUMBQIICAQGCAgHAQoIBwsGBwkCAQQCBQgECwIBAAAAAAMIAwkLCAIHAQgBCAcEBQUKBQcCAQIPBg0IDQgDAwQCAgIAAQgKBQsEAQMKAwMGDQMNCQUGCQcBAgIGAAEOBAcIBgIBBgMJAwcBCgUCAQEAAAIBAgAACgwEBQIGBgUBAAMFDAIEBAkBGBMMBAkBBQcFDAgJAAQFBQQGDQcHBAEGAQMECwMLBQMMBwYNBAcNDQUEAgIDAgUBCgYAAwYHAgABDggFBwMDAw0FAwAKAwABBgYEAA8GBwwFBAwNBA0KAQMCAQAMBgYEAwEAAgEAAwsHBQARDAgGBhAQBAQDDAUJBAQGAQYABAUEAAIBBA0CEwYEBwcDAwMCAAAABQgDAwECCQsIAwIECgUCAQAAAQAMBQcCAwACAQIBCgMLAwMLBQkCDwkJBwIBDAMRAQIHAwcCAggQDA0EAAMAAAAFDAkCAQwRBgIEAwUCAQENBgMGCwwICwcKAQEEAAECCQQEBQIABAIACQoDBAYEAQMEBwIIAAwECBELDgQCCg0PAw4GBwgEBAIBAQUCCAECAwsICQMHCwcEAQYGBAEHAAQEAAIACwILCAkLBAgCAwgQBQcDAwAFAQEMDgcPDwMCAwQCBhsECAgBAAACAQYJAgEKAgUBBQMNAQgPBAcRBAgHAAEAAQAFCQgGDQIOBgUCBAMKAAMQBwIKAwkGBAMCAQMCAgIIAgEDCQMGAhYBBwkFCQQBCQkDAQkECQcCDxADBgcKAgEFCAgTCQgCAwMBBQQKAwkFBQQOBgEFDwQNCAUEAQwFAw0FBgYGAQwJCAcNBwwBAgMCEwYCEQ4ZBAUJDA0DAQEEBAQDDAQFAgEDAQkGCQMBBwQDBwkKAwgFAwEBAgMJAQILAQMLBAYBAQMBAAUEBAYGBQgMBgcECBEEAgoDBQUEAwMFAwYKAggGCwMTBgULCAQABQIKBgMCEgYHBAEFAwQEAw4NCAsCAwIBBQMBAAUPCAQGAwUEBAIGBgoHDAYQAxMDAgsHBAYOCQ0EEgEJAwYWBAgHBQsHCAcBDAkICAAFBQcFAgUGBwYEDwIBCAgGAgAEAAUKBQkDAgQGDwIBAQIAAAQCAgIFCAAEAgsGDAsFCgYHAwQCAwIDBAQGAQgCBQQDBAQGDQwGAwEDCwQDAwEGAQIEDAoFAwIKFwIBCAoGBQkFAggFAw4DAwABBQYIAwEIDRMBCwwGCwkJCQkDBgMJDAYHAgQCCQUIBw0CCAYHBAcBBwEHDAkEAQQJCAMGCwgDAQ8KAgYFAQUMBQgEBwcLAAIJCQMGCQMCBQwFAAICAwMBAwMMAgMHCQYEBAMEBAYCAgUKDAIJCAUDEQMGBxECBwUJDw8ECQgSCQQHCQQBBAUFCAgECAMCAwsBARACBAIBCAwLCwkGBgcFCQULBgAEAgMTCQQPAgoHBwINAQcDAgEBAwEBAAoKAwcHAQIBCQ0FAQADBAUFAgYCBQEEAAMLBQMAAgABCAINCwEGBAUFCwkIBA4PBgUHAwIDAQQIBgcICgkFBwEAAAEBAAEICAEGDQcGBAEHAgQABhIHBAMHDwMFAgYJBAAKAgUGAwINCggICgQMBwULAQQKBgQEBg4HBAQFAgEFAAMMBwYOBwQKBgMDBAMHAQcDAwIHBwoEAwMABw4BBAcPCBECAgEBCAMEAQYABAoBBwcEIQkGAwEDBg8DBQMICAkGAgYTEQQCCA0MCQwAAAkDBggKBAoABAABAAEDAAABBQUCBAEEAQQFAAkJAgcHAwkICgMGAQMBBgQCBQ4BCQ0QEAcFBwYBAQABAQAABA0HBQQBBAQCAwUOAgADCQQTBAQGAwIEBAsLAgYFAAEBAgEBCgYCBgYIAgECAgUCBAIGCAgFAQQFAwUCAgwIAQcEBwwQAhALAwQFAAgEAQMEAAMDAxwKAwUEAwYSAwwCAwEFBAMPCAQHAAACBAEMAxIEBQEBBAIIAAYGBQsFAwECAgYGAQEBBQoEBAQLBwEGAAcTBAgFAQcDAwAFDwoPAwcKAwMFBAQDAwYBAwQEAQQGCgEKBg0GBwQNAQgJDgAAAgYCBgcPAwQECQcHEQEFAwgKCAwCAgEDAgABAgQIBAcFDA0HCAEGCQkEAwMDAwMBAwEBBAEABggIAw0DBQQFBgMCAQMNCw0KBQoJCQQHBAEJDAUGBQ0BAA0JDAQABgEABAwOBgQSCQgCCwYGBQgGAgQOBAYDAA4QBAUHAwcFBQYJBAcFCQYFBwkOBAYNAQgBBAMJBRAGDwUGAw0HBAsJAgIBDQEBAAQFCgEGAQMLBBMFAQgDBgsNAgICAQYGBAYDAw8GDAEDDwgBBgQBAQEEBAMEDAYHAgMEAgQPBw0GBgEIAgICAAADAAADBgQGCgMCDQIFCQQFAgMMBAEGCQMGAgACAQQAAAALAAgCBg0GBgAECQQEAwUEAgQEAgMNCgYCCAUEBgQFAQICAwYEDwQACAcDCQcIBAoEBgoBBQgBBgMABAUEAwgGAwkKAgIEAQIAAQMFBwAECAcMAQMVBAIDCAsFAgIEAggAAgMGDQMJAwEFAwQFBQQIDAEJBAMGBwoKBQUJDQMJCQoDAwYKAQgOCAYEAwYLDwQDCAEAAQUFCAMKAwcEBAMNBQUACAASCQYMAwQABQQLAAACAQQDBQkCAgcEBgkGAwwEAgQCAAIAAgcFAwkBBgQQBAIDCQMBBwUDBAMCBhAEBwAHBhAEChMDEAIHCgUIAgMDDgYEBQMBAwMBBQMGAQUFChAKBQYGAAIABAYKCAEBAQAAAQMBAgMHCwgHAwYFEAgACwYFCA4FCQoHAQgDAQUCBQYBAwcRBg8GBAAGFQwEBgMBBAYMBAgNBgIJAQMNBQMBAQABEQgFCQQGCgcEBRALBAYDCQYMBwQIAgEBAQoFBQQFBgYMEQUGBgkHBBACBQIMDgYMBAMRCAUCBwEOAQABCQYDBAIEEgMCDQELAwIHCgoLCgIHAxIFBQMGAwIEBAgOCgQCCgcFBgMCBwMCDwISAgQHEAYDBQIFBAcCDgEGBwoRDAMFCAYMBAIPDgwDBQIFCAgBAgEAAAAEDAUDBwAKBQUJBQQDBgMBChELBwcKCQgGAwsIBgYEEgwFAwUEAQsDAwoNCgIWCAQJCQIEAQYECQMMBwUFBgEAAQEECQsBAAIEBQMAAgsEBQgCAwEBAQUCBQMCCwsKBgMKAgQBBAcODgcMAgoHCwMFAwIFCwEMCQcRCAUGCQYIAAACAw4GBAICAAgGCQICAAoRDhgEAgUCCQEJAwYKEQYJEg0FHgMEDgwGAwQBAgQDAgkIFwwKFQkEAwQDAAYAAQQLCQQCCgUMAgECCBIJBAQGBQQLAgIBAAEIDw8FBg4TBRAFAwIAAwALAAUIAQUJDwEHAgEFBAERBQAMCQEBAAABBwQBBQMJBAMOAwoLBAoFAwEBBAAEAgUBAQELDwUAEgEEBgQDAQECBAECBQADCwEFCgAGDwYGBw0NAQQFCQYHAgYECAEBAQEBAwIBBwgEBQMCAQYAAAcEBwQAEwYEAQcDAgQGARIJBgUFCgYMCAUDCwYFBRAPBQQCDAIGCAkFBwYCAQMEAQQBAQALDQkXDwkFBwsDCggHBAUJAwMDAhAGCAQFDAkDCAYDBgIDAgUJBwUEAwwIEgQEBgcNCwIHCgITGAYIFQgJBQEHBggECAADBAALCAkDAgkECQUDBAACAQMACQQCAgEIBBMDAQYFCwUFAwsDDwUGCgwHAxMGBAUDCwYFCg0ECA4EBQQBBgYEAwIHBgEFFQcFDAMBAgIBDggJBQIBBAMCAQMGBgcDBwoJAgMKBAYAAAMFBQIABwQEBwMDDAUJCAUFBQIBBgYDAwQAAwcDAAMGCgQCBAMDBgYLEwYCBAkJBQ4TBQQABgIKDQEFBAMBBAYBCRMFDQoJAQQDBQMNAwUPAxAAAgQLAQoHBAgGCQIKCAkBAQQCAgQFBAsFBQQFCgMFAgEIBw8LAAsCDwUECA8FAwsECwgGCwcMAwYHDgcLEgEFDRAHAQYGBgMIDQoNCwgICQgDAgULBgUICwkCAgYJAQECAgIIBw8FCQYCAQMEAgECBwYJDgIEEQwKCAMHBwQGCgIGAQAEDREBCQUCAgQIBg8HBAQFCAwKBQ4BBwUFCxMDAQICBA4CAwMFCwsGAwQFBAkACgkJBQMBBgUDAQYHCgMRAxADBwUBAQMCAwwJBAMDBgIFAgcCBgUGCBEFDQUIBAEKAgEBAQIBAQYICwoKBAMBAAEHDAUDBAoICAABAwkAAgYFBAQJAQAAAgIBDxQGCggJCwUQFQgGAg8BBAQNAQABBQMFBgUJCwwGAgACAAgFBAMDAgQIAwICFQIIBQUCFAQHBQkDBgEFBQAKAwEJDwkAAQQIBwcJAQUABAEKDgcIAwYOBwYEBA0GDwQBAgcBBAYJBgYIBAYCBQYCBQYEAgAEBAQDBAMPBgIIDRgEDgICEwoDAgMDAQIFAwcFBw8KCwYDCQMRAgQBAwQBCAYEBAACBQgICgIHAQUFAwMEEwgQAgsIBAESBQ0HAQIHBgAHAgYIAw0LCQMIEAQGBQIFBQ8IBgsJBgMCBAsMAgAKCg4HBAkDCAABAgwBBAUHChAKBgsMBAgFCAYBBg0EEwsFCwMMAwMEAAQFAgQHDgUNBAICBwcFAAEBAwUIBQsMCAcJBwUCBgwDAgUCAQQGBAUBAQUAAgUFAgECDgMLAwQECxAEBQIEBAEDBQoHAgMMBgUGAAICAwEIBQMICwcBBgQEBwUDBBMKAAUJBAICBQUEAwYBCwgLAgEGAQcCBAUNBgcDAgMFCQgGAQkHBAQIEQICAgYHFgQCBw8EBwgBCwQKAQIBAh0ECQAODwMDAAQBBQcBDgQEAgMJAwMAAwkECAUGCAMFBgIIAgICAAgOCwoGAAcFBggBCggDBAIEAwMADBEIAwgHBQUDBA4HAgYABgoHAgAEEQMAAw0HBQwCCgkHAwsEBgUHBwQDBQMBDA0HAgMHBwEDEwwJAwUEBwoDAwEGCRkHAQsIAgIFBA8ICgUJChADAgkNBQkCCQcHBQsJBgUFAwoAAgoBAxYABAYJCwQCAAgFBBQFAgIIAQEGCAgFAAMLBAICDwYEBwMOAgsDCwEDBwEEBgoDBwQICQsKBwwDBgcBBQYAAgERDAALBgoCCAMEBwoOAhIEDwMDAgEKAgcCAgkECwUHBgIGDAIBAQAABgYCBQAHEgoACgkVBAEDAgkCAwUGCwUUBAgFBQgIBwQJBgAECg8EAQAIAgYKBwEIAwIFAwMEAwIFBAYMAwMICQsDBgUBAREAAAYBAgAAAAIbDAgHBQcLEwYFBwgFBQcLBBIECgILCAYOAwYCBQYEAQYCARECBgUIAAMCAgABCgQFBAUNAgoADAYCAgAFDgwEBgEGBwcGAwAEBAIDBAcHDQMBBAMCBwMKCwcDAw0DBwEEAAQCDA0MBAYFAwsBAQkLBwEFAQIHAwENBgcBAQIICAUFBgEGCQADBgABBAEGBwADBwcMAAQNAg8ODhYIAw4LBgMGBQMHAwgEBwYEAwQGBQMFAgEJAgMFBwoFBQAIAgUABAIMCAcGBAQGCgUBAgkNBAQCCwwJAAIAAAICBQkDBAYBBAcEAgAJBwcHCw0NCAwLEgMIBAoFBQYCBgIHAg0EDAQMBwoSAgkMBwUFAwMBBwsHAQkECAIACQUGAQkSCwsDAhEFBwsBAgYBAQUHCQIEBQMECgUDBxsJCAIFDgIIBgIEBQUEDAQOBQECBAMABAsIBwMDCgUEBw8MCAQGAQQDCAMABwUDAQEBAgQOAAUDBwYFCggDDAgHBggFEg0ICgcEAQIFAwYGBAsGBAgHBAYDAgECAwEHDQcCAgQCDgcEDQkCEAoGBwEJBgYDBQIDAgcGCAMHAQACDQUBBAcBBQIEAQMBAgMGCQgNAwcDAgEEAgEFAAcGBgEHCwMHAwcFBAIIAgkCBQkUBAAJCw0BBQcMBQYIBhkFAQYFBgsEBAAGDwMEBwUBBQQFBQcLBAANBwIEBwQGBAYBBQUBAw0DAwUDBA4CCgQFEgUDBAMBBwYBAgQEBgUEDgsPAwAIBgcDAwsFAwMHDgkBCwEKBQIIAwYACgIGAhEEDwwHBQoBAgMJAgQBDAoHBQEJBREDCwIDBAMDCwkFAgULEAwDBgMLBggEEAEBCwoDAQEJDAEDAwUACAkOAgcABwcKBAUEDwIDAAkNCQICAgcBAwcHAw4GBQABBAIBCwMOEwcIAggDBhMFBQQFBAMOAgMGBQwEBAUAAQIDDgcFCgYEAwYDAQAAAQEDAgUFBQgSDwcDCAwKBwYHBxIFAgMEAAMCAgIDAQEDBwoDBAEDBwICBgQDBw0IEQQEAgcHBAcFAQUAAQEFCwsAAAYHFAUIAAMIBgIFCAsHCQQDCAIDCwkFBQUCAQoFAQEFDQwOAwkCCAQEAAcBBwIGDAIIAwwHBwYFAAEBBAcWBAIGBw0OEQUAAQYFAwgHDgcFAwUEBwQDCQoGBgQLCQcJAQQCAQEPCwMEAgEGBgQDAgMHAwUJCggHCwMDAAAABgQHBgYICAEDAQEGAQEBBAsFCgQFCAMCBAoEAwEBAgcJBgkHBgALAwIABgMICxQGBAQJCQwDBA0JCwcCAQEAAQEOBQQDBQAAAQECAwcFBQEJCAIGBgYHEQ8MCAgLCgoGBgICBAsJAAEKBw4OCA4DBAcHAgoDBgMDAQQHBQMNAwwMBAcDBQMBCQwPAwQKAwUJDAQFAQADCgoMDQoEBgsDCQELAgYFAQQDAQICDwEGBgIFCwcFAwcBAgQDAwIIAQMACggHAwIIAwwBBggRAgILCAoHDAkDBQUBDgQCDAAOCgMFBAIOAwIAAAEDAgUEBQgMAgEDBQMGAAIBBAUNBgYFBAgGAggKDAgHCwgLDAQLAQQEAgIIBwIEBAYFDAUHCAsEBQQGAgQCAggJAwMCDgEFBQMMCgUFFAULCAQOAgULDQcGAQUCBAUGBQYGAQ8DCQQBCAIJAwIDAgEBDxUHBwUEDBgECA0OBQkLBgMLBwIHDQYDAAMDAAICDQQGCAMECAUGBgMIFAYCCQYGCgYPAAgNAQoCChAMAxAFBgYGBwQHAwoHBQgGBQEEAgoDCAYFAQUBCxAMAwICAwAICQEHCAAIBgEHDAEDBwQFBwUEBAIICwQGCQQBBgMDAQUCBAMOCAcHAgMIAwIMBQcHAgQKAwsDBAcRBAgDBwYDAgwCEQMLBgoIBwcKBwEGAwMGAwMAGQgFCQUNDQgFCgMDBAYDCgUHCAgKBwQHCwoGBgEEBAQECAkKCgYQCwcUCgMMBgYEAQUQBAsHBAcKAwIHBRQFBAwIAQsCAgUADA0OBBICBQYGAQMAAwwGEAYGAwEAAAADBQQBBQIHBQMDAA0HDQQKCREJCRUTBgYGAQkHBQMDAwEBAQQICREJAwgFAgcBAAEBAAYLBwcJDQYIAwQDBAICAwEDCQIEDAQJBQEBAwECAQUJBQUGAwABBAYJAwUCCAQPBQUCAQMCAQUPEAkHBQQPBAQHCwcHCAIBBAQHCwcKCAAHAwMEAAMMCQUKAQEBBgwCBgkMEAoLEgsICwEPAgQMAAQAAAIDBQEABAYKCwUBCwMFCQIBBwMDBAMDCAoHBwsKAwQEBgMACQgNCwUJDAUHAgMBCAsCBwcNDgQGBgIIAQIICAUHCggBAQEECQwYBgQGBA8EAgcIEgQFCAMIAwADCQgCDQUKDQUDCQUFAAELCgoDBAUDBAYLBgkNDAQDAwQDAAYMCgMDAwkMBAQMAgIBAQMJCQIFCQEFAAMGAgQAAQEHCQMGBQcIAwgFAQoHBQcICQMHCwEABgUCBgYDAwkRAA4BBQUMAAMMEgAOBAUIAwQBAAICAAEDBAMCAQUIAQ8HAwIFBgIIDAsBAgUEDQcFAgMBBgELAg8JCAgBAgcCAw8EBAICDQcOAgIBBgYADxQHCAYBDgUFAQABAwEAAhECBwMDAAICBgkRDAsKDwoRBwUECQ0FAwMCAQEBAAIDAQAHCwUHCgUMBwYCBQMRBA0CCgwMCgoGBQUGCggMBAwDAAQAAQMNBgwFBQQIBgMPCQgFEwQJBAgEBgoFDAYIBQQHAwIBAQIBCAcIBAUUAQgJDgAAAAEBCgUDBwMBAQAAAgMBCQgDAgABBAEFBQYDAgUICAYWBQoDAQIFDAEBCAUHCAQEAgMJAgkKAwIHBhAEDAcLBgoDCAEAAAQCAgsHBwYEAAIBAgIIBgUEAwIAAAAADgYWCQENCw0EAQwECAQBABALBggFAgECBA4LBwcFCgQDBwcCAAEDAwUCAgMDBwoKEAUMAQsFAwQNBgMLDAUECA4BCwUDAQEIBwUDAwgRAwYCDwQQBAoGCgQKAggHBwYODAcBBQUIBwcAAQICBgIHCwgLBwAAAAIADAgFBwYFCQUBCAkEBAIFAw4MEQwIBgsFBQcOCQQDBQUDBQMDCAwIDBEGBQ4EAQ0EBAUBAAIDAQcBBgQFAwMBAQINBAwHCAEEAAAABAkNBwUBBwECBgQFCgULCQIFBQYECAYICgQEBAYOCQMEDAQBCwcCAwEKAAIDAwAAAgEDCQMCBAMADAIGAgcABgAFBwcJBhASCg0LBA8FBAQDAgEMBQMLBQgCBAQBBAICAwYCAgkEBQUQAAEDAQEFAgEFBgQKAQUTCAQHAgcGAQQDBwYOBAUEBQwHBAEBAgUAAwAEAwMGAwkGCAUEAQIAAwYKBw0CBgMDFAIGEQIDAQUBBwwKCQYKBgAIEQkRAgwBCQIIBgAFCAIEBQEACAUEBAQBBQUOCggDDQYFCgkBAQIEAwUCAAILBQsGAgIKAwUKFAkHBwYFBQwFAQAEAgkDAwUCBQMNCAMEAAkGBwYEAwMDAgADEAUFAAAJAQUBCQoCBgEDAAgBBR4EBAMECgQFAQIGAQADAgcLBwMECQ8EBgcJBgYIBgEFAQYCCgkQCw4OBQoKCg8NAwoHEAkHBgAEBwACAQgKCgMCCAEDBAcEAAMCAwQWBwgECAgYBgYYCA0FEQ8GCQYFBwkMCQQCCAEBAgQJCAMDCgYHBQQIBQQDAQUFCgYBAgABAAIEBAMBABEDDAYEBQABBgIHCQQCBQYDAAQBBgMKCA8KDAIDBRAECgQBBA4BCAYJDQkOAhQCBwgIBggKAgIFAQwDDgIODwUDBQEDAwEDAxALBgUEGgMGBQgFCAMFDwYKAwAFAQAEAwkOEwUIAgMECSIFAQAHBA8GAgMFCQUOBAMEAQMBBAUDAgEFCQgIBAABAgQBCwAFAwUFDQUKCgoLBgQGFA0GAQkFBQUJAgQWAxAJAwcJBgcABwcEDAUPAwECDwUDBRAFEAQEAggGBwQKCgUFDQYBAQwHDQEFAQICAw8BCQoCBQMBAwsHBAIEAQIEAwIBBgIBAQADAAAAAQUEAwUAAwgJCg8TBQIJAAEFBAUEBgQFBwMSCgMBAAQCAQACBwACEgQECAQFAgUAAwIEBAMICQMFAgsFBg0FCgQJCRMFBAEDBgUDAwQSBwQJDgMLBQQJDAsDAgICAAABCQYECQgPCQsHBgIICgEGBwAQAwkGBg0GAAIEAQQJAgcDBQULBQQBAgECAgEGBQQKCQEBAQEBAwIAAgYGBwMIAw0DBgAABwYJBQ0GBQMCCQMCCQYHBgQEBBAFBAQEAwkFBQcCAwcCBAkEAgoKEQoKAwgFAgMFBgUFAAQABAoMBwIIBgABCgQKAQYGCgoFBgADAwQAAQYBCAMGBwACAgEDCQECBQUOAwoJBA0HAQQKCAEDBQYOCgEDBQQOBwUBBAIIBAUMCgIGDgwICgkGBAYFCQEFAQQHCgwJCwMGCQMEBQUBEwoHBgIEAwQLBAYNBQEBAAAAAwwOCgYHAQMDAgYCDQYICQgEAwMECQMBBQQHBAUDAgIHBAAPDQEFAwMKEgUCBAcCCwQJAAgCBgUIBAYHAwkDBAYLCQUBCgQCAggGCA4FEAkKAQADAQEFEAsDAAIFAwYBCgUKDQQEBwcEBgcFAwEMCwcIAwkFAwUEBwQJCgoFBAMFBgQJCQUFDAwWCgMFGQMHCgMICQQJBw4EBgwJCgwGBgYFAwcAAQoFCQYIBAkHAgEBAQEAAAQCAwEBBg8OCwMFCAcFBAITCgsEDQoIBAcIAwkFBA4BBAQHDQUSDQ4DDA4RAgEIBQMJAwcKAw4JDAgDBgwOGQwHEBQIBAkBCgMGBwIFAAMBEAgRAQEIBQ0EDg8DBQMFFgcCBAkCBwIBBgkOBhUCEAMTAwISEBgHBAsMBgQCAQcABQIJCgQDBAECAAMCEQUICgIIBggMBQcECQICEwMJBAwHAAIBBA0LAwQEBgYNDAYABAwCAgoKBwYGBQ4GAgUDAgQLCAYFAgEBAwUJBAgCAwECAQgLDwQYCwMKDwUHAw0DBgIABwYECwUEAgQOCQUFBAAQCwIIBgYDAwMFCggDCgQLBAMAAgcCAggIDQkKBgUKBAcEEwkEAwIDCQUCAwsLBQcDBQQGBAkBAgMBAQMVDAsICA0dBAMLBQcKAwMCBgACAQgMAQYAAQEAAQMCCAEBDQcFCgMECA0EBQQSBwYEEgwOCAgFBwkIBAIDAQICCQkGAAQKCgAPAwYJBAUCAgIBAgAFBAUEAwUMBgsFDAIFBgMDAAIAAAYJCQcCBQIBAQEBBQ8EBQoECQECARADBxIABgcJAQkDCQMBGQYJCAcEAwkGAwYCAg0HBQcBAwQCDgkIAgoEDAIAAwkGBgcODwEKBQYECwgQCQYAAQUDBAEKAgoKBAQHCAcKDgIQARgIBgIEBgsDAAMABQUKAQgEBQEDAwICAAACBQIHBQEOAQUHCAwGAxsIAwECAgQBDQICBAYBBAwCBwMFBgUCAQUMBAoCAgIAAgMECgIFCgkEBgIGCQIHCwoDCwgGAgMEAAMDBwAGCAsGAwQDAAQHBgIEBAMEAAQBAgQSAAUEDAMGBQkGDgANDQEBCAMFBgUBBwoEBQkABAYBBAcCBwUCCwsBAgoKBwcFAQQIAQIEAQUEBAUKAQUFBw4KCAIHCQwDAgQGBwMFBQ4LAg4DBAYDBBEGBgAJAAQJBQQDBAMFAwIJCw4HAggDCggFAgQEAAIKCQcEDgMGCgYBARAGBgkJAQECBRAOAggEBBADBwkJCQUJAwcDBwEFBQUIAgENBggHBwYOAQQBBwYGDQMDAwMFBQUFAQECCgsIAQcIBw4GAAMDCAgFDggCAgYOCQcDBgoFBwUECAQCAgMRBAkLBQQHBAoBBQIFAQIUCQQJBgIEAAACAgkIBAMLCAYICAsDAgcJBgIGAwEICAEBAgsDBQkABgUHAgQICgUFCQ0PBAIHBQgGBwMDBAQHAQgJBQQOCQYQAQMHCRIJAg8ICQ0JBgkHCAIGAAIBAwMOCAsCBAMEAgYDBAQEAwMGBgUEAgoGAwkEAwgEBAcFBAgICwUTCgIDFAcKAwIHBAoDAwMFAAECBQYMBQIBCgEBAgkGCQMLCg0KCQsJCAgGAgUDAwEBCAcGAwEIBgQAAxACBwkJBAYMAgYEBAIBAgYAAgQIAgMLAAIHAQMGCQoKCgQEBQUFAgEECAUBAQUIAgIGDAkHAQgIBQEAAhANCQQFCAQQAgIIAwcCAAQKAwEKCAIFAwcIDQYQDgcGDw0KAgIDBAkGCwMFBwoGBAkKEAcHBgYODQYPDgkMAgIDBAYFEAQPBQgIAgYEDQYBAgEIAQYHAwMKBRQKDQsGAAMDAwEKBwMGAgYLBBADAwIDAAUIAgkDAQEKBhIFDg0FAgQDCAAHCAUHCwMHBAILDQMCBgAJBxMIAQ8KAwkECQkICgoHAQICAgEDBAEFCBcABQEGBxAJAQ4HBAMECBAIAQcGCAgHCwcEAAYGAgAJAgMEAQkACwQMEQMJBggECQQEAwMJBAICAgUDDAMFBQQCCQIBCggKBgEKBAABAQoBAwsEBg0KAwgKAQkLCggFCBUJDQUFCQAMFAYPCggECwgHAgEKCgQBBQEHAwcABAcFEwMCAwIHAgkDFQIBAggTAgMJBAYbAQUGAwQECAIOBg4EDAYHDwUHEAQLBQgSCAIHBgICAQwEBhAKAgQFAgUTCw4FAAcKDAUDBggLBAkDAQMDAAIEBQQBBwUHBAgHAAYEAQsMAwcIBQMIAwUNAQwBBAcBCgYJBg4DAwQHAgMEDgYQCgUCCgMPBAMDAwAGAgsEGAMEAQAGBAIHAwQABA0ICwIBDwgFBQ8GDAcNAwQOBA0EAwYTFgQJBgQDAwYLAwoFAgcADAYFBQ0JCgkJCAcBCgUFBgwGCAMHAQoGAQMGDAQQAgcPCAkIAw8FDwIFCQ0FBQMHBgYJBwIDBQEABwUECgUSBgIGCQcHBQsBAwkNBgcDAgICAQsUAwkIDxcLBgMGAQkFAAQDAwMLDAwIAwoCBQQDBQkGBwQEAxAKCQgCDwcFAwMFAgUEEAcFBQUEAAUDEAMBCwcKAgMEBAEHBg8DBwMECAQGBQgEBhAZAgwLBQAUAgARCwECBgQEAgcGDwQDBQYDAgQBAgEHAAEAAQ4DDQAEBwMLBgICAgoIAgoBAgYDBAQFAAMMDgUDBA8VCwoFAgEBAQQJAgcBBhAEDAgDAgIEBgYHAwYGAgoEBAEBEBQFBgUCBAIDBBMGBgQDCQ0GDQgDGgQCBQYJCw0KBA4DAwYDBQcBBgMCCgYCBwYGBQYAAAAAAAABAQAAAwUGCQYEAgcNCAYHAwIQDwwDBQIABAAMCgYCCAMECwIDBgABAgcQCwEHAAAHAwUNBQILBgkPAQUEBBINBgIFBQEDAgQHDgQDAwUHBAcGBwMICAoKAQsCBAIICgAJDQcKAwgTCAsJAwQJDg8LBQUJCAMGAg0FBwUPCggACxABBgcGAgMLBwIEAQMCAQUFBAEDFAkMBAMCAwUBAQEHBAYHCAYFCwoAAQYCCgoKBAgMBgMDCQMIBgYFBQIGAwEEAwoKAwQEAAYJAAIEAggOAQEIAQIDAAMIAgAAEQMECQYFDAgFCQQJCwkICAUJAQQGBwIBBQcJBBQHBgYFBAYJBQYHDQsDBA0KCw4FBgQIBgwEAAgMBgAHAgYEAwMEAgMBBA4NBQUHDQwMDAsMCQgCBAEJBwELCgIBBQ8CBQwGGAgCAwQMAgoDAw4MAhIEAgMEAgIICwkCAw8CBQYFCQECBgYKCAQDCAERAAMBBgIEAQIZAwYJBwYDBQcSAAYDAgEPEQUSAwIICwcHAwQCBwMLBwICCgQEBgUCBQQCCg4DAQoEAQEBAQEBAgIAAQQNBAMHCgEDAAUCAwkMBg0PAQQCBAwKDAwBDA0DCwUEBAUMCQ0IAgsABQQTAwcICQUGBAYIEAIDAQMDAAMMAAQFAwMHBAQIBgUGAwIEAgQEAQoUAAQDCggCFAEHAwMFAgACAgMCBAcDAQUCBQUEBgcHCwIDAQkBCgYIAgEDEAEDCwUFAAICBwUNEggIBQYGBQkGBQ4LAwMACQwAAAYKAAgLAgQDAgUBAwEAAggGFAgDAAQEBQECBwQBBwgKCQAHBgUGAQkCBwgCDQQEAwIDAwECBgUJBQsEAwMBBgIFBAgFDQkJCQUCDQgPDAQCBA8HBwMHAwICBwIDBAMEBQkIBAMLAwsFBgEFBQUEBgIBBQAKAgkEAQgSCRUBCAYABgsJCw0IBAkACAgAAg0IDwoJBgMJCAcACAUCEQoIBAIKBREPDw0GBAUGAggEBQYGCAIIBQUABAQBCAYLCgQJBQ0QBAsEBwwEBQQKBAMCCAIHAQQCAwIBCgcDCwUDDggJAwYDCAMGCwEGBwcEAwYBAAkGAQcNAxEMAQADAQ0CAgYFAwsFBAYDAgMPBQoKCwQEBAIABAMBCgcIBAENCgUCAQoNAQcADgsBDw4GCAUGBAcHBAUDBQ4CAgcJBAMEAwACAQYACwIGEwEFBwQEAAQEBwkJAwcEDgAAAgADBAsNAAgHBQIEDQYMBwQEAAcBBBgEAQkSCQMGAwAGDQUECQkPCAcKCAoBABgFBAAIDQICBQMCAwQFAw8CDQQCDBEDCQUEBAAFDQgVCQEECAYRBAkRCQUEEBUBCQMCEAIMCQYFBAIBAg0BCwMDAA8BAQUJDg4DBgYNAQUJCgQQAQcGAwYJAQcUDQkGCAULCAMIAAUFAgYKAwkKAwoRAx0GDQYJCQMBAwIEDQcGDwQFCQoGAgUIAgIIAAEAAQINBQMBBQYAAAIBBwYJCAAAAgIBAQoGAwUNDgUUBwMDAwQFCAAAAQECBgsOAgADAQIFBAYHBwcIAgIIBwMBAgEAAQ0FEQsJBgUEAwMFDgMHBAQCBQYAAgQGAgAQCAIFCgEEAwEGFAsGBQQCCgQEAgUQBgcMCAQJAgMJAwYJAwEDBAEADwIACwUEBAIFBQkMAwYGAQICAQIDAggHBAoHAgQCBgEBAQEMBQMOCwAGBgQDAxYIBA4JCBMWCwAABAcDCQEGCQsTBg8ICAUGBQYEBAUKBgYFAgAECAUJCQcDCQUKDxMQDgkHAwUFBAcBBAIBBwcLGA8HAQYHCQgCAwYCAwIECggJBAEHAwMDCwoHCgoGEAsCAgUUDAQKFgkJCgUCCRMDAAQNFAUFAxQICAYFCgUHBQYCBAUCBwkFCQISCwYICwcPBQwMBgIMBQMRCAgGAwQKCAEDAQEBAwYCBQcVBwsQBgQIBAECAgIEAw4KAg4ICwMEAAYJCgINDw0FBgMKBAcBBgkIAwgQCQEHBQkEAgEACQsLCAIHBwMDCAcICggCBQYPBAYFFAkGBQYGAgENBgIEBBUBAQ8PBwgBBQQIBgsEEwIFBgQEAQMCCgIBDhEMAgUOCgYFDAYDAQIDBAEDAgEHAwUDCQoCAQUBBgULEA4KAgQFBQsJBwULCAQNBAoFBQcGBwYCCgICAQkHCwYEAQUGAQkNAQcDBAECAwMDAQAAAAUOAQAJBgAJBQwBCAYFAwIAAAABAQABCQEPFQMFBAIJAwACCRMLAgMFCAUOAwYHCAoJBAsGCAkKCQQTCwABAAIABQMEAgECAQUGBAoGBQYJCQ4HAwIBAQEAAAwHAwgGFQcFARMPDwMMBg4SBggPFgMLBgkNAwYJBAsLAg4DBwYNEgENBAUDBwAFAgQBAgwBCggDAAABAgQEBQQFBhQGAgEIGAkHBAMDBQMBAgMIAQwQDgMCBwMIFgUOCAkFBwsIAggFAwIFAwUICgQDBQQAAAACAQIBAgEFBgkHCAYCCwYJDwYAAQYCAAUBAAYEBgUJCBAKBwoMCAMQAwcDAgMHBA4EBAMHBQMEDgEBAQIAAQwDAwYIAwEFBAQEEA0BBgoJBgoIBwMDCgIGAAQJAwMDBg8DAgQABAMGCwIIAAQFAQAICgIFBAYBAAMJCAYEAAwFBgMCAAkTBwUDBgQCABUEDQkFCAUGBQUCAgUHCAYIAgUEBAYEAQgAAAQJBwMDBQ0HBQ8HBAUECxYECAoGCQcDAgYDAwQEBgMCBwYABgoDBQMCAwEBBgMLBwICAQIEAwAEBgIFAwIBCQwLCQQIBwcDCwICAgACAQYCAwIEEQULDQQMBgUHCA4GEwMJBAgLBwEFBwQEDQUEBwgDBQIEBAMIAQoDEgISBgUEAgINCwMEAgcFBAECDAMJAQYIAgQDAQkMAQkDBwgNBwIEAwYBAwUDBgMCBQYKBQQNBgcKBAkKAQULAgUIBgMKCQMDDAsFCA0EAQUEBwMIChMGAwEMBgIDFgkHBAQLAAYEBQsEAwcFAAcCAgEDCAUKAgIGAwMCBwEFCgYCChMBBAUHBQEEAgELAxQEFwYBBAQAAQMAAQUABwEQBQkCBwEIBAwIAhMBAQMBBwQGBggSBgQGBgkLBQsEBQoDBgYFEg4EBQUGAgQGEwkECggMAwMEBAcJBAcIDgkRCQEBBwcCCwgCAQoDBQsJEgMLCgEFBgECAQgUBgcNCwICAgMACQ0IBwcCDAIHAwIYAwMHAwoGBgYDCQ8PEA4GCQgDBgwLBQwNCQAKBAUEAgMKCQgTBwcAAQUBAgQFBAIHCQQDDAEDBgYLCgICAwcCBg0QBAIJCQUGBAoMCgYIAgkGBwUCAgEBAgQNAQIEAgUEBQEHAQMFBwUDCgEOBgcGAgIFAgMBAAEHBAQJCAoFAQUCAgoFAAENAwIAAgkMAQQDBwgGAgUBAQAABQYBBQACEQQABgAFAAACBgkLAgYEBQMDBAcHCAQDAQkEBwcLDgcJDAIWCwMBDgMKBgoEAwIABwkSCAQCAAMCAgIFBhEHAgEGCwgHBQQFAgYBBQUDCgkHBggBDQwDBwIBCwMCBwkIAgYFAgACAgQHAgUAAw0ECQgICQMGBREKCAMCAQcGBAIGDBUGCAIBBgIEDAABAQIABAQCAgITBQgCBAsIAgMBCQgDBwgCAAoBBAoCBQYCDQgPEgIICwAIDBEJBAQGAQEAAAIIAwYEAQIBAQECAg0DAQILBQMIAQYKDAAKAAEDAQIICQkFBhEIBAwABAoBABAOCwEOBgoGBQUDCQUHDAcBBgcDAgsDAwQMCwsHCAIJDAQFBQECAQQBCQEOAgMJCBMJBQIDAQgDAAABAAIGBw0IAwsFAQIBCRcKCAEOBhAKCgUNAwsCAAEFBQMBDQIBBAUEAhEBBAICBgcCBAMEAA8BBwQKAwkKAQMBBQcAAQYCAQECBggOBgwJBwYIEQgDCQEDAAsABgYPFAUJBgMGBgIMAgEBAAIECQQMBQoJCAIFBAcGBw4GBA8NBgEOCQQDAQECAgELAwIAAQUIDgMDDgcGBAQBAgMDBQEHBAIGAAkICAYHDwUCBQEBAwIAAAMBAQEHCgoGAwQJAQUHCAINAwgDAwIIAAMKEQUIEQoRBwUDCg4ECQIDAQUECgsCBxIFCwECAAQGAwkFCQEEBQUJBAYOBAIFAQACBQgKCQMHBgIABQUAFwQCAQIBAQECDAIECAACAwICBwkECwQIBw0OCQUDAgkFDwUMCAMBBQQAAQkJEg8DAgcJAwQEAwMBBQULAAUCBwUEAwUFCQQGBAIDAgEBCQYEDgUHCQUKBwcEAwEDAgUAAQgJBw0LBgsHBQUEAgUHAQMEBgICAgwDDQQRAwkIAwAQBwUHBgIMDgMEAAMEBwQGCAYKBxIGBAEDBg8RCAEMAxcDBwEABAMBCQgCDAEFCQYCBAcCAAsABAUBCQgDAgUPAQICAAMBCAYBCg0CAgUKAwsIBQoEBgUNEAoFBQgIAgYEAwQFAwUDCggBBAEBAAMCBQYKCwYFBQcBAwIJBAgFDw4EBAcDCQQBAgMEEQIFAQQBDA8GBgUBBwgEAgEHAwcOBAMIAgQGAQUFBQMHBwEIAQYBAQkBCQcGBwEQAwEKBAMKAgQKBxEBCAMBAwMFCQMHBgUBDgwKBgIECgMMCAEFAwwCAwUDAgsMCgECBAkHAgMBAgICAAAECwIBAwYBAw4IAAUCBAcLAggGDAQFFAMGBgMGCQUEBgQCAwgHCwICBAgEARALBwAEAwIPAwsIBA4EBAgOAgEIDgsIBAYGDgkGAwgKBwYCAgYHBwIDDAQKAQoICQwDCQQEBQMHAwYGBwsFAAIFAQULBAkGAQwJAwcGBQQMAwgBBQUEAwAGCAQGAgAGBQUBBwAPCAcCBwIRCA0IDwgCAgIMCAMDCgYKBQYEAQMBAAEKBgUFBAUGCQIDBgkGDgMDAQEAAQMICAMCGQYGBAMBCgsOCAMHBAMBAw8MDgQDDQQGCwUKBAgDCgwJAgMGBQwDBgUKAgIDFQoGBgQBAwMJAgQTBgUHDQYJDwQIEAYFAQQSCgMECAgLDwMEAxIJBQUJCAUFDgsUAggJBAYHBwcHAwQCAwcIBAcDBAIBAQ4KBQYABgMEAgULBxAFBw4BEg0HAQAEBQQJBQwGAgIKCgcOAgUQBwMBAgQCAAAHBgUFAAgDDAELBAoIBBALBQcLCxEJBAUEBAwFAwENBQMGAgIBAQQGAwgLCggAAwcBBBYDAwMCBAcKCAACAQMFBgUFAQgHAwkCBQsHDQUHBwMJBg4KAgQGAgoCBAEBAQIBAAMHCQkEAAEAAgUDCQMKAAEIFQAEBAQBBAQGAwwDDA8CBQYHBAYCDAYNBgUHAQECBgQEBgYEAgoMDwYGAwIJBAMEAwkJBwcMDAERBAQAAAMDBAMRBQwFAgMKBQkRBQsDBBkOAQALBAoFAwMJEQQMBAYNCRMFDw0BBQcFDgMDBAMEBQMBDAwHBwcIEAcRAQEBBQgDAw4FAggFCAoFBQsEEwcICAIMAgQBAgQBAgYLAQcEAwIDBQEDAgIAAA0JBQIABQgHAggKCwgSDAQHBQYHFQcCCgIBBxoGDQQDBgwEAQECAwICBwEICgQKBAIHBAUFCQMJCAcHCQMOBwoJEgUCAQUUDgUHCgoFCwIKBAYFAwMFAgYCCQMCAgIGBwcCBgYQBggICAkGAggOBwwKCBIGCQsGAQcFAgEKCwgDCwQEDg4GCgMBAgAKCQYEDAADCAcHBQIKDwcEDwMDBgICAQQFAwUOAwwABgEEAQQFCAAGAQ4MBQgGCgMHBAgCAgEHAQMACAAFAwwIBQcFFBMEBgoKEAMLAQQIAgEBCgMKBQEHAwYMAQYQBAAOAwUFBwgEAQAECwMGCQkPCQECAgIHBgcHAAQBAwMABwoSAQMIAQEKBwEHCQ4ICAEABgIGBQUGCQUEAQoACgUDAgECBhAOBAMCBQcHEAIGCwQEBQcECAQIAwcBCQUFAAMDAAAADAQLAwYPBgkCCQMEBwgJBwQCAgIIAwYQCAYDEhMDBQUCCwECAwoEEwoCCAQCAwUCAAEEBggKBQgRAwMFAQYFBAMFBgYECQQKBwkEAQEGAwYCAwoOCAkTGgkBEAIQAwMDCBkOBwEFCwoECQMHCAIEAAoDAw4GBgEDAQ0PCAUDDA0EBgQCBRIICAQLBQIBCREBBhUMDAgAAgEBBgEJBgIEAgUDBgMBBQkBCREEBwkFCwQFBAQACgYJBAQMEQQKBAQEBQ8JBQUIAgQFDQwHDAIBAwUDDgQCAQYFBQIEAQwKBwwPAgIDBQcAAAQDAwcOBhICAwQGBwYFBxACBgwFBAcQDAUDAwUFBwoCEQUGBAgEBw0JAAwCDQsGAwcJCAILBQoBCBADBQUCCwMCAAIBDgIIBAQCAwMCAAMEAwABCwkGBQgCAAgEAwQBAwACBg8GAggQCwcHBgcOCAkHBwECAwMSAwEJDgMBAgMCAwIGBgMEBwQDAgMIBwIIAwECAgIDBAYBBgoUBwcHBQIIBQYBAAEDAQQPBwgIBQUMAwIGAQMCBgoSBgYFEAMHBgIBBwcGBgwECgwEBgwKCQMKAgoDBAAABQICBgEBBQINBgUJAgcGBwcQAQYCBAcMBBEFCQQODQwDAgYKBgQMCwMPCAgHAQMEBQMEBwIIAxACDQUMAgMEBAIADAoVCgsIAwIHCQkGAQYDBAQBBQQBBwEDCAQNDQcMCAIJBgkLBAUJDAADAAAHCAYACgsECQECAQMIBAQBAQQECggGBwUHBAIKBwwUBQQFBAUDBQYLAQ0ECQQKAwkBAwICAQcECQUJAQYDBgILBQQFFAcHBAMIBAgHCAAFBwEKBwcDBQcHBgILCAYFBQEEAQQLCAkCAQUGAgMDBggECQYGAw0CDQYJCgIJBQgHAQQEBQQDAAUDBQIAAgIEAgMEAwcEAw8DAAgAAwECAQgFDQEEBwYJCwkBBQUOAxMHAAUJAQ8FBwEAAQ8GAgEGCQwBAQMCBQ8BAgICAQcFAQEDCAgKCQUJCQsDCAkGEQUBAwENAxEECAkCAgMICQYHCQsBBAMMAQcFAwUEBgQHAwICAgERBwgFAwkFAwMLBQIDAgAEAgMJAQcJBAILAQEBAQcGDQMFBgoHBAUIAgQCBAQLBQQMDQYCBAUGDwkDCwAFBAYIDAICBgAGBAgMCQQHDAYDCgkSAwIJBgkDCwoABQMJBQUHBgoABAMIBgQGCAoBAxcMBAMEAwEAAAAJAwMCDw4QCAkIBQoPAwwKCwYPAQcDBQEDAQoGAgQSBggBAwUCBA4HCQYNDQENDggBBAIKBQIJAwcHCgoMFAMFBwoICQsDAQIDAgEDBQYGBQoMBgQCAw8JBQUDBQECAAQIAAMBBA0JAgoVAxIBBwYJAgMECgILCQgAAgQFBAsKBQ0HBQMHAgwAAQYEAgEMAgcEAQoPAgMDAQkGAgMIBAIGAAECAQEFAAkEAQULBwQHDAYAAgMFBg0CBAQCAgIBDA0IAgIFBgoGAgMCAgEBBhAKBgsBEQYLBAEBAQABBAULAgECAgMABQ0DCQQADwIJAgIEBQ8EAQ4IEQgDDgUMDgcFAAQBAAUEAQIIAAMBAAIFAAIJAAYIBAQCAwYTAQEJAwwJAggVBQgGDQsEAwQDBAMCAQoIBwsDAgEEBQEEDQUBAgUIBQkHAwUFBQMDAAEAAAEFDQYGDxUNBAgCBwMBAgMDCwsDAwEEAQUCCwgNCgkDCgkMAQcCCAYDAwYEAhMJAwYIAwgDCwYDBAMJBAUEDAUCDwkEDggFAQIFAwsEDAQLBwABAAQEBAYJBQoHDwAGBgUJBhUHAQIDDQoECwwCCgYUCwYHBBMLDwQCCQcCCAUDAQQKBQECAwYDBgsGBAIICAEFAgICAwoFCQkUCwoHBAQDBQkLAwYGBAYHAQQCCgEHBQwIBAMNCgYFAwYFBAMBDAQHBgMGDgoMBAAEAgACBwMDBgIHAQsAAQQDBgEEBQEJCwEBAwgFEgUEAwoFEAMEBgMMAQIBBQYKDQ4CDQEDDwgDAgcEAwgVBQsGBAUEAwoAEQgBBQUECgIFAAMBAAcEBgQMCQYKAwoBAwcJBggVAQoMCAUFDQMGDQoJBAMCBQQFCQcGCAIHCgUEBAAOCAUDAAABAgUDBgUBBA0FBAMFCQMGDQQDBQoCCQYGBQQDAAIAAAIGEAMSAQ8HAwMGCAkBAgAFCgIIBgIECAEGAgUKDAMCCAwBBAQABQECAgACBQELCQQHCAEDAgIFDwICBAMGDQkLAQIFBwABDQcJBAsDAQEDAwMICQQFCggMBA4CEwgEBgsSAhEDBQgKCAQGCQQIAxELCgIBDwYEAgcFEQUaBhESFwMGCgACAQMSCQkIAwcDAw0HCg4LAwIDAQUAAAUJBAYFEQIBAgkIAwQEAgkEBwcEAgYDBAYDCAwCBAUBBwUEDgQHCAQJAAQDAgQBBQEIBw0JBgMJAgIGAAwMBAIIAQQKAgYLCQQJBQUJCAoBAgoRBgIGAwMEAwgLCwcTBQcKAgANBQUABAsGAgcFBwoGCQkDCAgEBQEFCAACAQEBAQAJBAYFCAMAAwYDAwkLAwEBCwYCAQwHDgIACAYGFwoMEQcRCwEGCAMICgYNAwMDAwMAAAQJAwwHDRMHCQQGCAgKBgIGBwgBDgIFAQUFCAAFAwEHBAMMAgMFBQcHCgYNEAsOEgcNBQkIDQUBBQUCAwoEAQMNDg4FBQIDBgUFCwEEBAYLCAYEBwEHCgMBBQIFAgMAAQQDAwQBBAEDAAUEBAUFBgkIAQQDAgoKCwAJAQoDAg8JBgMFBAMMEwEEAwgJBAIGAQEFAhACBQQBAAAACBQFAgAHAwMBAAQCAgAAAwsHAQMEBwUFBQIJBgQBCAoMCQcJCAIFBQYDBggHAwQEAAAJCAQBAgwBAgMFCgsGBQQCEgwDAQYJCwQABgMCCAoHCgIFCAICAwUBCAkIBQADAAEBABAaDwYDEAwRCQsMBQ4BBw8FBRACCwEAAwAWBAMDAgEBAQAEBAkHAwYABQAFAQoIAwUHAQgBBwQIEQQJAgIBAgEABwYGDAkGAgoEFAsNDAgDBg0NBQYECQ0FBgQDBBAFAwEFAgMEBgsKAwIBAAIBBgMCBwUKBgMEDgADBgIBDRAABgQKAwoDCQMCBAUFCQMJAQkIHAAJAwUQChEKCAUBCgEBAgIEBAkRBwMBAQMECQAAAAAAAQMKBQcTBQwLEAYGBQoEFwoDBwYFAgYEAAMFCQ0IAwcHAgQAEAkDCQIFBBcGBQIBAgYBBgcDAwIAAQEAAAUPCw8NAgUDAwMLDQ4DAwcKBgMBCAQBBgUQCQcDBAQWCgQJAg8NAwoXBQgJCAEBAQACCQgNCQ0FAgMBAgwEAQMGAwcHAwEBEAYJCQAHCQEEBQYECQQFAQIBAwIEAwQECQUVAgULBwYLAgcGGhMNBg8TBQsFAgMHBwgIAwMHFAoEAAQIBwoBAwUKBgkPCAYCAgYIAgYJBQkPBQQSBgIABQkKBQUCAgELAgoTAgACAQIJAwUNBhYFCQkEBAcDAQUBEQUEBAQKAgIGBAECAggCCQQFBgEGBgQBAwIKAwISCQMCBQIQCwICCQMDAQAHBgIICwECEAcAAAQDBQQLBh8KDA4LBwMFBw8FBgYHAQgJBgMDAAEDBQgBAA0ICAURDgcOBAYBBQYCAwMDAwYIAQgABAQEBAEICQQCAwgEAQIJAgMEBgAKCwIJAgYKBgoQBAcEEgsFBgQCBAIDAAQHCwIABwMEAQAPBQYDAgoECAQDCxIHBhEDBAIDBQkCCwIEAwICAQgLDAsDAAQFChADAgMBAQEHAAoEAQMICwICAQMCAQADAgYDBgMQBgUIBBAKBAEJCQoCBwQMDAUIAwQFBAMMBQgEAgACAgACCgMEAwIDCQQEAQ4LCgUAAwEFAQoJDAQDBAYGBwEECQcEDAANEAYEAwkGCAEFEAMBDQgDCQUJBg4OBQUKBQ4DBQAPBAgOCw8LBQYBAA8JBQgEBgEHAQMCBAQBEg0DBAQGBggDDQYFAgADDwgIBAUFAwcEAgMQDgIEBgQCBQcFAwMDBgkFBQQEAQIEAQABCQIJAgEBEwcDAQACAQIDAhAEBgEEBwIABhAEBAUCBQoCAAYNAwQDBwYLBQUECgQFAgcFAwEGBwMLBwIHEAYFBAUFAgQECgQJCQENAwMHBQoGCBUHAAICAQQBDQcGAgUDCgYCAQQBBAMAAAAAAAYCCAoEBgcDCAMFDQIBAwYFBgICFAYCAgILBggGBwIJBgYIAgUDAwMJCgEEAgQEAgoCBAkDBQEEAgoGAQ8LBQUDAwUIAwcBAwICBAMEDA4CAQEEAwUABQEBBAYHBgAFAQMDBAIPBwMHCwkIBQQEBwUIAQ0NAgYOAwwHCAMHAgsFAQQDCgcKAw8CBQcDAAoEBQQDAgMBAwwLEQUCAwQBBQEEBgsJAgoMBgQEEAgKBggHBwgCBwUHCQMIAQMDBAMGBwQLCAgBBgACCgkBAgMEAQABAw8NBAUECgkHBwwIBQQSBAQNBQ0EAgkKBQUDCwECAwMJEAMCBAUCAQAJCAUEBQQFEgICDQgPBQgEAwMACgIDEwMGAgEICwYJDAIFBQAPCAkEBQIEAQ4FBgwFBQULCQYCAgUDAgEPEAQDAA0BBAIMCwMFAwoICwoEDQUVDQMMAgQDAAQMBAYCBAQDBAQEDQEDCgMPDQIEDRMNBAQFAQQDAgIDBwoBBAEFBAEGCQ0HAwYHBwUOAAoHBgMRBQcDBAADBgkEDgMEBBAFAhcGBwIDBwQDBAYEAgcJAAACBAIECAgHCAYLBwIBAAECAQILEhMTDAkXDAUJCwMKBgUABQUCBAgBCAsHAQEFBgQGBQcJBg4FCAsFAwUBBAIEBQ8HCAkEAwgDBgQBAQINDgwECwgEAgYSAwMGAwYGBAMLBQQMCwUECQwDBQIKBggCCAkBBAUDAwcNBAoFBwECBAwCBgEIAAUFAAIHAgYQBgEBCAcDAQQBAgQBDAIDBQQJEAIGBgQBBgIEBAUBAgICBQsDBhALAggCBgICAwEBBQoFAgQCDAcBAgITCwECAxQCBAwJBAYGCwQHCAUNAQEDBQ4BCgUCAw8CAAIEBAQACwYGCAUFCQEFAgcIAwIDBwgGCQYCBgkPAwUDAwACBwkKBgUGBQEHAwgJBwcCAgEABQUGCQMDAAMRAhAKAxYHBQIEBgcEAwwFCgUBAggHBwcCEAwEBwMFCAkDDhEIBgcPDQQGBAgKAwgHEAcFCQgFBQcDAAcKAQcGBgkIBAIPBwMFBQcIEQcHBAoHAQcEAgADBwoMBBEFDwMGBwcGEAcHBwUECgMUDQMECAUFAAQBAAsDBRQGChADBQMNBwUFCQULBwMBAwIAAAMOEQYDAQQDAQAABgIPAQQHBQECAQMCBAIAAwMKAwUBCgQEBAoDAQoCBw8DBRABAgQDAwEBAwIECgcHAwoDDQMGBAABAAEEARIIBQQFBwMFAQkGCAYBBgAFAgMGCAoCCQULAgYDAwAMBgsDAQQIBQgEFgQBBgIOBwcDCAUDAwUDAAEBBAoGCggKAAMFAw0HCgUKBxICBgIECAwFBQMHAgICAAUAAQoCBAcQAgADCgEEDgQHAgIEBgMCDgMGAQUFCA8TBAkAAwIFAwwKCwEDCQcGFgcBCAQJAAkLBQMHCQoIBAYAAAYABQkGCAkICgUGCAYBBAQFBAgLBgUEAgQEBQwCAQMDAwoFBQoDAhINCAMNBwgDDQkEAgkHDAgJAQQEBAUBAgcCAQIDDAMGBAMEAQIIAQEAAwEBAA4GBQQGBAMBAwEBAQEDDQkCBAUICQ0BBQcCBwMGAggJBgUFBAwDAgYCAwAEBAMDAAIJBgUDAQ0LDgcGAQAAAAUNAgYHBQwHBgAFDAUEAQQRAgQDBwsEBAEDCAgDAw4YFwQGCg0HCQAFEgUGAQMDCAEEAAoHBgUDCwgBAgEGDQMEBgEEBwUGBQECBAEBBhQCBwMDAwcEBAUKAQYTBgMEBAcGAgEGBQECAgAABwQGBwYREgUCAgIOBQYEBggLAwAFBQgEAQwIBQUBAQEBAwMFBgIGCBIECgMFBQEGAAQGCAQTFAECBwYBBQECAgIDCAcQBgMGBQcCDAsGBAoHAwQJBgIEAQEFEAkFBgwKCwcDBQYIAwIJBQsCBwYHBw0EBgIFBQIFEQkGHAsUHQ0HBAcICAMEEg4IBAADAwADAAMFDAQHAAsTBQYNAREGAgMBBQIBAQgFCAAHAgYBBAAGCAEBAwIHBwEOAgwCEgkPBgYFAgMEBQMHCgsDAwYCBAADBwMEDQMFBQQBCg4CDQMCAwMJAwAEAQUACAYEBAsJAwMFBQEDAQACBwoEBAUFAAAJCQMDBQADBAEEBhEDAgYAAQsBCAYCCgAFAwYBBQECAAgIAwIDAQIABgMEBAcLAQABAgIBEgMNBAMHAgQGDgcECgUDAgMDAQEEAwIHAgwFBgQCCgICDwoICwEBBgwOCAYGBwEBCQMEAwMBAg0EBAoHCAUPDQMDBAQIBQYEAQEBDAYBBQQBAQAFCwMDEwABCgELBAICCAMBCwYHDQQMBgMDAQgABQECAgoHBwYEAgIJCAYJAQsQBAUHDgEDAgMDAAYGBgQCAwEBAgEBCwwDCAICAwYBAAcBCwUGDQgICQwGEAUGDQMIBAMGAwMDAQQEDQQCDAgDBAMDCAsHCwMMBAgECAYFAQEAAgAICggGBgQECgMEBQIBEAcHBgQKDAUFFAELAQkDBgkGAwIHEgEBBQgDEQ0DCgUDBQsDCAIFCwgLBwEJAwQBAgMAAAAAAAQIAwIEBQQFAAUDBwwEAgcHAwMJCwMCAgsFAQEAAQkEAwMABA0GBgIFAQsEAAQTAgsJBQYSBAQDAgUHAgQBDAsDCAgFBgoLAwIFAwAFCgMFAgkFCAMBAQQCAgIFAgUDAwcBBQQMAwYDCAUCBgIAAxAHCAQMAQYCAwYRBgcGChMDBQYKBQQOAQcGEAYIAwUJCAsDCgMFCwUECgcKAgQDAwMHDAQFBAoLAwUBAAEABAULAAgBBAILAwEDAAMACgEIBQcCBAgDBgoJAAICAQEKBwUDAwUCAwQGAgwJCQAXAAgHBAsFDgMGAAEAAAELAQYEBAYHDAcJDQgPAQcECQQDBREFBgkQBAYFCA0GBgYBBAkFAQUCAQEFAgQEAgMDAQcWBgYGCgUaAwMHBwYDBQoGBwkHBgIIDwQDBwMGCQECCQAAEQcEAgcNBgMDDAAAAAUEAQ4IDAgNBQIFBgUCBAEDBgcGBgQXAg0NBAQBBAYFAw8GAw0DCwcEBBQPBAICDAcGAgULDgcECQcMBgIFAgcGAwUHAgIEAQQDEAEABAMDCwIEEQUUDgUJBAQDEQ4HEwUIBgoDBgIDAQIBAAYGAAkLCQcFAwQFAwYAAAIAAgQDCAUJBQIEBQICDgAKCAMEAwYEAQQGCgUDAQEAAAEMBg0HCw8EGQgFBQQLDQMUBw0GAgkODQcMCwUHAwUIAQYIBAQCAQAFBgIEBAELCwECBQQGAgUDCAwKAwQSCAgGAwgCCgcQAQEAAQACAQkDBwMEBwQNBAkEAQgBAwAMBQ8FBQYNBgMNAwIDAgIBAhAEAgQIBwIAAwAFAwMCAQgXCgQDAQICAQIMBAYIAwQIBAMJBwwFBAsDBQcJCAQBBQYBBQ8ECQcCAQAEAQYLCggECQICBAYKCAYAAQIHBQAECg4NAgwDBAcDDAkIAgQHDw4IBAYEAQIFBBEDCwECCAYMCAECBAACAQsNBgMIAQIDAwACAwQAAwIGAw0KCw0KAwYKBwcEBwYOAgUAAQcDAwUJEgEGBgIJAgYJBgkFCAsFBQQEBAYCCgoEAQQDAwEKEwUHCA0FBAQEAwUCBQMLBggGAwoDDQcLDw0MCQECAQMABAUFCAcHAQABAgABAwYHBgABBAMDAgUMDAQNAg4CAwIFAgMCBg4DCAECAwQGBwMAAQAABAUEAwYDBAMCBQcMBQcGCwgRDQ8IDhQICAYEAwsDAgMBAAACCAUEAAsFDQYCBwYGAwYBAAEKAAMHAwEDBQwKAQkOBQwOCAQCBwUICAUECwEIBgkGBgkEAgEBCwQEBwMCBQQIBgMCAwgQAwMFBQIHAwkIAAIFAgMAAgsCAQgKBA0DCQIIAgYBAQQCAQIDDAQGDQIAAwkBAQADAQIFAQcHAQMFAQICAQMEAAIEDAcDCgIEBQEIAgICAAEDAwgGCAIDAQ8FAQEBAAIGBAEBAQgCDAkFAgIDCQUGEwcEBAEBAgEBAwMCBQoFBwwDAwkGCQYGDw0HBAMFCQUECQEDAgIKBQQDCwQMBwMJBwcGCAMEAAABAQADAgUCAQIPCAMDAQYBAgQMAggIAQoMAQgAAQAFAgoFAgsBBQcHEAQFBggEBQQDBggEAQMBAAUBAgMJBQMSDAIHCAoFDwcEBQQMDgMHCQMNAgoMDgEIDQYPBAYDBAYGBAsMBAYICQUFCwMSBw4CAwQAAQQEDwIHAQMFDQcFBwICEAAEAwEAAgAIDwIJABMGAQUEBQcGBwIAAgMBAwIIAw4DCwcCAwIDBAgBAwgABQECBQYQBQgDCQMIBQYCAgIBEAILFgEVBAIIAgMCAgACBAcGBgcNCAoGCwUJCAIDEAYDBQoHCgINBwAEAgEBAQoEBgkMCQMEAQMECAcDBwECAwEHCgcFAgMMBAkGBAMFBAAKBQYFAwQACAQFAwMDAwACAg0EEQQJCBAIAwIHBAMDBggFCAUFAwIBBgMGBQgOAgIDAggEDRcLBgcCCAAIAwkNCA4MBgUBAQILCQIBAgEAAwMDAQADBggKAwMDCgUPBAICBwEADgEDAwsEAQEAAAIHDAICBQUFCwYLBwQDAgIAAQEAAwoJBwEAAQIDAgQJBAQEBwUGAgIDCwUGCAICAAABBwQJDgYCAwEBBQcDAwAGFgUHBgcDCgECAxQJAQQIBggIAgcCAwYAAwUPAgcGEAYJBQQFAwYSAQIABQUEEwMEAQkEBgkEBAoECQYDAQIBBAMMAwIFAwIDBgACCQMDFgIGBAcDAwQPEAMABQgBAwMEBQIBAAoJAgEDAwoBBAcBCQcEBQIJBQoMAQUGAAQCAQAABRIBCgAGBwkCAQUFAQIBAgUIBwEGBQoBEwIBAQEDAgcDBAkECQMBAAMGCQUDBAYFCgIHCAgFAgUHCQcICAUHDQIFEAUMCgUGAgwKDgQCAAQABBAMBAcHBgwFBQcIAwACAQMDBAANCQkEAwADCAYCDQ4DBgMCAgIAAAMECwoFBAIJBA4ABgMAAAIDBAEAAAgGBwUKBQERBAoCAAQDDgYDAwQBBAMABRABCQgGAwoJBBIEBAQGAwsGBgQDEAoGAgIDCQcBAwUKBgQDBQICAgMICggEDwMCBgIFDwAEBwUGCgMKAgEFAQcBCAkEAQoCBgIEAQUFCgUKAwkCAQECAQABAQIDCwgBDgIOBQUACgYBBAkJCgECBAUNBQQJDBMFBwIEAgAGCA0LBgMFEQwFAwMLDAkLAwYEBwIHBgIIBQYFCAcKAwACAQAFAgYHAggDBAUJAwYNAgUECgUCBAUGAAIBChERBgkGBQ8EDgIGCggPAwAAAgQGEwwMDwABAAAABQUMBgoDEAUCBQICBAECBQ8IBAMMAgUBDwYLEAQUBQMBBA8BAQMBAQYKAwEBAQoFBAYQBAcEBAoBAgUEAAIBAAIEDQ4DBwQGCAcKDgIDBAkFAwEGAQgACQYABQkKBQIDBQkDCQIDAQICBQ0EAxIBAwADAwEBAAEDCQoFAQMCAwEEAgYCCAYGAxACBAIOCQQDAwUEAQMBAwEEDQUABgECAA8DBAEFAwEEBQMKBAUIBwEGCwQGAAEAAgMLCwUKBwMEBAUDCwgCDwgBAAQEAggDAgsKDAEOCgsJBQwEBAIKAAoYDQUGAQEABAIBAwAXCwkJBg8RDgcGBQ0HBAQFAwEAAgYFAgQAAQEBAwUDAwoGCQgQAwYEBwMCDQgBCgMIBggEAgAEBA4GAQcLBQIDAggHAwQAAwEDCAMEBQIGAQEFAwQDAgcMAgUAAwcCBAQCBxAQAQUCAQMCAgEBBgkCBAkDBAQCAwIBAAcCAwoBCgQDBQQCAwYCEBEHDQMNAwMDDQULBAsFAQILCQIDAgYPAwUBAgIBAAECDAgIBA0OAggHBQMAAwEDCwENDAcFAgIHBAQFAQUICAQLBgQBBQMAAw0NAQUBBQUGAgIHBQgCCgMGAAEDAAMBCQAEDAgHBAQJAgUABQsGBAYDBwIGBAoHAQsCAgMCAQELBgUDBQEEBwUCAgACAwAAAgIHBQIDBgUCEQMFBgwEBwUEAQQFEAEEBg4HBgQQAwEGAQQDBwUBAAEBAAADCAUABAgHCAgDAwICCAIHBwYJAQwRDAAKCRIOBwIGBwYCAwYBAgQDBAsBCQYJAxABAAECAQEDBAQGDAQIAgICAgIABAIDBgkMCwMJBAYCCQsKDAoGBwwICgEEAgQFAwYEAgUBBQwQAwEDCwwGAwEDAgcIAQoCCwYLAQEJAwMHGQYGDQEGAhEKDgoFBAQDCQUFAgMIBAECAxAFDQQJCwMOEAIHBQcOCwUECQEOAgEBBQUHAwEHCAQEBAUCCQgPAgUIBAYCDQcEAgcLAxUCAAcAAgACCA8ICQ8NEQYGFgMMBwQHBwcMCQEDAQMCDw0JCQUFAgYBAhQFBAQKBgsKAgcLAw0CCgQNBQIBDAYBCQwFBgMCAAcLBQIEDgUCBQMGBAYFAgYKBgQNBQMEBAYOCQIDAwABBAQACwQBBQMGDQQKBQIHBggIAgIGAgEGEQUDBAoJAgQEBQMCAwQEAgoBBQgHDwsLCQEICwQIBwUBCgIBBAADCAUIAwUEAwcAAgwEAwQCAwcIBgQGBgICAgIEAQgDDgcGAQgDAQcBAwcFBQkDAwUFAQYIDAYDBgUGDg0GAAQCAgIBBgMaCgQEBQIDBQIKBwUIAg0FDQQIBgkHBQEDBwEBBAIBAQYNDAEDCgQJCA0CAQQFAwEBAgEABAAFCAQFBgQDAQIOBwMIBwIKBAgEAwgEAgMNCAIMBgkJAQIECgsJBQUAAgMDDQEEBgcHAgQEAQMBEhMOBw0FCQIDBgMEBQcBBgULCwcJBQEJCg0EBgMHAwIBBQgEDAECBAkECQIGAQIDAAcHBwUPAwkJCwIEBAEBBgcFDwkECAIGDA8MCg4FBwACAAMIBQMFCgUDBQQDAQIBAAINDQkFAQEDAgAEAQYCCAMFEQ0JCQYLAxACDw8DBhICAgQEBQcCDwYWCwUFAwcCAQECAgMCBAMEBAULBgQMBgUQCQEEDAcGBQAGEQ8HBAMBEgYKAgEEBAABAQACBAEABQcNCgQEAQEBAgEJCQcMBAwHBRICBAUHAgMMDgUGCgcFBwUFAgIFBAcFCAsHAwgMBAMJAAQGAgEECxYDBgUCAgMAAgsABQoDAAEFBAQIAgIIBwoMAwQFDgYEEAQLAAYDAwMFAgYFEgwEAQgDBAMCAgsECQYEAgQBAgQEBxgOCAICAwMEAQUIAQEICQUFCQoJAwADDQYIAAMBAgQEAAsDBQQEAwwJCAYGBAoPAggDBAMJBAcFAAEKAQEEAgIGAQYCBAcEBAMKAAQGCAgBBAoACRAHBQEAAwcDBQYLAQgDAQMGAgMHCAEEAQICCQEJBQgEAQEEAgcEDQsCCAQICgsAAAgHAQgBAAYFAg4EAwACAhAJCQYKAwsDAAEEBAYEAggGAwIBCgMEBQgLAQsIAw8FCwcCBwgECQYCCgQHDgABAQEACAcDAQIDDQADBwIBAQADCgQNBAcGAwEGABAGDAcHDQQIAQIJCwMIDQ4FDwkDAgsDAwMHEQQFDggSAwcFBgMGBQEBAQEAAgILBAAHBQIFDQUGDw0DBA0HAwMDBQcEAgMCEgsDAggBBgECBwgBAAMKCwMFCQUGBQMDDgoFAQQJCwMGDQoGAAICAgUEAgEQAgcFCAQNBAADCwUPAQUGBwgHBwIGBAIECwUJBQUMBAEJAgQCAgQFAxgIBwcMDwcDCAUGBwIECAQECRkFDwYHCQkGBwIABQIGBAEBAgEAAA8SBQMECAIUAAkJBAkKBQYICAcFDAUREAQCAgIFAwkMBAQLAQEBAQEJAQIHBAgNAAMIBAYGAAIMCgcCBAcAAQIDCg0CAxEBBQECFgEEBgEBCAURBgYGBwcHBgAAAgEBEwYOBw4KDgoECwQBAQIBDQgEAgMJCQwGBwEHBQMEAAIABQIPBQcDBAIGAgUKAwwKCBwCAQIAAAQCAgIMDQ4EBwYEAg4EAwECBAACCQUHBQIHAggBCgQCAQMDDBECAgQLCAUHBQkHBQMFAAACAwIPAwgGAgIHAgIABhALBwUIAgEBBQoOAggCDQIBDAoOBAMLAQoCAQMEAgAAAAAFAQkDCwgCDgYGBgAAAwEDBQIFAAcEAgMDCAsBAQABBwIBAQsHAQIECwkEAwIBAAADAgkGDAEADAcNBgMICgYEAQkCCQICAQICAAIDDQMJAggTABADBREACBEPFQUAFwYDAAAAAwwCAwIBAwkCCBIKBg4CAQgEAQAEBwcJAgsEAwcDCAICAwEGCwcQAwIKCwMBBwoJCAgJCQQCAAEBAQQDAgcNBggCAQ0HCAcKDwYABgoGCAUOBwQCAgMDBAMAAxIKBAgDFQgICwoHBA4DAgUSBAEBAQMCAQYDCA8BAQUDBwIEGAYKBQcAAgEDBQUBBgcHCgUKCQYHBAECBxMCBAYDDA8DBgUGBQYGARIEAQMAAwIDAgEEAQAAEAQCBQIHEQcHAAIUBBMDAgcEBAEGBwkMBAEDCAsCDAgFBgQJCgUJBxIJEAcIDwsIAQcCBgQFBAgKAQkCAgEABwEHDAUDBwIHAgUGAQICAQIECQkDAwIHBgICCgIUAQIEAwMEAgsCBwULCgEDFAECCAQMAgEBAQAJBRMMBAgDAwIGAwAAAAEABAUQCwMAAgEAAAMFCQQFChsBBAESCQkKDgQAAwELAwsEBgUHBwwKBgQAAQAABgkHBwMZCAcEAQsQAAELAAURAwMCAAUBAhYHBgUGBgMKBQoACAQCBgYMBwkKCAICAQcCAgECAhgOBgQBAwUCBAEQAwMDAwEDAwUBAAAFExIQAgcCAwkEBAEIAAcFAgIFBAABBAULDwQEAQMCBgIMAg4CAwEFAQMBCQwLCgUSDwQDBgURAAsQCgYOBwoIDgcGBQwECAUCBAIIBQcDAgcBAQMFDAUMBAMBAwMLAgYFBBMDAxILCQEDAQAFAxQOAgoDBgIDBwIKBQUCAgQHAwQeBggDCgQLDQMBAQMBAQYIAwQECAcFAwMOAwICCgEDAwMCDQoFBgIDAwMDAQYTAwEBBwYDBAMGBxADCwIBBgQBAAoDEQQJBAMTCAsDAQEFCQQCAwkFAwcCCAMGAAoDDgQDAwcDCQoIAwQDAwUBBwwIBAcBAAQAAQAMCAMDCQQHDAEDBQQFBRUCCAMIBgYMBAMBAQAAAAQBBAgEAQAAAAEDAQcEAgsHBwYFAgIJDg0BAQIAAQoEAgICAwoKBhIFAgYICgQEBAADAAYEBQgABAEDAgUGAwQDChADCwQLDgQDBwIRFQMGDgIGBQcCAgQBAAIEBRIDAwMBBQEGDwUEAAECAgQCAwsDAQIJAwgIDwgFBgYAAgEEAgIDBgEGAhAEBgYDBwcAEAYJDggHAwwGDAUEAgACAQMGAwUGAQQKBQwFAQQDAg8DBwAFAQELAwYBCAAICgIBBgMEAgUFAwsABQENCwcBAwUGAwIMBAgCCAcLAwwIAQcKAQYHBgwIAQUDBAEHCAUMCBAGCwYHAwACAgAOBQkKAwcNBgsCBAUEAgcOBgUGBAAAAwIEBwIKAQQFAwcFAAsICAICBAgCAggAAQEDAgcECgAJBQ8IBQEJCAQEBAMFBAEDFAgFCgIHDAIDBAUACgMABBQEDwQIEQEBCQgBBAQCCQsKBwEIDQEFBQMLBQ4BAgEBCQYMBwYBBQYCBgIBCgoHAggEBAsDAwoQBAICCQ8YBgELDgIKBgECBQIECwAEAQAfBAIBBwoNCAoFAwMJAgMJBQsIBQcFCQwGBAYHBgECBAILCAUKBwIGDwkEAgMFCwECAggMDAEFAwgJCQUIBAUIAwQDBgkCCgwIDwUCAQIGAgUEEAcFBgUCBQEFBg4CCgIFAAICCQULBQMNCwcDBAkEBwELCQQEAgMAAQEAAgYFBAgDBgMIBgIECwkBAgAMCw8IDQEGAwIBBQUDAAkGAwYGAQUABAEABQQBBQcODAMDCAoLBAYABQICAgEHBQMEAggGAgYAAAMBAwcCCwUFAgEDAgAEBwIDBgIEAQEBBgMDAwEMDgQBAgQDCAgGCgQFBgIDAwYHAgwEBAkGAQEICgIDAwIFAQgHCAcDBQkMCQYBCgcFBggDCgkDBgADCAECBwcCBwECAgMACwIFCg4GBw4IBwMBAQECCwQDAgcFBwUAAwMDAwQBAgYHBgQKCgUHCgsOAwQBAgUGAwYCBQICAQkGBAIGAgIABQECAAgKBA8GBgUBCgIDAwoMARAADwMHAwYFEQQGEQMHCg8MEQMAAAYAAQIDAwIBAQQCAAgDCAQEAgUBAAECBQILBAEFAwEABggJCAcBAwECBQoFBgEEBQwIAgEHBQQCBwEBBAIADwMLBgcHBxEHBAABAwECCQ8IDQYJBgIEBAMDBAsCCAcEBAsBCQMAAAMLBAoDCAYOBAIDBwUBAQ0FAQQCAAACAAEDBAQFCAUCDAQFAwkEAwYFBQgLBwIHAAgECAwLBgAEBwYCAgUMEQkCAAMCAwcHBQYPAwgKEggCAxEEBQQABQYDAAMLBQsFBwYHAgwFAwABAQwDBAgSEgcFAQYDAgMFAgwCCAQFBgkICQUCAQIBAQgIBgQDAwEAAgILCBEHAQQMBwEDBQMMCgECBAIGBAkFCAMFBQMEAQMMCAgGAgIGBwIFCQkMAwkDBAQBBgYGBAMECgcNAQIFAwcQAgQFBgIHBQcOBAUFCwQNBgMEAQQCCgkHBwEIAQUFBwEAAAAECAEHCAQMAgcJCwEHCwMEBQUICQEGBQMHBAkHBgcGBAgDBgwDAAUFAw0GBggEBQQODwMCBAcEBQMCCgQFBAgHDgUDAwcHAwMLCQYFAgYBBAEHAwoDAwMCBwUAChUHBggFBAkFCAYEAgQCDQcJBAILCAYBDQQBEQoEDQsGBgYGCgsJAQoIAAkFAwEDBAEEBw8JDwYGCAQHBxMMBQMDBAEBAxULBwYEBQEHBwEMBwQFBwUGBAYFBwICBQIKCQEKAwIHAwgEDAkEAwMDBREKBgYKBAEECAEHEAQOGAYMAwodCAUHAQQCAwcaDAQLBAUDEAEGCggICQIHCwYRBQcECgQHBgMDAQIFCAkHAwUFAQoDAgADAwAGCAQQAggKCgYGAgEBAgQFBQUBAgABAQICDQwKAwIDAwcEAwoHDQgFBwkGBwYCAQEDAg0IAAADDwoFDgQJBgkKAwYPAQMKAAAFAgYFBAkLBQwEAgEACAUICAMJDAgEBAUIAgABBRACBQUBDgUBBAkCBwYFBQQFBAQDBgMDAwoNAwUEAw0UCAMFCwMEBAECAwIBCQcGBAAMEAMLBwMWBgcFAwMBAgIBCQoFBwIGAwEFAgMJBgIFDAMRAAYIBwEHCwoQAwUGBgwAAgADAwMCAwAGBgUJAgUGEAEGAwIDCwcKDgAABAEFAgkHBwUGCgMKBAoCBAUEDQsEBhIGBA0SDg4GAwMBAwMJCAMEBQABAAEHBwMGAwYBCAIGAQECBQQFBQQCBwYDBBQCCQEIAgQHBQkECgcMDQAHBgMNAwUCAgACAwsPBwEDBQkRDAgGAgUFAgEIBgQMAQMDAQIEDwsDBgINCQwFAgoCAQIEBwoDAgACAQEIBAgIBgMBDQUCBgkHAQUFCAwECAIFBgIJAgQKAQUCAwQABgMKAgoDAgQEDAkNBgUBAwIHBwMDBQQGEAUFAAECBAMFBwUBBgUIBgMAAgIECgoFBwYDBQMBAwMAAgwMBQoCFAwDBwQEBQMDAQACAgQHBgAJBgECAAUAAQgGBQYCBgMCAQ0QAgMDCQkGBwgPBgwHGQUDBAIBAwAFBwgKAgQCAgEBAQICAgQHAQECCQoEFAYDCQkFAgcBAQAFBgMGARMJBwUDCgEEAgIFAwMKCAwLDAQGBQEDAwQAAAUCBAgGAQsFAwgWBQ8OBggDBQIFBw0DBAIEAAEEAw4DDQECAAIFBAMDDAQDAgQDAAUEAQUGDQEPCQEBAgIEAwsHAQsGCAMKAQYPAAEBBgECAwQDBgUIBQMIEgYFEgoIBAYGCgYFBQMFAAIGAQoFAwQHDQQEBAMEBAUAAQMIBwUCDwsHBQoCBgQDAgQCAAIEAgQNBQQDCwAMCwUFAQQOAwMDAgQCBQMTBAgJBxkJBBQCEgYDAwsHBwQGAwICBQcECwQDBAEKDAABAQIBCwEIAwUGBgQGCQQMCAoCCwkHAgMBBQMGAgcRCwUBAwQDBAsKBgYHBAUCAQIECAUDAgEKBAoJCAYEABYECAEJBwMJAwkNCAkDAQcJAwYMAwIBAgQKAgwGBAoIBAgDBgICBQUHBQcGAgUIDQUICwMHBwQCCQwEAgMHCAMRBAMPBwgJAgQABAQCCwkBCAcDCQgEAwcLBgYBAQIGAgQGBQ8CBhMFAgUUCAgGAgAPCQoLAQUFDQoGDQ0JDA0ABAIBAwkECwYIDggDAAcEBQUCAwcOAgcAAwECAQcFAwMIBAUFCQgDBQkBEwQEAQIBAgITAQ4HAgIGBQYJBAEEAgkMBwcFAQMFAAkCCwYBCAcCBwMKBgoKDQcDCAMJBgEABAABBgcDBQAAAAQAAQsOBwkHAAkJBAEIBwgDAwEGAwYIAw0BEgwBChAIAQEMBAcBCQkJDgMBAAcCAwgNBgYDCwkGBgEFAgADBQIGAgIBAwsPAgcJDQsFEgUFBwsLAgEGDgIBAAAAAgIAAQACBAYCCQEPAxMFDAUCBAEEBQQVAgMJBAcEAgYHBQgGBQICBAECBAEGAQsLAQQDBgQDBQIICwkEBgUBBAIFDQoFBgIGCQQIDwkEBwQFBggJAQQCBAEHAwMKCwkGBAMIBgUFCwQIBQUFAQgECwcFBAMDBgUDAQkGDwMGBRAOCAYGCQIBAAIBBQEDBgEHCAIBAwkNAQsECAMIAgUFAgMPCAcICAYKBggEAAcGAAgCAwEEAAkECgEDAQ0MAg8IDAcKBwMDAAECBQIGBQgAAQEBAAMFAgEBBgIMAQMBAQAEAQwDBgcHDQIICwUFAgcEAwULAQIICQUEFwkFBgEBAQIGDAUEAgYLBAQBAgIBAgMGDg0DBAcFAQQRCAcGBAgJAQkFBAUFCAQHBQgOBAICAQQGDAcFCBAFAQYEAAUCAwwKAQQCAAELBAUCBRcECAgOAgMGBQ0KBQgCEA0FAgYJCgQMAgcIBAIHAwAFBgUABwcLCwcBBAYPCwMMDAMGBwEIAgMCBgIGDwEHEgINAQMCBQMJAwEDDAIKAgABBAkNCgkKDQgWBAkBBAUDCQUFBgkMBw4GAAsCBQgDAgYECAANBQMNBwIHAwYEAAQFAQAJDgIDBwsOBggGAAIEBAIDDQ0IBgIHAwIGAgACAgALCwMIBQQJAAABBAMJBQYHGAICAgwKFAgABAUECQMCDAUHBgEGAgEBBgYGDQoCBAgEBAgDBwYMAAsCBwEOBwgCBgQABQICBQQFCQQDCggHBQUGBQULBAkKEg8FBg8DBAEAAwEACwkEBAkLDAwGCA8KCAYPAAUSBgMGBgIFBAEEAAEBCwUEDwUJDQIMAQwGCgsBAQIBAgQTEAEDBAICAwQBBQQIBQwOAgECAAMDAAQFAQwFBhIHCQ0GDwIJBwYIERAGCgcFAwkCBwYGAwgFDQUHBgQGBQEIBQEDBQMEBAoEAg8FAgADAQMDBQIEAQoFDAsEBBADBAcHEgQEDAQNBgcMBAwDBQcFAwYIAQACBwMHBAYFAQETAAUEBQsCBgAHDgkGFAQHBQEFCAoFBQUDAwEEAQoJBQkHDwYGBAMBAAACAQ4HBgUCBQACAQMFAQcIBAgKFAQPBQ8DAwINCw0DCgIPCAsCAwgGBwIIBwoIBgYDCAICBgkBAQEJBQgMBQYEAQMGBwgDCAYGAgMDAQwDBwMPBRADAwoBAAMDBRQKEAUFDgoIAQgGCQYDBA4DBQYMAggCEAQHAwAEAgIDBQQMBQQEBQQKBAoFBwQDBgMCDQkCDQIGBAUAAQIJCw0GCwgTBAQBCAQOCRESAgINCwcHAgMGBwYICg8NCRAFCxMTBQEKDQgKBAADAAEHBAMKFwoEBgYHCQsDCwQDAgECBQMJAQMCAQIDCAUMAwQIBgsECwcKBAkGBQ0KAwMGAAUHBA0UAgMCBAYMBAQLBw0AAwIEAgcIDQYCAwYIBAAFBgcHAA4JAwIGDgUMBQQHBAkCAAgGCgIABQoBBwEDCwMIAxECEAYCBAYGDAUGBAoDAAAICAYCBQ0PAwQFBw4EAQMDAwUECAkFCAoCDAsJAQABCAMDCAcEDwECBAQLBQMFAwAACQYDBAYJEAUGAwgGBQIDAgMFAgEEAwsKAgUECQQDCgQCCQIFBAQKCAEEAwYCDQYLBQMGBQUGAQwLBAQBAAkFBAYCAAIBAAUJAQMEAhAHAwQCAQYCBQsBBwMIDAADAwMGBgYEAwcBDwUEBAQFAgMABQILBg8GBgMDBwQIDg8DAwoDAQADAgMCBAsOBAQPDgwIBREMDQsCAgMIBwIOEgAECQgIBwkJAgQMAQICDwIEBwICAQMABwwBBggDBQMCAgYDBgcIAwUGAwMABAcFBQQGAgoCCAsMBgIIBggKCAAECQ0FAAAAAwEBAwIGBQMKBQgMCA4OBQ8JAwUQCQYFBQsCCQoLBgURBwgBBQMIAwMFBBIFAQMGAwcDBAkNBwoDAg8PCAYFBgEGBwQCCgADAwAEBAIGCwgDAgQLBwUNAwMIBwsCAwQFCAYCAgIACg4ICQsIAw0HBQUEBgIECxkCAwIBAgABAgUICAMCAxILAwMEBBECAgMKBgAFCwYNBQIEBQEFEAgJCwgSDQgFAwUBBgoIARAHCAUIAggHAgEKAwQGCwcEEQYJBwcKCRIFCAMBBQQNCgAFBAEBAQ4EAgQKBQUFAgUOCQQDCQIBAwANAREKBhEFAQQIBAQBCwoMCAUBBQQEBgYOBQsFDxANBQcFBgkJBAkFEAgLAQUCAgQMAQgDDQcHBQUJEwQSBBIEDQYRBwMAAwIJAQMDAQYJBA0HBwcEAgQJDAoECgsMBxQJBQ8HCAkQBAUGCAoBAwkDBQIDAAQFAAcGCAUCBQ8EBQEFBwILCgUGBwECAwMCCBEDBQIGBAYECQUEBQQDFgwDAgcDBAMAAgMBCgkEEAUGBgsIDAEIAQMLBgsECQUHAwMBBgEBAQQCDQYABg8DAgIIGwgGAwUCAQIDAgMICAMCBwMKAwEDAwIBBw4CCQIQCAwJAggGBAcDBAYDBgQKBwIBAAEFBAIFAgMFAwILAwcHDAMRBgQEAwEEAQQIBAgJFAEDAwIEAQICAwIEAQEKBBQDBA0BBQYGBQIHAwMBBwkKCggDBgkFCgYDBQIJAgMLAgsDBQQCAgIGAwMBAw0FBAkBBgQMBQkOAAoIDAYCCAQCAgkPAwUEBwQEAQ0KAQYDCxEIAgwMBAkFFA0HDgEHAgEIAQgKBQYFBQADAgEBDAkDBQYJBwcDBAYCBgQBCAkGAwoJAw0DCQMFBgUCBwUBBAkKDAoGBwMKAw4PAgQQBQIDAgUCAw0JBQgDBwYJBAYEEQoECwcICwQCAwUEAgETCQkCAgYCCgUBDgkIAwIDBwkKBAIGAwAFCAYJAAcIBwQFBwMCBgYBCwgDAwgHBAECBBAPCQgFBwECAQUECQYFAAgEDAcHAwEBBQIBAwYSAQkEAgYDCAkFEgILDgQNDQMMCwoGBwoJBQYHDggHAwECAgEABgQGBgsMCwcJAxECCgEBDQQNBAYDAgYFBgICBQcKAQMECgMHDwcGBgMMAwYKCRkKAwQGCgcLBwkFCAkDDxELCAQBBAIAAwMHBgsHDQsICgINEAIKBQoJCwUFCwkFAQwBAQUHAwEHAQsDAwkWCAQDCAsRDAUNCAUCCQkFAQQHCQMDBAIEBQYABggIAAQBBQ0PAgMMBgMXBgQLAgoDAwEDCQkNBAQRBAUMCgcAAQQBAwcEDAMDAxAQAQ0GCAUGBwMDAwECBgsBAgMCDQsFAgYHCAwFCAgFDw4FAwwHAAgNBxQBBQENAwoFBwABCgcEAgEJBgMUBQgSCQwDAAMKBAwHAwYABQESAQgCBQoKBgIMBw0FBwYGBAIAAwkOBgIBBQUACAELAQUCCwMCAQIEDwEGBAEDAQABAAUFBwsCCQIDAAATCgoBBQIEDwEDCAcCDQMGBQAPAQYCAQgIBAYBBQUAAwMAAwoLCAMNBgYEBQEGBwADAgUTCgIGAQIGBgIGBwsKBQcSCAcBBQQGEAIDDgYOCAEEBwEDBAsLAQ0FAwAEAwEGDwoBAwECAAANBgQDDgcGBgQFBQELEgcLFQsFCAcDBgECDQoDBQQSBQUFBAYIDwoDAgIDCAIFBQYUBg0DCwYRCwADDQQFCAACAQsRCwUEAwgBBAAHAQQDFwQCAwMBCQYIAgICCgYJAwEDAgABCAwMCAUDAwICAQgHCQcFAgMAAwMFBAQEAwoNDwYKAggGDwcCAQAABBEFDAIPDwIXCwkEBAUDBAYIGBMFDgkLDg4KAgMOBAIJAQACBQoGCwkKAgYHBQwIDAgPCAkIAw0ICAoVCAcIBggPBAYBAwMDDAUTBAQCBwYDCwMPBgMKDAwCBgICBBICAQIJBAMUBwoHBAMOCgkFAQMEAQICCwQFCQwHBQMJAgQFAgYGAQMEAQYKBgYFBwoKAwEJCAwGAgACBQcGBRQNCQQPCgIDCQYCBgAIDwQFCAgEAAEBBAUGDhACAgIEAAEIAwQJEQsSAwQPAwYKCwMCAQYCAQMHDQoGAQIBAgILCxgDCQgOBgUABwcHBgEDAgsDAw0NBQwKBAgPAgMDBAIEBgQQAwEcAgICAgENCQEBDAgCBgIEBxQCDgIHCAQECAANAwkEEAsJCxAECAsHEQoICwMFBAMIAAQDDAMJAgICAQICBgQPBQQFAwQBCAYEAA4IDwkIBQkHAg0FBQcCAxQEAQcCAgIMBAICAgoABREDBAMHDAUGAwUGBwADAAEACA4CAgQMAgoCBAgCAgsHAQMKCAENBgwEBAcFCgsCAQQAAwMNBAMEAwcDDQYFBAEHDgULBAYGAAMKAA4IDQUCDAMEDwQMCQEDAQsIAgEJBw4FAhABAwIBAwICBQYDBgcNDQoFBQUEDAwPAgkFCgQHAQcBBAAHBAMCBAUDBgcNBQcNCAIFAwUBBAcHDwgIBA0DAgcGAwEDBAEKBgIGBxQCBAUOCwEGCAwIBgQEBwUGBQoFEgMFBgoLAgEFBQgHFAsCBQUGAgkFAwMMBBALBQoDAgELAwgIBRAFBAgFBg0ECAcEBwACAwEGEAUDBAMDCQMDBwcSCQoHDgcDBQsHBQEDDgMGBAkMAwULBggHBQMHBggHBQUAAwAFAQ0DAwYDBAMIAQ0LDAQCCAQGAwMCCQgQBAIDAwgNAggBCggFAxIBDQoCCwQGBQMICAMAAgMLCgICBQUABAMGCwcSDwgIAgkCDgMHBQsECgcBCQsCAgQZAQkRAQcCDgcIAgUCAQUBCQkVAgoECQYICQQFFwUIEwcKBgEIBAwDAgQBAxMGAgEDAQ0JEAkHAAgTDAwGBAYEAQEBAQMGAwkEBQcIBQcQBwYGAwIGCAECBAoFAw8PCQoHEQQGCAwGAQkJBgoEDAIFCAkCBRMJBQUFBgQDDAUGBggIAAQAAgAHAwgBAwABAAEBAQQLDAIBAwIJAwcDBQoPAwIEAAIIBAQDBgEDBQYFAwQJBQEFBAwJAQcDEQsJBAwLCQMLBgcKBA0OBwQGBwILBQMAAQEBAg0DEA8BBAEQAQUFCgQSAgICBgIBCQQPBwIIBA0EAwULBQIWAgEBAgMMChEFBAIOCwoKAgUKCAgACQMDBwUIAgELCQEEBgEGCgMKAgIDAQIDBQwKBQMDBAkNCQsDAQICBgQDEAIYCgoCAQQFBwcCDwgJAgoLAQwDCAcBCAkFCgQKBQoHCgkJBAMNAQQHBwgCAQUEDwkFCAEHDgEUCwcJCAYHAgcCBwQGCRAEAwYJBxYIBQQGAgIBAwQRAgQDAQEJDQYJBwIBBgAOAwYLBgQHAwUDBAMHBRAIBRAVBwkICQIAAw8JAwYBAhQCCQkIBgcFDAIEBAcCDAcFBQkDAgoHBQsGCgELBBcEAgUGBgQIAAQDAQoGDBICBQUGBQQFAQQBCQYPBw0CCQcDAgQJBQQHDAgGCQUDBgUKCw8FCgwIBgMCCAoKAwkGBAUHAQIFAgQEDQcFAwUDChAEBgUGCAQDBwcCAgUEBgMAAAsFAgwHBAYCAgAGDQYEAAEAAQIBAAkKAQIIDQUDAQECBAADAgcRAwIFAQcCCA0HAggFCxQFAQYEBAMEAQgHBgMFDAcNAhMBCAQGBgUCAQACCwgJCgQTAwYQCgACBAEABAgIBgQDAgQJAQQGCgQMAwoECgQGCAQFAwUBAwMDCAUPBgoDBQEEAgYHBgUEBwcOBwELBAMMCQ0HAgIHCwgDBQ0IBgkIBQEBAAECCQgNBgcABQkHAwYHAQcEBwMCAwUEBQwEAwgMBAEGBQUGDgkBBQQCBAYBBAUDEQgEBggDCAMFBQEBBwEACAsECgMEAwADAxAFBAcKCAYDAwABAgMCBAsIDQEJAwYEBQYJAQIAAQEGBAUCCAcEFQYTCAcIBQgRBQIAAggRBQYEAgQBAgIJCg8CAgUBCRYDAwMCAgkABQMKBwMNDwABCAIJBQcKAgEFDQ4UBgAWBQMMBQgMDAIICQwDCAIJDxEACAkCDgQDBAIFAgMDDgcEDgEGAQMCBggKCAIMBwcCCgEEEQ8KAQUCAQgCAwABAwMNBwkIBAoGAQwBBQMEEAIHEQQIDQcXCwoFBAcFAwILBg8CCgkLBwYCBAsDGQEGDAcLAgMBAAUAAgYBBhAFCAEHARAJCAUCAwQDAgUJAwQFDQ0NDQcDAQQGBREKAQcEEgAJAwUHAQIBAAcDAwYQBgEDBwEHFQICAQoCCAQFBQQBAwAMAgkFBAYICgIDDgIKBgUKCAgECQAFCREIBQoCAwUDBgICAgYECAoECAoHEQEECAYGBQECBQMABQcIDgsIBAYGCQUICQYKBA4ADgwMDgUFAwMHDAQBCAAFCQQBBgQGAQANDAUKCAsDBAUNAQoDAwgBAAcHERAGAwQLBQcUBgMGBgkIAwMEBQADDQYGCgsSAQQDBQcDBQUPCgwFAwMFBAMGCwQFBAYCBg8FAwMEAwUCCAMFBAgEBAUGBAQDAgQDBQcDAwMKBwsEBBMGCQEJCAoPCQQOCQQHCgAHBgEBBggKAgYKAgUMAgYGAwEEAwcBBAIPBwUBChgHBAUHBQsHCgMHBgEGFQYLBgIFBwQDAwUHBwsDBAIEBwYCAgYBCQIIBgYEAwICAQcCAgADAQEDCAkHBAEDAgMABwILAwQFCQkIBgEDAwQGBgkCBgYAAgIAAgMIBQIMFA4JBQMDAwQHBgQNBQgECwwEDgUFBgsHAwILCyERBQkWCggDCAQEBAAEAQQCAwkTAgYHCgcRDwsDBQQACwkGCwoDAgUAAwUHDAYDBAQDBQQFCAgEAgEDCgcJAgMFBAcFBwEBBQsIDAIOAQEEAAEFDQMBCAsJCwIDAgQDBgEBAAQBAAgBDwYCCwoFAwQBBQkKAgoJDQUGAwIFAgcDDwcCAwUKAwoCBBIIDwEFAQMHCQQOBAMEBQwIDAUIEQYEAQABAQMBEAgDBgMDDAIEAggIDAYNCAQBAwEDAQYBAwsEBQICCQcRCBQICQgDBgUABgACCQYFAAYEAwABAAkFCAkDDAIHCQMYDQcGCAcEBwcCBwcFEQEKBg0GAwEEAwEDDAYFBwwFAgECAQYHAwgFEAsLEAUECAcJAQYEBQcMBgMEBAQLBwcJAwsGBgMFAAUFAwMDBAQCBgMGBQMaCwQIDQIQBAMTCw0OCAIBAQQEAgICAgUDAw0GGQgMCAwJAAAEBAsEAw8FBggDBQgEAgcDAQAGAwADCwQMCAgOAwoTAwEBAgICAwMEBwEGDAAIBgULAQoCAwQCAQkBBwkEAAQQCAMPAwkJAwcJBAgBCgQDAwQKDQIOAgYDBggPAgQKAQMDDAILAgsICAURBAQLAwQCBQcDAAgEBwQDCwYHCgICAgUECQMMAwgGCRADCAQHCwYCCQAGAQIECwMMAgQIBwcCBwQFAAEJAgIEAgcADgEGBwkOAwIIBAMBAgwIAQUDAgMFAwEKDAUGDQYLBAQDCQsECBEJBAQFAwUHCQcFAggEAwABAQQHAwUPCAgHDQ0CCAcMDQMEAAsGAwcECQYDAgILBQINEwEHAgQDBwQEBQIEAgIHBhEQBgQECgIHBQEOCgkIDAcHBwkGBA0GBQISCxEKCxEGBwcFCAIBBgEEARcEAQEEAgIBCAoJCAUJEwwECwQFAwUDCwcGBwMMBgsIBQYHBxUDAAEEAwIHCgQEDAIPDAUHBAIBAgAMCAgGAwIDBwYFAwMGCQAGDwUNAwQDAQEABA0JBgIQBgUICgMGAwACBwkBEQcCAwwGAgAEAwMGBQ4LAwgECQcFCwIGBQQEBQIIEAUBAQMAAgMEBQ4DAAEGAgQIAwEGAgsFCQYICQEFBQYGCQoJBgUMAAQGCgoFBgkDCQsCCQIBAgIDAw4KDwkEAwoNBQgNCQEIBwQFBQsDBAkAAwoIAwUHAwcOBAgBAwEAAQECEAMHCAYGBAIGAgECAgUCAgcIBgwLBg4ABQMOAwcWCxEEDwgNCA4HBAsFCAgDBgkPDQkHAwEGDg8EAQUFBQYNDAkKBwYKBgkGCgQFBAQGAwUBBgwHBRINCwUHBwsMAQQAAQsFAwEHAxIKAgoQCAQCBwUBAAEAAAUCCAUMAQcIBQ8ABwAAABEFCQQCAQEDAgYJCQ4KBQQDBw0FDQMOBRAEBg0CBQIEAwIHBgYDBgcSBwMOBQgCDAYCDBAHAAAAAAADAQgIAAEDBAACAgAKAwECBgESBAUKBQEGBwAHDwgEAQQEBQQEAwEFAgIJBQYEEQEABAEBBwoFAgIWAgEFEQMFBAgKAgIAAQEFCAICBAcRBgMLCwQKBwIEDwQFDAcOBAQEBwcEBgMBBAMGAgkHCQcFAgMNBAYGCQgACgUABgULAAIIBQABAgADFAcEAQcBAAUVBAUCAwcEBQIBAgABAwYJDQcHDQ8BCQULBgICCQkABQMLDgMDAgQCBAYJCQYFAQoCAQIDAAgMAwMBBwsEAgYJEQkHBQcJBQkEAAILDgYAAwAAAgUEBwcABQEBAQIFBwAEDgEHAwUBCQ0VCAMGAQUDARAQAwUDBwQACAQGCQgGBgkFBgUAEgsGAAwFBAUEDgYFBgYECAYSAQcMFAUWCQ4GBQYHAggGAxIQCgUBDRAFBgIJAgMCAgAEAwQDBQEAAgAAAgQMBwcECQIDAgMFAwECEAkIAQwQFgoJBhYLAgoEEhIPEAISAxMCDQ0BBAsCAQQDAAkDBgYHCQkQCgYABwkWBAkDAgsBBQIDBgIPDwcIBQwICwkKBAEGAQACDAgBBAQUCQoFBwgBCAUPCQgEBwIFDg4CBxIFBwYEBgMJBwMLDAgDBBADBwUKBAMHBQICBQMCAwgHDggCBwYDEwUCAwMDCAAJCAILAQUBCQMCAwICAQYIAQQLBgIAAQISDwoCBAkJDQAKEg4HAgINAwcHBQQECAEEAgQGAAYECgYJBQMCAQMBFhAFCAMGDwYHCgkGCx0KBw8GCQUKCg8CCgQGAwsDBgMYBA4LCwQMAwwHBQUAAQkDCQQQAQIFCQAHAQABChAFAwkFCgYNDAYAAgEFFgMGBwMBBAMAAwoCAgELDgoGDAoPBAgIBAkHCwcDAgMFAAYGCgUCAQULCwkRCgAEAwYECwYGBwgCAgQLAwoKAwsABgIHAgkDBwkPBwQGGQULDwcCAQEDAAECBgQDBwQFDQgDCw0EBgcBCwYKAwAMBwcJBAQFAAIDAgACAQAGBwUCAQMHCQUEEwICCgMDAAABBQQJBAQBBAUEBwQGAwQEEQUFAQMDDAAIAgwDBQUKAQQJCAYFAw0OBQACBwQFAQALARICBQsDBQQFEwgGAwIDBgoIAgMCBwQJAAkKAgEOAg0BBAQaBgoDBAcXBwESAAQDBgIUBgYGDQUNAAMGBwQECgMEBw0FCAYCAwEEBQEBDQkGAQsCBwEAAwUFDwEDCAYLAwMOCQcKDwIBDAEJBAYFCAQJDAUIBQEDAQEDDAYJBgUGCQQDAgkIBQUDBQ0JBQIAAwcCAQ8JEwYEAgMBAAUCBAoCBQsSBwUMBAsJBQEDBQEBAwQTBwcDDwcGDgQEDgUEBgADBwEBBQQIAQEHCQkKBwQWDAUDGg0LCwcLAggFCQEKBRYDBgoFAg0CCQgEAQYCBwAABwQMAgkDBg4IBQICAgEAAxUIBBEAAwMBBQENCgMRDwoFAwQXAAsFBQACBQwKBwcNCREBAwIAAg0LBA8PAQoXCBADBwkKCwsFAwQDBgICAAIDDQMGBQIKAwUPBAoIBgAHAgcICgsMAgIHDAIPBAMNCAQHBgMHBgUKBwYODQgKGAcGBAQJBwwGAwICAQAHDQUNBQYICwwIBAkCCAgFCQYPEAEFBwMDBAcHBAUFAQcGBAEHBAMIBR4HBgQFCg4DBwEEAQUABxEIAQEMCBAHDw4OBwoHCAkECgIKCQMLBQwFBwoGCAIDBAMHAgITBAcGCwYCBwcKCQMPAwMFBwgGAwINCA0FBAIDBAMEBgcFBwQHEAkNAgQCAQgDAgACAQECAQEIAQAFEAkLBggHAwYEAAEAAAAlDAoFCgUDDAIGAwIAAwINBwEDDAMGAQoJCAUJDAMCCgIBAAQGBwQUAQgEBQIBAQUPEgMBBQUDBAAAAAALCgAFAAIGAQIFCggEAQsBAAMAAggMDAgEAAgBAAMDBQQCBQYMAQYPBwECAgoLAgsEBxAMBwUDCgoGBAMCBAsPEhAGBRQOAQIGAwgRCwQEAwQGCRIDAwAGAQIDAgEAAgYDCAYAAgUCAQIUFAYEBQsHBgoFAwgBAgMPBBQIAwMAAgEABgUMAwkEAQMDAAAAAQABAQgBAwYEAAYCAQsTCgADEgMGAwYDBwYGAgoGDAMFDAYIAwAHBgsMFAgLBAIDEgwPBwMBBgQJAAgMBgIHAAQDAAMIAAcECAoHBQcDBAMABQEEDAMEBw4EDAoHCAYNAw4QBAcICwQGAgoEBgkKAwUHBgoGDgEBAgEAAgYBAgMFAgINAREEBQgGAAAAAgELCAQCAwIHAwMFDAsFBgQJAQMSCAgFEAkEBAQHAgkODAoHCBQDAwkICQYFAggIGgwEBw8ICgcFBAgFBQIBAgECAgUHBQMYCAkHBAIBBwUICAQNBQgICgUECQQBAQQPAwUBBAQBCwYGBwUNBQYDAgADBQIDCAYDBQYKBQYBAwEMBQkFAwADAwEGEwQDBAIGBAYEBgoBDwkDDAgFAQQIAwACCQIFAwgECQgSBRAPAwgDBQUDBAQDBQYTBAQCBAUTAw8OBgIBDgYCAwELAQEBEQYODAkKCwgGEAsJCQUGCwQJBw4IBAIBCgEAAAYBBAcDBgoTDw4ABQUDCAgDAwwKAwYIBg0RAwsNBwoGBgsKAgMBAgEEBAUBAwQCAwEJEgoFAQMFABAJBgQDCAQGAhIDBA4GAggIBwkHBhQFCQYEAw8DAQEECwEDCwQFBwwCBwkIAA0HCgMDBAACAQMKCwQDBQMCAQIABgUGBQEBAwACCQINBAUIAAACAQADDxEJBgQDBgcEAwELBAkCCwUCCgkGBwgHBQAJAAIECAABBQwHBwcJBgUEAwwBDgcFEgkFBwsEAwQBBQMABg0HAQMXBwkLCAoGCAoDAQADAQQHAREODgYJBhEKCAYEAwMGCAoEAQQAAAEGCgQFAgkICQ0CAQQBAwQEDAYEBQAAAAQGBgIPBQgEAQYEBgAACAEEARADCgQIAwwQDAIDDAAQChYLCAUDAgEFAwMUBQoKBwMHBAQDAQMHAgwLBgMGCQIIAgUIBhMHBQ8FDwYEBAICBAMLAwYEEAEBCwMKDwwEDAMBAgADAwICAgQABgkEAQ0CAwYHBwgEBQENAgUCAQUFBBAIAAYDBgIKAxEJCgQMBgEFAwkCERMMBwUHEhMFDAgICQkFBQEEBAYLBQwHCwMBAwAAAAABCRENBQ4DBAQCBgEDAwQCBw8WAgMBBgAFAg0NBAcCAgEMAwIEDQkGCQQTCgIKAwABAwAGDQQJBQQCAwMDCwUJBAECBAgHAAMQEgQKAgQFBAoEBgUFBw0HAgYEEAwFCQICAwEAAQICAQQCCgQEAwgGBA8EAwQFAgQEAwkEAwgAAwECAQkMBQUEBg8KBQYGDQULAgQPCQMRDAYGCQYBCAcCCwYJBQcHBwkAAgITBhUIBQgGCg4DCQkBEQYBCg4DDAABAgAEBAkCAwkEFAUKCQUGBQIFCQQCCwEGDQoCCwYFBwEEAgMEDwcABwoCCgEBAQMDBAoFAgQPAgcICwkCBAEFBQsGBQMDCgkHCwoABgACCwQMAQkLDQEDBAMAAQEABAsIBAYGAg8DBQsBDAgKDAcCAwMNFRUFAwIDBgYHDgkGAgELBAQICA8BDwwIAgYHAQYMAwgFBAYEBwMECAkRCAIBAQQAAgwEBwQDBggDAgwGAwYBAQoSAgoCCAwHCQENAwgCAwYZBgMIAgEHAAAHCAQCCAIBBQIFBgkJBQIIBAcEBQgBAA0DDgcIBgYICAYCAQgFBQUNBAcEAQMFCA0HBgEDCwsGAwYGBAQBAAECAggHCw8HDwUCAwsKEAMEBwsDAQcDCgQFDAcJAAQAAQoFBAYFBQQEBwMDBwsFAwEBBgQCDQYHBQEECwkSAwINBgQBCgcHBAAGBQoBBwUGBAACCQkEBQgDBQUECQEIBA8HAgoCBwUBCggPBQMBAwMBAwIEAAIIEAUGCwQGAwwGCQsHCAYBCgUCARQIBQQIAQIGBQkGAAEDAQIDAwQDAwEPDQQCAAcCBwgFAQUGBAsDBQYAAAMBAwYDAg4BEAYFFQQHDAQKAwwMBRYEBQYDCQMGCQ0GAgcBDgIDBQICBQAJCQkEBgEAAwECBAYQCAYNBgoIDw8EAgoIBAIDBQYDAQMCBQEHCAcFBwUHBgUHBAMFAgILBwQIAwEDAgMHAwMCCAkHBAcTCQQGAwMHChIECAkHBAgDAAYHBAYABAQEBQ0HBA4FDgwKBQQCBgQFAwQDAQICDAQFAAQADQwDCggGAwYCAAIDBAARAw4BBgMDBAADCQgFBgMECwcGAgoEDAYKCAoHBwkLCwgECgAIAgIMDwUNBQ0FAwcHBAMGBAoQAwwLCAQDExAGBgQKBhEHDAgCBwsCAgUCAgMKBgoECAMLBAkDBAYDCQsGCwMCCQEFBQgHCwIGDQUGBwYDDQUIAQIFBAkMCQMMDQECBQsDAgYFBQcCAQIKCAUGCAQHDgkBGAwEBwACBwIAAgsFDQMGEAYIDAMNDAsPAQsGAwQFAw0PAgwIBAQFAQEOAgEMBQICBAYIAwEAAwgFAQQFBw0AAwUEDA0KCwwFCAcREwQGBQYFDQUCDAUJBQMGAQQCBQsJDwQECwIMBAALAwQDAwoUAQIDBQUCAAYLBwgCAQIKChMCBgEPBAMEAwQBAQQJCQcKCgUKBAoICwkCCAwFBgYCCAEFBQILBAYGCQQCBgECCQcECAUIEgkJDwYFCwIEAAEFBAIOCwMGAwsFBgkKAgEHAgQKCgMHAgILBQIHEgMLDxAYBgYJBA8HBAQPAAACAQMHAgkCBQcPCQsBAQgQAwIHCQIEHAUJFAIGAgUIAwUDDQQHDg8GCQsEAggGAgMCBAALBAMGBgQDCw4JAQMBAQQFBAQFBgABAgAABAABAQIBAwoDCAwCBg8CAgMaBwoFAwQJBwkBBAkOBAIHBwYHCQcQDAkGBwQJCwQHBBYCAQMHAgUDBAwDBAsFCggGAQUJCwQHDAwFAgEEBgICBAIGAAADDQUBBwsIBhEDBw8LBAwJCAMKDAICAwEAAwQACAcCBgoRCAsOBwoECAoBAwQDBREECAMNBwACCQYJBAQIAgYFDAMRCQUMBQwECg8OCAUCAgsBAgUDAgMDCgAGBgEBAwMCBA4HCggAAgQDAwYQBAEdBgMHAQwOAwgFAQUAAwAEBwsABAEMCAELAg0LBQsJCAQBAwIBDwIACgYUAQ0ODAcEAw0SCAIICgAHAwAHBQEBAQYFBgMJCgsDAgINBAgCCQsPCAUOAAMHAwQHBAcFBQwFCgcIBAwBAgYIAwYHBQURCQEDBAEDBQINBAgBBAEDCAgHAAsPEQMBBwABBAcPCgEEBgcSBQgGBQIBCAcEBgsBAQEAAwYHBAECAgQECwQDBAcGBAMEAgcEBAMHAwUECggDCAIDBAcNAAEAAgEEAwkGCAMCAwEGAAgJBQIGBgoBBQQPBwcBBQEGCAoABQkCDQENEAkCBQIFBgEKAwYFBQQGAgkFBgIMAAcGBgcBAAUKAgECBAEBBAELAQkSARUKAgcKAgkDBQMCBgMDAwMMBwkEBxAPAAQBAwUCAwMEBw0DAAUEBAkECA4CBAMCAwUEAwIDBgYLBAYEBQYSBwIPCgYLDwYDAwEOCQwODAsHBwEKEAQFBQEGBwIQBwgGBAUAAQMEEQEGBwUIAgUAAQoGAgURAwsKAgEICgIIBwEIAgMAEAcJBgIHCwUGAg4FBQUBAwMFAwAOCAIDAQQHBwMCAwEBAQIGBBIFBQwHCAgDAgIKBAIHDAYCCxIFCAkHCQkMBAELAggFCgMMDAIJBwMDAQQPBA4CAgECBwUBBgEFCQQBBgMGAAMHCQYHAQEGAQMHAAcIAAsFCgIJARENAwYCCQIEAQgDAQYNBQQFBwgCAQECAQgHDQYCBgABAQAGCQQKAQoHAwIDBAYHBgcNBBEFCwIABAEECQkCBAEDBgQBBAQBBgQFAwgHDgEFAQQCAgcJBwUCBAoKAAAMAwUPAwUHBwkEDwsJCAYIBgMDBg0DCAkEAggHBQQHEgwQCAoCCAcCEQkHBAcDBgQBAQ0DBQMPDgUFBwcPBwkMBggBAgQDDRIGBAUECgcJBQ4NCBIBAgoFEAoFBgEABgsKBgIEBRcEAggLCgoUDgsUBwQIDwMGBAYQCgEAAQQBAwMBFAkCBQUDBg8PAgILEgUFAhAICQoDBQMBCwYOBQEHBAQRAwYGCQEDBA8FCAcEBQ4JAggABgEBAgAGAAQDBRQFBAMBBwcGBQEBBgMCDwwBDA0BAggNCgUCBgcEAgUPBwwDBQcIAAgHAgkJBgIHAwISBA0FBgcDAwcFBwQOBQsFAwYMAgACCAMCAwINAwIECAUMCQMEBg0OCQEJFw4HAwQMAQIEAgEDCAoQBQMCCAcEAQEKBQQDCQYIAwMCBAIIAQUJAwwGAwMFAwQGBgUJBAIDAwQBAg0GCQcBAgoLBgQKCQcCBQwLBggJEgQKBQMHDgUEBAIAAAIDBggGAgACBAABBAMFBwsJBAMCAQMHBgQCAwUFEQAHBQcIBxELCAQIBQQAAAMIBgUIBg4GCAsFCQYLAQoOAgwBBwEMAgECDgYOAwYCBQEAAgYEDwMCCwUEBgUGDwkBBA0JDAgFDAYDBAUKBAgIAg0HBwwMBQULCwISCQkEAgYBBwoCCgMCCAkIAhYFBAUWBAQKBQIJBQcRCxADBAsDBQYKFgQHBAIECwEBEwAFAgACDgcBDAMJAwQDBQEDAgEBBwABGQcEAQYCAwcKAQkGCg0IBwUIDgoHDgcNAwEFBQIBAwYEAw0ECwwKAQUBAAMCAgEGBwQCBQYTAw8GAQEGBggEBA0MCQoHBgsNAwkCAwICBQQFCAQFBAAADQMHAQMCEAILAQkCCQcCDwQCBwYHBAUFAgIEBQMGCgcMCQsGBAIEAwULAQECAQgQBgENDAgGCQENBAQGDQUKBg4LCQUDBwcIEA8RDgoDDQsBAgQBAQcKCQICAwUHBhEOBwEDBAMBEgQQDAoJAxECAwMBAAAAAQAACwMKCggCAgIEBQEXAwQQBQMIBAoKCQUCAQ0KBQQLBAwDBxAEAwIBBQUZAwwKCAICAQUKBAgPCAEDBwEHAgwJAwgSCwkOBwYKBgMEAQQAAgIICQgCBQsECQwGDQoDBAcOEBARCAwKCgUGBgMSAQYLBwcaCgkECgcFAAwKEQcYCAoQBgkFBwcGAQMGAgEFBBEMAwULBAUBAwkVAAYLBgUEBQQMDwIFAQIDAQ4GCQQFBQoFCwwFBgYFAwgIBQwLDwQEBQECCw0EBAgQDgQKCAQIAAgJAQUGAQYNCwMHBAMHCgMCBAMGAQAGCQQJAQMABgcJBQsMAgMZBAMEBQYDAgMGAAABAgEEAQYJAgINCwUECAICBAoUCwUNAwQGDAYEBwYIBQUKCwcACQMFBgIFCwUFCg0ICgcCAgQGCAIRCAQEAAUIBwQEAAUECwkCBRIHBAQAAwMCAAoOCgMLBg8JDQsDAQAABAgLCgMDCw0GBgQFDAgEAQsGBAMCAQgAAQYWBQIEBggXEwoGAQEGBgUBCQoHBgsTCAgLCwMDBAEBAwEAAgsCAwMDBBADBgMEAwUBAQIAAQACAwQDAAUMBAYLCxELAgIDAAABAQIDAQoCAwUNBQ8BAwIFAwQIBgcDCgMNBAYHCgMCBBMEAQAAABMECQsFBAYBCg4BAAAABRQEBQcDDRwEBAkCAwINBQUFBwYHAgACBAMLBgEEBAEBAgADCgYCBggJBAIDBwoAAwIOAQABAQMMCA4JBgkIDQINCQYFBQERAgYEAwACBAABAwgHFAEFBAwJAQcDCRYKAgkHBgcMBgkJFQsQDAwHAwIMBAIGBQwBBAQJAwsHDRcBAgQDBAkSAwMDAwICAAYOBQcJAgQGBw4EBwkBAwgECgQAAwIDAwgCDAEBAgEAAQALFAgGBhMDAAIBBAEICAQBAwIAAAMJBAUDAAYAAQACAQcLDAICAQABBQYHBAYDCgUDEwECAgYCCwwEBwQPBQoCDgQGBQMKBAUDAgUCAw0CFQIIBQAIAg0JDgUJBQQIAgEBAgQBAwQIBhgMCgQECwQHBQcHAgQFBgAHBA0GCAUDCwQCBQQMEwUFBwYKAgwNBQQHBwQWBQgKBQcDAAkFBA8LDAQMAAMFCwIBAwMGBwUCAQMODQoNDAYHDQ8JBA4BBQMDAwgEEwoFBgMCAgQBCAUACAgBAgEDAwkEBgYEBgMGDQgLGQUACg8KCgYCAQsSCgIFBQUMAxMACgELFAYGBAIQCAULEgUHDQUFAwkLAwIDBAwBAwMEBQUNBwsBAAEDBwMIAwUNBgQKBQkNDAIGAAMDBw0UBwUHBAoHCAYCAgAAAgcCBAQDDA8DBAQBDAMBAAgDCA0CAAAAAAAGBRcMBAoLEggDBAACAAITDgcHCgUEAwYIAggEBgUFBwcMDAAGAAIBAhQFAwIKBAITAwQCAQcBBAQDBQMFDQsCAQMCAwIBAgkHEgcDARMDCxAGBgYRAgwLAwgMBAUHBQIJCAIBAwEAAwIECQQFAQECAQACAQMBBwMFBwwFBAIIAwEBAQoIBQUDAggEAwMQAwIRCwoOAgkGCAYKAwQCAwUCAggHAwMIEwMIAwEEDQ4QCQUDAgcABAIEAwMCAw4FBBAUDQQKAwgJCgwPBgQIBAMOBgUIAgAFAQUIBAIDAgsDBgcFBQoEAgkOCgQPBgYFAwIEBw8SBAEHCQAJBQAEBAEEBwMHCwQGCgsDAwQDBgQFBwkFAwMHBwcMAgEDAQIEDgcICQICAQAAAgACAQMNCQoFBQUEAwkGBwQKGQIEBg4DEgcLCA0DAAgBFwUFAwIBAAcPAgQLAwUECQgFCw0BAwkEBwcLBQwHAwIFDhAOAQEBAAAACAEBAwQGBQMIBQIFBQICAgMAAwIJCQYHBQMGEAYJAwYLBgQECQEQBBQGEwQFAgMCAwUJBgcJBQsCCAkIAgIDAAUGAAEDAwIGAQcDBQUVAg4KBgMDCg0ECQgGBQABAgMDAwgFCAQBDAcNAQADAAALBgECBgQIDQcGCQECBQUJAgkGBwMFAAYCBAYJCwgDCgMEBwwIBwQDAwgFBQsECgYFBwoICw0BDwIJBwUIBQkCARAJBQYDBQEKBAQJBAcCAQECAgYDCggCAwMCAwICAgEEBQEJBwUMAAcFBAECBhEGAgUCAwQDBgUQCwMFBQMDBgQBCwkGBwMBAQMDAgEECQULBRIECAECAwIIAwkGAwABBgkFDAYKAwECAgwIAgMAAQoDBggPAwoDAwcEBgEDDAwCCAEDAQ8JDgQICwUJCgQGCAIEAgMAAQsJBAYGAgQDAwIDEAwDBgYCAQIMBQQEAgQCBgsJCAoHAwcDBAkJBwEEBQ0DAgcBCQMHAggLCAQIAwEHAAIEBwEFCAwCBQMHBwADAQoFBAwCDAQKBgURBAUGBAIKCw8BBgQMAQoGCwcIBwIBAwEEBgIBBQwAAAQCAAYCCAQGBAQEBQMHCwUHBgMHAgADCAYCAAACAQECAgcGCBIPBwoLCgMGCgUEAwELAgMBDgIGAgQGCwYFBgMAAgMAEwQHAQQCAQIDAQoFAwkDAwQHAAIMAQsKBgMBCwIHAxMFBwMGCQcDDAcDBRkGBwkJAgUGBgIHBAcBDgACAwIBAQMDAwwDBggJAwUECAYKBQUBAwEBAgsJAAMGBwMCAgMAAw4DBQYQAgIBBAMBBAcRCBEEBAcEBQoDBwgEBwAFAwcCAwIDCQMBBAkICAQCAggBAQUHDwcFBQINAwYEAgUCAQgQBQECAwEABAETCAkGAQgCCAIIBgMHBA8BCg0NBAABBQcBAAwEAgQBBwsFCgkMBwcGCwgCAAAFAwQBAwMLFAkHBQcQBwINBQoLCwUDAgsHAQQCBQQDCQIBFAEFAAQHBQUIAwUJCQMFEQ0FDgcDBwQKChMECQUJBAIICAQHBwYLCRoBBgYDAgICBwIDBwkFAw8BBgsHAwECAQQDCAMIBAsKEAgGAgYEChYHAwoFCREFEgoHCAELAwgHAgsFAwMLBQILBgcEAgcNBQwKCwACCAgABRQBBAMHAAMFAgcMCgMJBQ4HCAUEDAQHBQwNBgMCAhAFAQQSBQMKCAIKAwMCAgUICRAAAwMCBwEOBwgDAwQJCwMNBAEGAwUPBgIGBAsAFwgDBggICAAFBwQBBA8GBAQDAgYBAgUSDAkDAAoIBgIMDQ4EAwoMCwUFCAsEBgMGCwEFCwgLAQMEBAwDBAEDAQQAAQEFAQIEAAwJCQICBg4KBgUHCRYDAwQODQcGCgISBAsKCA0DAxEKAQMCBgcCAwUCAQIBAQgCAQQBCAcEAgoBCAAGCAQNDAgBBAICBgAHCAUIAwMQAgMKAwQECAEEBAcMBgkFBwgDAQgCCQEBBwsOAgIBAQcBCQEDAggMBwYFBAgNBgQBAQMBAQEDCBACCQQMCQkMBQkVBg4LAwcIBwYDBAUADQUJDwUDCwAEBAkOCAIJAwYDBQMLAQUDCwQHAAMBDwgNBQUKBAIMBQEDCAUIAgYDEAkNAQIHDQ0FCgQCCBEHEQgHAwkEAQEFAwQBAQIMAQcGCgEFCAIBBQMBBggIBwMFEg0IAwIBAgMDAQQIBAIHAQUBBRMEAgYCAQwDAAMEFQYFAwgEBwQIDwkFAwQQCAIGAwQAAAMFDwQFCQgBBgkCBBMOBwgFCAcLCgUWBgsHAQQBBAcEBwYEBwkODgUFEwYPCAIICA0GAgsDAwcEDwMEAAMBFgEHBgcDCQUGBBAPBQECAgMEAgEOCQIDBQoLAwcMGAILBgsCDgQQCggNBgMBAQABAAELDQsABAECEgsMAgcJBwMEBA0BFgIRCQQJAxUOAQMKCQoIFxcJHQUDBwwGCQwLBgsJGQEOBwUFDhYHBxIECQwHBwQUCgUFCAkLBQgOEAYCCQUICgcDBwsFCAEEAwUSBwgQCg8JAwwBBAQEDwUFBAMGAQQCBgwBAgcFAgQMCQQEAwMJBQUIAgUIAw4FBgICAgYABhEAAgQKAAkCDAIBBQIAChEGAQEFAQQBAAUFCgcICAMDBgUDBAEEBgUECgsGCgQGBRADCwMFBQcECAMQBgIDBgYMBgcNBAsHAQgFBQMDAwkEDAQGAwIHAQYBAw0KBAEDCQYAAgQABQMSBAEEBAMDCAkDBg8MBQYDAwUIBQIIBQYLDAYKAgYDEggOBAELAwEEAwsGBgQJAgQBAAIFAQIDCBIHBAQCDQ0KCwcHDQQFDwQWBwECAgMBAAIGAgAABgYDAQoDBQUHBgYPAgQCAwIEAQ0ECAgICwEMBwcHBAEABAEFBwwBDQMIAgEBBBAGCwUEBwQGCwIHBAIHBgcDAgQGAwwEEQMGEwsICQYPBAEBEAMJBAUCBQEBAhENCgMCAQUBAQADAwwDBQMIAQUGEAwBBAQCCwAMBAEHCQYLAAEBBQAHAgULBRQJBQUMCA4CBgEDBAIBAgIPBgcCAgkEBAUJEAYJAgEFBQIDDgQIAAMBCQcIAwULBQ0CAwACAQIEBhABDQgCAhUDAAUCAAMDBAEBAwkQBhMKBgMGCAUPAgYFAQMDAQEDBwMGBgcDBQoABggOAgkFBgcNCgQEAQEBBAcCBwQBBQcIAQ0GBA4FAwUHBwYBEAIGAgMFAAsFBgYGCgYGAQEBAgIDBQoGAQMIEgUIEAwHBAwCBAQDAQEBAAECAggHAwIBBAQMAQEBAQAABAQDBAMGCQwHBA8EDgcEAwEDDAYOCQQCAQoRDAoGEQsNAwoOEQ0FAw8IBwIIAQUSBQoLBgwTCQQGDgQKBwoRCgMSBw0ABwcREwMLBgYLEAgJDQYFAwsDBgcEDAUPAQ4CBAEAAwIGBgoFAgMAAwIJCAINCAAEBAMCAwgBCAEAAwIBBgYJCQIHCAYBBAUCAQcCAwEGCQcBBgsCBwQMBQgRAwYHCQcDAgYIAwEEAQwICAQDBQMDAgcKAg8HAAQHAwQFBQMCAQAEAgcJAwMCAgcIBQoFCwgEAgcCAQgABBIFBgMBBhACBg4IBQcDBAwGBgoDBgAUCwYHCA0HAAIQDA0FBQoBAQQJAgABAAkHBgoFCwkAAAYLAAcGEwUGBQMDCgQICQMHCAMFDAUPCAwJCAcDAQIGCQUCAgQQDAwEBQ0ECgIOBQMJBgUDAQsCGAwJBQYECgECAQYHCQ8CAgIBAQUMBwcJCAUFBAMJCAoEBQEFAwADAgcBAgMCAAMICwUDBwoHBAILEgkKBwEIBQoXBwIHAwIBBgMGCwcBBAECAgMQBQEGBAMDBQIBAQIGAwUDDAAJBgIAAggMDQcJCgUDDAIJAwMCCAIJBwcAAAECAQYECwUCBQYHBgYKBgQCBgQACwINEw8FBAMGBwIDAg0FBgUBBRkLAw0FDQcGCA0CAgUFAwMCAwIDBQ4GBQQIBwkDBwIBAAQJEwEDBgYAAQIHBQgDAQUJFQMFCAYMBwQEBwMHAQIBAgQBAgIJBwUGAAMABgMKAgYEBA8LBgMCAgIOAwYKEgUJBgQHBAYCEAsDBAEGBgcDBgkCDQQFBAoBAgMDEgcIAwQCBAYLBQQFAAIIDQQGBQUBBwIEAhMEAwIKBQQFARQJAgMMAwEGCAEFCAUGEQsYAgAIDAwOBAUCBQEAAQ4HBwMODRMKBgYECQMGBQcBAQQKAwwGBgYRBQMHBgkFAxQDCREGBAcCCQcFAwcBCgkHBAoGBAQCAwUFBgIEAwgCBAgHCAYECgMNAQYDAggBBAcLAQsHAAIEBQQGABMFDAwCBAkDCAwIDQQEBgYQEAAIDwoMAwoMBgMFAQcCAwUHCgABAAQDAgkBBgYDBwAABQQMBgoFBgoHBAMCBAEDBwMTBAUEAQMBAgQCCAUGBgQMDAgABg4HBAIFBwMEBwkCAwgDBgkGBAoCBQUDAgEFCgwICQwBBQcCAgIIAwYHCQQJBAEBAAEBBQkHAQQMCwYEAQgKDAcMCgEGBwICBQIDAwwJCAIIAgUIBwgJCAgIBQcCAgICDAQGAgwOCAgNCAUDAxEEAwUFAwECDQIQABgFBgYGAgYKAQUEAAEAAAgJBQgIEAgICQkOBAIMAQYCCAcDBAoIEAQDBQoFBAUDAwEAEQgBAQIEBAAAAQYBBg0ICAcECAUHEQMUBQEDCgcJBAUDCwIEAwYFBAIKBQUKCQ8OBgYBCgIDAAYCAgMHAgADAAIBAQUBAwYDDggNAQQFEAsJEAwDCAQDEAECBQMBBAMIBwIKBAMNEwQHCgYABQYHAgACBwkIAwkDAgQBBAYHBwICAgYFCgoGAwcSBQQGBgkEAAoVCgkIBwwFARAABAIEAQgHABECCQEIAwYKAgEDBQgEBwYGAgIBAgEKAwECCAoFBgIGBQgFBAoHBQwHDQEFBAAAAAECAAEFBw0RBQEGAgIEBQoDBQIAAw8ECwwIDQYLBQUCBg4PCwQCBwUIBQUHEAkEAw0GCAMBAxQEDAYCAwkSAQkDAw8HBgQCBwICBQgKAwQHBgUEAwEDAgQCCA0CBgAEDwYDCgMDBQMCEQEBBwQDCQYNCQQAAgEBAggHBgsECgcPCQMCAQ4AAwkHCQwXBQoFAQEFDwUMAQIDBQQDCwEDBwEBAQICBgIABAYDCQ8LCAMBAQMBAAQFDAEBAgACBAkIDwEFBQcBAgEHBQIICgEAAgEBBwcDAwYFBgUAEAkECAcDBAkDBREHBgIFCA8PBAoECwQHAwUCBQYFBAYJAw8GAggICwIGEQUHDgUCAQICBREDAgEHCgUFBQ0FDAgCBAEEBAAIBAkGAAMFAwEGCwMMBQMNBwQCAQEEAAUBBgYJBgECBgQIBAUHEwYEEQUEBAYLBQcHAQUBAgECBAcABgMIEgENAwYJBBQHBAUCAgIKDQICAQEFAgUECAEEAQQEBAsEAA0OBAMPCAgDEAUJAAQCAAMIAQIBCQQHBA4GBQYEBAEFBAAEBQILAgkQCAkDBwQIBQEHBQYBBgUGDQIIAggGAwcRBQQDBQYEDQQJAwEEBQMBAgIFAAAJDwINAwICCAEBCAgGBgEAAgMBAAUDBQQFDQsDBQUKEAQDCAgEBw0CAQIAAgMIBA4JBAkKBgYPEAELBgMDBAYRBxINAwQDAQIFAgQAAAAAAwoOAgcDDAgLAwUDAAUHBAMEBQgEAAEBBQMCBAQBAgQJCAkLCAQHBAECBggDEAEEBQICAwUGAg0HBwoEBQEJBQcBCQQEDBIIBAgKAggEBggLBQ0FCwABAQMGAAYDDwAOBwoEBwYGBggMAwILCggEDQQDBwEBCQQJBgYCBAEJCAgLCwkOCg4DBAUHBAIBAwIOCAEDCggFEQIGDAQFDQULAwIAAQECAAEFAhAEAwkMBAEDEgYGGAMGAgIeAAIFAQALAwEGAgMLCRgCAgYGFAIDCQoAGAMKBAQCAQkCAAEDBAICBBAMBwEDAwgBBAgJAwgGABQTAwICAgUFAQUJBAMAAQMGCAYDERQCAgoDBQUFAgcNAgUHDQUEBQQIAAUDBBcJAggDCQUDBgIGAhICBwcFAwIFAgMIAgYDERAFAgoBBwUCCwkDBQMBAwACAwgFAwIFBAcGBggAAgQBAQkMBQYBAAEHBwEDAAIDAAsFBAURBAUCAQkGDgYFAREVCg4FEREGCgIGCAQJBAQHAgQCBA8BBgIKBgcGDAgIEwgCBgYEAwIDCQYGBQcJAwEDDAMSBQUEBQUEAwYEAgEOCAIBAwMNAgoDAQoEBQUBAgQDBwIJAwUSCAcOCQAEAwECAgAHAwkHBgUFAgMABQUFAgMEFw0DBAoKCQ4CAAEAAAAUBAEBAQAAAAEAEQkPBQQBBQUCBg8RDgUMAQUKAwQPAgELBggGBAEGAAAAAAIIBQgICQECAgIHAAMLDQ0CAwsEEQUFBQkDAgkDAAgGFAMIAQMLBAMBCQ4GCw0NDAwFAgMAAQEDCgIGBRUCAQIBAgMBBAMJDgoIBAUQBwwCDQUFAwoTFAgDBAYGCAIEAgcAAwIBDwgLCgoPBwgKBAIFBwYJBQUGAQkJDxMJBgMDAAsDBAgGAgsTAAoACwEDBQgGBQwLBggJBxYFCQMGCQUGEwUKAAMEBw4TBQIFAQcCBREICgcFAgQEAAEJAQECAwYFBgAEBgcIBwkNBggNDAkKBAMDBAIHAgQJBQUNAgEDBAADFQQKDgYFDgcFBwUDBwIECQQMAwgGBQAFAQIAAAEEBwkJEw8GAhQAAQkFAxEKBBMKEwEJCAoHDA8FAgADBAUBBA4CCg4QAgIBAAAEBA4CAQcIBwMFAwIAAwMBBAsCBAEECQ8HCgwECwcBBwYEBAEBCgUBAgwNAQcDCAAECQMGCwoHAgYFCwwABAQFBgUJBAYGAQAMAgABBgMECgMAAAIGAQQBBwEEEAIEBQcEBgwJBAEDDQIRBwUGAwkFBQoDBwsDCgQFAwQDAwUGAwQGAAYBAwQABgYIAw0PAQQDAwAFAgYDAwgBBAIDBQsNCAUEAAMKDAUDAwYMCQEEBAAJCAMEAAEDBQcDAwkDCAgBAwYMAQkDBBgFBgIEBAMCBgEGDgMFBQgDBgECDwkKAQoHAwMCCgkQAgoECQwICgUEEwgFEwQHAgUFCQIFAwgCBxUFBQwEAwUHAgMFBgUOEAYDBQUODQ0JDAYBBAYEBAICAQUGCRAGBAYDBgIEDAkHAwQDAgUFEAkGAgwQCQAFBQoGDwQDCgwJAgQBCwcFBQcCBAEDAwYDCQ8FBRMKCAwFFgICCgkIBQ4FCAIDBgUKBAMFCwQIBgMBAwQEAwQIBgIFBBQKAQcLBAUNBAEEAQQICAgFBgoOFAcCBAUCBAgCAwABAgIGAwgEAwcDBAICAggHCBAJAQcJCQoLBhIEBRQGBAoAAQkEBgIBAgMECwUGDwYNBwoHBAUCBgQICQEDBgcFDgcCAhUDBQQJAwQEBQMGBgUIDgQCAgIEGQoFCQILAwgDAgYNCAYCCwMFDAYEAQEFAwcIDgADDAwODAoECwMDBwUOCQADAQQABQcBCBEJBwMHAQsGCAkBBgoFBQUGAQMTBgwEBQYIBgIBEgIEBAQPCwMMCQMHBwQFBQIRCQUJCQQCAhEBCAIDFAwDEQUDDQMKDAsDAwEABQIEAQEDAwENBAQJBBAEBQMQDQQFAwIEAwQLBAMAAgkDAwMGAQADBQ8HAQkFCQYHAgEBCQ4FCwgGAwwHBwMBDAIEBAoJBAcGCwAFBg8MBAkAAAMFBAoKAggCBgMAAQYEAg8EBwMNDgELBQcJAwEAAgoDBhIHCAgGDwIGBA4DAgQCCAIICAYBAwEDAgcDFAMAAgEFBgMHAQcGBAcLBQkBCAgJBAUHCAwIAQMGAgoEGQEFDAQKDAUOAQUEBAkBCggGCQoIFQ4MAgYFBgUEAQMCCgAGBwIGBAgAAgQAEQYFAgIHCgsFBxMEAggHCgQEBQIFAgIBAwUDDggOBAkLBwIIAggJAwYECgkHEAgBAgYNBgUGAxQSCwgCAQQGCgkIBQYBDwYFBAEDAQkIBgYDBA4EEgMGAgcCBAMJCw4IAgEGAwsDAwcHAAABAQIECQ0EEgAGAgUGBAcICRYJBgQDBRYGAAcIBAwKGAADEgYEAAIFBgQFBQ4IAwQDBAsEBxICCQYIDQUKAgYAAwgHBQgHAgQBBAwGCgIRAw0JDAwIBAgGAw0VDAMBAAUFBAcFBwUIAQYQBQIGEQsEBAkICBECAg0HCgIJAwoKBAsGCQIKEwQVBwYIAgYEAQYNDgEEBAoKCAUIEg0HBQgCCAsIBgEIAAIKAgMICAQGAgEFAgYHAwIOCBkFBg4FEBoRCgYFAwoEBQEGBAIPCgICBAQIDAgABgIEAwEABAIJCAYGABACBwEEAAIFCAkIBwwFBgMBAwQGBQMNAwQGAgIDAwEDEAIEEQkHBwULAhILBAsACgYGDA8GAgICCgEPAQYBBAMAAAEBBAkLDgAEDAUAAgoEBQkHCwYABQEBAQUFBAYCAwUDBAADDgAJCAIGAgYFAAgDCQIHBgMPBgcDDAQIAwgLCAkAAQECAAIDAgEPBwMLDQ0CAQYCCAEDAwAFAAkCBwUCBQQQAwMJAAICAwYABAUCAQQGDwECCQgDCAMDCgEBEAQEDAcFBQYBBgcECAYECgYICAQNBQUOCQIKAQcEBwYFAgQFCwIBAgQDDgYCCgkRCgkKCw4HBQoIBwMGAg0EBAANEAkIBQsCDAoIDQYHAwUECQ4ICQUEEwgGBAELAAECBggIBQwGBwYDAQUGAgEGBAkOBQ0CAggACAUPEw0ICwMJDAMICwICHA4DBAgFDwYDBQEODgwVCQMDBAMJDQYGBgcFCAkJAAQBAgICCQwJFBUIBQgMBwoIAQEDAQYCAgIEAwQIBAUIAgsGBAkHAwICBwQBCAULCAoBAggEAgsHCAMDAwEDAQQDBAQIAxMIBwcDBQsEAwkEBAUCAwQMEQoCAgIECwcDBQECAhQEAwMDAgABAwIJBAYBAQcDBwoIAQMHAAYOBAUHAQgEAwMEBAIGBAIDDAEIAwcKCQYLBAQHDgQHBwQCCQcRAgMLAwsGCAkDBwMFCAwBEAwCBggCCwYIAwcIAxMGBAsFAAQBAQMGDwUIAwIJBAIFAQMDAAEKAwEBAgMDCBINBwsKAxUGAwcCBAsOBQwCBxMFBAMHBggCCQoKBQYGBAcFCwUJBQMKAQQDBAgCBQgKBgsGBAMLBhgEBAINCwUABAIGCAwCAwEDAwMEBAQJDgcHAwQMBQwECwMBBw0HAg0GCQYEDhMLAQQFCQUFFAkDAgQHCAgJBQcKBxEGAwcCChINBgIHAwMDCA8GAwYAAQIEAQALBwMIAw8HCAgCBQMCAwICBAEAAQgJAgQJCQICAgERCAEMCQgHAwkCBQMHBBgKAAMEBwMCAwEADQQLAgMFAQgEBAgHBgEBBwECAgQCAQIEAxAHBQEJAgEGAwsCCwoABAUFBwkJDQIJAgcKAwQCBAAJBgADCggJBgQABAcCAwYBAxECBgkECAUCCwQGBwMFDQMAAwUFBQIKDwMJDQUIAQgCCBQHDwkGDgMABwYGAQAGCQQBDQIBBAMEEAYCBQERAQkDCgEBAwUDCgMJAQkDBAECAwcDDgMGCgIBBAkBAwEDCAgLCQAGAQAGAgEACQMDBAkBAw0KBQsMBAUIBQQCBQsTBwUACQUDAQMECAgMAgIACQMDCQIMBA4FCQAJBAgTCQIEDwsHBQQRCgADBQIEAgIKBQcFCwgeEQcCAQYJAwQJDQYDBhQHCwcLDgIGCAwGAwcQBwMCCQUEAAgHCAgCBwgGAhIFCQEFDgIDAgMBCAcOFQIECwUHCAkBBwwMCQwABwIECAQGAAQDAwMBCA4KBAgIAAAECwEJBQkAAwwDBw0NAwkFBgUFCAUCAgEJBAcADwwIBAsNCAkMAgcABwUFAQYGAgQGAg0DBQMBAAcHBAACBAMHAwADAggHAgQEAwgFAQsDBQQICQgEBAMCBgIBBAoDCQENCgUCAggEBgUHBQkJDgcCBwcCBQMDAQEDAhEGAwYDEwUFEQMMCwwHBBAQBQcFBgcJCQQCAgMHAwIGCgIEDQwGBQQMBAcECwUJAwQHBgQOBQ0RBwwPBwcCBQUFDwUHBgsHCgQACAcBBwUUFAkKARABBgoLCAEIFgcLAwEEEQYAAQEAAQMIBwUBBQgECQoCAQQAAwIHBgIECw4IAQQPAwcFFAMWBgUFAxIVBgUFFgQEDgEOCAIDAwsHAA0DBwIGFAQEBAMAAAUHBgMWBQsMAQIDCgYKAQIABgIDBQEBCQEUBAYKAQADAgIEDQIDBAIBAgMBBBIHDAIIAAgHCQMDBgIDAgUBBgIBCwILAQUFAQgEAgUKBwwDAQYLCgYHFQIFCwULAhkECwcFDA0GBwMGBAICAgUGBAwLBAMBBwMECQcFDhwFBAoCFQUEAwMEBwQPAQsBCQMGAQcFAQYCAQgDAwgICAMNBQgHBQcHBAQCCwMEAAMAAQUEBwMFAAIEAQMFBAQDBQIDAQEABAkJBgEGBAICAAYIBggEFA0OAQELBQkCCA0LAwIEAgMEAwIFBAwHAgYDAgIDAgwFAQUCBgABAAkFAwMDAQIHEgUGBgYHBA8CDgcBBAIFBwAGAwYFAwABAwQCCAwEBAICCgcEAwAFCQcQAAoAEQQCBgIBAwUJAQMACgMNAAEJCgUQBgUFAgMABQMDDAUEBAUEAQYCAggEAQsHAwQJAwQIBAgAAwMEBAMABAIHBgcSBwsHAwsHAQMGAwcFBAEHBAYWCgYBAwMCBQIEDAMFBAMJAxAEBgkBBgQFDAUKAwIKBQkBAgsEBwIVCggHBQsICAQBEQYMBgUFAwIJAQkGBwAKAQUIAwELAwsNBgkDAQMFAg8MAwYVAw0HAwMBBAUEAQkNBAUKBQcBBw0GDQEDAwMEAwcKAwwKAgUMBAcCFAoDCgIGDgIECQsPAwEBCQkEBQkBCgEDAQ0OAgUGCQQIAhAJCBAIDAMBAQADAggKCAEbBAsEBgsTBwQKBwIECgUKBw8EBAMFBhIUBA8HGgMEEAYJBwEFBgEEAwMHBQsGBgIFAgYBBAYDCBUMBQIHBAQHEBEOAQgFCQsFBQYGBwEBAQUJDQUOBwcFDAMCBQwJBgMCAQIDCQkIBQMHBgQDAQQHAgQEBAECBQEGEAoPCAMGAQIIBg0ICwkEBAEEAwwOBQYEAQoHBQUABQMCAQUCEwcFAQwDCQwEFwcPBwoOCxAJCQQKDgIOBgQFAgIDAgEEAhEUCAEQCxIHBQMCCAMAAgIAAQACCwILAwQBAAIABwIFAwIPCAYMDwQNBAUHAQMABAIDAAQABQIFBQYFBwESBgkDAAYCAQEFCAwHBQYBAwUCBg8MBgIBEAUMEgEJBAICAgICAg0BCg4BAgcFBgEACgQHCgQLBgkFEAIDAwUFBAECAQYPCAcDBAIDAgEGBRAABwMDAQgCBAcFDQkGBxEABQkBBgcDDggABgMIBwQGBQ0GAgsDDAAIBQEEAQUFCwkIAgkCAwYCCAYBBQEICgMDAQkRBAkBAgMJAwsCBgcCAgYHCQMQAgYHBAQFAwMCAAIDFQgDAgQEBAIDBAgCCgQJCgUDBw4AAQAAAQcGAgYBBQ0OBQ0QAA4EBQQHBgQEDgkFBQIJCQQFAgYDAwsOBwIGAQYAAgAABAkXAwECCAECCwQKCQACAQYZCQYCBA0HCwMSCwIEAwAAAAEABwYBAAEEAQcPAgYLBhEGCwcGAQIDAgECABMEAw8ECQYJCQcAAQUCCAUAAAIDBQcRCggGAQoGAgMEAggADwgDAQEBCAQFAQsOBw4IBAEFAwcFCRADCAAAAQMDCAMJBAINCAsCCggICAgMBwgDBwsDAwUEAQsJAwUDAwMBAgEHBAUHBgMLDg0EAwMFAgEIAgkEBgYCAwIQAgsBAwIJAg0HBgACAQMBAwMFAAIKAxQMBQUHBQMOAAAIAgIFBQUBAgwFBBAEBhAPAQwFAwMEAgIABAMCCAQFBwcJEQUEAhMKAwgFBAEcCQMDAwQAAgIPCQgBBQIADAEIBQQBBwkOBAQPBg4HCAUIBgIFAwQGAAIDCgMOBQcBAQIDAQEGBAMEChIEBQMBBAIBAwYHBAwAAgIKAwgFAwsFDwIABQEBDgYFBQYFBQUEAAUCFQIDBAIAAgQHCQUGCAQGBwEAAAwKCQMQBAwIDgQGBwIGDgkACQgRCQYDBgYBBgMAAAMDCQ0DAAYDAgECAgEBBAIFCggDCwEGCQYBAQIBAQICBQEIAwgJDAUCDA0EAQgCAgMNBAkCAw0KBAUAAgoHDwEKCQMGEgECAgMBBAkECAIGBwcMDwANBgYBAwIDAAMNAhQDBgIABwMBDQUGBQQDAgQDCgsIAwcCDwgMAgMJAgETDAQCBAIAAQkGDQQEAQIHAgIPEQYBCwEFBwIEBAsHDQUKBAEGBgEICQEKBQQFCAYGAg8ADAoDAwEBBwUBAxgIAwQPGAgGJAMKEgkNDg0IBAIEAwECAgIECQ0JAgQGAwQEBQYCAwcFAgEDAQ0CAwICCgEMBgEEAwQCBgQDCQYEAgMBAwgHBwUDAAcFCwMFAw4ACBACBAoFBQcDBQUCBQwEAxAJAgkHDwkDCgYIAwAEAQYGCgsSAwIIDwMEAgYBBQAMAxAFBgMCAQcBBAMCAQsEAwAAAQkQCw4DAwIBAgIHBwALBwUNCAwCBQgDCgYEAwAGAQIDAwQDCQkKBgcBAAAAAgkHEQMCBQEPBwAMBQUKCQ0HAgcJAgEAAAEPAgUEAwgLDhAGCQAMAg4ICAMHBAUDBgoDAwAAAAAJBQYSAxYDFAMTCgIKDQQBCggFAgUKDgQCAwIBAwEKAQ8FBQEBBAMDAAUBAAIICQUEAgEBAAEBBwMKCQUCAwcABAoMDgcEAgQCBgcGBRwOCwQHCQ8IGgYDDw0DAwgDAgYECQUCAQIBAAACBQ0GBgkKBAMXAwcECQQNCAsKCAUBCQMFAwkLBQMDAQABAgMDBAsFBwwCAhcVCQULAwUFCQYIAwICAwEGAwgVDQcGEAkNCwYMDgUHBQIFCwEGBAIABwYFCwUEDw0HBwMPBgQIBBIKChYBAgIDAQMIDAsXCwQCBgUAAQQFAA4EBgIBBAwIAwUDCwMJAwYHAwMKBQUCBQICCgkFEwILCgMEBgwICAUMAwsEEwkFAQsEDwQFBAUCCgcEAwgGCAQDAAMAAQQUCgUBBg0EAQIFAgUCAwUHCxEQBBINAwMEDAUABQQNCQgABgQFBQQECAwEAgQDAgUAAAQFBRQDCAQIDBEFAQMDAwAQBAcEAAECBQAECQICBwcKBQgMAgIHBAQGBAoJAgEBAgMEAQcIBwkBAgQBBAEBAQICCgIDCwIBAAMFBQsGCQYEBAUDBAwMBQoLAQYDCAcIDQ0JBQEEAQMGAwMNAwQIAgUDDAUJAggBAw8CAQQOCQoDAgIAAgEAAwICBQwHCQUFAwQIAAYEAgEDBQQBCA8DAwYNBQMGDgwDBgIEDAYIBgUBAgAEBwkLBwUJCQUPAwkHAwUHAw8NDAQDEQIBBwEBCAUFCAQGDQkIChIGDQkHBQUFBg4CEAIFAw0EBgQCAwISBhAGBAYECgQEBAAOBAYHAQUGAgYHAwsEDAUCBQIFAAIJBAoIAwEABgUCBwIEBgEJBQIRCAUAAQEIAAMGCgQQAwoIAwYCAwEJCwENFgEGBAkMAwELAgwEAgMBCgkDDwgFDwcFBQEGBQcBCgIHAQEBCwMAAgMDAwMKCQcNBBAACgQDBgIGCQkBCAEEAAMBBggBBAYHCgYCDQQBAwMGAAsHCAQPCAMFBAIEBQQCDgcGAwIEBAIEAAUFBwgCHQYJBAAFCQQEAgkDAgARBgsNCAsLCA4HCBYLAwMJBAQNBgEEAw4CCgcFEA8PBAcEBgEODgYCAAoNBQUFAgABAgQEAQcAAAkFBQYJEQYFAgIEAgcAAQEMBgEMBQUGCQYEFQUFCwMYBg8JAgQFAgcEDg4ABQUECgkEAQYACQEGAgkICQIBAwMEBBEKBgEDBQIGBAQDAwgPBQoEBA8DBgUABwkJFQMEAQABAQEEAwgCAwMEBgICCQYDAQAKCgsABwwCBAcHAgUCDwMBCAMEAAoEBgcGBAUJCQcDBwYPBg8GAw0CCg0EBwYDAwAAAgYECgABAwEBBQQFBRMECAMEAgQKCAcMAggBAwcBAgICAwUCCw8KBwcFAwUMDwIFBBUNBwgDBQEYDAkCAwcDDAUGCAYGCQUECRQKAwgBBgYMFQcQCwIDAQUHBgUEBg4GBAECBwECARQCAQYGDBALCgUDBw0FCgMBBw0cBQgGCQMJBAYDBQMKAgIGCAUBDgUMAQwKAwECCQUGBAwLBAQDAgUGDgUJCBQHEgoGAwUGBwQEBwEAAAgCBAQBBgEMBAkMCAQNBQgBBAcCBgEEBgwIAAEJBwMMBgoDBQABAQUEBwcHDQQRAwUJCwYCAgALBQcGAgYKBQ0NBQYBChAABwQEDgkCCw8HAgAAAQAICQQCAwUDAwYFAwAAAAAEBwEGBAQDBwQOAgMFAAELDwMCCAEIAAYJCgMJBQEBAgUCAAAHDwUNAgUABgYHBwIBDAAHCQAGAgUGCAECBgEFAQ4CBQkCDAEDAgoCAwgBAQIBBQkRAgUGBAcDAAQJAggMBAkBEQATCQYIDBACBAgBBAoDAwQCAAMEBAAGAwIFCBADAgwBAwsFDgcFCQEQDAMJBgQDBgoEBgkDBAUFBAIIAgQEAQMOCAMEBgIGBAoKAwIEAAECBAEBAAMRDwEAAggIAgQKBwcHBAQODQAIBAQEBQgDBwQOAw4GBAMDEwYECAwIAAUADwQFCAQLAQYIBQAHCAQKAwgBAQYABREBBAMABggEAAMHDwwHBggKCgEBAQYIBwYKDQIFEBQFCQMRDgoHCwIGBwEPChIJEgQDAgAFBQQFAwsFDAoNCAkRCgMHAAMJAwwEAwIDAwQBCggTAQsFBQcHBwIICAICAAAAAQ0CCQYBAgAFAAMGCgUHBwgBCQoLAQIJAgANAQYNDAcCAwkDBQcNDAMLAwsQDAkGAQgMAgUAAQAGAgEFAgkKAxAJEwUIBwUEBgwKBgMCBQkEBQEDAwMKCAYDAA0EAgUEAQMDAgQBBwEHAQQKAwQEEQ4MAQIDBggGAwUHDAMKAwUQBQgEDwgHAwIGBAYIBAQHBQUFFAYMBQUEAgQBAgUJCAEOCQIBBgEBBAACFgUECQQFBQYHAAQJCAoEDA4GBAMNAhEIBQMHBAMFBAcKBgkDBQMDDggGBAQGAAcBAQIJBgkGAwABAgMBCQMHGgUDBgcDBg8EAwIQDwMGBwYNCAkTAwMODAwDAAACAgMADwUCAA0FEAQMAQkKCBAJBQUAAgMFBAQBCgcLAQEFCgIPBAIKAwEDBgQTAw0BBQUCCA8KCAgGBAYKAQ8DBQQCAAEBAAIDDAQCBgUIDQcBDwYIAwUEAgQOCAkJCAgFAgMDAgIDDQwFCAIABQMHAgsGBAAHBgIHBAcCAQUAAAQFAAUBAgUDBwcMCgcCAgcJBgIIAgQAAgQDDAQGAgYCCgYGAwUAAQUDAgECAAIMCQMCCwEHBwIAAAcIAwEBAgMDAw0JBAAVCAMEBgkLDgwCBxYCBAQIBwMEBQEDCAIABAUGCwEOBQgGBgIDAQEACAkFAwoEBgMIBQkHDAIFAgYDAgUGBg0GCgcFAgMIAgsLAgYDAwAAAAYHCwcGAQMAAQMEBQsEBQALCwoLDQEEAwIEAgEBBQgABgQEDQIEBgcCCwUFBgELBAkFDQALBQMGAgcBAQULAQIDCQQGCAAICQUJDwYFBgMGBAQFAwcFBgcIBQYEAgEDBgMTAgsCAQcEAgoEAwMIAgUEBQgHCgMJCgUCBQUDDAwCAw4BAgEBBgkGBgUGBAwLAgUEBQIBAgQABAECCQ0CCAIFBwEAAAECAAoOEhgFBQkHFggMBxELAwMDBAIEAwgHAQoCAgoGAwMKBgIJDAECBAYAAAcNEgMEBAYIAwAJBgMEBgYKAgYBAAIBAgAJAwgCCAMDCgQGBAIDAQMAAQICBgMEBQMFBAcEBgMMDAUBBQIDBQIACAoDBQYHAxMHCwULDAICBAIGAQQJCgIDCAwMCAcCDAIHBAAFAQUECgAFCAAMCAMFDgUMBwMCAA0CCggFBggLCAQGAQQEAQECCgcKBgUEBgYHBQgMDwMIBQUIBgMMDgYGAwQEAQUHFAcEBQsIBA4JEAYNDAgDCgoEAQEDCAIDAQECAAYCBQMMAwkFBgEKBAcKBgILBBEDCgcCBgEFBwkFBQUHBAILCQMJAwwLBwMLBAQKAQYGCwoCAwMCAgEGAw0EEgUDCwQBAwQDBgYDFQEFAQUGBAcGCg8AAwcHAwQKCRwKAw0KAgUCBQEAAQMGAQUBBQgGAgQJBwEIBgYVBgsDAQUDAQMDAQgODgQOBAkKBwAEAwIBAwMBAwUPBAcFCQUCAgISCQYCAQQDBwEAAgUDBgIHBAcBAwMBAgMBCAcDBAYABAEDAAwHBgsBAAoCAgoLCgQEBgYGDgMAAw0EAwUOBAIJAAoBAwMBDAQPAwsDBAYKAwQCAQQAAQUEBgcJBwgCBQkDEAERAwEABAYCAQQOCgUDAQwEAwcHAwMBBAoQDwUICQoBAQUGBAcCBwIBCAsGBAYHAwIPAwMEAQIBAgYBCAYHAQUKCAMCBQsGBgMAAwECAgEDAAIABgEHBQ4FAgQGAAcDBQEBAQECAxIDBAIFAgMNAg4BBQQFAQUBCQMBAwAAAgAABAkFBgQOAQsBDAYFAwQDBwUEAQMHDhMBBQsDAgEHBAUECBIIBQgBAgoGBQkBFgkKCBIFCwYDAQsCBQgDBgUGCQcHEAcEHQQGBAEABwoEAgIDCgoMBw4LBQICAgMAAAYKAwESAgMDBQQCBw8KBwABAQMBBQUGFAQKBwAABwUGCgUCCQsECQADAwIDBAkHAgQBAwADAQMGBxMKBgIAAgECAwsFAQQFAQAAAQkECAMCAQAAAgEBCQMAAAkFCgsBAwcMBgkKBggICQYUBw0CCgMLAgIGCgcJBAkCCAYBFAwDBgIEAwoGAgYIEgkGBAUEAwMaAwcDAwMGBQQHBAMEBgAICAgEAgMEBQkDBwwIEwUEFAQECQQFAwQDDA0CBgAIAgcGCQYMBwUDAgQCAQAEAwICAgcNBwUCBAoOCAQCAAEDCwoCBwACCgoCAwYODQ0JAwsIAQUEDAkRAAUHBgUCBwQECgUGCg4NCQYGCgUVCAIHBAUGCgcHBwYKAgUBCQEDBQYCEQgLBQEUBAIGBgUHBAQCBgMJEgcBAwQGAQsKBgYKBwMFAAIEAg0HAwUXEwQFAQUECAMHBgcFFQQGCAMEBAACBAMJCwEGBgEHDAsGAwoFAwQCAwsCAgQAAAEBAwwKBQsDBAUFBAcICwEFCQYECAUFAQsIAgEBCgMHBwMDAgsBBgABAQUCAAkJAQgEAgEKBgYIBQwCBgcCAgEDCAIHDAYBAAgBAQUHAQUFBAsCBAMBBgEBBgYDAQECAwEFBQUKBQILBAIEAgsOAgMEAQwIAwQCBBEHAwACAwcFBwYDAgIJDQcDBgUDBgMKBAQKBwEDAQYCCAcGBAgDDgkCCAMEAAcDEQICAgYIBAQCAgcNCQwFCAgRBQMHAwQDCQQIBRAADQMFAwwDAQQFBAYPAwYDAgMEBAACCwURBAYFBgQKCAkLBQUFBwcEAQ0CAQMHBAQEBQQABwwLAwcGBQMABgQEBwUIAwIBAQYDAQECCAsCDQYCBQYBAwsIAgIEBQEBAAMEEgIFCAEHAQMDBwUECQQICBEECAABAwIEBQ8LBQUJDwYFAgUFCwcDFA0GCwUFBAsGBwYCAgMHBgIHAgEDAQEFCA0DCA4GCwIFAAEBFQMOCAAEBwcFBAIFEQgCAwICAgICAwEDCgQHAhEEAAIBAAgKCAMIBQoJDgUMAwIDCgsICwMFBQMFBQQGCQQGDBcICgYEAQcBAQEIAwQNAwoEBAcGCAQDAwAEBQIGCwIAAgQBAgQDBQAEDwQGCBAFBgIDBAEFAAINDAIFBwYBBgsPBQUKCwsWCQcCBQcLDQsPBgUEDAMECBIDBAMFCAQCBQgAAAcCAgIBAQUFBBIFAwMBAAEQBQIFCAAFBAgGBw0JDAYGAwcDCAQBAQUFCQYPBAMLBQsPBw8DCQQFCgoPCQUJCQMEBAIFCg8FAwMBAgYAAgUBBAoBAAYCBQQECAYBBwEBBAkTCwUKAwgKDgsMCgURAgIMBQkHAwQGDggEBQoFCAEEAgIEBwgHCAIGBAYEBQYOBgsFFwcGCAUFAwICBBMOCAQFBAoLEQMGAwkGCgECAAEABgQJAQEBAQECAQgJBwsGBAADAgEDDQIJDAACAQQGCAMBCQQBAAAAAQACAgEBBwcEBgEMBAoEBwAAAAAACg4IAwYBAQEBAAQFBQgDAAAAAAACBgUBAwAAAAAACwkFBQoAAgAAAAQDCwkCAAAAAgABAAACAgsAAAMEBxAFCQcDAAMDBgEHBgcNBAEBAAMNAwMICwIBAQECCQYFDQgAAgAAAQYEDBAEAwUDBwcKBQEEBQAAAQMBBQ0DBQQGDAwEFQgMBA4EBQECBQMGEgoDDwABAgcCBwQLERYFAQMBAgcLCAoJBgAAAwECDQMGBAADAQABCgMIBQMBAAAAAAQSEAYBCQcACAAHBQsGCQoSBQYKCQgFBQQCAQECAAQRDxgICgcHEwgCAQEEAQUGBgUEBAkGBgMFAAMAAwQFBAMCCQkGAAgCBgcGEAMGAQIBAwEDAAAMCgQECQcJDAEFBAABAAIOBgUNCQYCAQYDBAgHDAMAAgIBAQkGCAcBAQACAgICCAUEAgABAgACAg0JAwUIAgcHAwYLChAJBAMDBQINBgUGAgICCQYBCwgKBQUAAAAAAAoKBggIAwICAQAJFRsPEQMSEwUMBhAFAwMAAAMBAQUIBgIDAAAAAAAEBgYCBAIAAQACBwYBAwIKBQoGCQgRDggFAQcCBwYHCAsKCgAGAgICBwUHBhAEAwEEAxQIBwkBBAIFAQQKDQQCCAEBAgIACA4CCAIBAQMEAwQFAgMBAAMDAwEEBQkLEgIGAgYBDQUPFAoICgwGAwoEBAEABQ8ECQkQBgMIBQIDAgMHBwoQBAIABA4DBgMGAQcDBAYGAwUMGAQCBgkRDQsEAgoFCQYBAgIAARILAQYFAwgFBQIGBAIEBgcQBQMDEwELBAMBBAICAgkCBAQJAQEDAQELCAIBBggQAwYNBQQQBg0CBQICBQIICgIHAwAFCAQHCw0LBgIAAgEBAgEGBQIFCQkPAgUGBgQCBgAKAAcCAgIABwUNBwIDEwgSBAIGBgsDBA8PBQgGAQEBAAEMBgQIBgYXDggEAQMGAwgKAxQEBQUIFQ8DChEDAQYJCgYHBAoJAAQDFxYFBQ0IAQsICQAJBAEFBg0KAgcFDQYGDgIBAQICDQkFAgIIAAcEAgcDDgoNAhgIEQgKDgQCBAcCAAECAwMEAwEOBwUDAwgBBAgDAwwEDQkCCgwHEAcDAgIFAAYCAAUGBgUHCQ4GBgoMAwUHEAoPAg8ICQgEBwYGAw4EAQIBBAMCAQwHAgYFAwIHBwUOBQwHAwQDDAoCBgoIDAYBCwMJBQEFAwQIAwgFFAQCBAEDAwUDAggEDAQJBwcFAwoEDwcMBQgLAgMCAQMKDAcCBgMCAQEACQEEAgkCBQUDAgABBAMABAQFBggDCwEMCAIDAgUHAhIDAAwOAQUFAgMBBQoIAgMCBAUABgMEAAYWCQYHBQMQBwQAAwAFAAQAAgMKBwEBAwINCQMBAQUHAAMDBQgIEAoQAwIDBRUJBQoBBgYOBAUHCQsHDwEBAAIIBwEACQIFBwIOBAgICwgBAAMLAQ8FBwkJDgcDBAYCAwoHBQADAwICAwQFBAoJAAEAAAIKCAkGCQQEAwIGCgkCBw4CAwYBBgYCBQkACgYJAgMGFwUECwEBAwEIAQ4ICAoDAQMCAQ0DBQIKAAEFAQMABAMLBwIBAwkFCAgDAwEFAAEBAQQEDAQEAwkDBQUEBQ0MBAEHBQoEBAIEAgUIBAINBAEDAQIDDwkAAAMHDAYBCAQMAwUJAgQIAQIFCwwDAAYDBQgDAgIHDA0NCAQGBQwGBQYRAg4CAwcNCgIQAAMCBgQEDAUQAQUOAgoDAwUMAwgMAwcCAAEEBgoBCg8CCAkMAgcKAgEEBAgEBRsNAggFDwMPAwEEAwgEAQsFCgoRCgUECwQIBwYDBAEBAQEABAYFAgEBAQkQCgsLBgQBBAEAAQQDBAMBCAsDDwoFCw4LCg4JBAUEDAIFBQIBBAwLAgUKBwsGBgIIAQMEDAkDAwcECQIDCA8ICQIJCgYCBAATDAkFBA4GEQMEAwYDAQEDBQsFCRAJCwkHCggEBwIECQcEAhMICQYEAwsCDQkHCAICAwcMAwUACwkEBwQJCgQRBAkGCwYJBgMLAQMAAAAAAAYEAAIDBAUDAAUDBgECBAURAggSDQQFDwECEAkDBAQKCgECCwwLAQUJAwQBCQcNDQgLAQICBQIGCAYHAxICCggPAgMEAQMIBAEBAwEBAQEFAwgPBgADAg0DAgUDAAYCBgEMCgsAAgAAAgwFBgQBDQwKCwQEBgMGBwEGBQMCDgECBQUBAQUDAgYKBBIEBAEGAwUEBQsFAgcHBgcFBxMNBAQECQMGGQMCDQUDBwECAAMLCQQDBxMDAAsLAgQBAAQDBAYBBAgDBgMKAwABAAMBBRAGBQUDAQQCExUKAg0CCQkGAQ4LBAoJBgcFAwIUBQQBAgECCAICBAUPEAIAAQcFAgYdBQECDRYDBAMBBQIGAgYCCAECAwIIAgACCQUABQgJCgEPCwwNAwgBBAsIBAIGBAIJDg4HCAwDAQMCAg4IBQ0HAAEEAgECDAYOBRIQBgYJAAIBAAQRDg4BAQgBDQMDABAKBgIHAAMAAQUNBwsGBwIDAgUFAwgGBgIHDwQDBQIDBw8DBAIAAQYJBwcEBwkQHAEEAwYHAgMDBQMDCQcPDAUHCwcHBQcCAAABDAkFBAIJCgoKAwQKCQgTCAIREgoHBwIKAQQEBgUIAgACAAIEAgECABMGAQkGEwcIBQIDBgQBAgUHCgoFCAQMCQcBDQQKBQYEDAgFAwoDBAwICQMICREEAAEHBgQCAgABAQMDBQgHBAgHAAsGBgYEDAMDAQoACgEBAQEFAAEDCQYLBwQBEgMCEwMGBAQGBgwEBgEEAQQHBAUGBQMQCAICBQUDARAECAgCAgIICgIQAwECAwIEBAgFDAYNAwMCBAQFAwQABAkJCwUCFAcGAgEICQQDAAMEAgEEAwQDAAcIAA8ABQUFDAMEEAMOEwQLBAYBBQkGAwoICAADAQcKCwMMBhEJBgYEBQQDBQ8FDQAJCxIKAwgEBgMFAQQKCQYKCQEFAQAOCAgBAwIBAAIDCQYNAgECDAcDAgMODQkDAgkEBAECDAUECAwHEgoGAAIBAQYJEwUNBwoMDwIECQcJAwQFDRIGBwMGDgUGEQcQCAMABAEBAg0GAgUKBwIFBAgCAgAFAgQGBAwFAgEAAAABBgYCAgwMBQMDAQUDBAgKFQIGBQIDBQECBA0GDgUBAAICAwsECAQBCQMMBAkFDAoRCwICBwEDBgIDEAMEBQMKBQkMAAgAAwoDDAsHAgEACQYBAwECCgUDAgUEBwoJCAAHAQMEAwMFAAADCAMBBgMJAwkDBwIDCgQDChUICgQFCggIAg8ICgEDAwECBAkFBAQGBAEEAQQEAwMDAAQDAwADCQkHBQgHARMFBA0CBAMBBBoQBwUGBQEBAwYIBgULFAkNBQYOBwACBQ0BDAUQCwUaAwQKCwcTBQMMAAoDDA4GEgUDAgEBAgUECAQHAgIEAgQKAwYFAQkDBgwBBBMGBAsAAAIAAQAAAAABBAcBCgQECQoGAQQHAgQFAAABAQECBAwPBQIEAgACBgYIBwIHBBANAwoLAg8RBgQIAwMEAQMAAgkHBwMEAwMFAAEFAwYFBgABAgAACwwFEgMAAAICABMUCwUIBgMCAwYKAwwDBgIAAQIACwYLFQYDAQINBQICAQMMAQkADQETDQsGBgAAAQICAwgLCQcAAQAAAAgDBgcIAQABAAAKBQYDBQIGAQIFCQgHDQgBAgMAABITCAMNAAICAAAFAgUGBQIFBAgICgQCCQcEAAAAAQMFBQQFAQAAAgAEDwwDBgEEAQkACQUQBwEAAgICAAoKEQ0HBQMAAQAFAgIFBAUJBA0CAgUBBwIAAAAAAAUCAQUFAAAAAAADExANBQECBwcIBAoEBgMDAQIBAA4GCQMNCA0RAwERBggCCgAAAAAAAwEIAQIIAwcIBQsDDwMDAgoMBAMFCQMEBQQCAgEBBQUBAwEJBAoFBAkHAQsNAwwABgIEAwMKAwYAAQQCBQoBBAQAAAMCAQEDAgIBBBUOBwkDBwUABAAHBAMCBAYNBQwAAAQCAAUFBgQDBAQFAQQEAAADAQgMBgEDBgkIBAQDAAABAAUDCQUEAAEBAgAAAAQCBQAAAAAAAwkHDQMBAAEEAwYPBwsKAQICAAIJHwQLBQYHDwEEAgMCBgQBAQAAAQIDAQEDDAcJDgQLFBAKCwEBBQIDBQ4TBwgBAQIBAAMEBQIGAQwGBgMIBAgFBwEDAQEDBA8HCAUAAwAAAAkPBwQRAgMDAgEEBhYIBgIGBAMBBgYFAQEOCQcMDAgCAwUCBw8CAggHAgQBAw0KAQ8IDgUDAwUAAgUBAggBDQcIBAkJBAkLBwIABQQEAQMIBAYDAwEUAwMCCwsRBAcMBAEDAQEBCQMLAAEEAQIADwsIEwwFCxETAgABAwIABwYIAQUFAAABAAgBBAMKDAUGDQgCAgYDAgoEBAEFAAAAAAAEBgQGBQgKDAcDBQ0DAQMaCAcDDgMKCQ0LAwYBAwELBwIKAwkACQMGBQQKEwQBAQMCAgIZCgEEBAcMCggDCQsJAgQAAgQDBgsEBAkAAQMFAQ8HCwEFBQkDBAIPCAoHBgYGAgEBAQUBAQMJDQcEAwYHDAYDAQcCAQQHAwMPBwECAgEADgkMCwQEDAMFAxEFAAYPAQYEAwIJCQoHEQoJBgYBDAwLCgMEBwMDAQwKBAcGAgIDAgAIBQQECgIIAQkCCAcFCAUFCA0TCg8dDAIHAh0ECwcIAgMFBQADBAQBEggHCgMGAQIBBAEFAwIDBgQMBwIABAQCAwILCgYFAQsCCAkDAgMCAQkLBQwEAwQDAQUDAhAJCQMABQUFBwsSBwYRCgcKCgIGCgUTAwYCBQMKBwYFBwMAAQACAAMRAwgAAwAAAAYGBgIHBAYCAgECAQAAAAkBAgEIAgQCAAQFBxUHCQUJCgcDCwEGBgYCBAQBAwQSBQEHBQ0CAwMGBAQEBAYCAQMGAAEAAQAGCgIBBwEKCwMGAgUHAwQEEQsFAgYCAgAABg4FBwkDCBAIBAIDAgIFCQgGCAcBAwUCAgUHBQMCAAABBgECBw4GBwEDAgAEAAQAAgMGBwIFAgMBAgEAAgoOBAYFAgIEBgIICAMHBAQFBQUAAgEAAgkTEQUHBQIEAAELBwQBCAEEBA0RAgAKBgQCCAkDBQIFBAsGCgUFCAgDAwQAAAMHBw0JCBAHBgoHBwIFCAIEBgACBAwEAA0JCgcBDAoBAAYDBQgCBAYICAwIBQMDBwoHAwYCBwMABAQGFAEACQsDBBEFCAUFBQUFBwcCAgEABgMPAgQCBAkGAgIJFAQGBAYGCwUZBQMDBAMFBgIGBAMKBwUECgUIAwMCAQMBAwcIAgMJCAgHBQMAAQcEBgQGCAIEBQsGBwYCBQEBAgMIBQYLBwkCBQQBDRAEAwIFABIFBAgDAwUHCAQECAMGBQ4GBAcEAQwGCQgDCAgVBgIHAgsHCAsGBAcEAgQMBwISAQMGBQICAgEEBgkIBwIEBgkDBAEAAwADCgMEAwUFBAgFCQkKBggEDwsUCwEFBRIEEAMCBQMLCAoRBQUHBAUEAQoEDAULAgEGAgIQBAcDFA4KCQEECQMFBwgBBgIDAQECBgQEBwMNAxADBwQECgMAAgIDAAkFBgMLCQMHBwYKAAUADAgHAQkLEQYHBwoCAAMMBAgEAQcLDw8LAwkaBQoPCgIGEAUBBgcFAQcBBAEABAcHAgMDBgUKCwMGEgcEAwIFAQ8CBAgHAwEDAgMDBQUFDQgAAAYABAIJCAIFAgoRBgQLCgkRAwoIFxUCBQoHDgIBAQEFBAICCQEOBQcICAEEAAwDAQkNAQUHBwMODQgDFQAICQoJAwkFAQUBAQEDAQIEAgYABw4EEAoCBgYEBgMLDgkCAQQGCAwDDAEJAgUDBgcFCQEHBQUZBggOCwQCBA4HCAwFBAEKCAgOBwABBQMCAwQACQkDAwsJCxADBwUEAQIDEAsOBQEKAQUKGg4LBQEZBQUCCAMJCwgCCQMCAAMCCQUBBQkFAwgJBQcBAw4VBwsDBQMCBRIGEwEDAwMDAwIAAAAKAwoBAAECCwEFEwUHCQoDAQECBAkEBwcFAQMABAIHBwQGAwEKCQQDBQoBAAMDCA4FCAIAAQEFCAgBBAkEBAADAwMHBQcKDgMMCAUBAwEQEQQLBAQHCRACCQcFCgoHBQYLCgMFCwMBDgQDAAQHBwUOBQQGBAIAAAMEAQcDBQgHAA0BBgkFAwQDDQUIBwIFBAwDBAEHBAQDBQgKAAACAAwCBwQCCgYKAQcIBwQHBQEJAgYAAwEBBgcGBAkEAhMGBAkHCgYEBgMEAQ8LBQECAw0DAwMMAQIEBwEABAUDChIICAoJCQ0OCQQDAQMCCAQSAg0JAgcCBQMEAwcLAwQGAgoEBwQEAgoLAQYIAwECBAMIBxUFAgIBBAcRAQAABQADCQQKBgkECAMGDwMJAwMDAgABAgYJBAEBAwEDAQAKAwIIAQELCQUMAwMFCwIHAgQCCgYECAcGBQUIBgIBAAABAQEBAQEAAwQGCgMDBQEAAQgCCgMEAgAAAwEMBggCAwYEFAoDAQUJBwgAAQEBAgcLAgUDAQACAQEGCgMMCAQDCwMEAwADAQMBAQ4HARQEBgUBBwQJBwECAwICBAMDAwcHHAgFAwUQGQcEBQUKBQMFAQcFBAsGCQkBAQMAAwMACAwIAQEGBhEGBwMFAQQEAwYECwYCAgkCAgUGAgEHBwEGCw0CBgMHCA4DBhEJBQ4KCgQBDgUGBAUIBQsDBAkEBgwGBgACAQgLBQACBQcECAkGAxYIBAELFgYEBwcPAgQCAAECAgQKBAgFAQIAAQEGBgMBCAECAQMBBgIHBgEKCAkDBAMFAgQGAAUGAgoFAAMRBhARBgMVBwYBBwcGDQcGDAUGAwQJAQQGBgAOAQYBDAMABAIABgwHCwYKCAcLAQIJAgECAAAGAgENCQYGBQgHCAIGDAUHBQYFDwUGAhsNCgULBQMHBQkCBgQEBAUDBAMEBQEFBgEHHwYBDAkDAwcDCwkFCQMIBQQJEAEHBgYEAA0DDAEDAQICAwQIAwUFBwIBBAQBAAEAAgkCAwsHCQMGEBQODAQGAg0AAQUDAREHBggDBAEFAwECAAIFBxQDAwQCAQQECQYJCQYQCAwIDAUFAwIAAwIIAwMCAg8GBQEKAwgEBQcGAxMGBwIAAgQKAgcFCA4MAgMHAwABAQELBQcFAQIBAgICAwEAAgEGCAEIAwcCAgQBBQEKAwwDAgUEAwUKBAAJBQoEBA8IAgIAAQgGBAICAQEEAgEBAwYGBgMOChADCA4GBAoHBBQGBhANCAMJAwADAwgCAQQFAQcHDwgGBRMJAwYJCAgBAQMAAAEAAxEDAgUBBgQEBwEAAwIBAgUEAgIPBgcEBAkMAQQCEg8GBgYMCAYJBQQJAAYGCQQCBQgCBAIBAAQEBQgEAAIAAAMFCAUFAQgCCAkACAwFCQMJAQoECwECCQsEBQEEAAkDBwAJCQMIBAYDBwUDAQIGAAcFCwkIAgMFBAoBBgcGDgcNBQYJAQEGBgAKAwcCCAIDBAULBwQDAgcEERMRBgICAwcBAQgJBQYRCAUJBAcBBAILBQYOAgYGAAcMBAACAQsDAwgIBQQDBAQDAQQHFAUIAgQDBAMNBwYBBAMGCgkCAQIDBAIAAgYJDwUCAQQJDAcBCAAGBQIBBQIDAQAFCQcRAwMDAQAAAAAAAwIFAgcCBQIKCAQCCQMKBAUDAgUDBgQABQcNAgUDCwMFAA8BBgQKAgcDAgEFAwQFBwQOAgwEBAEGCAIDEAEHCAMFAQYGAAIDDAkIBgQFAwMLAgENCAgGEAMCAQgFBgUGAAIBAQIDAwMHAxQBAwUDBAQHAQMHCwMDCwAAAQAACAAIBQQEAgkMBgMDAwIEAwAAAwIBCAEFAgIHBgEIAgcQBQkLBg0BBwEBBwcHAwIFAQYFDgsHAQEDAgADAwQCCAYCBwIEBQELCggHCgoJBQkCDQcIBwYCBQQDDwMDCwkPFwQHBQgICAoBCAoDAQAEBgEEAwcEBgYBAAAAAAEFDw0JDRAPBwUFDgsOAwQIBAUEAwIHAwgIAgQCAgMHDQYEAQMCAwIMBgUNBAYBBQMEBQQMAwMDBAIFBwMCBAYHBQ4FBgYGCQIBAgoNCAkGAQ0ICgQFBgMDBQICBQgHBAEAAgIBAQwCBQgCAgEBAQIOBQYDChEFCQYHBxALDQIBBgoBCxEGBAgABAEDBAcMBwEEBwQCBAEEAwQFBAkEAg0HBAsEBQUSAgQPBAUHAgQBEgYDBwwBBwYBCwMDAQIBAAIJAxABBggBAgoJBQsCBAADAgMCAAEAAQQJBAQHCwYMBgQLCwIKBAUGDAQECAECAwMBAQoJCgQLCAEBCgYGBgYCAQkEBQcCDwQRAQ4LBQYECgYIBhAHAwgBCwIJAwIDAgEAAgIDBQACBwYFBAkHBQEVAhAQBgMFBAgFCwUBBAIEAwEEAwIDCggFCQgSBQICAwUFAwwFAwQFAgMOBAwCCwkBBAUJCwILBggBBQ0HEAMDBQMDCwMFEQwDBwMEBAwGBQMCChgDAwIHDgYEBAAEDgUHCQ0GBwMHBQAGAwoIAgIABQICAQIGCgsEEAYOAw8HAAEDAAEHAAUGAQYIBQIQAgICBwYDBwMECAkDDQoCAwAGAwEGDQYBAgIBAgEABAkHAwQEBAIFAgYKCwECBwQJAwUAAgUABAEBAwMBCgwHDAYDCgUJBQICAAACDA4DBgQEAQEDCQQECgMGBAEEEwECBw4OBAcVEAYEBwAJAAMDEAMHAgIAAAYBCQkBBAUBAgEDAhcEBQ0EAQcCBAUGBgQBCAsCBQsHAQwBCgIGDQwDBAQCCAkCBQACAgQWCwEABgYMCQMCDBEVCgwBAwcEAwACFQMGBw4LBgMECgQBAwIABgACAwYMAwcGAAECAAsGAgUFAgQDAgMJBgkDAwUKDQ4PCQIGCAYJEgUEAgIIAgEFAgICAgIOCQIDBAMMDAIMBgMAAwUBBgEBAAIJAQIGAgEEAQMICAIGCAEMBAUGCgQQBgcDCQcDBgQFAwEFAwcJAQQCAQUCAQUNBg0GAgQLAwUJCAcEAQABCQoBCQcFBAkGBQMEBgMEAQIDBwMLBQQIBhAKEgMFDQQCAwsCAgoSDwkKEgwLCQAJAQYDAQIPBwIGBwEBBAUAAgEGAgcPCQMECgUOBQAEAQICAAEGDQcDBgUBBQMECwUJCgkCCAQIAQwFAQkHAgAFDAIDBAAEAQYGEwIFBgkDBgIhBg8GBQ4GDAQOAwUIAQQCBAQDBQsMAQQHBAkCBQYHCQIEEw8DAwMFAAQAAQQEDwsQCAIBBAUDAQUCEAECAwEDAgwKAgkBDQYCAAELAgQDBgIDAwUDDBEDAQsKCAUTBwkGBAICBgIBAAUBCQkNCQYCBQEBBhQDBwoJBAQCCwEGAQEFEw8DCQMGDAQJAgQFAgQBBQgJAwUDBAAEAgkPBAkEAQIHAQIJCQIDAgsACQcDAwYPDAwFBwUIAAMEAwEDCg0EBQcKAwUGBAEBAAACAgILAwcBAQABAAgBCwIIAgIDAQQBBQQBCgEGAgIFCgkFDQYEAgkABQoGBAUDAQoDBwIMBgcFBA4HCwgHAQQGBgAEBAIDEgUCAgEEBAYIAhQAAwEBAAcIAQICAwMDAwcHDAUICAgHBQkCAgEAAwEEAQIHBg0EDAMGBwQFBg8DAgQCAQkCAgIABwcDCwYBBQQFBgsECwQCCBUHBwcECAQKBgkCAgAFBwYCAwMGBA4DCAUDCwoEAwAAAQAEBgkJAQsFCgYGCAMEAgIAAQUDAAUGAwgFBgwEBQQEAAQEBQMFCQEDBQIBAQgFBgIDBgIHAAEBBA8ICQECAAcDBAUEBgwMBAgFBwQCAgECBAIKDgEEBgYGAg4ECAoFAwgEAwELBAsCBAkIAQgEAg0EDA8FEAQKBgIGAgEBAQEEBwYBAgQEDAgJCQ0EBQMLBwIFAAEAAgUFCQMCCgsJBAgIAgcKCgMDFgUEAAISCggGAgYEBwwDAwUGBgMDBwMAAgIBAQAIAxAHAgUJBgECAgIFAwUUAwMNAAQBAQsOBQ0QAwQKBAUBAgkICAoCCgkQBgMGBA0IBQADAgMCAwkGBAYPAwEGBQgGAgIFBxUFAgkCBQkIBQEBBwMDAAUKDwUQAgwFCAQHDQUDAQcFAQQCEAcCAxEFBRAGBwwGCwoGEgkGEgQGBwQHCQ0GCAcMAgAFAgUGAwEDEQoBBAEKAg8DBQgIBAQKBw0EBwQABAIAAwUDAQEGBggNAQIKCwIQBAIBAwkEAAMCAgMBBwUGBwoJBQAJCAYIBQQYFQoJCgcNCwgLEg0CAwcFCwYBBQcHBQEBAgIBAgADAwkEAwADAgAACgEAAgcBBwUFFQoLAgEAEg0BBQUAAwMAAAUNAgYHBAADAQAOAwMAAgcJBAoIAwADAgMMBwoEBAQLEQYCBQUDAwIPCQQCAg4BAQMBBQsLDAgMBQUNAQMCAQICDQcJEAYFBggFAwYCBQMIAgwHAwUQAwEQDQIMDAUGBQkEBgQCAgECAwALBAYFBAIFAQEECQEAAgMNEQMCBBACAgMBBAAAAQAHBQMJAAAEAQEEBwICAwgUDQcFCw8EBAMBCAgGCQIBBQwBAQUQBwMHAQMEAwIBAAEBBA0HDwIDBQECBgMPDQUOBAQDBgIDBwMNBwYFBAMGBAgDBQYCAAECAQQCAwYEEQUCAxMNBgQDBAEHAQkBBgQKBgsBAwMCBAIDDgEHEwsGBAcHBQIDAgEDAgYABQsKBwMGAw0FAwMCEgcFBAgCBAYWCQ8KDQ8GCAUGBQ0IAwoECAEDCwgHBgIDAAYKAgQHBAUKAwECAgIBCAUJAQcCAQUDAgAFAgQBDAUDBgIKBQMIBwkGCwIKAwkEBQMABQECAAQJBgICEggDBwMSCAIRBgIFAQMCAwoNAgUCBgQBCAYBBQANBhUFBQwLBgMDAgEAAgUCAgkJBwcDAwIDAwsGBQIEBQQBAgQGBgUDAgECAgIBBQcJCxgIBQIQBAIBBwEEBg0GAwoLAgUNBhMEBAMEAAMCAQIJDgIFBQ8KBAQFBAMCBQEDEQoIAgQDAQUDEgkFBwQNBAEEAwQMCwQFCwMEAwYDBAMBBwkEBAgGCgUEBQECAAABAQQGBAwECgcEAwgCDAIEDAMEAQECCgsFEAUHAgUGAQcHBAgLBAECAAEKCQsHCwEOBgUEAwECAQIFDQYFAwgBBAoDBQUHBgIGBwEGAg0EAwUDBAAACAMKBgcJBwkBAgYDAAgAAAAFEg8BBAQCAwIBAwIFAAQICQ4AAgMBChAEBQEFAAcEABAHAAIRBwUEDgwMCAcCCgcFDAkHBAQCAwIABwMEAwMFAg0BCQkDAggEDgkDBgwEAAYIAgoBBAYMDAsEBQMCBAEEAw4FAAgCBgUCBQQAAAUDAQQECAUABgUGAwACBAsMAQYFAQIAAQMBCQYFCgIECQcHDAcGDgYCBgUDAQQCAgIIBQwGCAIAAwEJBwkAAwIGCQwGBQUCAwIFAgUGAgULBgUCBgMIDAwDBQ4HAwUECQEBBAQMDwMDBAcABQYBCQIEBwcCBgEBBwIMAwwKAAkDBQQDEAUDAgQDBAEDBwEHAwQKAgQNBgoICQMBBAABAwoADQcFAwIBCAMDBgIBAgQIAQgKAgsFDwoDBAcEAQIGERMIAQoECgsKEQMNAwQIBwEIAQQBBQYGBwUFBQsJAwQGAQ8IBQYCBgUFEwYFBQYGCQMBBhEDAwMEBgMUBwACCgYABQYEEgYJAwoDBQEIAQQIAgkDAA8BBhQOBQMCBw0BBgADBAEFAwQODAoFAQgDBAMDCwoEBA8WAwQIBwQQCgECAgUBBQMJAwcGBgMBCwIDEgMHBAEDEwkNBwgNAwQJBwQSBQIHBAcECQMJBAUECAEDBQMSAAMQBgUDBAoFBwMEBAIICAMLAQoHBQIGAQIFAQUIDgkDAwYCAAMGCgQEAQoBAQEEAQ4EBAsLBgcNBAoGAgUBAwcKAgkCDQIUCAYECA4ZDAkIAgECAg4HAggCBgYEAQcBDQUDAg0HCAAMBAQDCwQDBgQDAwkJAgwCAgcCAAYOABoBAgUGCAcEAQEAAREDDAIGDQYCBgsNBhQJBxIPBgEGBgQEBQIEBwUSAAQAAAYBDAUCAgcJCQUHBQIJBQMDAAUIAgUAAwQBAAgDAwgBBgsKAwcCBQMDBwoNAgsGDAEDBQIHBw4QBQYCAwEECAYGDAQECwcCCgkCAgcADAoGAwQEBQcEDAMGCgYCAgMGAgUGChMECQQIAwQGCgMKBwEDAwEABQEFAAYEBwsIEAcICgYKBAICAQMGBwkFCgYBAgAAAQMDAQQBBQcEBwUBBwMDAQwJAwUGAwECBAQDAwwGBBMPBAUFCg0CAQYSEgEKBAEJEQYFBAEHAwQPAwYEBgUPAQQGAwQCAwIDAwoLAwkNCAcOAAUBAgIKCAsFAQQDBAQHAQMCAgEGBwEIAwQCAgABAAoIAgQAAgIEAwYPAwMGAgkDDgIIBBUGCQACAgkHBgQNBw8IDwgECQMFCQMDBAkDBwgFDAMNDAcNDQ0FAwYDBgMHDgoGCgcJBwsLAgkIAgMCBQkBAgIGBAMEBwkKAgYFBQQBBAEBCQIHBgsIEgYDBgsKBAICAQMHAwEGAgACCQgECQMCFgUGBQQBAAIDBwYTAgIBCAQHAAABBQYKAwMFBgQBAwYGBgcGBwcDAQcKBwMBAwIEEwEFCg4CBAYDAgIOAgYDBQIEAgcABAQBAAgFBQUDDgQEAwEABQYLEAIRCgICDQQDAwIHAwMDAQMFBQoLCQgFAQUJCQQQCg0IFQAEAxoLBgMFBQQFBQkCAQ0CAAUEBgAOAwcIBQUHHAcKBgMVBgENBwkJAgQDAgQDDwgCBgQECgEEBgECBgECBwcEAwsBBwYCCgwFBAEDCwEMCAQNBgUFAwQDAgEAAwEIAgUHCwYDBxADDwMHEQoFDgkJCgMMBQMDDwICAgQDAQEDAwoDDAEDAgEDBAgAAQULAAYLDAICAQQCBgoGBAUHAAkHCQURBQQEDgMGDAgDAwMCAwgEDQoCBAIIAgENAgEPFgoCBwkPDw4EBwYPAgcEDQUHFQ4ACxMGCwMCCQ0CAgQBAQEDBAMDCgIAAgEBAAEAAQMABwsBBQoPDQUEAQYGAgMCCQcEAwwBBAMCBwcOCAMCDw0HDgMCBgsDCw0LAQgKBQMFAgIDBwYNBAQLBgMEBAUKBRQPDQUNAwsHCAQCAAIDAQYLBAMDBQQSAwsNBg0HBgUMBQQFEgYFCAMBCQsKBwAFCQQHBAMJDwsEDwkNCAwAAgYBAwMVEwoEAwMEAwIBAAACAgUCDgQKAxUFEQoHBwYEBQUIDQcGBwcMBg0CCAABAwIHAwMEAgMDAQEBDwcEAAEKAwUACAMLBgQCAgIBBgQGAwUABRMEBwMBBwMKBgQBBQMBCwwGCAQBAgQCAAkJBAIBDQcSCwYHAwkDBA0JBwMBCQMHDgUGCQMAAQIFBgIKCQMOAQgIAggAAQYLCQQGCwMDBgkDAgIIAQQCEA4GBgQFAAEBBwMFAxEGAwQLBw0EBQkFDQkVBAcIBwMGCwoLBwkGBwYFEgcCBwUABgECAgkEDxAFCgwCCAoFDg8MAREQDw8DAQsEAg4KDgEHAwcFDBABCQEBAQMBAAwGFAIEBwgKCAQAAAEFBAcOAgEEAgAAAgsJCQcDEAEKBQcHAwwNBAQCBAUCDQsKCAkJBgMCAggBCgsGCwQEAQMBAwEABgcKBAMGBgUOBAQHDgwTAgIFAAEDBwwHBwYIDAIDBB4JBQUCBAAIAgIIFwMHCgsVDQACAggHBQsFBgIDAwgMDAYEAwEFAwMECgUEDQkRDAYEAwMEAQMHCgIIBAADAwQBBQQODQoICggCAwsGCA8KAAYDBQIGAQIEBQYMAw0GAwACAgQCAgsDBAAEBgEDAwcHBwYFBgMFGwAAAAMABgEGAgYWBAkGCAQAAgECCAgIBgYMABEFBAMABQEAEwYPBgACAQcAABESBQsHBQQCAAIIFhcKAggTDgsECAUQBgkHFQMLEwgQDwMEBQYBBAIACgUAAQcEEAMKAQAAAwkGDQUFBREEBwYGFgcDBAMBBAIDBQgEBQIMDwcEDgcTBAwBBAMCAwEBDAYFBgYGAxEKCgkHAgQBAwMAAQISBgQGBwgMCAcFAQUKAgMEAwQNBAAAAQEBBwAJAQUQBgUFBgUBAgcEBQUEAwIJCQcCBQsNBQ0EBgAeBgICCRcNCQcDAgIADAcKCAUDAgMEAgkQCQcDAwAGBAQFCAUHBwcBDAEBDgQGBQINCBMBCwwHAgIFAQIBAQENAgYTCwECBQoCAAcABAELBgkFBAQBAwYABgMQBhEFDQcCCwICBAMCCAgAAgIGBgUFAQMBAwEACQoOBwUFDQcFAgUCAQIDAQELAwsECgwJBAECBQEABwkKCA4FHAcIEAAAAQABCgQFBgICBQMCAQgHAwgIChAFAg8JBRAHDwUHDQYHAwEAAgIDAQMFAwIHAQYEDQIJAwUHAwgEBwUCAwMAAAABAAADDQEMBAMDBQcEDwYQBxELAwYJCQcIBwUDBQoUAwYDBQMDAxIOAgIJBgQFBgENBgwFBwoEFAkKBwsFBwUEAgQBAQkFEwQFAQQDCwMBDwAPBAUKAgUGAQgABwEGBgUBAAcDBgkFAw8CAQ0CBgEGAgcDCwIECgwIAgAQBAsBBQEGAwcFCAwLCgYFAQsGBAQDCAoCBQkDAgYEDQYEAQIAAQsB",
                    "dtype": "i1"
                  },
                  "xaxis": "x",
                  "yaxis": "y"
                },
                {
                  "name": "Смерти",
                  "type": "histogram",
                  "x": {
                    "bdata": "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",
                    "dtype": "i1"
                  },
                  "xaxis": "x2",
                  "yaxis": "y2"
                },
                {
                  "name": "Помощь",
                  "type": "histogram",
                  "x": {
                    "bdata": "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",
                    "dtype": "i1"
                  },
                  "xaxis": "x3",
                  "yaxis": "y3"
                }
              ],
              "layout": {
                "annotations": [
                  {
                    "font": {
                      "size": 16
                    },
                    "showarrow": false,
                    "text": "Убийства",
                    "x": 0.14444444444444446,
                    "xanchor": "center",
                    "xref": "paper",
                    "y": 1,
                    "yanchor": "bottom",
                    "yref": "paper"
                  },
                  {
                    "font": {
                      "size": 16
                    },
                    "showarrow": false,
                    "text": "Смерти",
                    "x": 0.5,
                    "xanchor": "center",
                    "xref": "paper",
                    "y": 1,
                    "yanchor": "bottom",
                    "yref": "paper"
                  },
                  {
                    "font": {
                      "size": 16
                    },
                    "showarrow": false,
                    "text": "Помощь",
                    "x": 0.8555555555555556,
                    "xanchor": "center",
                    "xref": "paper",
                    "y": 1,
                    "yanchor": "bottom",
                    "yref": "paper"
                  }
                ],
                "template": {
                  "data": {
                    "bar": [
                      {
                        "error_x": {
                          "color": "#2a3f5f"
                        },
                        "error_y": {
                          "color": "#2a3f5f"
                        },
                        "marker": {
                          "line": {
                            "color": "#E5ECF6",
                            "width": 0.5
                          },
                          "pattern": {
                            "fillmode": "overlay",
                            "size": 10,
                            "solidity": 0.2
                          }
                        },
                        "type": "bar"
                      }
                    ],
                    "barpolar": [
                      {
                        "marker": {
                          "line": {
                            "color": "#E5ECF6",
                            "width": 0.5
                          },
                          "pattern": {
                            "fillmode": "overlay",
                            "size": 10,
                            "solidity": 0.2
                          }
                        },
                        "type": "barpolar"
                      }
                    ],
                    "carpet": [
                      {
                        "aaxis": {
                          "endlinecolor": "#2a3f5f",
                          "gridcolor": "white",
                          "linecolor": "white",
                          "minorgridcolor": "white",
                          "startlinecolor": "#2a3f5f"
                        },
                        "baxis": {
                          "endlinecolor": "#2a3f5f",
                          "gridcolor": "white",
                          "linecolor": "white",
                          "minorgridcolor": "white",
                          "startlinecolor": "#2a3f5f"
                        },
                        "type": "carpet"
                      }
                    ],
                    "choropleth": [
                      {
                        "colorbar": {
                          "outlinewidth": 0,
                          "ticks": ""
                        },
                        "type": "choropleth"
                      }
                    ],
                    "contour": [
                      {
                        "colorbar": {
                          "outlinewidth": 0,
                          "ticks": ""
                        },
                        "colorscale": [
                          [
                            0,
                            "#0d0887"
                          ],
                          [
                            0.1111111111111111,
                            "#46039f"
                          ],
                          [
                            0.2222222222222222,
                            "#7201a8"
                          ],
                          [
                            0.3333333333333333,
                            "#9c179e"
                          ],
                          [
                            0.4444444444444444,
                            "#bd3786"
                          ],
                          [
                            0.5555555555555556,
                            "#d8576b"
                          ],
                          [
                            0.6666666666666666,
                            "#ed7953"
                          ],
                          [
                            0.7777777777777778,
                            "#fb9f3a"
                          ],
                          [
                            0.8888888888888888,
                            "#fdca26"
                          ],
                          [
                            1,
                            "#f0f921"
                          ]
                        ],
                        "type": "contour"
                      }
                    ],
                    "contourcarpet": [
                      {
                        "colorbar": {
                          "outlinewidth": 0,
                          "ticks": ""
                        },
                        "type": "contourcarpet"
                      }
                    ],
                    "heatmap": [
                      {
                        "colorbar": {
                          "outlinewidth": 0,
                          "ticks": ""
                        },
                        "colorscale": [
                          [
                            0,
                            "#0d0887"
                          ],
                          [
                            0.1111111111111111,
                            "#46039f"
                          ],
                          [
                            0.2222222222222222,
                            "#7201a8"
                          ],
                          [
                            0.3333333333333333,
                            "#9c179e"
                          ],
                          [
                            0.4444444444444444,
                            "#bd3786"
                          ],
                          [
                            0.5555555555555556,
                            "#d8576b"
                          ],
                          [
                            0.6666666666666666,
                            "#ed7953"
                          ],
                          [
                            0.7777777777777778,
                            "#fb9f3a"
                          ],
                          [
                            0.8888888888888888,
                            "#fdca26"
                          ],
                          [
                            1,
                            "#f0f921"
                          ]
                        ],
                        "type": "heatmap"
                      }
                    ],
                    "histogram": [
                      {
                        "marker": {
                          "pattern": {
                            "fillmode": "overlay",
                            "size": 10,
                            "solidity": 0.2
                          }
                        },
                        "type": "histogram"
                      }
                    ],
                    "histogram2d": [
                      {
                        "colorbar": {
                          "outlinewidth": 0,
                          "ticks": ""
                        },
                        "colorscale": [
                          [
                            0,
                            "#0d0887"
                          ],
                          [
                            0.1111111111111111,
                            "#46039f"
                          ],
                          [
                            0.2222222222222222,
                            "#7201a8"
                          ],
                          [
                            0.3333333333333333,
                            "#9c179e"
                          ],
                          [
                            0.4444444444444444,
                            "#bd3786"
                          ],
                          [
                            0.5555555555555556,
                            "#d8576b"
                          ],
                          [
                            0.6666666666666666,
                            "#ed7953"
                          ],
                          [
                            0.7777777777777778,
                            "#fb9f3a"
                          ],
                          [
                            0.8888888888888888,
                            "#fdca26"
                          ],
                          [
                            1,
                            "#f0f921"
                          ]
                        ],
                        "type": "histogram2d"
                      }
                    ],
                    "histogram2dcontour": [
                      {
                        "colorbar": {
                          "outlinewidth": 0,
                          "ticks": ""
                        },
                        "colorscale": [
                          [
                            0,
                            "#0d0887"
                          ],
                          [
                            0.1111111111111111,
                            "#46039f"
                          ],
                          [
                            0.2222222222222222,
                            "#7201a8"
                          ],
                          [
                            0.3333333333333333,
                            "#9c179e"
                          ],
                          [
                            0.4444444444444444,
                            "#bd3786"
                          ],
                          [
                            0.5555555555555556,
                            "#d8576b"
                          ],
                          [
                            0.6666666666666666,
                            "#ed7953"
                          ],
                          [
                            0.7777777777777778,
                            "#fb9f3a"
                          ],
                          [
                            0.8888888888888888,
                            "#fdca26"
                          ],
                          [
                            1,
                            "#f0f921"
                          ]
                        ],
                        "type": "histogram2dcontour"
                      }
                    ],
                    "mesh3d": [
                      {
                        "colorbar": {
                          "outlinewidth": 0,
                          "ticks": ""
                        },
                        "type": "mesh3d"
                      }
                    ],
                    "parcoords": [
                      {
                        "line": {
                          "colorbar": {
                            "outlinewidth": 0,
                            "ticks": ""
                          }
                        },
                        "type": "parcoords"
                      }
                    ],
                    "pie": [
                      {
                        "automargin": true,
                        "type": "pie"
                      }
                    ],
                    "scatter": [
                      {
                        "fillpattern": {
                          "fillmode": "overlay",
                          "size": 10,
                          "solidity": 0.2
                        },
                        "type": "scatter"
                      }
                    ],
                    "scatter3d": [
                      {
                        "line": {
                          "colorbar": {
                            "outlinewidth": 0,
                            "ticks": ""
                          }
                        },
                        "marker": {
                          "colorbar": {
                            "outlinewidth": 0,
                            "ticks": ""
                          }
                        },
                        "type": "scatter3d"
                      }
                    ],
                    "scattercarpet": [
                      {
                        "marker": {
                          "colorbar": {
                            "outlinewidth": 0,
                            "ticks": ""
                          }
                        },
                        "type": "scattercarpet"
                      }
                    ],
                    "scattergeo": [
                      {
                        "marker": {
                          "colorbar": {
                            "outlinewidth": 0,
                            "ticks": ""
                          }
                        },
                        "type": "scattergeo"
                      }
                    ],
                    "scattergl": [
                      {
                        "marker": {
                          "colorbar": {
                            "outlinewidth": 0,
                            "ticks": ""
                          }
                        },
                        "type": "scattergl"
                      }
                    ],
                    "scattermap": [
                      {
                        "marker": {
                          "colorbar": {
                            "outlinewidth": 0,
                            "ticks": ""
                          }
                        },
                        "type": "scattermap"
                      }
                    ],
                    "scattermapbox": [
                      {
                        "marker": {
                          "colorbar": {
                            "outlinewidth": 0,
                            "ticks": ""
                          }
                        },
                        "type": "scattermapbox"
                      }
                    ],
                    "scatterpolar": [
                      {
                        "marker": {
                          "colorbar": {
                            "outlinewidth": 0,
                            "ticks": ""
                          }
                        },
                        "type": "scatterpolar"
                      }
                    ],
                    "scatterpolargl": [
                      {
                        "marker": {
                          "colorbar": {
                            "outlinewidth": 0,
                            "ticks": ""
                          }
                        },
                        "type": "scatterpolargl"
                      }
                    ],
                    "scatterternary": [
                      {
                        "marker": {
                          "colorbar": {
                            "outlinewidth": 0,
                            "ticks": ""
                          }
                        },
                        "type": "scatterternary"
                      }
                    ],
                    "surface": [
                      {
                        "colorbar": {
                          "outlinewidth": 0,
                          "ticks": ""
                        },
                        "colorscale": [
                          [
                            0,
                            "#0d0887"
                          ],
                          [
                            0.1111111111111111,
                            "#46039f"
                          ],
                          [
                            0.2222222222222222,
                            "#7201a8"
                          ],
                          [
                            0.3333333333333333,
                            "#9c179e"
                          ],
                          [
                            0.4444444444444444,
                            "#bd3786"
                          ],
                          [
                            0.5555555555555556,
                            "#d8576b"
                          ],
                          [
                            0.6666666666666666,
                            "#ed7953"
                          ],
                          [
                            0.7777777777777778,
                            "#fb9f3a"
                          ],
                          [
                            0.8888888888888888,
                            "#fdca26"
                          ],
                          [
                            1,
                            "#f0f921"
                          ]
                        ],
                        "type": "surface"
                      }
                    ],
                    "table": [
                      {
                        "cells": {
                          "fill": {
                            "color": "#EBF0F8"
                          },
                          "line": {
                            "color": "white"
                          }
                        },
                        "header": {
                          "fill": {
                            "color": "#C8D4E3"
                          },
                          "line": {
                            "color": "white"
                          }
                        },
                        "type": "table"
                      }
                    ]
                  },
                  "layout": {
                    "annotationdefaults": {
                      "arrowcolor": "#2a3f5f",
                      "arrowhead": 0,
                      "arrowwidth": 1
                    },
                    "autotypenumbers": "strict",
                    "coloraxis": {
                      "colorbar": {
                        "outlinewidth": 0,
                        "ticks": ""
                      }
                    },
                    "colorscale": {
                      "diverging": [
                        [
                          0,
                          "#8e0152"
                        ],
                        [
                          0.1,
                          "#c51b7d"
                        ],
                        [
                          0.2,
                          "#de77ae"
                        ],
                        [
                          0.3,
                          "#f1b6da"
                        ],
                        [
                          0.4,
                          "#fde0ef"
                        ],
                        [
                          0.5,
                          "#f7f7f7"
                        ],
                        [
                          0.6,
                          "#e6f5d0"
                        ],
                        [
                          0.7,
                          "#b8e186"
                        ],
                        [
                          0.8,
                          "#7fbc41"
                        ],
                        [
                          0.9,
                          "#4d9221"
                        ],
                        [
                          1,
                          "#276419"
                        ]
                      ],
                      "sequential": [
                        [
                          0,
                          "#0d0887"
                        ],
                        [
                          0.1111111111111111,
                          "#46039f"
                        ],
                        [
                          0.2222222222222222,
                          "#7201a8"
                        ],
                        [
                          0.3333333333333333,
                          "#9c179e"
                        ],
                        [
                          0.4444444444444444,
                          "#bd3786"
                        ],
                        [
                          0.5555555555555556,
                          "#d8576b"
                        ],
                        [
                          0.6666666666666666,
                          "#ed7953"
                        ],
                        [
                          0.7777777777777778,
                          "#fb9f3a"
                        ],
                        [
                          0.8888888888888888,
                          "#fdca26"
                        ],
                        [
                          1,
                          "#f0f921"
                        ]
                      ],
                      "sequentialminus": [
                        [
                          0,
                          "#0d0887"
                        ],
                        [
                          0.1111111111111111,
                          "#46039f"
                        ],
                        [
                          0.2222222222222222,
                          "#7201a8"
                        ],
                        [
                          0.3333333333333333,
                          "#9c179e"
                        ],
                        [
                          0.4444444444444444,
                          "#bd3786"
                        ],
                        [
                          0.5555555555555556,
                          "#d8576b"
                        ],
                        [
                          0.6666666666666666,
                          "#ed7953"
                        ],
                        [
                          0.7777777777777778,
                          "#fb9f3a"
                        ],
                        [
                          0.8888888888888888,
                          "#fdca26"
                        ],
                        [
                          1,
                          "#f0f921"
                        ]
                      ]
                    },
                    "colorway": [
                      "#636efa",
                      "#EF553B",
                      "#00cc96",
                      "#ab63fa",
                      "#FFA15A",
                      "#19d3f3",
                      "#FF6692",
                      "#B6E880",
                      "#FF97FF",
                      "#FECB52"
                    ],
                    "font": {
                      "color": "#2a3f5f"
                    },
                    "geo": {
                      "bgcolor": "white",
                      "lakecolor": "white",
                      "landcolor": "#E5ECF6",
                      "showlakes": true,
                      "showland": true,
                      "subunitcolor": "white"
                    },
                    "hoverlabel": {
                      "align": "left"
                    },
                    "hovermode": "closest",
                    "mapbox": {
                      "style": "light"
                    },
                    "paper_bgcolor": "white",
                    "plot_bgcolor": "#E5ECF6",
                    "polar": {
                      "angularaxis": {
                        "gridcolor": "white",
                        "linecolor": "white",
                        "ticks": ""
                      },
                      "bgcolor": "#E5ECF6",
                      "radialaxis": {
                        "gridcolor": "white",
                        "linecolor": "white",
                        "ticks": ""
                      }
                    },
                    "scene": {
                      "xaxis": {
                        "backgroundcolor": "#E5ECF6",
                        "gridcolor": "white",
                        "gridwidth": 2,
                        "linecolor": "white",
                        "showbackground": true,
                        "ticks": "",
                        "zerolinecolor": "white"
                      },
                      "yaxis": {
                        "backgroundcolor": "#E5ECF6",
                        "gridcolor": "white",
                        "gridwidth": 2,
                        "linecolor": "white",
                        "showbackground": true,
                        "ticks": "",
                        "zerolinecolor": "white"
                      },
                      "zaxis": {
                        "backgroundcolor": "#E5ECF6",
                        "gridcolor": "white",
                        "gridwidth": 2,
                        "linecolor": "white",
                        "showbackground": true,
                        "ticks": "",
                        "zerolinecolor": "white"
                      }
                    },
                    "shapedefaults": {
                      "line": {
                        "color": "#2a3f5f"
                      }
                    },
                    "ternary": {
                      "aaxis": {
                        "gridcolor": "white",
                        "linecolor": "white",
                        "ticks": ""
                      },
                      "baxis": {
                        "gridcolor": "white",
                        "linecolor": "white",
                        "ticks": ""
                      },
                      "bgcolor": "#E5ECF6",
                      "caxis": {
                        "gridcolor": "white",
                        "linecolor": "white",
                        "ticks": ""
                      }
                    },
                    "title": {
                      "x": 0.05
                    },
                    "xaxis": {
                      "automargin": true,
                      "gridcolor": "white",
                      "linecolor": "white",
                      "ticks": "",
                      "title": {
                        "standoff": 15
                      },
                      "zerolinecolor": "white",
                      "zerolinewidth": 2
                    },
                    "yaxis": {
                      "automargin": true,
                      "gridcolor": "white",
                      "linecolor": "white",
                      "ticks": "",
                      "title": {
                        "standoff": 15
                      },
                      "zerolinecolor": "white",
                      "zerolinewidth": 2
                    }
                  }
                },
                "title": {
                  "text": "Гистограммы убийств, смертей и помощи"
                },
                "xaxis": {
                  "anchor": "y",
                  "domain": [
                    0,
                    0.2888888888888889
                  ]
                },
                "xaxis2": {
                  "anchor": "y2",
                  "domain": [
                    0.35555555555555557,
                    0.6444444444444445
                  ]
                },
                "xaxis3": {
                  "anchor": "y3",
                  "domain": [
                    0.7111111111111111,
                    1
                  ]
                },
                "yaxis": {
                  "anchor": "x",
                  "domain": [
                    0,
                    1
                  ]
                },
                "yaxis2": {
                  "anchor": "x2",
                  "domain": [
                    0,
                    1
                  ]
                },
                "yaxis3": {
                  "anchor": "x3",
                  "domain": [
                    0,
                    1
                  ]
                }
              }
            }
          },
          "metadata": {},
          "output_type": "display_data"
        },
        {
          "data": {
            "application/vnd.plotly.v1+json": {
              "config": {
                "plotlyServerURL": "https://plot.ly"
              },
              "data": [
                {
                  "customdata": {
                    "bdata": "BwQRAgcYBgwLEgQQAgEBBAMPCwMPCwACCAEKBwgIAgQGBAYZAwYGAhIYAgIIAQMEAgYcAgsNBAMFAwYdBQsYCgMNCgEKEQUECAALBAMHAwUGAgYGDAcPDQMSEwMKCgEFCgQJCAMMCgcPAAUMBQgWDQARCggaBgEKBwYXBAcEAgsRBQINAwgQBAALAAMAAAQEBAcUBAIIBAYGBAcGAQcWBAYJAwgMDAAHBgULEwAQAgYECAQKBQEJBgICEAkRBQgEFAERCQUGAgYGBQcHDwQLBggLAggbAwcFBwQIFAMQAgYWAwEKAwMFAgcDBAwMFwURBgYVBgsWCAwKAQwJBAoJBwQYBwcDCgEWAwYjCAYEAgkNBgUKAQ8CEAMLAgsDCQQLBwEXFQIFBA0TBgYEDgoRBwgNBQcYCAQOBgELBQULAggEBggKCQgYBQkIBggLBwskAQcHAw0OAwQEAgcDAwEDCAkPCwEJBQUEAgcAAgkEBAgNFgIPDAALAAwLBAsIBQILAwsMAQMXAAcGBAQCCwQOCQAECwYMAAgMAQcICQcOBgQSBAQUBwUEAgUJCgINAQMBAA0JCAMNBwMZEQMRCgUGAwkeBgQDBwQMBgEaAA0DAQYCDgULAgsVAgUDAwgIBgAJDAMNBQcOCwUKAwsgAggIBAYQAgUeAwUEBgIWAQsKAgYABQMFAgUMAwYNAgQTAwYLAgUJCQEDAAEaBgkOBAYLBQARAAkJBQgcBgIJAgIDAwUQBAgKAQENAAYDBAEICQIRCgAKBggPCgYPAgYCCgQaCAYJBAIWAgYDAQYEAQkCBgMbBwkiBwEGAgALAwkKAQgKAwUaAggDBQsPCAwWAAoHAwkFAAoFAAYBCgcSAAkYBgUNARAQAwIOBAcEAgcHDwEYAgITCQMNBgcNDAQGCQcTAg0LAgcBBQMVAwIGEgMFBQQNAAUABggZBw0TCAIMBAQCBQMcAQYJAggJBQwLBwULBAUVBAcUCQIKAgoYAgMCAgUEBwQODQEXAwYSAwcFAgQIBgIRBAYNCQgIBQQUDQkTBgURCAUHBQgJBggSAgcTAAMAAwMIAwQUBAQaAwMNGQQPCgMFDAEMCQUMBQUQCAYDBwoYEgQNAAUAAQUHCgQUCAgHCQUGCAUIEAURBgEFBAMFCgMKBQQLBgQFCgQNCAIXBQUGBAoKAgUDAQsGBgQDAAYDCQkNAwIIDgIUAwUOAQECAg4VAQILBAsNCQQNDwUPAgkIBQIQCAwSEQQKBA8LAQQBDAIOCAsUDAcKAgoYBQoHDAQGAwECCAYfAQUFBgQLAgQBAAgDCAMRBAcbAgEKBQQVEwYdAgQFAwoKDgcUBQMCEAQLAgQQAgcPAwkYAAkICgYFCAUQEgULBgUBBQIGCAcNAQkCBgQBAQUDBAcUBwwKCwYKCQEGAwUHAgQCBQEKAgcCAQQACxAZBQsHBgIHDQQOCgEFBwQIAwoNAAcSBQEZBwgQCggVBwQKCgMVBggGBAcHCAUJCQQRBwMMBQAPAQkcCAMWAQgFBggXBgMUCQQRAQcOCAEMBgMgCAcUAAoIBgURDAQSBgQQAQ0TBAAECwQFBQcGCQkPAgoNBwMUAQQWCgIOBQYFCAoQBAsMCQEHBQEQAAUFEAMLBQQHEAQIBAYEAwUFAAQdAQUWBAcaAgUQAwIJAwoGAAsOBggTBAAJDgMNAQMBAAkODQIKAgUPAwQSAgYGCgILAgcGFwcbDgYTBgoKCQYFCAIIDgIFCAkTAAkFBAYBAgYHAAQEBAYPBgAOAwIAEAITCwESAQEHCQYXEQ4KCwUKAgMEBA8PBgoNBQ0JAgcABwQECQQHCQkFCQILCAMXAgUEBQkJAwIGCQcEAQQQAwoZBQkECgoICgMaDAINAwYMAggLBAoLAQUBBQEFBAsOBQcGAAQFBgEQCwkFDQEOAAILAQACBQMAAQkCAg4GAQkNAQoIBQQWBggUBAQBCAYPDQIHCgwbCwAFBgMRAQAJAQcMBgYGBQsQAwcJBQISBQMMCw0HBg4QAgYDAwUHAwYPAA0FAQwUBwUMEwIQBAsTAAsFBwgKAQAABAoXBQISBQYXAgYHAQQGBAQDCQgYAQMQBgIaBgQSBQgNAQQFAQEFDgALAgYEAQgGAwgNDgAHCQIMDQILAQsGEQsIAQMCAQkOAQoHBgoTBQYaDQQLBAURAwYJBAQMAQQQAwYMAAUKAgUEBgcLFAINBAUHAgYYEwQFBwMQBAgBCgIGAAoEEAgNBgsJBggFAgEPAgsCAAICBgMDDAMODwcQCgUMBgkHCgEUEQUTAQwDBwoHAQoKDwQOBwINDAIJBQYDBwYNAwYUAwAWCQsWCAkFBQgPBQUFAgkMBAMGBQQQBQsVCAYSBg4WAgoGDQMKAQsQBgkMAgcDBQELAQIIEQYMBQkSBQoQBQIHDAkMBAkWDAUTBwUQCgYICgcbBAQGBQASBwkMCQYKAwcCCwcUCAwVDQAPCgANBQgFBgcMAgsNCAEBCQIJDgINCwEPAgQUCAsJAwcFAgcCDgYCAwQEBAYEAwEUBQoMBQINBAUPBwQNAQUPAgYNDgYGAwIbBAUMBwEDAgEKAgAWAgQOAQQUBgIPAQQPBQcJBQUSBQUKBQoTAgcNBgsHDwELBwYPAQYMAAQBCgceBAgABQIHBAUCBQYEAAgEBgUYBgACEgcKBAkKBAIHDAQKBAUXAgUMBwINBwMKAwcLAgcMCwAXBAcECAEKCAAABwYVAAMAAwQNEAILBQQKCwcTABENAgsJAw4ECAAGAQcDBQoQAgkdBAgWDgMKAAMDBwYEEQMECAUPAQkLCAAUBAYJBAUGDQAIBwUFBQAJBQwDEAURCAMGAgYGBwwSDAMSDAEKCQgIAQgJCAEPCAIFAwMLAQ8GBwEJAQYOAwIEAAsHCQEYEQUJAQMEDgMPBwMIDQUKAwMXDAMGAgoHAwYLBgYaAwUCAAgFAAYNAwwDBAgIBAEYCAcKCQcJAAUBAwQQBgIODgcFBAMRCAUOAAUAAQUOBAYIGAERBwgEAQYMCgIMCgEYBAIICwYKAgURAwYSCg4PCgkHAgUJCAcSBAQIAAcGAgAHBAESAQUDBQQOAQkBAggGAgQKAAkICQUSCAYLBwQNAwQHBAgGBQoIEwIHAwYUBwgECAIPCQYGBwUUDAIGAwcSAwcRAQEEAgYGAgYHDAYEBgUECwQUBwYMBwQOBAQKAQgHCwQVEAAIAAcHAwoHAQgECwYaAwMPDgQLDAMGAQQABQYWAQMWAwQLDAYKAQIUCwITAgUCAwkKAgUBBgYQAQ0VBAcFBAsFAwAYAgcDBAUOAwkZCAYBCgAPAwIBAQQEAQYDAggEGwMIEgUQAwYGBQINAwMDCQYKBAMMBwcUFAoUCAMGAgwUCwkGCAEJBAUHBAQRBAkHAwcMAAkIAgcFCQEJAw4CBggOBw8YAwIBGgILAAUDAQUEBQsKAgUZBwUQFAcMAAkPBwkdCQEMBgUSBgUGAgcHCQkOBwcCFQQOAQcFAAkDDgURAgcDEAUNBAUMAwUbCwcWBQIGBA0QBAUFBgcOCgUbCAYYCAoQDQQUCAYTBgQFAwYJBwQJCAMGEQcGCwgVCgsHBAMOAQQEBQUECAMEDgIIBAQTBQ0SBAsDAgoDBQUEAAQCAQQXAQoHBgMGBwgJBwcHBAkIDAUSAgYEBAICAAQGAwYBBQgKBgkKBAQQCQULBA4QAQUGEAgQBAUVAwYHAgYVAQ8LCQUQDAYMCQQKFAUPBgkKAgIODAEGAAoEAwoDCwQEBAsPBAQSCwYKBwYPBwcQCwEUBgYNDwQCAQYHBAMEBRQjAAYVDwELCwISCwEEAgYBAwMNCwcIBwMJAQYUBQUFBQYHAgUZAQkDBQgSCAMPCgkQBAQaBgUKAwUKCAITAwoEBwgTCwENAAkGBwQSAQQHBAUEBwYPBgUFBwUHBgkTCwQNAwcIBQUODwYPAwkPAQMCCQcIDQoPDwEMBQcSBQIQBAkLCwIXBQIQDgIKBwQJCAIK",
                    "dtype": "i1",
                    "shape": "1000, 3"
                  },
                  "hovertemplate": "Золото в минуту=%{x}<br>Опыт в минуту=%{y}<br>kills=%{customdata[0]}<br>deaths=%{customdata[1]}<br>assists=%{customdata[2]}<br>Роль в линии=%{marker.color}<extra></extra>",
                  "legendgroup": "",
                  "marker": {
                    "color": {
                      "bdata": "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",
                      "dtype": "f8"
                    },
                    "coloraxis": "coloraxis",
                    "size": 5,
                    "symbol": "circle"
                  },
                  "mode": "markers",
                  "name": "",
                  "orientation": "v",
                  "showlegend": false,
                  "type": "scatter",
                  "x": {
                    "bdata": "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",
                    "dtype": "i2"
                  },
                  "xaxis": "x",
                  "y": {
                    "bdata": "gQM3ApUC7QNiAeIBGgPeAooEfAL3AZ4D8AGJATACjAIzAmMBZgIVAl4D1gKIAjMEdQNrAgcBGgJRA6sD1gQNA1ECsQPbA5YBnQJLA4kCDgN5Aj0CTgEEAiYCLAIAAVUB+ALoAvcC8QJGAs0CpgEsArsCjgR2AT8DFgNIAyUDqQIUBCoDwQESA7gDFgJ8AvYBUAIgBC0CrAFjA14BIwKBBAsCsgJXAgECLALWAeYC/wGlAsUCPgG2AeQA5QO9Ae0CuwJwBS0CnAE6BJMCzwNDA/kCNwJ5AcoBtwJbAhwD8AKIAb8BcAJ2AkYCfQIaBAAD5gFJAdMBBgTWA/kADgJ+AVwBEQIHAXQD6gLDAdAD+gA4AZYCLgL1AcUClwHmAyEBXQGIA5MCnAKCArwCsQKxAx4CHAFbAdID7wH2AEICiQK5A+MBCQOiAgoDUAIBAvABxgN/ASUBFQOnARECLQISA58BkgL0AVUCmwGiARkBpgJwASQCuQFXAWcCYQEPAZwDZgR0Ai0D3gH6AjgDaAL2ATMCsQGbAmkCoAI/AsYBRAEXAgUCHQHWA9MAQwEdAU4C+QLwATQCCQIaAloCNwKbA5wBjQOWAkACYwMVAVQBiAEoApcDPgPZAQcCEAIEAmYCOgJQAQkCbAFHAuYBGgJCBPkBTgItAZoCDgNKAjIBDgLgAssBGQIHAqcCXAFCAxoCNAKnAfIBTQIdA8YCIAOQBFEB7wKaAw8D/AFZA50ElALyAVcEMAKDA+sCdAPYAdQCrwOjAmkC8ALUA+sCtgFgAu8AAgPnAcsCiQLGAmgCvwKSAaUBpwJ0AyIDVgEBAsEBWwNXAqIBeQM/AtUC7AEsA4kDTALmAowBCAQLAhgB3gKaAokBDgOXBGMBrAGHA6ACQAN7AvsCbAKnAaUEuwLWA34CpgLxAegARgJZAdYBFAO2ArwDvgIUAZ0CKQKCAcICmgFrAwQEnwI4A4YBBwMKAzQCUQIgBHkD4QH0ApMCEgOLAwACCQIoA48BIAKzAloCmwIHBM8CBgMcATsD+QPEAvIB2QGTAnwCNAK9AeMCjgHcApQCQwLaAZMEGwIzAb0DoALyA1gCQgJXAsEC7gKfAUkDdQF7AWoCewI/BIMBFALlAxwCcQGaAYYCGwK/A/QCdwE9A7UCNQPEAp8BgAI3ASoBZQEhAv4CjgJ5AvkAwgMHA94DUAK1AQIChAHeAYcCkwNAAycDhQLnAVMCMQIuA98B0gFxAowCaQOjA1YBogHaAQMCEgNOAlsCugFSA8oC0wJvASYCTQJkASQBBwESAZECzAMbAk4D8AOdAmED5AOZAZIB5gJGAb8BbQIjAukBIAIyAo8CbAHOAIcBcwOsA38CxgE8ArQBLgJ+AmMC8AFBASoDKQPpAV0CEgPtAt8BfgL/An8BbQE9AiwCxQNrAyQBOgTRAYEBKgHPARwC2ASLAUkB0AJCAncCsgGhAVUDnQNKAdgBzQTQAj8CcQOwAMMDjwKwAXsCdgHLATADIQMwAosCQwLUApwE4QD0Al4BMwNMBFEDYAPYASAC6APGAsgBOAI3A84BWwJaAy8CIwKGAZ8BDQNWATwCAAK7ArgCKwPyAs4CowGvAqMBOwNMAygDWQMyAisCAgJsAnwC9gLVAoMDwAPBATgDAwLUAhkDuwJtBE0CegJQAXMBpQJVASACKwITAhwDtAKZAusBMAIpA3gChAH3AhUB2gHIAXcDXgOfAVkCkAKdAu0B5wF1AQkFUAMZAtUBzgSPAW0CFQICAhYBugE5AokDdgGHAskCogK3AjkCTQLdAbQBrgP6AoAC4wFHAsAAjALkA9wCTwQXAc0B/wBxArgB9gFcApsC+QJbAUADjgP9AWsBhAP8AhMC4gORAjkBrQEoAz0CPwLNASADuwLVAhgBIQQUAmoCGQFvA9EBpAKPAZ0CVQOfAq8CvAItBEcCvANRATcCMgRFAhkBMQLVAe0BDQOoAvACdgLKAVoBswLYAmMC6gCHAaIBygMHApIBkQNgAzECvwL9AbQBRALGAjMDNAKqAkMBsQLzASYCxAEjAaABrQEaAegCTQIuA+UCewIEAl0EIQGOAiwCwwK5Ao8D5wETAu0BYgEUAoQEIwNNA1oDYQKlAQ8B2ALcA/ABkwErAT8EbwJNA0MDawKcASECLgMPAmcCQwItARwCIgKqA5YBggG6AdYBrgGBAukBEwKWAzoC4gBaAUwB+QSAA9MB2wPpAsEChQLhASIFDAOlAb0CVQNNAmgCRAEIAgEBOQKPAzQBzwGhAtEC+wKEAkwBrwGuAdwBIQQ6Ar8CbgOVAhMDlQFRAgYDRQQ+ARMBMwTdAHMEVQITAgoDNgI3AR4B6gGRA2wCKQLlA4AC9QImAkUCwgK9AmsDUgLrAo8BNQL7AY4EEAMbAlYBQQGhArUAGALyAO4DJQNGAowBPwI4ARMDCQKcAWcCegJ4AlUDAALgAZsDAAJ2Ag8CuQHaAhADXgMzA4EBGwJpA8oAnAF4AzoCPAJXAosCyAFBA3MDLATfADIDvgHhASsD2gOlA/oCgAFWAqUBDwLTAiMCRwKRAdICHQP9AkYCoQJwAzcCyQAAAw4EfgHaAfgBdwGNAYcCegIPAqMDZgJ2Ah0D2AEyASkCLgN7AkwCJwKjAfwCpAL8A5ICpQI=",
                    "dtype": "i2"
                  },
                  "yaxis": "y"
                }
              ],
              "layout": {
                "coloraxis": {
                  "colorbar": {
                    "title": {
                      "text": "Роль в линии"
                    }
                  },
                  "colorscale": [
                    [
                      0,
                      "#0d0887"
                    ],
                    [
                      0.1111111111111111,
                      "#46039f"
                    ],
                    [
                      0.2222222222222222,
                      "#7201a8"
                    ],
                    [
                      0.3333333333333333,
                      "#9c179e"
                    ],
                    [
                      0.4444444444444444,
                      "#bd3786"
                    ],
                    [
                      0.5555555555555556,
                      "#d8576b"
                    ],
                    [
                      0.6666666666666666,
                      "#ed7953"
                    ],
                    [
                      0.7777777777777778,
                      "#fb9f3a"
                    ],
                    [
                      0.8888888888888888,
                      "#fdca26"
                    ],
                    [
                      1,
                      "#f0f921"
                    ]
                  ]
                },
                "legend": {
                  "tracegroupgap": 0
                },
                "template": {
                  "data": {
                    "bar": [
                      {
                        "error_x": {
                          "color": "#2a3f5f"
                        },
                        "error_y": {
                          "color": "#2a3f5f"
                        },
                        "marker": {
                          "line": {
                            "color": "#E5ECF6",
                            "width": 0.5
                          },
                          "pattern": {
                            "fillmode": "overlay",
                            "size": 10,
                            "solidity": 0.2
                          }
                        },
                        "type": "bar"
                      }
                    ],
                    "barpolar": [
                      {
                        "marker": {
                          "line": {
                            "color": "#E5ECF6",
                            "width": 0.5
                          },
                          "pattern": {
                            "fillmode": "overlay",
                            "size": 10,
                            "solidity": 0.2
                          }
                        },
                        "type": "barpolar"
                      }
                    ],
                    "carpet": [
                      {
                        "aaxis": {
                          "endlinecolor": "#2a3f5f",
                          "gridcolor": "white",
                          "linecolor": "white",
                          "minorgridcolor": "white",
                          "startlinecolor": "#2a3f5f"
                        },
                        "baxis": {
                          "endlinecolor": "#2a3f5f",
                          "gridcolor": "white",
                          "linecolor": "white",
                          "minorgridcolor": "white",
                          "startlinecolor": "#2a3f5f"
                        },
                        "type": "carpet"
                      }
                    ],
                    "choropleth": [
                      {
                        "colorbar": {
                          "outlinewidth": 0,
                          "ticks": ""
                        },
                        "type": "choropleth"
                      }
                    ],
                    "contour": [
                      {
                        "colorbar": {
                          "outlinewidth": 0,
                          "ticks": ""
                        },
                        "colorscale": [
                          [
                            0,
                            "#0d0887"
                          ],
                          [
                            0.1111111111111111,
                            "#46039f"
                          ],
                          [
                            0.2222222222222222,
                            "#7201a8"
                          ],
                          [
                            0.3333333333333333,
                            "#9c179e"
                          ],
                          [
                            0.4444444444444444,
                            "#bd3786"
                          ],
                          [
                            0.5555555555555556,
                            "#d8576b"
                          ],
                          [
                            0.6666666666666666,
                            "#ed7953"
                          ],
                          [
                            0.7777777777777778,
                            "#fb9f3a"
                          ],
                          [
                            0.8888888888888888,
                            "#fdca26"
                          ],
                          [
                            1,
                            "#f0f921"
                          ]
                        ],
                        "type": "contour"
                      }
                    ],
                    "contourcarpet": [
                      {
                        "colorbar": {
                          "outlinewidth": 0,
                          "ticks": ""
                        },
                        "type": "contourcarpet"
                      }
                    ],
                    "heatmap": [
                      {
                        "colorbar": {
                          "outlinewidth": 0,
                          "ticks": ""
                        },
                        "colorscale": [
                          [
                            0,
                            "#0d0887"
                          ],
                          [
                            0.1111111111111111,
                            "#46039f"
                          ],
                          [
                            0.2222222222222222,
                            "#7201a8"
                          ],
                          [
                            0.3333333333333333,
                            "#9c179e"
                          ],
                          [
                            0.4444444444444444,
                            "#bd3786"
                          ],
                          [
                            0.5555555555555556,
                            "#d8576b"
                          ],
                          [
                            0.6666666666666666,
                            "#ed7953"
                          ],
                          [
                            0.7777777777777778,
                            "#fb9f3a"
                          ],
                          [
                            0.8888888888888888,
                            "#fdca26"
                          ],
                          [
                            1,
                            "#f0f921"
                          ]
                        ],
                        "type": "heatmap"
                      }
                    ],
                    "histogram": [
                      {
                        "marker": {
                          "pattern": {
                            "fillmode": "overlay",
                            "size": 10,
                            "solidity": 0.2
                          }
                        },
                        "type": "histogram"
                      }
                    ],
                    "histogram2d": [
                      {
                        "colorbar": {
                          "outlinewidth": 0,
                          "ticks": ""
                        },
                        "colorscale": [
                          [
                            0,
                            "#0d0887"
                          ],
                          [
                            0.1111111111111111,
                            "#46039f"
                          ],
                          [
                            0.2222222222222222,
                            "#7201a8"
                          ],
                          [
                            0.3333333333333333,
                            "#9c179e"
                          ],
                          [
                            0.4444444444444444,
                            "#bd3786"
                          ],
                          [
                            0.5555555555555556,
                            "#d8576b"
                          ],
                          [
                            0.6666666666666666,
                            "#ed7953"
                          ],
                          [
                            0.7777777777777778,
                            "#fb9f3a"
                          ],
                          [
                            0.8888888888888888,
                            "#fdca26"
                          ],
                          [
                            1,
                            "#f0f921"
                          ]
                        ],
                        "type": "histogram2d"
                      }
                    ],
                    "histogram2dcontour": [
                      {
                        "colorbar": {
                          "outlinewidth": 0,
                          "ticks": ""
                        },
                        "colorscale": [
                          [
                            0,
                            "#0d0887"
                          ],
                          [
                            0.1111111111111111,
                            "#46039f"
                          ],
                          [
                            0.2222222222222222,
                            "#7201a8"
                          ],
                          [
                            0.3333333333333333,
                            "#9c179e"
                          ],
                          [
                            0.4444444444444444,
                            "#bd3786"
                          ],
                          [
                            0.5555555555555556,
                            "#d8576b"
                          ],
                          [
                            0.6666666666666666,
                            "#ed7953"
                          ],
                          [
                            0.7777777777777778,
                            "#fb9f3a"
                          ],
                          [
                            0.8888888888888888,
                            "#fdca26"
                          ],
                          [
                            1,
                            "#f0f921"
                          ]
                        ],
                        "type": "histogram2dcontour"
                      }
                    ],
                    "mesh3d": [
                      {
                        "colorbar": {
                          "outlinewidth": 0,
                          "ticks": ""
                        },
                        "type": "mesh3d"
                      }
                    ],
                    "parcoords": [
                      {
                        "line": {
                          "colorbar": {
                            "outlinewidth": 0,
                            "ticks": ""
                          }
                        },
                        "type": "parcoords"
                      }
                    ],
                    "pie": [
                      {
                        "automargin": true,
                        "type": "pie"
                      }
                    ],
                    "scatter": [
                      {
                        "fillpattern": {
                          "fillmode": "overlay",
                          "size": 10,
                          "solidity": 0.2
                        },
                        "type": "scatter"
                      }
                    ],
                    "scatter3d": [
                      {
                        "line": {
                          "colorbar": {
                            "outlinewidth": 0,
                            "ticks": ""
                          }
                        },
                        "marker": {
                          "colorbar": {
                            "outlinewidth": 0,
                            "ticks": ""
                          }
                        },
                        "type": "scatter3d"
                      }
                    ],
                    "scattercarpet": [
                      {
                        "marker": {
                          "colorbar": {
                            "outlinewidth": 0,
                            "ticks": ""
                          }
                        },
                        "type": "scattercarpet"
                      }
                    ],
                    "scattergeo": [
                      {
                        "marker": {
                          "colorbar": {
                            "outlinewidth": 0,
                            "ticks": ""
                          }
                        },
                        "type": "scattergeo"
                      }
                    ],
                    "scattergl": [
                      {
                        "marker": {
                          "colorbar": {
                            "outlinewidth": 0,
                            "ticks": ""
                          }
                        },
                        "type": "scattergl"
                      }
                    ],
                    "scattermap": [
                      {
                        "marker": {
                          "colorbar": {
                            "outlinewidth": 0,
                            "ticks": ""
                          }
                        },
                        "type": "scattermap"
                      }
                    ],
                    "scattermapbox": [
                      {
                        "marker": {
                          "colorbar": {
                            "outlinewidth": 0,
                            "ticks": ""
                          }
                        },
                        "type": "scattermapbox"
                      }
                    ],
                    "scatterpolar": [
                      {
                        "marker": {
                          "colorbar": {
                            "outlinewidth": 0,
                            "ticks": ""
                          }
                        },
                        "type": "scatterpolar"
                      }
                    ],
                    "scatterpolargl": [
                      {
                        "marker": {
                          "colorbar": {
                            "outlinewidth": 0,
                            "ticks": ""
                          }
                        },
                        "type": "scatterpolargl"
                      }
                    ],
                    "scatterternary": [
                      {
                        "marker": {
                          "colorbar": {
                            "outlinewidth": 0,
                            "ticks": ""
                          }
                        },
                        "type": "scatterternary"
                      }
                    ],
                    "surface": [
                      {
                        "colorbar": {
                          "outlinewidth": 0,
                          "ticks": ""
                        },
                        "colorscale": [
                          [
                            0,
                            "#0d0887"
                          ],
                          [
                            0.1111111111111111,
                            "#46039f"
                          ],
                          [
                            0.2222222222222222,
                            "#7201a8"
                          ],
                          [
                            0.3333333333333333,
                            "#9c179e"
                          ],
                          [
                            0.4444444444444444,
                            "#bd3786"
                          ],
                          [
                            0.5555555555555556,
                            "#d8576b"
                          ],
                          [
                            0.6666666666666666,
                            "#ed7953"
                          ],
                          [
                            0.7777777777777778,
                            "#fb9f3a"
                          ],
                          [
                            0.8888888888888888,
                            "#fdca26"
                          ],
                          [
                            1,
                            "#f0f921"
                          ]
                        ],
                        "type": "surface"
                      }
                    ],
                    "table": [
                      {
                        "cells": {
                          "fill": {
                            "color": "#EBF0F8"
                          },
                          "line": {
                            "color": "white"
                          }
                        },
                        "header": {
                          "fill": {
                            "color": "#C8D4E3"
                          },
                          "line": {
                            "color": "white"
                          }
                        },
                        "type": "table"
                      }
                    ]
                  },
                  "layout": {
                    "annotationdefaults": {
                      "arrowcolor": "#2a3f5f",
                      "arrowhead": 0,
                      "arrowwidth": 1
                    },
                    "autotypenumbers": "strict",
                    "coloraxis": {
                      "colorbar": {
                        "outlinewidth": 0,
                        "ticks": ""
                      }
                    },
                    "colorscale": {
                      "diverging": [
                        [
                          0,
                          "#8e0152"
                        ],
                        [
                          0.1,
                          "#c51b7d"
                        ],
                        [
                          0.2,
                          "#de77ae"
                        ],
                        [
                          0.3,
                          "#f1b6da"
                        ],
                        [
                          0.4,
                          "#fde0ef"
                        ],
                        [
                          0.5,
                          "#f7f7f7"
                        ],
                        [
                          0.6,
                          "#e6f5d0"
                        ],
                        [
                          0.7,
                          "#b8e186"
                        ],
                        [
                          0.8,
                          "#7fbc41"
                        ],
                        [
                          0.9,
                          "#4d9221"
                        ],
                        [
                          1,
                          "#276419"
                        ]
                      ],
                      "sequential": [
                        [
                          0,
                          "#0d0887"
                        ],
                        [
                          0.1111111111111111,
                          "#46039f"
                        ],
                        [
                          0.2222222222222222,
                          "#7201a8"
                        ],
                        [
                          0.3333333333333333,
                          "#9c179e"
                        ],
                        [
                          0.4444444444444444,
                          "#bd3786"
                        ],
                        [
                          0.5555555555555556,
                          "#d8576b"
                        ],
                        [
                          0.6666666666666666,
                          "#ed7953"
                        ],
                        [
                          0.7777777777777778,
                          "#fb9f3a"
                        ],
                        [
                          0.8888888888888888,
                          "#fdca26"
                        ],
                        [
                          1,
                          "#f0f921"
                        ]
                      ],
                      "sequentialminus": [
                        [
                          0,
                          "#0d0887"
                        ],
                        [
                          0.1111111111111111,
                          "#46039f"
                        ],
                        [
                          0.2222222222222222,
                          "#7201a8"
                        ],
                        [
                          0.3333333333333333,
                          "#9c179e"
                        ],
                        [
                          0.4444444444444444,
                          "#bd3786"
                        ],
                        [
                          0.5555555555555556,
                          "#d8576b"
                        ],
                        [
                          0.6666666666666666,
                          "#ed7953"
                        ],
                        [
                          0.7777777777777778,
                          "#fb9f3a"
                        ],
                        [
                          0.8888888888888888,
                          "#fdca26"
                        ],
                        [
                          1,
                          "#f0f921"
                        ]
                      ]
                    },
                    "colorway": [
                      "#636efa",
                      "#EF553B",
                      "#00cc96",
                      "#ab63fa",
                      "#FFA15A",
                      "#19d3f3",
                      "#FF6692",
                      "#B6E880",
                      "#FF97FF",
                      "#FECB52"
                    ],
                    "font": {
                      "color": "#2a3f5f"
                    },
                    "geo": {
                      "bgcolor": "white",
                      "lakecolor": "white",
                      "landcolor": "#E5ECF6",
                      "showlakes": true,
                      "showland": true,
                      "subunitcolor": "white"
                    },
                    "hoverlabel": {
                      "align": "left"
                    },
                    "hovermode": "closest",
                    "mapbox": {
                      "style": "light"
                    },
                    "paper_bgcolor": "white",
                    "plot_bgcolor": "#E5ECF6",
                    "polar": {
                      "angularaxis": {
                        "gridcolor": "white",
                        "linecolor": "white",
                        "ticks": ""
                      },
                      "bgcolor": "#E5ECF6",
                      "radialaxis": {
                        "gridcolor": "white",
                        "linecolor": "white",
                        "ticks": ""
                      }
                    },
                    "scene": {
                      "xaxis": {
                        "backgroundcolor": "#E5ECF6",
                        "gridcolor": "white",
                        "gridwidth": 2,
                        "linecolor": "white",
                        "showbackground": true,
                        "ticks": "",
                        "zerolinecolor": "white"
                      },
                      "yaxis": {
                        "backgroundcolor": "#E5ECF6",
                        "gridcolor": "white",
                        "gridwidth": 2,
                        "linecolor": "white",
                        "showbackground": true,
                        "ticks": "",
                        "zerolinecolor": "white"
                      },
                      "zaxis": {
                        "backgroundcolor": "#E5ECF6",
                        "gridcolor": "white",
                        "gridwidth": 2,
                        "linecolor": "white",
                        "showbackground": true,
                        "ticks": "",
                        "zerolinecolor": "white"
                      }
                    },
                    "shapedefaults": {
                      "line": {
                        "color": "#2a3f5f"
                      }
                    },
                    "ternary": {
                      "aaxis": {
                        "gridcolor": "white",
                        "linecolor": "white",
                        "ticks": ""
                      },
                      "baxis": {
                        "gridcolor": "white",
                        "linecolor": "white",
                        "ticks": ""
                      },
                      "bgcolor": "#E5ECF6",
                      "caxis": {
                        "gridcolor": "white",
                        "linecolor": "white",
                        "ticks": ""
                      }
                    },
                    "title": {
                      "x": 0.05
                    },
                    "xaxis": {
                      "automargin": true,
                      "gridcolor": "white",
                      "linecolor": "white",
                      "ticks": "",
                      "title": {
                        "standoff": 15
                      },
                      "zerolinecolor": "white",
                      "zerolinewidth": 2
                    },
                    "yaxis": {
                      "automargin": true,
                      "gridcolor": "white",
                      "linecolor": "white",
                      "ticks": "",
                      "title": {
                        "standoff": 15
                      },
                      "zerolinecolor": "white",
                      "zerolinewidth": 2
                    }
                  }
                },
                "title": {
                  "text": "Интерактивный график: Золото в минуту vs Опыт в минуту"
                },
                "xaxis": {
                  "anchor": "y",
                  "domain": [
                    0,
                    1
                  ],
                  "title": {
                    "text": "Золото в минуту"
                  }
                },
                "yaxis": {
                  "anchor": "x",
                  "domain": [
                    0,
                    1
                  ],
                  "title": {
                    "text": "Опыт в минуту"
                  }
                }
              }
            }
          },
          "metadata": {},
          "output_type": "display_data"
        }
      ],
      "source": [
        "fig1 = px.scatter(df.sample(1000),  # Sample for performance\n",
        "                  x='kills', y='deaths', color='win',\n",
        "                  title='Убийства против смертей по победам',\n",
        "                  labels={'kills': 'Убийства', 'deaths': 'Смерти', 'win': 'Победа'},\n",
        "                  hover_data=['lane_role'])\n",
        "fig1.update_traces(marker_size=5)\n",
        "fig1.write_image('plotly_scatter_kills_deaths.png')\n",
        "fig1.show()\n",
        "\n",
        "# Bar Plot: Average 'gold_per_min' by 'lane_role'\n",
        "avg_gpm = df.groupby('lane_role')['gold_per_min'].mean().reset_index()\n",
        "fig2 = px.bar(avg_gpm, x='lane_role', y='gold_per_min',\n",
        "              title='Среднее золото в минуту по роли в линии',\n",
        "              labels={'lane_role': 'Роль в линии', 'gold_per_min': 'Золото в минуту'})\n",
        "fig2.write_image('plotly_bar_gold_per_min.png')\n",
        "fig2.show()\n",
        "\n",
        "# Histogram: Distribution of 'kills'\n",
        "fig3 = px.histogram(df, x='kills', title='Гистограмма убийств',\n",
        "                    labels={'kills': 'Убийства'})\n",
        "fig3.write_image('plotly_histogram_kills.png')\n",
        "fig3.show()\n",
        "\n",
        "# 3.2 Subplots: Histograms of 'kills', 'deaths', 'assists'\n",
        "fig4 = make_subplots(rows=1, cols=3, subplot_titles=('Убийства', 'Смерти', 'Помощь'))\n",
        "fig4.add_trace(go.Histogram(x=df['kills'], name='Убийства'), row=1, col=1)\n",
        "fig4.add_trace(go.Histogram(x=df['deaths'], name='Смерти'), row=1, col=2)\n",
        "fig4.add_trace(go.Histogram(x=df['assists'], name='Помощь'), row=1, col=3)\n",
        "fig4.update_layout(title='Гистограммы убийств, смертей и помощи')\n",
        "fig4.write_image('plotly_subplots_histograms.png')\n",
        "fig4.show()\n",
        "\n",
        "# 3.3 Interactive Plot: Scatter with hover data and filtering\n",
        "fig5 = px.scatter(df.sample(1000),  # Sample for performance\n",
        "                  x='gold_per_min', y='xp_per_min', color='lane_role',\n",
        "                  title='Интерактивный график: Золото в минуту vs Опыт в минуту',\n",
        "                  labels={'gold_per_min': 'Золото в минуту', 'xp_per_min': 'Опыт в минуту', 'lane_role': 'Роль в линии'},\n",
        "                  hover_data=['kills', 'deaths', 'assists'])\n",
        "fig5.update_traces(marker_size=5)\n",
        "fig5.write_image('plotly_scatter_gold_xp.png')\n",
        "fig5.show()"
      ]
    }
  ],
  "metadata": {
    "colab": {
      "provenance": []
    },
    "kernelspec": {
      "display_name": "Python 3",
      "language": "python",
      "name": "python3"
    },
    "language_info": {
      "codemirror_mode": {
        "name": "ipython",
        "version": 3
      },
      "file_extension": ".py",
      "mimetype": "text/x-python",
      "name": "python",
      "nbconvert_exporter": "python",
      "pygments_lexer": "ipython3",
      "version": "3.12.1"
    }
  },
  "nbformat": 4,
  "nbformat_minor": 0
}
